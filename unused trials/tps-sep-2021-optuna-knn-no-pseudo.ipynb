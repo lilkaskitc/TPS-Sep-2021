{
 "cells": [
  {
   "cell_type": "code",
   "execution_count": 1,
   "id": "c1ff5354",
   "metadata": {
    "_cell_guid": "b1076dfc-b9ad-4769-8c92-a6c4dae69d19",
    "_uuid": "8f2839f25d086af736a60e9eeb907d3b93b6e0e5",
    "execution": {
     "iopub.execute_input": "2021-09-14T15:00:14.516401Z",
     "iopub.status.busy": "2021-09-14T15:00:14.515587Z",
     "iopub.status.idle": "2021-09-14T15:00:15.706303Z",
     "shell.execute_reply": "2021-09-14T15:00:15.706851Z",
     "shell.execute_reply.started": "2021-09-14T14:54:54.765115Z"
    },
    "papermill": {
     "duration": 1.220439,
     "end_time": "2021-09-14T15:00:15.707155",
     "exception": false,
     "start_time": "2021-09-14T15:00:14.486716",
     "status": "completed"
    },
    "tags": []
   },
   "outputs": [],
   "source": [
    "import numpy as np\n",
    "import pandas as pd\n",
    "import random\n",
    "import os\n",
    "import time\n",
    "from pathlib import Path\n",
    "\n",
    "from sklearn.preprocessing import StandardScaler\n",
    "from sklearn.model_selection import StratifiedKFold, train_test_split\n",
    "from sklearn.metrics import roc_auc_score\n",
    "from sklearn.neighbors import KNeighborsClassifier\n",
    "\n",
    "#import lightgbm as lgb\n",
    "#import xgboost as xgb\n",
    "#import catboost as ctb\n",
    "\n",
    "#import matplotlib.pyplot as plt\n",
    "#import seaborn as sns\n",
    "\n",
    "import warnings\n",
    "warnings.simplefilter('ignore')"
   ]
  },
  {
   "cell_type": "markdown",
   "id": "23f5d7cd",
   "metadata": {
    "papermill": {
     "duration": 0.014097,
     "end_time": "2021-09-14T15:00:15.736259",
     "exception": false,
     "start_time": "2021-09-14T15:00:15.722162",
     "status": "completed"
    },
    "tags": []
   },
   "source": [
    "# Parameters"
   ]
  },
  {
   "cell_type": "code",
   "execution_count": 2,
   "id": "41f9c8f4",
   "metadata": {
    "execution": {
     "iopub.execute_input": "2021-09-14T15:00:15.771241Z",
     "iopub.status.busy": "2021-09-14T15:00:15.770602Z",
     "iopub.status.idle": "2021-09-14T15:00:15.773674Z",
     "shell.execute_reply": "2021-09-14T15:00:15.773146Z",
     "shell.execute_reply.started": "2021-09-14T14:54:56.094104Z"
    },
    "papermill": {
     "duration": 0.023162,
     "end_time": "2021-09-14T15:00:15.773813",
     "exception": false,
     "start_time": "2021-09-14T15:00:15.750651",
     "status": "completed"
    },
    "tags": []
   },
   "outputs": [],
   "source": [
    "target = 'claim'\n",
    "\n",
    "DEBUG = False\n",
    "\n",
    "if DEBUG:\n",
    "    N_ESTIMATORS = 1\n",
    "    N_SPLITS = 2\n",
    "    SEED = 2017\n",
    "    CVSEED = 2017\n",
    "    EARLY_STOPPING_ROUNDS = 1\n",
    "    VERBOSE = 100\n",
    "    #N_ITERS = 2\n",
    "else:\n",
    "    N_SPLITS = 10\n",
    "    N_ESTIMATORS = 20000\n",
    "    EARLY_STOPPING_ROUNDS = 300\n",
    "    VERBOSE = 1000\n",
    "    SEED = 2017\n",
    "    CVSEED = 2017\n",
    "    #N_ITERS = 10"
   ]
  },
  {
   "cell_type": "code",
   "execution_count": 3,
   "id": "15ac27bf",
   "metadata": {
    "execution": {
     "iopub.execute_input": "2021-09-14T15:00:15.808114Z",
     "iopub.status.busy": "2021-09-14T15:00:15.807474Z",
     "iopub.status.idle": "2021-09-14T15:00:15.809094Z",
     "shell.execute_reply": "2021-09-14T15:00:15.809587Z",
     "shell.execute_reply.started": "2021-09-14T14:54:56.102137Z"
    },
    "papermill": {
     "duration": 0.021459,
     "end_time": "2021-09-14T15:00:15.809750",
     "exception": false,
     "start_time": "2021-09-14T15:00:15.788291",
     "status": "completed"
    },
    "tags": []
   },
   "outputs": [],
   "source": [
    "def set_seed(seed=2017):\n",
    "    random.seed(seed)\n",
    "    os.environ['PYTHONHASHSEED'] = str(seed)\n",
    "    np.random.seed(seed)\n",
    "    \n",
    "set_seed(SEED)"
   ]
  },
  {
   "cell_type": "markdown",
   "id": "42c7a36c",
   "metadata": {
    "papermill": {
     "duration": 0.014797,
     "end_time": "2021-09-14T15:00:15.839247",
     "exception": false,
     "start_time": "2021-09-14T15:00:15.824450",
     "status": "completed"
    },
    "tags": []
   },
   "source": [
    "# Datasets"
   ]
  },
  {
   "cell_type": "code",
   "execution_count": 4,
   "id": "c8697ead",
   "metadata": {
    "execution": {
     "iopub.execute_input": "2021-09-14T15:00:15.871344Z",
     "iopub.status.busy": "2021-09-14T15:00:15.870751Z",
     "iopub.status.idle": "2021-09-14T15:00:46.943681Z",
     "shell.execute_reply": "2021-09-14T15:00:46.943018Z",
     "shell.execute_reply.started": "2021-09-14T14:54:56.116799Z"
    },
    "papermill": {
     "duration": 31.089953,
     "end_time": "2021-09-14T15:00:46.943845",
     "exception": false,
     "start_time": "2021-09-14T15:00:15.853892",
     "status": "completed"
    },
    "tags": []
   },
   "outputs": [],
   "source": [
    "INPUT = Path(\"../input/tabular-playground-series-sep-2021\")\n",
    "\n",
    "train = pd.read_csv(INPUT / \"train.csv\")\n",
    "#test = pd.read_csv(INPUT / \"test.csv\")\n",
    "#submission = pd.read_csv(INPUT / \"sample_solution.csv\")"
   ]
  },
  {
   "cell_type": "markdown",
   "id": "304c819d",
   "metadata": {
    "papermill": {
     "duration": 0.014361,
     "end_time": "2021-09-14T15:00:46.973196",
     "exception": false,
     "start_time": "2021-09-14T15:00:46.958835",
     "status": "completed"
    },
    "tags": []
   },
   "source": [
    "# Preprocessing"
   ]
  },
  {
   "cell_type": "code",
   "execution_count": 5,
   "id": "35e462b0",
   "metadata": {
    "execution": {
     "iopub.execute_input": "2021-09-14T15:00:47.006818Z",
     "iopub.status.busy": "2021-09-14T15:00:47.005817Z",
     "iopub.status.idle": "2021-09-14T15:00:47.010261Z",
     "shell.execute_reply": "2021-09-14T15:00:47.010843Z",
     "shell.execute_reply.started": "2021-09-14T14:55:28.720359Z"
    },
    "papermill": {
     "duration": 0.023239,
     "end_time": "2021-09-14T15:00:47.011019",
     "exception": false,
     "start_time": "2021-09-14T15:00:46.987780",
     "status": "completed"
    },
    "tags": []
   },
   "outputs": [],
   "source": [
    "features = [col for col in train.columns if 'f' in col]"
   ]
  },
  {
   "cell_type": "code",
   "execution_count": 6,
   "id": "39edf966",
   "metadata": {
    "execution": {
     "iopub.execute_input": "2021-09-14T15:00:47.044438Z",
     "iopub.status.busy": "2021-09-14T15:00:47.043445Z",
     "iopub.status.idle": "2021-09-14T15:00:47.529431Z",
     "shell.execute_reply": "2021-09-14T15:00:47.528826Z",
     "shell.execute_reply.started": "2021-09-14T14:55:28.728720Z"
    },
    "papermill": {
     "duration": 0.50377,
     "end_time": "2021-09-14T15:00:47.529629",
     "exception": false,
     "start_time": "2021-09-14T15:00:47.025859",
     "status": "completed"
    },
    "tags": []
   },
   "outputs": [],
   "source": [
    "train['n_missing'] = train[features].isna().sum(axis=1)\n",
    "#test['n_missing'] = test[features].isna().sum(axis=1)\n",
    "\n",
    "features += ['n_missing']"
   ]
  },
  {
   "cell_type": "code",
   "execution_count": 7,
   "id": "4b881a35",
   "metadata": {
    "execution": {
     "iopub.execute_input": "2021-09-14T15:00:47.562848Z",
     "iopub.status.busy": "2021-09-14T15:00:47.561880Z",
     "iopub.status.idle": "2021-09-14T15:00:50.674184Z",
     "shell.execute_reply": "2021-09-14T15:00:50.674678Z",
     "shell.execute_reply.started": "2021-09-14T14:55:29.236500Z"
    },
    "papermill": {
     "duration": 3.130382,
     "end_time": "2021-09-14T15:00:50.674858",
     "exception": false,
     "start_time": "2021-09-14T15:00:47.544476",
     "status": "completed"
    },
    "tags": []
   },
   "outputs": [],
   "source": [
    "train[features] = train[features].fillna(train[features].median())\n",
    "#test[features] = test[features].fillna(test[features].median())"
   ]
  },
  {
   "cell_type": "code",
   "execution_count": 8,
   "id": "73225a2c",
   "metadata": {
    "execution": {
     "iopub.execute_input": "2021-09-14T15:00:50.707400Z",
     "iopub.status.busy": "2021-09-14T15:00:50.706474Z",
     "iopub.status.idle": "2021-09-14T15:00:50.710009Z",
     "shell.execute_reply": "2021-09-14T15:00:50.710508Z",
     "shell.execute_reply.started": "2021-09-14T14:55:32.444942Z"
    },
    "papermill": {
     "duration": 0.021201,
     "end_time": "2021-09-14T15:00:50.710670",
     "exception": false,
     "start_time": "2021-09-14T15:00:50.689469",
     "status": "completed"
    },
    "tags": []
   },
   "outputs": [],
   "source": [
    "ss = StandardScaler()\n"
   ]
  },
  {
   "cell_type": "code",
   "execution_count": 9,
   "id": "815e2718",
   "metadata": {
    "execution": {
     "iopub.execute_input": "2021-09-14T15:00:50.742945Z",
     "iopub.status.busy": "2021-09-14T15:00:50.741991Z",
     "iopub.status.idle": "2021-09-14T15:00:51.190773Z",
     "shell.execute_reply": "2021-09-14T15:00:51.191279Z",
     "shell.execute_reply.started": "2021-09-14T14:55:32.458357Z"
    },
    "papermill": {
     "duration": 0.466462,
     "end_time": "2021-09-14T15:00:51.191460",
     "exception": false,
     "start_time": "2021-09-14T15:00:50.724998",
     "status": "completed"
    },
    "tags": []
   },
   "outputs": [
    {
     "data": {
      "text/html": [
       "<div>\n",
       "<style scoped>\n",
       "    .dataframe tbody tr th:only-of-type {\n",
       "        vertical-align: middle;\n",
       "    }\n",
       "\n",
       "    .dataframe tbody tr th {\n",
       "        vertical-align: top;\n",
       "    }\n",
       "\n",
       "    .dataframe thead th {\n",
       "        text-align: right;\n",
       "    }\n",
       "</style>\n",
       "<table border=\"1\" class=\"dataframe\">\n",
       "  <thead>\n",
       "    <tr style=\"text-align: right;\">\n",
       "      <th></th>\n",
       "      <th>f1</th>\n",
       "      <th>f2</th>\n",
       "      <th>f3</th>\n",
       "      <th>f4</th>\n",
       "      <th>f5</th>\n",
       "      <th>f6</th>\n",
       "      <th>f7</th>\n",
       "      <th>f8</th>\n",
       "      <th>f9</th>\n",
       "      <th>f10</th>\n",
       "      <th>...</th>\n",
       "      <th>f110</th>\n",
       "      <th>f111</th>\n",
       "      <th>f112</th>\n",
       "      <th>f113</th>\n",
       "      <th>f114</th>\n",
       "      <th>f115</th>\n",
       "      <th>f116</th>\n",
       "      <th>f117</th>\n",
       "      <th>f118</th>\n",
       "      <th>n_missing</th>\n",
       "    </tr>\n",
       "  </thead>\n",
       "  <tbody>\n",
       "    <tr>\n",
       "      <th>0</th>\n",
       "      <td>0.108590</td>\n",
       "      <td>0.004314</td>\n",
       "      <td>-37.566</td>\n",
       "      <td>0.017364</td>\n",
       "      <td>0.289150</td>\n",
       "      <td>-10.25100</td>\n",
       "      <td>135.12</td>\n",
       "      <td>168900.0</td>\n",
       "      <td>3.992400e+14</td>\n",
       "      <td>86.489</td>\n",
       "      <td>...</td>\n",
       "      <td>-12.2280</td>\n",
       "      <td>1.7482</td>\n",
       "      <td>1.90960</td>\n",
       "      <td>-7.11570</td>\n",
       "      <td>4378.80</td>\n",
       "      <td>1.2096</td>\n",
       "      <td>8.613400e+14</td>\n",
       "      <td>140.10</td>\n",
       "      <td>1.01770</td>\n",
       "      <td>1</td>\n",
       "    </tr>\n",
       "    <tr>\n",
       "      <th>1</th>\n",
       "      <td>0.100900</td>\n",
       "      <td>0.299610</td>\n",
       "      <td>11822.000</td>\n",
       "      <td>0.276500</td>\n",
       "      <td>0.459700</td>\n",
       "      <td>-0.83733</td>\n",
       "      <td>1721.90</td>\n",
       "      <td>119810.0</td>\n",
       "      <td>3.874100e+15</td>\n",
       "      <td>9953.600</td>\n",
       "      <td>...</td>\n",
       "      <td>-56.7580</td>\n",
       "      <td>4.1684</td>\n",
       "      <td>0.34808</td>\n",
       "      <td>4.14200</td>\n",
       "      <td>913.23</td>\n",
       "      <td>1.2464</td>\n",
       "      <td>7.575100e+15</td>\n",
       "      <td>1861.00</td>\n",
       "      <td>0.28359</td>\n",
       "      <td>0</td>\n",
       "    </tr>\n",
       "    <tr>\n",
       "      <th>2</th>\n",
       "      <td>0.178030</td>\n",
       "      <td>-0.006980</td>\n",
       "      <td>907.270</td>\n",
       "      <td>0.272140</td>\n",
       "      <td>0.459480</td>\n",
       "      <td>0.17327</td>\n",
       "      <td>2298.00</td>\n",
       "      <td>360650.0</td>\n",
       "      <td>1.224500e+13</td>\n",
       "      <td>15827.000</td>\n",
       "      <td>...</td>\n",
       "      <td>-5.7688</td>\n",
       "      <td>1.2042</td>\n",
       "      <td>0.26290</td>\n",
       "      <td>8.13120</td>\n",
       "      <td>45119.00</td>\n",
       "      <td>1.1764</td>\n",
       "      <td>3.218100e+14</td>\n",
       "      <td>3838.20</td>\n",
       "      <td>0.40690</td>\n",
       "      <td>5</td>\n",
       "    </tr>\n",
       "    <tr>\n",
       "      <th>3</th>\n",
       "      <td>0.152360</td>\n",
       "      <td>0.007259</td>\n",
       "      <td>780.100</td>\n",
       "      <td>0.025179</td>\n",
       "      <td>0.519470</td>\n",
       "      <td>7.49140</td>\n",
       "      <td>112.51</td>\n",
       "      <td>259490.0</td>\n",
       "      <td>7.781400e+13</td>\n",
       "      <td>-36.837</td>\n",
       "      <td>...</td>\n",
       "      <td>-34.8580</td>\n",
       "      <td>2.0694</td>\n",
       "      <td>0.79631</td>\n",
       "      <td>-16.33600</td>\n",
       "      <td>4952.40</td>\n",
       "      <td>1.1784</td>\n",
       "      <td>4.533000e+12</td>\n",
       "      <td>4889.10</td>\n",
       "      <td>0.51486</td>\n",
       "      <td>2</td>\n",
       "    </tr>\n",
       "    <tr>\n",
       "      <th>4</th>\n",
       "      <td>0.116230</td>\n",
       "      <td>0.502900</td>\n",
       "      <td>-109.150</td>\n",
       "      <td>0.297910</td>\n",
       "      <td>0.344900</td>\n",
       "      <td>-0.40932</td>\n",
       "      <td>2538.90</td>\n",
       "      <td>65332.0</td>\n",
       "      <td>1.907200e+15</td>\n",
       "      <td>144.120</td>\n",
       "      <td>...</td>\n",
       "      <td>-13.6410</td>\n",
       "      <td>1.5298</td>\n",
       "      <td>1.14640</td>\n",
       "      <td>-0.43124</td>\n",
       "      <td>3856.50</td>\n",
       "      <td>1.4830</td>\n",
       "      <td>-8.991300e+12</td>\n",
       "      <td>3228.00</td>\n",
       "      <td>0.23049</td>\n",
       "      <td>8</td>\n",
       "    </tr>\n",
       "    <tr>\n",
       "      <th>...</th>\n",
       "      <td>...</td>\n",
       "      <td>...</td>\n",
       "      <td>...</td>\n",
       "      <td>...</td>\n",
       "      <td>...</td>\n",
       "      <td>...</td>\n",
       "      <td>...</td>\n",
       "      <td>...</td>\n",
       "      <td>...</td>\n",
       "      <td>...</td>\n",
       "      <td>...</td>\n",
       "      <td>...</td>\n",
       "      <td>...</td>\n",
       "      <td>...</td>\n",
       "      <td>...</td>\n",
       "      <td>...</td>\n",
       "      <td>...</td>\n",
       "      <td>...</td>\n",
       "      <td>...</td>\n",
       "      <td>...</td>\n",
       "      <td>...</td>\n",
       "    </tr>\n",
       "    <tr>\n",
       "      <th>957914</th>\n",
       "      <td>0.098979</td>\n",
       "      <td>0.202530</td>\n",
       "      <td>2192.100</td>\n",
       "      <td>0.348010</td>\n",
       "      <td>0.276430</td>\n",
       "      <td>-0.84065</td>\n",
       "      <td>2214.20</td>\n",
       "      <td>26246.0</td>\n",
       "      <td>1.061600e+15</td>\n",
       "      <td>10882.000</td>\n",
       "      <td>...</td>\n",
       "      <td>-51.2970</td>\n",
       "      <td>1.7323</td>\n",
       "      <td>20.76300</td>\n",
       "      <td>14.74400</td>\n",
       "      <td>27415.00</td>\n",
       "      <td>1.2160</td>\n",
       "      <td>2.139400e+13</td>\n",
       "      <td>2612.00</td>\n",
       "      <td>0.42597</td>\n",
       "      <td>0</td>\n",
       "    </tr>\n",
       "    <tr>\n",
       "      <th>957915</th>\n",
       "      <td>0.134930</td>\n",
       "      <td>0.413600</td>\n",
       "      <td>1050.100</td>\n",
       "      <td>0.000521</td>\n",
       "      <td>-0.001246</td>\n",
       "      <td>1.76990</td>\n",
       "      <td>3519.90</td>\n",
       "      <td>862290.0</td>\n",
       "      <td>7.321400e+13</td>\n",
       "      <td>2869.000</td>\n",
       "      <td>...</td>\n",
       "      <td>-41.4180</td>\n",
       "      <td>2.6986</td>\n",
       "      <td>-1.09760</td>\n",
       "      <td>-1.09980</td>\n",
       "      <td>13826.00</td>\n",
       "      <td>1.3320</td>\n",
       "      <td>1.829400e+17</td>\n",
       "      <td>3300.50</td>\n",
       "      <td>0.92974</td>\n",
       "      <td>4</td>\n",
       "    </tr>\n",
       "    <tr>\n",
       "      <th>957916</th>\n",
       "      <td>0.104660</td>\n",
       "      <td>0.473510</td>\n",
       "      <td>2415.400</td>\n",
       "      <td>0.252230</td>\n",
       "      <td>0.196970</td>\n",
       "      <td>-0.82323</td>\n",
       "      <td>3044.90</td>\n",
       "      <td>13832.0</td>\n",
       "      <td>2.693300e+12</td>\n",
       "      <td>2294.700</td>\n",
       "      <td>...</td>\n",
       "      <td>-15.9670</td>\n",
       "      <td>1.6843</td>\n",
       "      <td>1.07590</td>\n",
       "      <td>16.64600</td>\n",
       "      <td>8655.10</td>\n",
       "      <td>1.1113</td>\n",
       "      <td>1.925800e+16</td>\n",
       "      <td>297.61</td>\n",
       "      <td>0.91446</td>\n",
       "      <td>0</td>\n",
       "    </tr>\n",
       "    <tr>\n",
       "      <th>957917</th>\n",
       "      <td>0.118190</td>\n",
       "      <td>0.320870</td>\n",
       "      <td>657.860</td>\n",
       "      <td>0.237290</td>\n",
       "      <td>0.260250</td>\n",
       "      <td>-0.71237</td>\n",
       "      <td>173.20</td>\n",
       "      <td>20811.0</td>\n",
       "      <td>9.711000e+14</td>\n",
       "      <td>14315.000</td>\n",
       "      <td>...</td>\n",
       "      <td>-2.8375</td>\n",
       "      <td>1.3006</td>\n",
       "      <td>132.50000</td>\n",
       "      <td>8.53050</td>\n",
       "      <td>3842.10</td>\n",
       "      <td>1.1941</td>\n",
       "      <td>1.248300e+16</td>\n",
       "      <td>5212.10</td>\n",
       "      <td>0.20942</td>\n",
       "      <td>1</td>\n",
       "    </tr>\n",
       "    <tr>\n",
       "      <th>957918</th>\n",
       "      <td>0.088832</td>\n",
       "      <td>0.472230</td>\n",
       "      <td>4309.400</td>\n",
       "      <td>0.017016</td>\n",
       "      <td>0.376880</td>\n",
       "      <td>4.81520</td>\n",
       "      <td>458.20</td>\n",
       "      <td>42183.0</td>\n",
       "      <td>1.805500e+13</td>\n",
       "      <td>3155.700</td>\n",
       "      <td>...</td>\n",
       "      <td>-24.2290</td>\n",
       "      <td>2.4189</td>\n",
       "      <td>0.67939</td>\n",
       "      <td>0.88571</td>\n",
       "      <td>5901.40</td>\n",
       "      <td>1.0907</td>\n",
       "      <td>1.213800e+16</td>\n",
       "      <td>2132.30</td>\n",
       "      <td>0.38069</td>\n",
       "      <td>4</td>\n",
       "    </tr>\n",
       "  </tbody>\n",
       "</table>\n",
       "<p>957919 rows × 119 columns</p>\n",
       "</div>"
      ],
      "text/plain": [
       "              f1        f2         f3        f4        f5        f6       f7  \\\n",
       "0       0.108590  0.004314    -37.566  0.017364  0.289150 -10.25100   135.12   \n",
       "1       0.100900  0.299610  11822.000  0.276500  0.459700  -0.83733  1721.90   \n",
       "2       0.178030 -0.006980    907.270  0.272140  0.459480   0.17327  2298.00   \n",
       "3       0.152360  0.007259    780.100  0.025179  0.519470   7.49140   112.51   \n",
       "4       0.116230  0.502900   -109.150  0.297910  0.344900  -0.40932  2538.90   \n",
       "...          ...       ...        ...       ...       ...       ...      ...   \n",
       "957914  0.098979  0.202530   2192.100  0.348010  0.276430  -0.84065  2214.20   \n",
       "957915  0.134930  0.413600   1050.100  0.000521 -0.001246   1.76990  3519.90   \n",
       "957916  0.104660  0.473510   2415.400  0.252230  0.196970  -0.82323  3044.90   \n",
       "957917  0.118190  0.320870    657.860  0.237290  0.260250  -0.71237   173.20   \n",
       "957918  0.088832  0.472230   4309.400  0.017016  0.376880   4.81520   458.20   \n",
       "\n",
       "              f8            f9        f10  ...     f110    f111       f112  \\\n",
       "0       168900.0  3.992400e+14     86.489  ... -12.2280  1.7482    1.90960   \n",
       "1       119810.0  3.874100e+15   9953.600  ... -56.7580  4.1684    0.34808   \n",
       "2       360650.0  1.224500e+13  15827.000  ...  -5.7688  1.2042    0.26290   \n",
       "3       259490.0  7.781400e+13    -36.837  ... -34.8580  2.0694    0.79631   \n",
       "4        65332.0  1.907200e+15    144.120  ... -13.6410  1.5298    1.14640   \n",
       "...          ...           ...        ...  ...      ...     ...        ...   \n",
       "957914   26246.0  1.061600e+15  10882.000  ... -51.2970  1.7323   20.76300   \n",
       "957915  862290.0  7.321400e+13   2869.000  ... -41.4180  2.6986   -1.09760   \n",
       "957916   13832.0  2.693300e+12   2294.700  ... -15.9670  1.6843    1.07590   \n",
       "957917   20811.0  9.711000e+14  14315.000  ...  -2.8375  1.3006  132.50000   \n",
       "957918   42183.0  1.805500e+13   3155.700  ... -24.2290  2.4189    0.67939   \n",
       "\n",
       "            f113      f114    f115          f116     f117     f118  n_missing  \n",
       "0       -7.11570   4378.80  1.2096  8.613400e+14   140.10  1.01770          1  \n",
       "1        4.14200    913.23  1.2464  7.575100e+15  1861.00  0.28359          0  \n",
       "2        8.13120  45119.00  1.1764  3.218100e+14  3838.20  0.40690          5  \n",
       "3      -16.33600   4952.40  1.1784  4.533000e+12  4889.10  0.51486          2  \n",
       "4       -0.43124   3856.50  1.4830 -8.991300e+12  3228.00  0.23049          8  \n",
       "...          ...       ...     ...           ...      ...      ...        ...  \n",
       "957914  14.74400  27415.00  1.2160  2.139400e+13  2612.00  0.42597          0  \n",
       "957915  -1.09980  13826.00  1.3320  1.829400e+17  3300.50  0.92974          4  \n",
       "957916  16.64600   8655.10  1.1113  1.925800e+16   297.61  0.91446          0  \n",
       "957917   8.53050   3842.10  1.1941  1.248300e+16  5212.10  0.20942          1  \n",
       "957918   0.88571   5901.40  1.0907  1.213800e+16  2132.30  0.38069          4  \n",
       "\n",
       "[957919 rows x 119 columns]"
      ]
     },
     "execution_count": 9,
     "metadata": {},
     "output_type": "execute_result"
    }
   ],
   "source": [
    "train[features]"
   ]
  },
  {
   "cell_type": "code",
   "execution_count": 10,
   "id": "8d71dc53",
   "metadata": {
    "execution": {
     "iopub.execute_input": "2021-09-14T15:00:51.227693Z",
     "iopub.status.busy": "2021-09-14T15:00:51.226720Z",
     "iopub.status.idle": "2021-09-14T15:00:51.234605Z",
     "shell.execute_reply": "2021-09-14T15:00:51.233895Z",
     "shell.execute_reply.started": "2021-09-14T14:55:32.933467Z"
    },
    "papermill": {
     "duration": 0.027059,
     "end_time": "2021-09-14T15:00:51.234743",
     "exception": false,
     "start_time": "2021-09-14T15:00:51.207684",
     "status": "completed"
    },
    "tags": []
   },
   "outputs": [
    {
     "data": {
      "text/plain": [
       "0         1\n",
       "1         0\n",
       "2         1\n",
       "3         1\n",
       "4         1\n",
       "         ..\n",
       "957914    0\n",
       "957915    1\n",
       "957916    0\n",
       "957917    1\n",
       "957918    0\n",
       "Name: claim, Length: 957919, dtype: int64"
      ]
     },
     "execution_count": 10,
     "metadata": {},
     "output_type": "execute_result"
    }
   ],
   "source": [
    "train[target]"
   ]
  },
  {
   "cell_type": "markdown",
   "id": "d1383f5c",
   "metadata": {
    "papermill": {
     "duration": 0.015318,
     "end_time": "2021-09-14T15:00:51.266059",
     "exception": false,
     "start_time": "2021-09-14T15:00:51.250741",
     "status": "completed"
    },
    "tags": []
   },
   "source": [
    "# Optuna"
   ]
  },
  {
   "cell_type": "code",
   "execution_count": 11,
   "id": "54bad8f1",
   "metadata": {
    "execution": {
     "iopub.execute_input": "2021-09-14T15:00:51.302310Z",
     "iopub.status.busy": "2021-09-14T15:00:51.301684Z",
     "iopub.status.idle": "2021-09-14T15:01:00.902299Z",
     "shell.execute_reply": "2021-09-14T15:01:00.901749Z",
     "shell.execute_reply.started": "2021-09-14T14:55:32.944190Z"
    },
    "papermill": {
     "duration": 9.620809,
     "end_time": "2021-09-14T15:01:00.902497",
     "exception": false,
     "start_time": "2021-09-14T15:00:51.281688",
     "status": "completed"
    },
    "tags": []
   },
   "outputs": [
    {
     "name": "stdout",
     "output_type": "stream",
     "text": [
      "\u001b[33mWARNING: Running pip as root will break packages and permissions. You should install packages reliably by using venv: https://pip.pypa.io/warnings/venv\u001b[0m\r\n"
     ]
    }
   ],
   "source": [
    "# Optuna for parameter search\n",
    "!pip install -q optuna\n",
    "\n",
    "import optuna\n",
    "import pickle"
   ]
  },
  {
   "cell_type": "code",
   "execution_count": 12,
   "id": "57eaf0c7",
   "metadata": {
    "execution": {
     "iopub.execute_input": "2021-09-14T15:01:01.226232Z",
     "iopub.status.busy": "2021-09-14T15:01:01.225558Z",
     "iopub.status.idle": "2021-09-14T15:01:01.228222Z",
     "shell.execute_reply": "2021-09-14T15:01:01.228669Z",
     "shell.execute_reply.started": "2021-09-14T14:55:42.444462Z"
    },
    "papermill": {
     "duration": 0.309848,
     "end_time": "2021-09-14T15:01:01.228839",
     "exception": false,
     "start_time": "2021-09-14T15:01:00.918991",
     "status": "completed"
    },
    "tags": []
   },
   "outputs": [],
   "source": [
    "def objective(trial, X=train[features], y=train[target]):\n",
    " \n",
    "  param_space = {   'n_jobs' : -1,\n",
    "                 \n",
    "                    'n_neighbors':trial.suggest_int('n_neighbors', 5, 500),\n",
    "                    'weights':trial.suggest_categorical('weights', ['uniform', 'distance']),\n",
    "                  'algorithm':trial.suggest_categorical('algorithm', ['auto', 'ball_tree', 'kd_tree', 'brute'])\n",
    "                }\n",
    "            \n",
    "\n",
    "  seed_list=[SEED]\n",
    "  kf = StratifiedKFold(n_splits=N_SPLITS, shuffle=True, random_state=CVSEED)\n",
    "  #ctb_oof = np.zeros(train.shape[0])\n",
    "  #ctb_pred = np.zeros(test.shape[0])\n",
    "  \n",
    "  #X_tr, X_va, y_tr, y_va = train_test_split(X,y,test_size=.2,random_state=CVSEED)\n",
    "  \n",
    "  for fold, (trn_idx, val_idx) in enumerate(kf.split(X, y)):\n",
    "      print(f\"===== fold {fold} =====\")\n",
    "\n",
    "      X_train = train[features].iloc[trn_idx]\n",
    "      y_train = train[target].iloc[trn_idx]\n",
    "      X_valid = train[features].iloc[val_idx]\n",
    "      y_valid = train[target].iloc[val_idx]\n",
    "      #X_test = test[features]\n",
    "\n",
    "      X_train[features] = ss.fit_transform(X_train[features])\n",
    "      X_valid[features] = ss.transform(X_valid[features])\n",
    "      #X_test[features] = ss.transform(X_test[features])\n",
    "\n",
    "      pred=np.zeros(y_valid.shape[0])\n",
    "\n",
    "      start = time.time()\n",
    "      for inseed in seed_list:\n",
    "            #param_space['random_state'] = inseed\n",
    "\n",
    "            model = KNeighborsClassifier(**param_space)\n",
    "            model.fit(\n",
    "                X_train, \n",
    "                y_train,\n",
    "                \n",
    "            )\n",
    "\n",
    "            #ctb_oof[val_idx] = model.predict_proba(X_valid)\n",
    "            pred += model.predict_proba(X_valid)[:,-1] / len(seed_list)\n",
    "\n",
    "      elapsed = time.time() - start\n",
    "      auc = roc_auc_score(y_valid, pred)\n",
    "\n",
    "      print(f\"fold {fold} - ctb rmse: {auc:.6f}, elapsed time: {elapsed:.2f}sec\\n\")            \n",
    "\n",
    "      #print(f\"oof ctb_rmse = {mean_squared_error(train[target], ctb_oof, squared=False)}\")\n",
    "  \n",
    "  return auc"
   ]
  },
  {
   "cell_type": "code",
   "execution_count": 13,
   "id": "cea92812",
   "metadata": {
    "execution": {
     "iopub.execute_input": "2021-09-14T15:01:01.266299Z",
     "iopub.status.busy": "2021-09-14T15:01:01.265673Z",
     "iopub.status.idle": "2021-09-14T14:59:45.373373Z",
     "shell.execute_reply": "2021-09-14T14:59:45.362962Z",
     "shell.execute_reply.started": "2021-09-14T14:55:42.737985Z"
    },
    "papermill": {
     "duration": null,
     "end_time": null,
     "exception": false,
     "start_time": "2021-09-14T15:01:01.245055",
     "status": "running"
    },
    "tags": []
   },
   "outputs": [
    {
     "name": "stderr",
     "output_type": "stream",
     "text": [
      "\u001b[32m[I 2021-09-14 15:01:01,264]\u001b[0m A new study created in memory with name: no-name-a32afa10-78ff-48d8-adaf-990c8dce5bd6\u001b[0m\n"
     ]
    },
    {
     "name": "stdout",
     "output_type": "stream",
     "text": [
      "===== fold 0 =====\n"
     ]
    },
    {
     "name": "stdout",
     "output_type": "stream",
     "text": [
      "fold 0 - ctb rmse: 0.768225, elapsed time: 11844.06sec\n",
      "\n",
      "===== fold 1 =====\n"
     ]
    },
    {
     "name": "stdout",
     "output_type": "stream",
     "text": [
      "fold 1 - ctb rmse: 0.766618, elapsed time: 14887.28sec\n",
      "\n",
      "===== fold 2 =====\n"
     ]
    }
   ],
   "source": [
    "study = optuna.create_study(direction='maximize')\n",
    "study.optimize(objective,n_trials= 30)\n",
    "print('Number of finished trials:', len(study.trials))\n",
    "print('Best trial:', study.best_trial.params)"
   ]
  },
  {
   "cell_type": "code",
   "execution_count": null,
   "id": "787bfcc5",
   "metadata": {
    "execution": {
     "iopub.status.busy": "2021-09-14T14:59:45.375064Z",
     "iopub.status.idle": "2021-09-14T14:59:45.376164Z"
    },
    "papermill": {
     "duration": null,
     "end_time": null,
     "exception": null,
     "start_time": null,
     "status": "pending"
    },
    "tags": []
   },
   "outputs": [],
   "source": [
    "study.best_params"
   ]
  },
  {
   "cell_type": "markdown",
   "id": "e1429891",
   "metadata": {
    "papermill": {
     "duration": null,
     "end_time": null,
     "exception": null,
     "start_time": null,
     "status": "pending"
    },
    "tags": []
   },
   "source": [
    "# Log\n",
    "\n"
   ]
  }
 ],
 "metadata": {
  "kernelspec": {
   "display_name": "Python 3",
   "language": "python",
   "name": "python3"
  },
  "language_info": {
   "codemirror_mode": {
    "name": "ipython",
    "version": 3
   },
   "file_extension": ".py",
   "mimetype": "text/x-python",
   "name": "python",
   "nbconvert_exporter": "python",
   "pygments_lexer": "ipython3",
   "version": "3.6.4"
  },
  "papermill": {
   "default_parameters": {},
   "duration": null,
   "end_time": null,
   "environment_variables": {},
   "exception": null,
   "input_path": "__notebook__.ipynb",
   "output_path": "__notebook__.ipynb",
   "parameters": {},
   "start_time": "2021-09-14T15:00:06.345227",
   "version": "2.3.3"
  }
 },
 "nbformat": 4,
 "nbformat_minor": 5
}