{
 "cells": [
  {
   "cell_type": "code",
   "execution_count": 1,
   "id": "68d5f593",
   "metadata": {
    "_cell_guid": "b1076dfc-b9ad-4769-8c92-a6c4dae69d19",
    "_uuid": "8f2839f25d086af736a60e9eeb907d3b93b6e0e5",
    "execution": {
     "iopub.execute_input": "2021-09-30T23:58:44.983946Z",
     "iopub.status.busy": "2021-09-30T23:58:44.982697Z",
     "iopub.status.idle": "2021-09-30T23:58:46.226502Z",
     "shell.execute_reply": "2021-09-30T23:58:46.227081Z",
     "shell.execute_reply.started": "2021-09-20T00:59:36.828873Z"
    },
    "papermill": {
     "duration": 1.268442,
     "end_time": "2021-09-30T23:58:46.227437",
     "exception": false,
     "start_time": "2021-09-30T23:58:44.958995",
     "status": "completed"
    },
    "tags": []
   },
   "outputs": [],
   "source": [
    "import numpy as np\n",
    "import pandas as pd\n",
    "import random\n",
    "import os\n",
    "import time\n",
    "import pickle\n",
    "from pathlib import Path\n",
    "\n",
    "from sklearn.preprocessing import StandardScaler, QuantileTransformer\n",
    "from sklearn.model_selection import StratifiedKFold, train_test_split\n",
    "from sklearn.metrics import roc_auc_score\n",
    "from sklearn.linear_model import RidgeClassifier\n",
    "from sklearn.utils.extmath import softmax\n",
    "\n",
    "#import lightgbm as lgb\n",
    "#import xgboost as xgb\n",
    "#import catboost as ctb\n",
    "\n",
    "import matplotlib.pyplot as plt\n",
    "import seaborn as sns\n",
    "\n",
    "import warnings\n",
    "warnings.simplefilter('ignore')"
   ]
  },
  {
   "cell_type": "markdown",
   "id": "23682392",
   "metadata": {
    "papermill": {
     "duration": 0.017015,
     "end_time": "2021-09-30T23:58:46.264348",
     "exception": false,
     "start_time": "2021-09-30T23:58:46.247333",
     "status": "completed"
    },
    "tags": []
   },
   "source": [
    "# Parameters"
   ]
  },
  {
   "cell_type": "code",
   "execution_count": 2,
   "id": "9a9e1219",
   "metadata": {
    "execution": {
     "iopub.execute_input": "2021-09-30T23:58:46.302506Z",
     "iopub.status.busy": "2021-09-30T23:58:46.301807Z",
     "iopub.status.idle": "2021-09-30T23:58:46.307611Z",
     "shell.execute_reply": "2021-09-30T23:58:46.308192Z",
     "shell.execute_reply.started": "2021-09-20T00:58:17.95867Z"
    },
    "papermill": {
     "duration": 0.026717,
     "end_time": "2021-09-30T23:58:46.308369",
     "exception": false,
     "start_time": "2021-09-30T23:58:46.281652",
     "status": "completed"
    },
    "tags": []
   },
   "outputs": [],
   "source": [
    "target = 'claim'\n",
    "\n",
    "DEBUG = False\n",
    "\n",
    "if DEBUG:\n",
    "    N_ESTIMATORS = 1\n",
    "    N_SPLITS = 2\n",
    "    SEED = 2017\n",
    "    CVSEED = 2017\n",
    "    EARLY_STOPPING_ROUNDS = 1\n",
    "    VERBOSE = 100\n",
    "    #N_ITERS = 2\n",
    "else:\n",
    "    N_SPLITS = 10\n",
    "    N_ESTIMATORS = 20000\n",
    "    EARLY_STOPPING_ROUNDS = 300\n",
    "    VERBOSE = 1000\n",
    "    SEED = 2017\n",
    "    CVSEED = 2017\n",
    "    #N_ITERS = 10"
   ]
  },
  {
   "cell_type": "code",
   "execution_count": 3,
   "id": "8cf38497",
   "metadata": {
    "execution": {
     "iopub.execute_input": "2021-09-30T23:58:46.346420Z",
     "iopub.status.busy": "2021-09-30T23:58:46.345727Z",
     "iopub.status.idle": "2021-09-30T23:58:46.351173Z",
     "shell.execute_reply": "2021-09-30T23:58:46.350530Z",
     "shell.execute_reply.started": "2021-09-20T00:58:17.969323Z"
    },
    "papermill": {
     "duration": 0.025319,
     "end_time": "2021-09-30T23:58:46.351317",
     "exception": false,
     "start_time": "2021-09-30T23:58:46.325998",
     "status": "completed"
    },
    "tags": []
   },
   "outputs": [],
   "source": [
    "def set_seed(seed=2017):\n",
    "    random.seed(seed)\n",
    "    os.environ['PYTHONHASHSEED'] = str(seed)\n",
    "    np.random.seed(seed)\n",
    "    \n",
    "set_seed(SEED)"
   ]
  },
  {
   "cell_type": "code",
   "execution_count": 4,
   "id": "e1b6751d",
   "metadata": {
    "execution": {
     "iopub.execute_input": "2021-09-30T23:58:46.389338Z",
     "iopub.status.busy": "2021-09-30T23:58:46.388700Z",
     "iopub.status.idle": "2021-09-30T23:58:46.393029Z",
     "shell.execute_reply": "2021-09-30T23:58:46.393574Z",
     "shell.execute_reply.started": "2021-09-20T00:58:17.982198Z"
    },
    "papermill": {
     "duration": 0.024903,
     "end_time": "2021-09-30T23:58:46.393743",
     "exception": false,
     "start_time": "2021-09-30T23:58:46.368840",
     "status": "completed"
    },
    "tags": []
   },
   "outputs": [],
   "source": [
    "class RidgeClassifierwithProba(RidgeClassifier):\n",
    "    def predict_proba(self, X):\n",
    "        d = self.decision_function(X)\n",
    "        d_2d = np.c_[-d, d]\n",
    "        return softmax(d_2d)"
   ]
  },
  {
   "cell_type": "markdown",
   "id": "e77180d5",
   "metadata": {
    "papermill": {
     "duration": 0.017104,
     "end_time": "2021-09-30T23:58:46.428473",
     "exception": false,
     "start_time": "2021-09-30T23:58:46.411369",
     "status": "completed"
    },
    "tags": []
   },
   "source": [
    "# Datasets"
   ]
  },
  {
   "cell_type": "code",
   "execution_count": 5,
   "id": "b7a1b3eb",
   "metadata": {
    "execution": {
     "iopub.execute_input": "2021-09-30T23:58:46.467027Z",
     "iopub.status.busy": "2021-09-30T23:58:46.466387Z",
     "iopub.status.idle": "2021-09-30T23:59:17.131314Z",
     "shell.execute_reply": "2021-09-30T23:59:17.130580Z",
     "shell.execute_reply.started": "2021-09-20T00:58:17.992995Z"
    },
    "papermill": {
     "duration": 30.684941,
     "end_time": "2021-09-30T23:59:17.131460",
     "exception": false,
     "start_time": "2021-09-30T23:58:46.446519",
     "status": "completed"
    },
    "tags": []
   },
   "outputs": [],
   "source": [
    "INPUT = Path(\"../input/tabular-playground-series-sep-2021\")\n",
    "\n",
    "train = pd.DataFrame(pd.read_csv(INPUT / \"train.csv\")[target])\n",
    "#test = pd.read_csv(INPUT / \"test.csv\")\n",
    "test = pd.DataFrame()\n",
    "submission = pd.read_csv(INPUT / \"sample_solution.csv\")"
   ]
  },
  {
   "cell_type": "code",
   "execution_count": 6,
   "id": "cdfdb176",
   "metadata": {
    "execution": {
     "iopub.execute_input": "2021-09-30T23:59:17.174918Z",
     "iopub.status.busy": "2021-09-30T23:59:17.174126Z",
     "iopub.status.idle": "2021-09-30T23:59:18.471928Z",
     "shell.execute_reply": "2021-09-30T23:59:18.470942Z",
     "shell.execute_reply.started": "2021-09-20T00:58:45.509712Z"
    },
    "papermill": {
     "duration": 1.322935,
     "end_time": "2021-09-30T23:59:18.472087",
     "exception": false,
     "start_time": "2021-09-30T23:59:17.149152",
     "status": "completed"
    },
    "tags": []
   },
   "outputs": [],
   "source": [
    "train['lgb_pred'] = np.load(\"../input/tps-sep-lv0-base-trees/agg_lgb_oof.npy\")\n",
    "test['lgb_pred'] = np.load(\"../input/tps-sep-lv0-base-trees/agg_lgb_pred.npy\")\n",
    "\n",
    "train['lgb2_pred'] = np.load(\"../input/tps-sep-lv0-base-trees/agg_lgb2_oof.npy\")\n",
    "test['lgb2_pred'] = np.load(\"../input/tps-sep-lv0-base-trees/agg_lgb2_pred.npy\")\n",
    "\n",
    "train['xgb_pred'] = np.load(\"../input/tps-sep-lv0-base-trees/agg_xgb_oof.npy\")\n",
    "test['xgb_pred'] = np.load(\"../input/tps-sep-lv0-base-trees/agg_xgb_pred.npy\")\n",
    "\n",
    "train['lgb_bizen_pred'] = np.load(\"../input/tps-sep-lv0-base-trees/lgb_bizen_oof.npy\")\n",
    "test['lgb_bizen_pred'] = np.load(\"../input/tps-sep-lv0-base-trees/lgb_bizen_pred.npy\")\n",
    "\n",
    "train['lgb_dmitry_pred'] = np.load(\"../input/tps-sep-lv0-base-trees/lgb_dmitry_oof.npy\")\n",
    "test['lgb_dmitry_pred'] = np.load(\"../input/tps-sep-lv0-base-trees/lgb_dmitry_pred.npy\")\n",
    "\n",
    "train['xgb_dmitry_pred'] = np.load(\"../input/tps-sep-lv0-base-trees/xgb_dmitry_oof.npy\")\n",
    "test['xgb_dmitry_pred'] = np.load(\"../input/tps-sep-lv0-base-trees/xgb_dmitry_pred.npy\")\n",
    "\n",
    "train['lgb_manav_pred'] = np.load(\"../input/tps-sep-lv0-base-trees/lgb_manav_oof.npy\")\n",
    "test['lgb_manav_pred'] = np.load(\"../input/tps-sep-lv0-base-trees/lgb_manav_pred.npy\")\n",
    "\n",
    "train['xgb_manav_pred'] = np.load(\"../input/tps-sep-lv0-base-trees/xgb_manav_oof.npy\")\n",
    "test['xgb_manav_pred'] = np.load(\"../input/tps-sep-lv0-base-trees/xgb_manav_pred.npy\")\n"
   ]
  },
  {
   "cell_type": "code",
   "execution_count": 7,
   "id": "d26b1592",
   "metadata": {
    "execution": {
     "iopub.execute_input": "2021-09-30T23:59:18.512188Z",
     "iopub.status.busy": "2021-09-30T23:59:18.511523Z",
     "iopub.status.idle": "2021-09-30T23:59:18.726081Z",
     "shell.execute_reply": "2021-09-30T23:59:18.726633Z"
    },
    "papermill": {
     "duration": 0.237099,
     "end_time": "2021-09-30T23:59:18.726812",
     "exception": false,
     "start_time": "2021-09-30T23:59:18.489713",
     "status": "completed"
    },
    "tags": []
   },
   "outputs": [],
   "source": [
    "train['ridge_pred'] = np.load(\"../input/tps-sep-lv0-base-trees/ridge_oof.npy\")\n",
    "test['ridge_pred'] = np.load(\"../input/tps-sep-lv0-base-trees/ridge_pred.npy\")\n",
    "\n",
    "train['nn_pred'] = np.load(\"../input/tps-sep-lv0-base-trees/agg_nn_oof.npy\")\n",
    "test['nn_pred'] = np.load(\"../input/tps-sep-lv0-base-trees/agg_nn_pred.npy\")"
   ]
  },
  {
   "cell_type": "code",
   "execution_count": 8,
   "id": "8e511936",
   "metadata": {
    "execution": {
     "iopub.execute_input": "2021-09-30T23:59:18.769374Z",
     "iopub.status.busy": "2021-09-30T23:59:18.768547Z",
     "iopub.status.idle": "2021-09-30T23:59:19.456833Z",
     "shell.execute_reply": "2021-09-30T23:59:19.457442Z"
    },
    "papermill": {
     "duration": 0.713037,
     "end_time": "2021-09-30T23:59:19.457624",
     "exception": false,
     "start_time": "2021-09-30T23:59:18.744587",
     "status": "completed"
    },
    "tags": []
   },
   "outputs": [],
   "source": [
    "#lv1 pred\n",
    "\n",
    "train['lgb_lv1n_pred'] = np.load(\"../input/tps-sep-lv1-nn/lgb_lv1_oof.npy\")\n",
    "test['lgb_lv1n_pred'] = np.load(\"../input/tps-sep-lv1-nn/lgb_lv1_pred.npy\")\n",
    "\n",
    "train['xgb_lv1n_pred'] = np.load(\"../input/tps-sep-lv1-nn/xgb_lv1_oof.npy\")\n",
    "test['xgb_lv1n_pred'] = np.load(\"../input/tps-sep-lv1-nn/xgb_lv1_pred.npy\")\n",
    "\n",
    "train['ctb_lv1n_pred'] = np.load(\"../input/tps-sep-lv1-nn/ctb_lv1_oof.npy\")\n",
    "test['ctb_lv1n_pred'] = np.load(\"../input/tps-sep-lv1-nn/ctb_lv1_pred.npy\")\n",
    "\n",
    "train['ridge_lv1n_pred'] = np.load(\"../input/tps-sep-lv1-nn/ridge_lv1_oof.npy\")\n",
    "test['ridge_lv1n_pred'] = np.load(\"../input/tps-sep-lv1-nn/ridge_lv1_pred.npy\")\n",
    "\n",
    "train['nn_lv1n_pred'] = np.load(\"../input/tps-sep-lv1-nn/agg_nn_lv1_oof.npy\")\n",
    "test['nn_lv1n_pred'] = np.load(\"../input/tps-sep-lv1-nn/agg_nn_lv1_pred.npy\")"
   ]
  },
  {
   "cell_type": "code",
   "execution_count": 9,
   "id": "f9a0db0c",
   "metadata": {
    "execution": {
     "iopub.execute_input": "2021-09-30T23:59:19.496436Z",
     "iopub.status.busy": "2021-09-30T23:59:19.495756Z",
     "iopub.status.idle": "2021-09-30T23:59:19.605448Z",
     "shell.execute_reply": "2021-09-30T23:59:19.606065Z"
    },
    "papermill": {
     "duration": 0.130738,
     "end_time": "2021-09-30T23:59:19.606264",
     "exception": false,
     "start_time": "2021-09-30T23:59:19.475526",
     "status": "completed"
    },
    "tags": []
   },
   "outputs": [],
   "source": [
    "#own\n",
    "\n",
    "#train['ridge_lv2n_pred'] = np.load(\"../input/tps-sep-lv2/ridge_lv2n_oof.npy\")\n",
    "#test['ridge_lv2n_pred'] = np.load(\"../input/tps-sep-lv2/ridge_lv2n_pred.npy\")\n",
    "\n",
    "#train['ridge_lv2nre_pred'] = np.load(\"../input/tps-sep-lv2/ridge_lv2nre_oof.npy\")\n",
    "#test['ridge_lv2nre_pred'] = np.load(\"../input/tps-sep-lv2/ridge_lv2nre_pred.npy\")\n",
    "\n",
    "train['ridge_lv2nre2_pred'] = np.load(\"../input/tps-sep-lv2/ridge_lv2nre2_oof.npy\")\n",
    "test['ridge_lv2nre2_pred'] = np.load(\"../input/tps-sep-lv2/ridge_lv2nre2_pred.npy\")"
   ]
  },
  {
   "cell_type": "markdown",
   "id": "e451d5b3",
   "metadata": {
    "papermill": {
     "duration": 0.017511,
     "end_time": "2021-09-30T23:59:19.641766",
     "exception": false,
     "start_time": "2021-09-30T23:59:19.624255",
     "status": "completed"
    },
    "tags": []
   },
   "source": [
    "# Preprocessing"
   ]
  },
  {
   "cell_type": "code",
   "execution_count": 10,
   "id": "f95c45c0",
   "metadata": {
    "execution": {
     "iopub.execute_input": "2021-09-30T23:59:19.683095Z",
     "iopub.status.busy": "2021-09-30T23:59:19.682395Z",
     "iopub.status.idle": "2021-09-30T23:59:19.685608Z",
     "shell.execute_reply": "2021-09-30T23:59:19.685050Z",
     "shell.execute_reply.started": "2021-09-20T00:58:46.638516Z"
    },
    "papermill": {
     "duration": 0.025978,
     "end_time": "2021-09-30T23:59:19.685742",
     "exception": false,
     "start_time": "2021-09-30T23:59:19.659764",
     "status": "completed"
    },
    "tags": []
   },
   "outputs": [],
   "source": [
    "features = [col for col in train.columns if 'pred' in col]"
   ]
  },
  {
   "cell_type": "code",
   "execution_count": 11,
   "id": "13c5bb91",
   "metadata": {
    "execution": {
     "iopub.execute_input": "2021-09-30T23:59:19.726692Z",
     "iopub.status.busy": "2021-09-30T23:59:19.725726Z",
     "iopub.status.idle": "2021-09-30T23:59:19.728608Z",
     "shell.execute_reply": "2021-09-30T23:59:19.727985Z",
     "shell.execute_reply.started": "2021-09-20T00:58:46.643513Z"
    },
    "papermill": {
     "duration": 0.024966,
     "end_time": "2021-09-30T23:59:19.728746",
     "exception": false,
     "start_time": "2021-09-30T23:59:19.703780",
     "status": "completed"
    },
    "tags": []
   },
   "outputs": [],
   "source": [
    "ss = StandardScaler()"
   ]
  },
  {
   "cell_type": "code",
   "execution_count": 12,
   "id": "2d647a7d",
   "metadata": {
    "execution": {
     "iopub.execute_input": "2021-09-30T23:59:19.768054Z",
     "iopub.status.busy": "2021-09-30T23:59:19.767406Z",
     "iopub.status.idle": "2021-09-30T23:59:19.846894Z",
     "shell.execute_reply": "2021-09-30T23:59:19.847402Z",
     "shell.execute_reply.started": "2021-09-20T00:58:46.657489Z"
    },
    "papermill": {
     "duration": 0.100541,
     "end_time": "2021-09-30T23:59:19.847578",
     "exception": false,
     "start_time": "2021-09-30T23:59:19.747037",
     "status": "completed"
    },
    "tags": []
   },
   "outputs": [
    {
     "data": {
      "text/html": [
       "<div>\n",
       "<style scoped>\n",
       "    .dataframe tbody tr th:only-of-type {\n",
       "        vertical-align: middle;\n",
       "    }\n",
       "\n",
       "    .dataframe tbody tr th {\n",
       "        vertical-align: top;\n",
       "    }\n",
       "\n",
       "    .dataframe thead th {\n",
       "        text-align: right;\n",
       "    }\n",
       "</style>\n",
       "<table border=\"1\" class=\"dataframe\">\n",
       "  <thead>\n",
       "    <tr style=\"text-align: right;\">\n",
       "      <th></th>\n",
       "      <th>lgb_pred</th>\n",
       "      <th>lgb2_pred</th>\n",
       "      <th>xgb_pred</th>\n",
       "      <th>lgb_bizen_pred</th>\n",
       "      <th>lgb_dmitry_pred</th>\n",
       "      <th>xgb_dmitry_pred</th>\n",
       "      <th>lgb_manav_pred</th>\n",
       "      <th>xgb_manav_pred</th>\n",
       "      <th>ridge_pred</th>\n",
       "      <th>nn_pred</th>\n",
       "      <th>lgb_lv1n_pred</th>\n",
       "      <th>xgb_lv1n_pred</th>\n",
       "      <th>ctb_lv1n_pred</th>\n",
       "      <th>ridge_lv1n_pred</th>\n",
       "      <th>nn_lv1n_pred</th>\n",
       "      <th>ridge_lv2nre2_pred</th>\n",
       "    </tr>\n",
       "  </thead>\n",
       "  <tbody>\n",
       "    <tr>\n",
       "      <th>0</th>\n",
       "      <td>0.558734</td>\n",
       "      <td>0.578699</td>\n",
       "      <td>0.576973</td>\n",
       "      <td>0.561836</td>\n",
       "      <td>0.566536</td>\n",
       "      <td>0.575204</td>\n",
       "      <td>0.564575</td>\n",
       "      <td>0.564908</td>\n",
       "      <td>0.553440</td>\n",
       "      <td>0.564283</td>\n",
       "      <td>0.568860</td>\n",
       "      <td>0.568343</td>\n",
       "      <td>0.567958</td>\n",
       "      <td>0.552885</td>\n",
       "      <td>0.916505</td>\n",
       "      <td>0.533451</td>\n",
       "    </tr>\n",
       "    <tr>\n",
       "      <th>1</th>\n",
       "      <td>0.130124</td>\n",
       "      <td>0.120648</td>\n",
       "      <td>0.124073</td>\n",
       "      <td>0.119917</td>\n",
       "      <td>0.126946</td>\n",
       "      <td>0.126340</td>\n",
       "      <td>0.121656</td>\n",
       "      <td>0.120459</td>\n",
       "      <td>0.182040</td>\n",
       "      <td>0.120549</td>\n",
       "      <td>0.124741</td>\n",
       "      <td>0.120441</td>\n",
       "      <td>0.121767</td>\n",
       "      <td>0.181629</td>\n",
       "      <td>0.871857</td>\n",
       "      <td>0.101673</td>\n",
       "    </tr>\n",
       "    <tr>\n",
       "      <th>2</th>\n",
       "      <td>0.634854</td>\n",
       "      <td>0.628457</td>\n",
       "      <td>0.630655</td>\n",
       "      <td>0.629326</td>\n",
       "      <td>0.627686</td>\n",
       "      <td>0.635330</td>\n",
       "      <td>0.626681</td>\n",
       "      <td>0.633499</td>\n",
       "      <td>0.631720</td>\n",
       "      <td>0.569874</td>\n",
       "      <td>0.625771</td>\n",
       "      <td>0.622298</td>\n",
       "      <td>0.617185</td>\n",
       "      <td>0.624617</td>\n",
       "      <td>0.921466</td>\n",
       "      <td>0.596096</td>\n",
       "    </tr>\n",
       "    <tr>\n",
       "      <th>3</th>\n",
       "      <td>0.121661</td>\n",
       "      <td>0.125785</td>\n",
       "      <td>0.126651</td>\n",
       "      <td>0.128635</td>\n",
       "      <td>0.122506</td>\n",
       "      <td>0.123506</td>\n",
       "      <td>0.128684</td>\n",
       "      <td>0.131022</td>\n",
       "      <td>0.184237</td>\n",
       "      <td>0.120917</td>\n",
       "      <td>0.129819</td>\n",
       "      <td>0.126351</td>\n",
       "      <td>0.125507</td>\n",
       "      <td>0.184000</td>\n",
       "      <td>0.871854</td>\n",
       "      <td>0.102130</td>\n",
       "    </tr>\n",
       "    <tr>\n",
       "      <th>4</th>\n",
       "      <td>0.151700</td>\n",
       "      <td>0.150161</td>\n",
       "      <td>0.149483</td>\n",
       "      <td>0.153291</td>\n",
       "      <td>0.146343</td>\n",
       "      <td>0.143437</td>\n",
       "      <td>0.152862</td>\n",
       "      <td>0.153132</td>\n",
       "      <td>0.203202</td>\n",
       "      <td>0.124316</td>\n",
       "      <td>0.157071</td>\n",
       "      <td>0.154612</td>\n",
       "      <td>0.152657</td>\n",
       "      <td>0.202919</td>\n",
       "      <td>0.874676</td>\n",
       "      <td>0.106224</td>\n",
       "    </tr>\n",
       "    <tr>\n",
       "      <th>...</th>\n",
       "      <td>...</td>\n",
       "      <td>...</td>\n",
       "      <td>...</td>\n",
       "      <td>...</td>\n",
       "      <td>...</td>\n",
       "      <td>...</td>\n",
       "      <td>...</td>\n",
       "      <td>...</td>\n",
       "      <td>...</td>\n",
       "      <td>...</td>\n",
       "      <td>...</td>\n",
       "      <td>...</td>\n",
       "      <td>...</td>\n",
       "      <td>...</td>\n",
       "      <td>...</td>\n",
       "      <td>...</td>\n",
       "    </tr>\n",
       "    <tr>\n",
       "      <th>493469</th>\n",
       "      <td>0.833647</td>\n",
       "      <td>0.829336</td>\n",
       "      <td>0.829659</td>\n",
       "      <td>0.827457</td>\n",
       "      <td>0.825696</td>\n",
       "      <td>0.827184</td>\n",
       "      <td>0.831222</td>\n",
       "      <td>0.816129</td>\n",
       "      <td>0.790480</td>\n",
       "      <td>0.587796</td>\n",
       "      <td>0.822190</td>\n",
       "      <td>0.842848</td>\n",
       "      <td>0.829848</td>\n",
       "      <td>0.775431</td>\n",
       "      <td>0.941457</td>\n",
       "      <td>0.732991</td>\n",
       "    </tr>\n",
       "    <tr>\n",
       "      <th>493470</th>\n",
       "      <td>0.114116</td>\n",
       "      <td>0.116351</td>\n",
       "      <td>0.117947</td>\n",
       "      <td>0.111374</td>\n",
       "      <td>0.112238</td>\n",
       "      <td>0.115928</td>\n",
       "      <td>0.111981</td>\n",
       "      <td>0.109487</td>\n",
       "      <td>0.174385</td>\n",
       "      <td>0.120834</td>\n",
       "      <td>0.113415</td>\n",
       "      <td>0.108547</td>\n",
       "      <td>0.112734</td>\n",
       "      <td>0.173952</td>\n",
       "      <td>0.870831</td>\n",
       "      <td>0.100347</td>\n",
       "    </tr>\n",
       "    <tr>\n",
       "      <th>493471</th>\n",
       "      <td>0.771955</td>\n",
       "      <td>0.760704</td>\n",
       "      <td>0.758474</td>\n",
       "      <td>0.758873</td>\n",
       "      <td>0.764026</td>\n",
       "      <td>0.754300</td>\n",
       "      <td>0.756039</td>\n",
       "      <td>0.774203</td>\n",
       "      <td>0.751130</td>\n",
       "      <td>0.580247</td>\n",
       "      <td>0.768531</td>\n",
       "      <td>0.759421</td>\n",
       "      <td>0.780321</td>\n",
       "      <td>0.737343</td>\n",
       "      <td>0.934492</td>\n",
       "      <td>0.690855</td>\n",
       "    </tr>\n",
       "    <tr>\n",
       "      <th>493472</th>\n",
       "      <td>0.129603</td>\n",
       "      <td>0.132275</td>\n",
       "      <td>0.129645</td>\n",
       "      <td>0.133944</td>\n",
       "      <td>0.135123</td>\n",
       "      <td>0.132036</td>\n",
       "      <td>0.135098</td>\n",
       "      <td>0.136081</td>\n",
       "      <td>0.184900</td>\n",
       "      <td>0.122772</td>\n",
       "      <td>0.131957</td>\n",
       "      <td>0.130094</td>\n",
       "      <td>0.131022</td>\n",
       "      <td>0.184348</td>\n",
       "      <td>0.872343</td>\n",
       "      <td>0.102268</td>\n",
       "    </tr>\n",
       "    <tr>\n",
       "      <th>493473</th>\n",
       "      <td>0.742763</td>\n",
       "      <td>0.748962</td>\n",
       "      <td>0.749504</td>\n",
       "      <td>0.757657</td>\n",
       "      <td>0.744380</td>\n",
       "      <td>0.747717</td>\n",
       "      <td>0.741040</td>\n",
       "      <td>0.760795</td>\n",
       "      <td>0.734600</td>\n",
       "      <td>0.584487</td>\n",
       "      <td>0.747335</td>\n",
       "      <td>0.743723</td>\n",
       "      <td>0.764846</td>\n",
       "      <td>0.721249</td>\n",
       "      <td>0.933628</td>\n",
       "      <td>0.678333</td>\n",
       "    </tr>\n",
       "  </tbody>\n",
       "</table>\n",
       "<p>493474 rows × 16 columns</p>\n",
       "</div>"
      ],
      "text/plain": [
       "        lgb_pred  lgb2_pred  xgb_pred  lgb_bizen_pred  lgb_dmitry_pred  \\\n",
       "0       0.558734   0.578699  0.576973        0.561836         0.566536   \n",
       "1       0.130124   0.120648  0.124073        0.119917         0.126946   \n",
       "2       0.634854   0.628457  0.630655        0.629326         0.627686   \n",
       "3       0.121661   0.125785  0.126651        0.128635         0.122506   \n",
       "4       0.151700   0.150161  0.149483        0.153291         0.146343   \n",
       "...          ...        ...       ...             ...              ...   \n",
       "493469  0.833647   0.829336  0.829659        0.827457         0.825696   \n",
       "493470  0.114116   0.116351  0.117947        0.111374         0.112238   \n",
       "493471  0.771955   0.760704  0.758474        0.758873         0.764026   \n",
       "493472  0.129603   0.132275  0.129645        0.133944         0.135123   \n",
       "493473  0.742763   0.748962  0.749504        0.757657         0.744380   \n",
       "\n",
       "        xgb_dmitry_pred  lgb_manav_pred  xgb_manav_pred  ridge_pred   nn_pred  \\\n",
       "0              0.575204        0.564575        0.564908    0.553440  0.564283   \n",
       "1              0.126340        0.121656        0.120459    0.182040  0.120549   \n",
       "2              0.635330        0.626681        0.633499    0.631720  0.569874   \n",
       "3              0.123506        0.128684        0.131022    0.184237  0.120917   \n",
       "4              0.143437        0.152862        0.153132    0.203202  0.124316   \n",
       "...                 ...             ...             ...         ...       ...   \n",
       "493469         0.827184        0.831222        0.816129    0.790480  0.587796   \n",
       "493470         0.115928        0.111981        0.109487    0.174385  0.120834   \n",
       "493471         0.754300        0.756039        0.774203    0.751130  0.580247   \n",
       "493472         0.132036        0.135098        0.136081    0.184900  0.122772   \n",
       "493473         0.747717        0.741040        0.760795    0.734600  0.584487   \n",
       "\n",
       "        lgb_lv1n_pred  xgb_lv1n_pred  ctb_lv1n_pred  ridge_lv1n_pred  \\\n",
       "0            0.568860       0.568343       0.567958         0.552885   \n",
       "1            0.124741       0.120441       0.121767         0.181629   \n",
       "2            0.625771       0.622298       0.617185         0.624617   \n",
       "3            0.129819       0.126351       0.125507         0.184000   \n",
       "4            0.157071       0.154612       0.152657         0.202919   \n",
       "...               ...            ...            ...              ...   \n",
       "493469       0.822190       0.842848       0.829848         0.775431   \n",
       "493470       0.113415       0.108547       0.112734         0.173952   \n",
       "493471       0.768531       0.759421       0.780321         0.737343   \n",
       "493472       0.131957       0.130094       0.131022         0.184348   \n",
       "493473       0.747335       0.743723       0.764846         0.721249   \n",
       "\n",
       "        nn_lv1n_pred  ridge_lv2nre2_pred  \n",
       "0           0.916505            0.533451  \n",
       "1           0.871857            0.101673  \n",
       "2           0.921466            0.596096  \n",
       "3           0.871854            0.102130  \n",
       "4           0.874676            0.106224  \n",
       "...              ...                 ...  \n",
       "493469      0.941457            0.732991  \n",
       "493470      0.870831            0.100347  \n",
       "493471      0.934492            0.690855  \n",
       "493472      0.872343            0.102268  \n",
       "493473      0.933628            0.678333  \n",
       "\n",
       "[493474 rows x 16 columns]"
      ]
     },
     "execution_count": 12,
     "metadata": {},
     "output_type": "execute_result"
    }
   ],
   "source": [
    "test[features]"
   ]
  },
  {
   "cell_type": "code",
   "execution_count": 13,
   "id": "c11436a3",
   "metadata": {
    "execution": {
     "iopub.execute_input": "2021-09-30T23:59:19.892949Z",
     "iopub.status.busy": "2021-09-30T23:59:19.892285Z",
     "iopub.status.idle": "2021-09-30T23:59:19.896123Z",
     "shell.execute_reply": "2021-09-30T23:59:19.896559Z",
     "shell.execute_reply.started": "2021-09-20T00:58:46.712757Z"
    },
    "papermill": {
     "duration": 0.030141,
     "end_time": "2021-09-30T23:59:19.896741",
     "exception": false,
     "start_time": "2021-09-30T23:59:19.866600",
     "status": "completed"
    },
    "tags": []
   },
   "outputs": [
    {
     "data": {
      "text/plain": [
       "0         1\n",
       "1         0\n",
       "2         1\n",
       "3         1\n",
       "4         1\n",
       "         ..\n",
       "957914    0\n",
       "957915    1\n",
       "957916    0\n",
       "957917    1\n",
       "957918    0\n",
       "Name: claim, Length: 957919, dtype: int64"
      ]
     },
     "execution_count": 13,
     "metadata": {},
     "output_type": "execute_result"
    }
   ],
   "source": [
    "train[target]"
   ]
  },
  {
   "cell_type": "markdown",
   "id": "823be1b0",
   "metadata": {
    "papermill": {
     "duration": 0.018611,
     "end_time": "2021-09-30T23:59:19.934425",
     "exception": false,
     "start_time": "2021-09-30T23:59:19.915814",
     "status": "completed"
    },
    "tags": []
   },
   "source": [
    "# Ridge"
   ]
  },
  {
   "cell_type": "code",
   "execution_count": 14,
   "id": "7b017d27",
   "metadata": {
    "execution": {
     "iopub.execute_input": "2021-09-30T23:59:19.978055Z",
     "iopub.status.busy": "2021-09-30T23:59:19.977384Z",
     "iopub.status.idle": "2021-09-30T23:59:19.980570Z",
     "shell.execute_reply": "2021-09-30T23:59:19.980020Z",
     "shell.execute_reply.started": "2021-09-20T00:58:46.720531Z"
    },
    "papermill": {
     "duration": 0.027221,
     "end_time": "2021-09-30T23:59:19.980708",
     "exception": false,
     "start_time": "2021-09-30T23:59:19.953487",
     "status": "completed"
    },
    "tags": []
   },
   "outputs": [],
   "source": [
    "ridge_params = {\n",
    "                'max_iter':N_ESTIMATORS,\n",
    "               'tol':1e-8,\n",
    "    \n",
    "                'alpha': 0.06690070586174424, \n",
    "                'solver': 'cholesky'\n",
    "}"
   ]
  },
  {
   "cell_type": "code",
   "execution_count": 15,
   "id": "e702a95a",
   "metadata": {
    "execution": {
     "iopub.execute_input": "2021-09-30T23:59:20.032907Z",
     "iopub.status.busy": "2021-09-30T23:59:20.032162Z",
     "iopub.status.idle": "2021-10-01T00:01:48.063112Z",
     "shell.execute_reply": "2021-10-01T00:01:48.063597Z",
     "shell.execute_reply.started": "2021-09-20T01:02:28.441611Z"
    },
    "papermill": {
     "duration": 148.064061,
     "end_time": "2021-10-01T00:01:48.063817",
     "exception": false,
     "start_time": "2021-09-30T23:59:19.999756",
     "status": "completed"
    },
    "tags": []
   },
   "outputs": [
    {
     "name": "stdout",
     "output_type": "stream",
     "text": [
      "===== fold 0 =====\n",
      "fold 0 - ridge auc: 0.817411, elapsed time: 14.34sec\n",
      "\n",
      "===== fold 1 =====\n",
      "fold 1 - ridge auc: 0.816385, elapsed time: 13.66sec\n",
      "\n",
      "===== fold 2 =====\n",
      "fold 2 - ridge auc: 0.817969, elapsed time: 14.34sec\n",
      "\n",
      "===== fold 3 =====\n",
      "fold 3 - ridge auc: 0.816598, elapsed time: 13.70sec\n",
      "\n",
      "===== fold 4 =====\n",
      "fold 4 - ridge auc: 0.818187, elapsed time: 14.13sec\n",
      "\n",
      "===== fold 5 =====\n",
      "fold 5 - ridge auc: 0.815620, elapsed time: 13.74sec\n",
      "\n",
      "===== fold 6 =====\n",
      "fold 6 - ridge auc: 0.819614, elapsed time: 14.20sec\n",
      "\n",
      "===== fold 7 =====\n",
      "fold 7 - ridge auc: 0.815726, elapsed time: 13.79sec\n",
      "\n",
      "===== fold 8 =====\n",
      "fold 8 - ridge auc: 0.817425, elapsed time: 14.27sec\n",
      "\n",
      "===== fold 9 =====\n",
      "fold 9 - ridge auc: 0.816499, elapsed time: 13.86sec\n",
      "\n",
      "oof ridge_auc = 0.8171436931181472\n"
     ]
    }
   ],
   "source": [
    "ridge_oof = np.zeros(train.shape[0])\n",
    "ridge_pred = np.zeros(test.shape[0])\n",
    "ridge_importances = pd.DataFrame()\n",
    "\n",
    "\n",
    "kf = StratifiedKFold(n_splits=N_SPLITS, shuffle=True, random_state=CVSEED)\n",
    "seed_list=range(SEED, SEED+20)\n",
    "\n",
    "for fold, (trn_idx, val_idx) in enumerate(kf.split(X=train[features], y=train[target])):\n",
    "    print(f\"===== fold {fold} =====\")\n",
    "\n",
    "\n",
    "    X_train = train[features].iloc[trn_idx]\n",
    "    y_train = train[target].iloc[trn_idx]\n",
    "    X_valid = train[features].iloc[val_idx]\n",
    "    y_valid = train[target].iloc[val_idx]\n",
    "    X_test = test[features]\n",
    "\n",
    "        \n",
    "    X_train[features] = ss.fit_transform(X_train[features])\n",
    "    X_valid[features] = ss.transform(X_valid[features])\n",
    "    X_test[features] = ss.transform(X_test[features])\n",
    "\n",
    "    start = time.time()\n",
    "    for inseed in seed_list:\n",
    "        ridge_params['random_state'] = inseed\n",
    "\n",
    "        model = RidgeClassifierwithProba(**ridge_params)\n",
    "        model.fit(\n",
    "            X_train, \n",
    "            y_train,\n",
    "            \n",
    "        )\n",
    "\n",
    "        with open(f\"ridge_model{fold}_seed{inseed}.pkl\", 'wb') as f:\n",
    "            pickle.dump(model, f)\n",
    "\n",
    "\n",
    "        ridge_oof[val_idx] += model.predict_proba(X_valid)[:,-1] / len(seed_list)\n",
    "        ridge_pred += model.predict_proba(X_test)[:,-1] / len(seed_list)\n",
    "\n",
    "\n",
    "    elapsed = time.time() - start\n",
    "    auc = roc_auc_score(y_valid, ridge_oof[val_idx])\n",
    "    print(f\"fold {fold} - ridge auc: {auc:.6f}, elapsed time: {elapsed:.2f}sec\\n\")            \n",
    "\n",
    "ridge_pred /= N_SPLITS\n",
    "print(f\"oof ridge_auc = {roc_auc_score(train[target], ridge_oof)}\")\n",
    "\n",
    "np.save(\"ridge_oof.npy\", ridge_oof)\n",
    "np.save(\"ridge_pred.npy\", ridge_pred)"
   ]
  },
  {
   "cell_type": "markdown",
   "id": "1f429fcd",
   "metadata": {
    "papermill": {
     "duration": 0.022382,
     "end_time": "2021-10-01T00:01:48.108978",
     "exception": false,
     "start_time": "2021-10-01T00:01:48.086596",
     "status": "completed"
    },
    "tags": []
   },
   "source": [
    "# OOF predictions"
   ]
  },
  {
   "cell_type": "code",
   "execution_count": 16,
   "id": "03cb64f0",
   "metadata": {
    "execution": {
     "iopub.execute_input": "2021-10-01T00:01:48.174396Z",
     "iopub.status.busy": "2021-10-01T00:01:48.160111Z",
     "iopub.status.idle": "2021-10-01T00:01:51.755807Z",
     "shell.execute_reply": "2021-10-01T00:01:51.755215Z"
    },
    "papermill": {
     "duration": 3.624242,
     "end_time": "2021-10-01T00:01:51.755967",
     "exception": false,
     "start_time": "2021-10-01T00:01:48.131725",
     "status": "completed"
    },
    "tags": []
   },
   "outputs": [
    {
     "data": {
      "text/plain": [
       "<matplotlib.collections.PathCollection at 0x7fef2c55be90>"
      ]
     },
     "execution_count": 16,
     "metadata": {},
     "output_type": "execute_result"
    },
    {
     "data": {
      "image/png": "[encoded data removed]",
      "text/plain": [
       "<Figure size 432x288 with 1 Axes>"
      ]
     },
     "metadata": {
      "needs_background": "light"
     },
     "output_type": "display_data"
    }
   ],
   "source": [
    "plt.plot(train[target], train[target])\n",
    "plt.scatter(train[target], ridge_oof)"
   ]
  },
  {
   "cell_type": "markdown",
   "id": "59f008d9",
   "metadata": {
    "papermill": {
     "duration": 0.023611,
     "end_time": "2021-10-01T00:01:51.803670",
     "exception": false,
     "start_time": "2021-10-01T00:01:51.780059",
     "status": "completed"
    },
    "tags": []
   },
   "source": [
    "# Submission"
   ]
  },
  {
   "cell_type": "code",
   "execution_count": 17,
   "id": "655deeb5",
   "metadata": {
    "execution": {
     "iopub.execute_input": "2021-10-01T00:01:51.856063Z",
     "iopub.status.busy": "2021-10-01T00:01:51.855397Z",
     "iopub.status.idle": "2021-10-01T00:01:53.711110Z",
     "shell.execute_reply": "2021-10-01T00:01:53.711603Z"
    },
    "papermill": {
     "duration": 1.884431,
     "end_time": "2021-10-01T00:01:53.711780",
     "exception": false,
     "start_time": "2021-10-01T00:01:51.827349",
     "status": "completed"
    },
    "tags": []
   },
   "outputs": [
    {
     "data": {
      "text/html": [
       "<div>\n",
       "<style scoped>\n",
       "    .dataframe tbody tr th:only-of-type {\n",
       "        vertical-align: middle;\n",
       "    }\n",
       "\n",
       "    .dataframe tbody tr th {\n",
       "        vertical-align: top;\n",
       "    }\n",
       "\n",
       "    .dataframe thead th {\n",
       "        text-align: right;\n",
       "    }\n",
       "</style>\n",
       "<table border=\"1\" class=\"dataframe\">\n",
       "  <thead>\n",
       "    <tr style=\"text-align: right;\">\n",
       "      <th></th>\n",
       "      <th>id</th>\n",
       "      <th>claim</th>\n",
       "    </tr>\n",
       "  </thead>\n",
       "  <tbody>\n",
       "    <tr>\n",
       "      <th>0</th>\n",
       "      <td>957919</td>\n",
       "      <td>0.529255</td>\n",
       "    </tr>\n",
       "    <tr>\n",
       "      <th>1</th>\n",
       "      <td>957920</td>\n",
       "      <td>0.129242</td>\n",
       "    </tr>\n",
       "    <tr>\n",
       "      <th>2</th>\n",
       "      <td>957921</td>\n",
       "      <td>0.589933</td>\n",
       "    </tr>\n",
       "    <tr>\n",
       "      <th>3</th>\n",
       "      <td>957922</td>\n",
       "      <td>0.129878</td>\n",
       "    </tr>\n",
       "    <tr>\n",
       "      <th>4</th>\n",
       "      <td>957923</td>\n",
       "      <td>0.134740</td>\n",
       "    </tr>\n",
       "    <tr>\n",
       "      <th>...</th>\n",
       "      <td>...</td>\n",
       "      <td>...</td>\n",
       "    </tr>\n",
       "    <tr>\n",
       "      <th>493469</th>\n",
       "      <td>1451388</td>\n",
       "      <td>0.734558</td>\n",
       "    </tr>\n",
       "    <tr>\n",
       "      <th>493470</th>\n",
       "      <td>1451389</td>\n",
       "      <td>0.127152</td>\n",
       "    </tr>\n",
       "    <tr>\n",
       "      <th>493471</th>\n",
       "      <td>1451390</td>\n",
       "      <td>0.687329</td>\n",
       "    </tr>\n",
       "    <tr>\n",
       "      <th>493472</th>\n",
       "      <td>1451391</td>\n",
       "      <td>0.130011</td>\n",
       "    </tr>\n",
       "    <tr>\n",
       "      <th>493473</th>\n",
       "      <td>1451392</td>\n",
       "      <td>0.673804</td>\n",
       "    </tr>\n",
       "  </tbody>\n",
       "</table>\n",
       "<p>493474 rows × 2 columns</p>\n",
       "</div>"
      ],
      "text/plain": [
       "             id     claim\n",
       "0        957919  0.529255\n",
       "1        957920  0.129242\n",
       "2        957921  0.589933\n",
       "3        957922  0.129878\n",
       "4        957923  0.134740\n",
       "...         ...       ...\n",
       "493469  1451388  0.734558\n",
       "493470  1451389  0.127152\n",
       "493471  1451390  0.687329\n",
       "493472  1451391  0.130011\n",
       "493473  1451392  0.673804\n",
       "\n",
       "[493474 rows x 2 columns]"
      ]
     },
     "execution_count": 17,
     "metadata": {},
     "output_type": "execute_result"
    }
   ],
   "source": [
    "submission[target] = ridge_pred\n",
    "submission.to_csv(\"submission.csv\", index=False)\n",
    "\n",
    "submission"
   ]
  },
  {
   "cell_type": "markdown",
   "id": "7ef6c25a",
   "metadata": {
    "papermill": {
     "duration": 0.024654,
     "end_time": "2021-10-01T00:01:53.761014",
     "exception": false,
     "start_time": "2021-10-01T00:01:53.736360",
     "status": "completed"
    },
    "tags": []
   },
   "source": [
    "# Log\n",
    "\n",
    "/////// 8 trees + ridge /////////\n",
    "ver1\n",
    "\n",
    "/////// 8 trees + ridge + nn /////////\n",
    "ver2\n",
    "\n",
    "\n",
    "/// re-input lv2 ridge nn ///\n",
    "ver3\n",
    "\n",
    "/// re-input2 lv2 ridge nn ///\n",
    "ver4"
   ]
  }
 ],
 "metadata": {
  "kernelspec": {
   "display_name": "Python 3",
   "language": "python",
   "name": "python3"
  },
  "language_info": {
   "codemirror_mode": {
    "name": "ipython",
    "version": 3
   },
   "file_extension": ".py",
   "mimetype": "text/x-python",
   "name": "python",
   "nbconvert_exporter": "python",
   "pygments_lexer": "ipython3",
   "version": "3.7.10"
  },
  "papermill": {
   "default_parameters": {},
   "duration": 197.799051,
   "end_time": "2021-10-01T00:01:54.596305",
   "environment_variables": {},
   "exception": null,
   "input_path": "__notebook__.ipynb",
   "output_path": "__notebook__.ipynb",
   "parameters": {},
   "start_time": "2021-09-30T23:58:36.797254",
   "version": "2.3.3"
  }
 },
 "nbformat": 4,
 "nbformat_minor": 5
}
