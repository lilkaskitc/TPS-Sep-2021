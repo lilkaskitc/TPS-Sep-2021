{
 "cells": [
  {
   "cell_type": "code",
   "execution_count": 1,
   "id": "06290eb5",
   "metadata": {
    "execution": {
     "iopub.execute_input": "2021-09-19T02:48:06.497897Z",
     "iopub.status.busy": "2021-09-19T02:48:06.497085Z",
     "iopub.status.idle": "2021-09-19T02:48:07.552724Z",
     "shell.execute_reply": "2021-09-19T02:48:07.551816Z",
     "shell.execute_reply.started": "2021-09-17T00:23:07.028665Z"
    },
    "papermill": {
     "duration": 1.076109,
     "end_time": "2021-09-19T02:48:07.552927",
     "exception": false,
     "start_time": "2021-09-19T02:48:06.476818",
     "status": "completed"
    },
    "tags": []
   },
   "outputs": [],
   "source": [
    "import numpy as np\n",
    "import pandas as pd\n",
    "from pathlib import Path\n",
    "from sklearn.metrics import roc_auc_score\n"
   ]
  },
  {
   "cell_type": "code",
   "execution_count": 2,
   "id": "22427a67",
   "metadata": {
    "execution": {
     "iopub.execute_input": "2021-09-19T02:48:07.576140Z",
     "iopub.status.busy": "2021-09-19T02:48:07.575181Z",
     "iopub.status.idle": "2021-09-19T02:48:58.474990Z",
     "shell.execute_reply": "2021-09-19T02:48:58.474084Z",
     "shell.execute_reply.started": "2021-09-17T00:23:08.229452Z"
    },
    "papermill": {
     "duration": 50.91387,
     "end_time": "2021-09-19T02:48:58.475195",
     "exception": false,
     "start_time": "2021-09-19T02:48:07.561325",
     "status": "completed"
    },
    "tags": []
   },
   "outputs": [],
   "source": [
    "INPUT = Path(\"../input/tabular-playground-series-sep-2021\")\n",
    "\n",
    "train = pd.read_csv(INPUT / \"train.csv\")\n",
    "test = pd.read_csv(INPUT / \"test.csv\")\n",
    "submission = pd.read_csv(INPUT / \"sample_solution.csv\")"
   ]
  },
  {
   "cell_type": "markdown",
   "id": "f6f46a9e",
   "metadata": {
    "papermill": {
     "duration": 0.007547,
     "end_time": "2021-09-19T02:48:58.490994",
     "exception": false,
     "start_time": "2021-09-19T02:48:58.483447",
     "status": "completed"
    },
    "tags": []
   },
   "source": [
    "seeds \n",
    "\n",
    "2017 ver8 \n",
    "\n",
    "2018 ver9 \n",
    "\n",
    "2019 ver10 \n",
    "\n",
    "2020 ver11 \n",
    "\n",
    "2021 ver12 \n",
    "\n",
    "2022 ver13 \n",
    "\n",
    "2023 ver14 \n",
    "\n",
    "2024 ver15 \n",
    "\n",
    "2025 ver16 \n",
    "\n",
    "2026 ver17"
   ]
  },
  {
   "cell_type": "code",
   "execution_count": 3,
   "id": "3485ef8a",
   "metadata": {
    "execution": {
     "iopub.execute_input": "2021-09-19T02:48:58.512067Z",
     "iopub.status.busy": "2021-09-19T02:48:58.511342Z",
     "iopub.status.idle": "2021-09-19T02:48:58.516748Z",
     "shell.execute_reply": "2021-09-19T02:48:58.516115Z",
     "shell.execute_reply.started": "2021-09-17T00:23:58.723286Z"
    },
    "papermill": {
     "duration": 0.018142,
     "end_time": "2021-09-19T02:48:58.516905",
     "exception": false,
     "start_time": "2021-09-19T02:48:58.498763",
     "status": "completed"
    },
    "tags": []
   },
   "outputs": [],
   "source": [
    "oof = np.zeros(train.shape[0])\n",
    "pred = np.zeros(test.shape[0])\n",
    "\n",
    "target = 'claim'\n",
    "#numseed = [1]+[2]*6+[1]*7\n",
    "numseed=10"
   ]
  },
  {
   "cell_type": "code",
   "execution_count": 4,
   "id": "54a8dff1",
   "metadata": {
    "execution": {
     "iopub.execute_input": "2021-09-19T02:48:58.535444Z",
     "iopub.status.busy": "2021-09-19T02:48:58.534679Z",
     "iopub.status.idle": "2021-09-19T02:49:00.267675Z",
     "shell.execute_reply": "2021-09-19T02:49:00.267070Z",
     "shell.execute_reply.started": "2021-09-17T00:23:58.733272Z"
    },
    "papermill": {
     "duration": 1.743272,
     "end_time": "2021-09-19T02:49:00.267847",
     "exception": false,
     "start_time": "2021-09-19T02:48:58.524575",
     "status": "completed"
    },
    "tags": []
   },
   "outputs": [
    {
     "name": "stdout",
     "output_type": "stream",
     "text": [
      "8\n",
      "9\n",
      "10\n",
      "11\n",
      "12\n",
      "13\n",
      "14\n",
      "15\n",
      "16\n",
      "17\n"
     ]
    }
   ],
   "source": [
    "for i in range(8, 18):\n",
    "        print(i)\n",
    "        \n",
    "        oof += np.load(\"../input/tps-sep-lgb2-pred/\" +str(i)+ \"lgb_oof.npy\")\n",
    "        pred += np.load(\"../input/tps-sep-lgb2-pred/\" +str(i)+ \"lgb_pred.npy\")"
   ]
  },
  {
   "cell_type": "code",
   "execution_count": 5,
   "id": "54ba6a3e",
   "metadata": {
    "execution": {
     "iopub.execute_input": "2021-09-19T02:49:00.292888Z",
     "iopub.status.busy": "2021-09-19T02:49:00.292065Z",
     "iopub.status.idle": "2021-09-19T02:49:00.747857Z",
     "shell.execute_reply": "2021-09-19T02:49:00.747183Z",
     "shell.execute_reply.started": "2021-09-17T00:24:55.704916Z"
    },
    "papermill": {
     "duration": 0.469874,
     "end_time": "2021-09-19T02:49:00.747995",
     "exception": false,
     "start_time": "2021-09-19T02:49:00.278121",
     "status": "completed"
    },
    "tags": []
   },
   "outputs": [
    {
     "name": "stdout",
     "output_type": "stream",
     "text": [
      "oof auc = 0.8164209977557934\n"
     ]
    }
   ],
   "source": [
    "oof /= numseed\n",
    "pred /= numseed\n",
    "\n",
    "print(f\"oof auc = {roc_auc_score(train[target], oof)}\")"
   ]
  },
  {
   "cell_type": "code",
   "execution_count": 6,
   "id": "2da342ef",
   "metadata": {
    "execution": {
     "iopub.execute_input": "2021-09-19T02:49:00.772916Z",
     "iopub.status.busy": "2021-09-19T02:49:00.772092Z",
     "iopub.status.idle": "2021-09-19T02:49:00.787577Z",
     "shell.execute_reply": "2021-09-19T02:49:00.786964Z",
     "shell.execute_reply.started": "2021-09-17T00:24:56.224215Z"
    },
    "papermill": {
     "duration": 0.030086,
     "end_time": "2021-09-19T02:49:00.787718",
     "exception": false,
     "start_time": "2021-09-19T02:49:00.757632",
     "status": "completed"
    },
    "tags": []
   },
   "outputs": [],
   "source": [
    "np.save(\"agg_lgb2_oof.npy\", oof)\n",
    "np.save(\"agg_lgb2_pred.npy\", pred)"
   ]
  },
  {
   "cell_type": "code",
   "execution_count": 7,
   "id": "10e67db5",
   "metadata": {
    "execution": {
     "iopub.execute_input": "2021-09-19T02:49:00.811998Z",
     "iopub.status.busy": "2021-09-19T02:49:00.811254Z",
     "iopub.status.idle": "2021-09-19T02:49:02.694211Z",
     "shell.execute_reply": "2021-09-19T02:49:02.693627Z",
     "shell.execute_reply.started": "2021-09-17T00:24:56.246087Z"
    },
    "papermill": {
     "duration": 1.896876,
     "end_time": "2021-09-19T02:49:02.694347",
     "exception": false,
     "start_time": "2021-09-19T02:49:00.797471",
     "status": "completed"
    },
    "tags": []
   },
   "outputs": [
    {
     "data": {
      "text/html": [
       "<div>\n",
       "<style scoped>\n",
       "    .dataframe tbody tr th:only-of-type {\n",
       "        vertical-align: middle;\n",
       "    }\n",
       "\n",
       "    .dataframe tbody tr th {\n",
       "        vertical-align: top;\n",
       "    }\n",
       "\n",
       "    .dataframe thead th {\n",
       "        text-align: right;\n",
       "    }\n",
       "</style>\n",
       "<table border=\"1\" class=\"dataframe\">\n",
       "  <thead>\n",
       "    <tr style=\"text-align: right;\">\n",
       "      <th></th>\n",
       "      <th>id</th>\n",
       "      <th>claim</th>\n",
       "    </tr>\n",
       "  </thead>\n",
       "  <tbody>\n",
       "    <tr>\n",
       "      <th>0</th>\n",
       "      <td>957919</td>\n",
       "      <td>0.578699</td>\n",
       "    </tr>\n",
       "    <tr>\n",
       "      <th>1</th>\n",
       "      <td>957920</td>\n",
       "      <td>0.120648</td>\n",
       "    </tr>\n",
       "    <tr>\n",
       "      <th>2</th>\n",
       "      <td>957921</td>\n",
       "      <td>0.628457</td>\n",
       "    </tr>\n",
       "    <tr>\n",
       "      <th>3</th>\n",
       "      <td>957922</td>\n",
       "      <td>0.125785</td>\n",
       "    </tr>\n",
       "    <tr>\n",
       "      <th>4</th>\n",
       "      <td>957923</td>\n",
       "      <td>0.150161</td>\n",
       "    </tr>\n",
       "    <tr>\n",
       "      <th>...</th>\n",
       "      <td>...</td>\n",
       "      <td>...</td>\n",
       "    </tr>\n",
       "    <tr>\n",
       "      <th>493469</th>\n",
       "      <td>1451388</td>\n",
       "      <td>0.829336</td>\n",
       "    </tr>\n",
       "    <tr>\n",
       "      <th>493470</th>\n",
       "      <td>1451389</td>\n",
       "      <td>0.116351</td>\n",
       "    </tr>\n",
       "    <tr>\n",
       "      <th>493471</th>\n",
       "      <td>1451390</td>\n",
       "      <td>0.760704</td>\n",
       "    </tr>\n",
       "    <tr>\n",
       "      <th>493472</th>\n",
       "      <td>1451391</td>\n",
       "      <td>0.132275</td>\n",
       "    </tr>\n",
       "    <tr>\n",
       "      <th>493473</th>\n",
       "      <td>1451392</td>\n",
       "      <td>0.748962</td>\n",
       "    </tr>\n",
       "  </tbody>\n",
       "</table>\n",
       "<p>493474 rows × 2 columns</p>\n",
       "</div>"
      ],
      "text/plain": [
       "             id     claim\n",
       "0        957919  0.578699\n",
       "1        957920  0.120648\n",
       "2        957921  0.628457\n",
       "3        957922  0.125785\n",
       "4        957923  0.150161\n",
       "...         ...       ...\n",
       "493469  1451388  0.829336\n",
       "493470  1451389  0.116351\n",
       "493471  1451390  0.760704\n",
       "493472  1451391  0.132275\n",
       "493473  1451392  0.748962\n",
       "\n",
       "[493474 rows x 2 columns]"
      ]
     },
     "execution_count": 7,
     "metadata": {},
     "output_type": "execute_result"
    }
   ],
   "source": [
    "submission[target] = pred\n",
    "submission.to_csv(\"submission.csv\", index=False)\n",
    "\n",
    "submission"
   ]
  }
 ],
 "metadata": {
  "kernelspec": {
   "display_name": "Python 3",
   "language": "python",
   "name": "python3"
  },
  "language_info": {
   "codemirror_mode": {
    "name": "ipython",
    "version": 3
   },
   "file_extension": ".py",
   "mimetype": "text/x-python",
   "name": "python",
   "nbconvert_exporter": "python",
   "pygments_lexer": "ipython3",
   "version": "3.7.10"
  },
  "papermill": {
   "default_parameters": {},
   "duration": 65.529098,
   "end_time": "2021-09-19T02:49:03.515300",
   "environment_variables": {},
   "exception": null,
   "input_path": "__notebook__.ipynb",
   "output_path": "__notebook__.ipynb",
   "parameters": {},
   "start_time": "2021-09-19T02:47:57.986202",
   "version": "2.3.3"
  }
 },
 "nbformat": 4,
 "nbformat_minor": 5
}
