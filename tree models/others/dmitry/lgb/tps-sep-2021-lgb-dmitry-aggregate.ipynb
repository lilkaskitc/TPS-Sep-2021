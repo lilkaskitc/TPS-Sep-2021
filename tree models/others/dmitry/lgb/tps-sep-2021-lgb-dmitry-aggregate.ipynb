{
 "cells": [
  {
   "cell_type": "code",
   "execution_count": 1,
   "id": "e1746db4",
   "metadata": {
    "execution": {
     "iopub.execute_input": "2021-09-15T14:39:35.373555Z",
     "iopub.status.busy": "2021-09-15T14:39:35.372888Z",
     "iopub.status.idle": "2021-09-15T14:39:36.483841Z",
     "shell.execute_reply": "2021-09-15T14:39:36.482989Z",
     "shell.execute_reply.started": "2021-09-15T14:37:20.438276Z"
    },
    "papermill": {
     "duration": 1.130469,
     "end_time": "2021-09-15T14:39:36.484011",
     "exception": false,
     "start_time": "2021-09-15T14:39:35.353542",
     "status": "completed"
    },
    "tags": []
   },
   "outputs": [],
   "source": [
    "import numpy as np\n",
    "import pandas as pd\n",
    "from pathlib import Path\n",
    "from sklearn.metrics import roc_auc_score\n"
   ]
  },
  {
   "cell_type": "code",
   "execution_count": 2,
   "id": "066c8df9",
   "metadata": {
    "execution": {
     "iopub.execute_input": "2021-09-15T14:39:36.505886Z",
     "iopub.status.busy": "2021-09-15T14:39:36.505089Z",
     "iopub.status.idle": "2021-09-15T14:40:23.803528Z",
     "shell.execute_reply": "2021-09-15T14:40:23.802819Z",
     "shell.execute_reply.started": "2021-09-15T14:37:21.509527Z"
    },
    "papermill": {
     "duration": 47.311359,
     "end_time": "2021-09-15T14:40:23.803670",
     "exception": false,
     "start_time": "2021-09-15T14:39:36.492311",
     "status": "completed"
    },
    "tags": []
   },
   "outputs": [],
   "source": [
    "INPUT = Path(\"../input/tabular-playground-series-sep-2021\")\n",
    "\n",
    "train = pd.read_csv(INPUT / \"train.csv\")\n",
    "test = pd.read_csv(INPUT / \"test.csv\")\n",
    "submission = pd.read_csv(INPUT / \"sample_solution.csv\")"
   ]
  },
  {
   "cell_type": "markdown",
   "id": "86117b51",
   "metadata": {
    "papermill": {
     "duration": 0.007022,
     "end_time": "2021-09-15T14:40:23.818330",
     "exception": false,
     "start_time": "2021-09-15T14:40:23.811308",
     "status": "completed"
    },
    "tags": []
   },
   "source": [
    "seeds \n",
    "\n",
    "ver2 median seed 2017 \n",
    "\n",
    "2018-2019 ver3 \n",
    "\n",
    "2020-2021 ver4 \n",
    "\n",
    "2022-2023 ver5 \n",
    "\n",
    "2024-2025 ver6 \n",
    "\n",
    "2026-2027 ver7 \n",
    "\n",
    "2028-2029 ver8 \n",
    "\n",
    "2030 ver10 \n",
    "\n",
    "2031 ver11 \n",
    "\n",
    "2032 ver13 \n",
    "\n",
    "2033 ver14 \n",
    "\n",
    "2034 ver15 \n",
    "\n",
    "2035 ver16 \n",
    "\n",
    "2036 ver17"
   ]
  },
  {
   "cell_type": "code",
   "execution_count": 3,
   "id": "7d471417",
   "metadata": {
    "execution": {
     "iopub.execute_input": "2021-09-15T14:40:23.839040Z",
     "iopub.status.busy": "2021-09-15T14:40:23.838322Z",
     "iopub.status.idle": "2021-09-15T14:40:23.843007Z",
     "shell.execute_reply": "2021-09-15T14:40:23.842302Z",
     "shell.execute_reply.started": "2021-09-15T14:38:03.426879Z"
    },
    "papermill": {
     "duration": 0.017298,
     "end_time": "2021-09-15T14:40:23.843146",
     "exception": false,
     "start_time": "2021-09-15T14:40:23.825848",
     "status": "completed"
    },
    "tags": []
   },
   "outputs": [],
   "source": [
    "oof = np.zeros(train.shape[0])\n",
    "pred = np.zeros(test.shape[0])\n",
    "\n",
    "target = 'claim'\n",
    "numseed = [1]+[2]*6+[1]*7"
   ]
  },
  {
   "cell_type": "code",
   "execution_count": 4,
   "id": "2cc311a5",
   "metadata": {
    "execution": {
     "iopub.execute_input": "2021-09-15T14:40:23.864991Z",
     "iopub.status.busy": "2021-09-15T14:40:23.864263Z",
     "iopub.status.idle": "2021-09-15T14:40:26.049291Z",
     "shell.execute_reply": "2021-09-15T14:40:26.049776Z",
     "shell.execute_reply.started": "2021-09-15T14:38:03.434344Z"
    },
    "papermill": {
     "duration": 2.199173,
     "end_time": "2021-09-15T14:40:26.049951",
     "exception": false,
     "start_time": "2021-09-15T14:40:23.850778",
     "status": "completed"
    },
    "tags": []
   },
   "outputs": [
    {
     "name": "stdout",
     "output_type": "stream",
     "text": [
      "2\n",
      "3\n",
      "4\n",
      "5\n",
      "6\n",
      "7\n",
      "8\n",
      "10\n",
      "11\n",
      "13\n",
      "14\n",
      "15\n",
      "16\n",
      "17\n"
     ]
    }
   ],
   "source": [
    "for i in range(2, 18):\n",
    "    if i not in [9,12]:\n",
    "        print(i)\n",
    "        \n",
    "        if i<9: j=i-2\n",
    "        elif i in [10,11]: j=i-3\n",
    "        else: j=i-4\n",
    "        \n",
    "        oof += np.load(\"../input/tps-sep-lgb-dmitry/\" +str(i)+ \"lgb_oof.npy\")*numseed[j]\n",
    "        pred += np.load(\"../input/tps-sep-lgb-dmitry/\" +str(i)+ \"lgb_pred.npy\")*numseed[j]"
   ]
  },
  {
   "cell_type": "code",
   "execution_count": 5,
   "id": "70cdc4b0",
   "metadata": {
    "execution": {
     "iopub.execute_input": "2021-09-15T14:40:26.075266Z",
     "iopub.status.busy": "2021-09-15T14:40:26.074631Z",
     "iopub.status.idle": "2021-09-15T14:40:26.522766Z",
     "shell.execute_reply": "2021-09-15T14:40:26.523352Z",
     "shell.execute_reply.started": "2021-09-15T14:38:05.017891Z"
    },
    "papermill": {
     "duration": 0.463141,
     "end_time": "2021-09-15T14:40:26.523537",
     "exception": false,
     "start_time": "2021-09-15T14:40:26.060396",
     "status": "completed"
    },
    "tags": []
   },
   "outputs": [
    {
     "name": "stdout",
     "output_type": "stream",
     "text": [
      "oof auc = 0.8165308376784263\n"
     ]
    }
   ],
   "source": [
    "oof /= sum(numseed)\n",
    "pred /= sum(numseed)\n",
    "\n",
    "print(f\"oof auc = {roc_auc_score(train[target], oof)}\")"
   ]
  },
  {
   "cell_type": "code",
   "execution_count": 6,
   "id": "5edb6d28",
   "metadata": {
    "execution": {
     "iopub.execute_input": "2021-09-15T14:40:26.549528Z",
     "iopub.status.busy": "2021-09-15T14:40:26.548827Z",
     "iopub.status.idle": "2021-09-15T14:40:26.565015Z",
     "shell.execute_reply": "2021-09-15T14:40:26.564401Z",
     "shell.execute_reply.started": "2021-09-15T14:38:05.477183Z"
    },
    "papermill": {
     "duration": 0.031127,
     "end_time": "2021-09-15T14:40:26.565171",
     "exception": false,
     "start_time": "2021-09-15T14:40:26.534044",
     "status": "completed"
    },
    "tags": []
   },
   "outputs": [],
   "source": [
    "np.save(\"lgb_dmitry_oof.npy\", oof)\n",
    "np.save(\"lgb_dmitry_pred.npy\", pred)"
   ]
  },
  {
   "cell_type": "code",
   "execution_count": 7,
   "id": "afb0f598",
   "metadata": {
    "execution": {
     "iopub.execute_input": "2021-09-15T14:40:26.591565Z",
     "iopub.status.busy": "2021-09-15T14:40:26.590770Z",
     "iopub.status.idle": "2021-09-15T14:40:28.458611Z",
     "shell.execute_reply": "2021-09-15T14:40:28.459120Z",
     "shell.execute_reply.started": "2021-09-15T14:38:05.497195Z"
    },
    "papermill": {
     "duration": 1.883202,
     "end_time": "2021-09-15T14:40:28.459286",
     "exception": false,
     "start_time": "2021-09-15T14:40:26.576084",
     "status": "completed"
    },
    "tags": []
   },
   "outputs": [
    {
     "data": {
      "text/html": [
       "<div>\n",
       "<style scoped>\n",
       "    .dataframe tbody tr th:only-of-type {\n",
       "        vertical-align: middle;\n",
       "    }\n",
       "\n",
       "    .dataframe tbody tr th {\n",
       "        vertical-align: top;\n",
       "    }\n",
       "\n",
       "    .dataframe thead th {\n",
       "        text-align: right;\n",
       "    }\n",
       "</style>\n",
       "<table border=\"1\" class=\"dataframe\">\n",
       "  <thead>\n",
       "    <tr style=\"text-align: right;\">\n",
       "      <th></th>\n",
       "      <th>id</th>\n",
       "      <th>claim</th>\n",
       "    </tr>\n",
       "  </thead>\n",
       "  <tbody>\n",
       "    <tr>\n",
       "      <th>0</th>\n",
       "      <td>957919</td>\n",
       "      <td>0.566536</td>\n",
       "    </tr>\n",
       "    <tr>\n",
       "      <th>1</th>\n",
       "      <td>957920</td>\n",
       "      <td>0.126946</td>\n",
       "    </tr>\n",
       "    <tr>\n",
       "      <th>2</th>\n",
       "      <td>957921</td>\n",
       "      <td>0.627686</td>\n",
       "    </tr>\n",
       "    <tr>\n",
       "      <th>3</th>\n",
       "      <td>957922</td>\n",
       "      <td>0.122506</td>\n",
       "    </tr>\n",
       "    <tr>\n",
       "      <th>4</th>\n",
       "      <td>957923</td>\n",
       "      <td>0.146343</td>\n",
       "    </tr>\n",
       "    <tr>\n",
       "      <th>...</th>\n",
       "      <td>...</td>\n",
       "      <td>...</td>\n",
       "    </tr>\n",
       "    <tr>\n",
       "      <th>493469</th>\n",
       "      <td>1451388</td>\n",
       "      <td>0.825696</td>\n",
       "    </tr>\n",
       "    <tr>\n",
       "      <th>493470</th>\n",
       "      <td>1451389</td>\n",
       "      <td>0.112238</td>\n",
       "    </tr>\n",
       "    <tr>\n",
       "      <th>493471</th>\n",
       "      <td>1451390</td>\n",
       "      <td>0.764026</td>\n",
       "    </tr>\n",
       "    <tr>\n",
       "      <th>493472</th>\n",
       "      <td>1451391</td>\n",
       "      <td>0.135123</td>\n",
       "    </tr>\n",
       "    <tr>\n",
       "      <th>493473</th>\n",
       "      <td>1451392</td>\n",
       "      <td>0.744380</td>\n",
       "    </tr>\n",
       "  </tbody>\n",
       "</table>\n",
       "<p>493474 rows × 2 columns</p>\n",
       "</div>"
      ],
      "text/plain": [
       "             id     claim\n",
       "0        957919  0.566536\n",
       "1        957920  0.126946\n",
       "2        957921  0.627686\n",
       "3        957922  0.122506\n",
       "4        957923  0.146343\n",
       "...         ...       ...\n",
       "493469  1451388  0.825696\n",
       "493470  1451389  0.112238\n",
       "493471  1451390  0.764026\n",
       "493472  1451391  0.135123\n",
       "493473  1451392  0.744380\n",
       "\n",
       "[493474 rows x 2 columns]"
      ]
     },
     "execution_count": 7,
     "metadata": {},
     "output_type": "execute_result"
    }
   ],
   "source": [
    "submission[target] = pred\n",
    "submission.to_csv(\"submission.csv\", index=False)\n",
    "\n",
    "submission"
   ]
  }
 ],
 "metadata": {
  "kernelspec": {
   "display_name": "Python 3",
   "language": "python",
   "name": "python3"
  },
  "language_info": {
   "codemirror_mode": {
    "name": "ipython",
    "version": 3
   },
   "file_extension": ".py",
   "mimetype": "text/x-python",
   "name": "python",
   "nbconvert_exporter": "python",
   "pygments_lexer": "ipython3",
   "version": "3.7.10"
  },
  "papermill": {
   "default_parameters": {},
   "duration": 62.834678,
   "end_time": "2021-09-15T14:40:29.788807",
   "environment_variables": {},
   "exception": null,
   "input_path": "__notebook__.ipynb",
   "output_path": "__notebook__.ipynb",
   "parameters": {},
   "start_time": "2021-09-15T14:39:26.954129",
   "version": "2.3.3"
  }
 },
 "nbformat": 4,
 "nbformat_minor": 5
}
