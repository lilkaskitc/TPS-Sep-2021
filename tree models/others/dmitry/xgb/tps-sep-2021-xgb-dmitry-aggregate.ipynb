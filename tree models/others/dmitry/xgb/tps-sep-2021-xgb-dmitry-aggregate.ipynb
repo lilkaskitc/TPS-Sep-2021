{
 "cells": [
  {
   "cell_type": "code",
   "execution_count": 1,
   "id": "bf17571c",
   "metadata": {
    "execution": {
     "iopub.execute_input": "2021-09-14T14:26:01.247905Z",
     "iopub.status.busy": "2021-09-14T14:26:01.247185Z",
     "iopub.status.idle": "2021-09-14T14:26:02.190910Z",
     "shell.execute_reply": "2021-09-14T14:26:02.191428Z",
     "shell.execute_reply.started": "2021-09-08T15:02:19.543574Z"
    },
    "papermill": {
     "duration": 0.963845,
     "end_time": "2021-09-14T14:26:02.191760",
     "exception": false,
     "start_time": "2021-09-14T14:26:01.227915",
     "status": "completed"
    },
    "tags": []
   },
   "outputs": [],
   "source": [
    "import numpy as np\n",
    "import pandas as pd\n",
    "from pathlib import Path\n",
    "from sklearn.metrics import roc_auc_score\n"
   ]
  },
  {
   "cell_type": "code",
   "execution_count": 2,
   "id": "8ce3ff5c",
   "metadata": {
    "execution": {
     "iopub.execute_input": "2021-09-14T14:26:02.212415Z",
     "iopub.status.busy": "2021-09-14T14:26:02.211773Z",
     "iopub.status.idle": "2021-09-14T14:26:46.415669Z",
     "shell.execute_reply": "2021-09-14T14:26:46.414484Z",
     "shell.execute_reply.started": "2021-09-08T15:02:19.551442Z"
    },
    "papermill": {
     "duration": 44.21618,
     "end_time": "2021-09-14T14:26:46.415855",
     "exception": false,
     "start_time": "2021-09-14T14:26:02.199675",
     "status": "completed"
    },
    "tags": []
   },
   "outputs": [],
   "source": [
    "INPUT = Path(\"../input/tabular-playground-series-sep-2021\")\n",
    "\n",
    "train = pd.read_csv(INPUT / \"train.csv\")\n",
    "test = pd.read_csv(INPUT / \"test.csv\")\n",
    "submission = pd.read_csv(INPUT / \"sample_solution.csv\")"
   ]
  },
  {
   "cell_type": "markdown",
   "id": "e9be4758",
   "metadata": {
    "papermill": {
     "duration": 0.006956,
     "end_time": "2021-09-14T14:26:46.430559",
     "exception": false,
     "start_time": "2021-09-14T14:26:46.423603",
     "status": "completed"
    },
    "tags": []
   },
   "source": [
    "seeds \n",
    "\n",
    "2017 ver2 mean \n",
    "\n",
    "2018 ver4 \n",
    "\n",
    "2019 ver5 \n",
    "\n",
    "2020 ver6 \n",
    "\n",
    "2021 ver7 \n",
    "\n",
    "2022 ver8 \n",
    "\n",
    "2023 ver9 \n",
    "\n",
    "2024 ver10 \n",
    "\n",
    "2025 ver11 \n",
    "\n",
    "2026 ver12"
   ]
  },
  {
   "cell_type": "code",
   "execution_count": 3,
   "id": "96ae9b8b",
   "metadata": {
    "execution": {
     "iopub.execute_input": "2021-09-14T14:26:46.449688Z",
     "iopub.status.busy": "2021-09-14T14:26:46.449064Z",
     "iopub.status.idle": "2021-09-14T14:26:46.453257Z",
     "shell.execute_reply": "2021-09-14T14:26:46.453682Z",
     "shell.execute_reply.started": "2021-09-08T15:03:31.214579Z"
    },
    "papermill": {
     "duration": 0.016089,
     "end_time": "2021-09-14T14:26:46.453836",
     "exception": false,
     "start_time": "2021-09-14T14:26:46.437747",
     "status": "completed"
    },
    "tags": []
   },
   "outputs": [],
   "source": [
    "oof = np.zeros(train.shape[0])\n",
    "pred = np.zeros(test.shape[0])\n",
    "\n",
    "target = 'claim'\n",
    "#numseed = [1,5,4,5,2,3]\n",
    "numseed = 10"
   ]
  },
  {
   "cell_type": "code",
   "execution_count": 4,
   "id": "df1858b1",
   "metadata": {
    "execution": {
     "iopub.execute_input": "2021-09-14T14:26:46.472684Z",
     "iopub.status.busy": "2021-09-14T14:26:46.471976Z",
     "iopub.status.idle": "2021-09-14T14:26:47.862412Z",
     "shell.execute_reply": "2021-09-14T14:26:47.861848Z",
     "shell.execute_reply.started": "2021-09-08T15:02:53.907598Z"
    },
    "papermill": {
     "duration": 1.401726,
     "end_time": "2021-09-14T14:26:47.862569",
     "exception": false,
     "start_time": "2021-09-14T14:26:46.460843",
     "status": "completed"
    },
    "tags": []
   },
   "outputs": [
    {
     "name": "stdout",
     "output_type": "stream",
     "text": [
      "2\n",
      "4\n",
      "5\n",
      "6\n",
      "7\n",
      "8\n",
      "9\n",
      "10\n",
      "11\n",
      "12\n"
     ]
    }
   ],
   "source": [
    "for i in range(2, 13):\n",
    "    if i != 3:\n",
    "        print(i)\n",
    "        oof += np.load(\"../input/tps-sep-xgb-dmitry-pred/\" +str(i)+ \"xgb_oof.npy\")\n",
    "        pred += np.load(\"../input/tps-sep-xgb-dmitry-pred/\" +str(i)+ \"xgb_pred.npy\")"
   ]
  },
  {
   "cell_type": "code",
   "execution_count": 5,
   "id": "98e22123",
   "metadata": {
    "execution": {
     "iopub.execute_input": "2021-09-14T14:26:47.885077Z",
     "iopub.status.busy": "2021-09-14T14:26:47.884272Z",
     "iopub.status.idle": "2021-09-14T14:26:48.318449Z",
     "shell.execute_reply": "2021-09-14T14:26:48.319014Z",
     "shell.execute_reply.started": "2021-09-08T15:02:53.983206Z"
    },
    "papermill": {
     "duration": 0.447515,
     "end_time": "2021-09-14T14:26:48.319181",
     "exception": false,
     "start_time": "2021-09-14T14:26:47.871666",
     "status": "completed"
    },
    "tags": []
   },
   "outputs": [
    {
     "name": "stdout",
     "output_type": "stream",
     "text": [
      "oof auc = 0.8161729272819097\n"
     ]
    }
   ],
   "source": [
    "oof /= numseed\n",
    "pred /= numseed\n",
    "\n",
    "print(f\"oof auc = {roc_auc_score(train[target], oof)}\")"
   ]
  },
  {
   "cell_type": "code",
   "execution_count": 6,
   "id": "f5f596b6",
   "metadata": {
    "execution": {
     "iopub.execute_input": "2021-09-14T14:26:48.342547Z",
     "iopub.status.busy": "2021-09-14T14:26:48.341892Z",
     "iopub.status.idle": "2021-09-14T14:26:48.357261Z",
     "shell.execute_reply": "2021-09-14T14:26:48.356690Z",
     "shell.execute_reply.started": "2021-09-08T15:02:53.991055Z"
    },
    "papermill": {
     "duration": 0.028997,
     "end_time": "2021-09-14T14:26:48.357416",
     "exception": false,
     "start_time": "2021-09-14T14:26:48.328419",
     "status": "completed"
    },
    "tags": []
   },
   "outputs": [],
   "source": [
    "np.save(\"xgb_dmitry_oof.npy\", oof)\n",
    "np.save(\"xgb_dmitry_pred.npy\", pred)"
   ]
  },
  {
   "cell_type": "code",
   "execution_count": 7,
   "id": "5529e79e",
   "metadata": {
    "execution": {
     "iopub.execute_input": "2021-09-14T14:26:48.379851Z",
     "iopub.status.busy": "2021-09-14T14:26:48.379217Z",
     "iopub.status.idle": "2021-09-14T14:26:50.232318Z",
     "shell.execute_reply": "2021-09-14T14:26:50.232863Z",
     "shell.execute_reply.started": "2021-09-08T15:02:54.015789Z"
    },
    "papermill": {
     "duration": 1.86645,
     "end_time": "2021-09-14T14:26:50.233033",
     "exception": false,
     "start_time": "2021-09-14T14:26:48.366583",
     "status": "completed"
    },
    "tags": []
   },
   "outputs": [
    {
     "data": {
      "text/html": [
       "<div>\n",
       "<style scoped>\n",
       "    .dataframe tbody tr th:only-of-type {\n",
       "        vertical-align: middle;\n",
       "    }\n",
       "\n",
       "    .dataframe tbody tr th {\n",
       "        vertical-align: top;\n",
       "    }\n",
       "\n",
       "    .dataframe thead th {\n",
       "        text-align: right;\n",
       "    }\n",
       "</style>\n",
       "<table border=\"1\" class=\"dataframe\">\n",
       "  <thead>\n",
       "    <tr style=\"text-align: right;\">\n",
       "      <th></th>\n",
       "      <th>id</th>\n",
       "      <th>claim</th>\n",
       "    </tr>\n",
       "  </thead>\n",
       "  <tbody>\n",
       "    <tr>\n",
       "      <th>0</th>\n",
       "      <td>957919</td>\n",
       "      <td>0.575204</td>\n",
       "    </tr>\n",
       "    <tr>\n",
       "      <th>1</th>\n",
       "      <td>957920</td>\n",
       "      <td>0.126340</td>\n",
       "    </tr>\n",
       "    <tr>\n",
       "      <th>2</th>\n",
       "      <td>957921</td>\n",
       "      <td>0.635330</td>\n",
       "    </tr>\n",
       "    <tr>\n",
       "      <th>3</th>\n",
       "      <td>957922</td>\n",
       "      <td>0.123506</td>\n",
       "    </tr>\n",
       "    <tr>\n",
       "      <th>4</th>\n",
       "      <td>957923</td>\n",
       "      <td>0.143437</td>\n",
       "    </tr>\n",
       "    <tr>\n",
       "      <th>...</th>\n",
       "      <td>...</td>\n",
       "      <td>...</td>\n",
       "    </tr>\n",
       "    <tr>\n",
       "      <th>493469</th>\n",
       "      <td>1451388</td>\n",
       "      <td>0.827184</td>\n",
       "    </tr>\n",
       "    <tr>\n",
       "      <th>493470</th>\n",
       "      <td>1451389</td>\n",
       "      <td>0.115928</td>\n",
       "    </tr>\n",
       "    <tr>\n",
       "      <th>493471</th>\n",
       "      <td>1451390</td>\n",
       "      <td>0.754300</td>\n",
       "    </tr>\n",
       "    <tr>\n",
       "      <th>493472</th>\n",
       "      <td>1451391</td>\n",
       "      <td>0.132036</td>\n",
       "    </tr>\n",
       "    <tr>\n",
       "      <th>493473</th>\n",
       "      <td>1451392</td>\n",
       "      <td>0.747717</td>\n",
       "    </tr>\n",
       "  </tbody>\n",
       "</table>\n",
       "<p>493474 rows × 2 columns</p>\n",
       "</div>"
      ],
      "text/plain": [
       "             id     claim\n",
       "0        957919  0.575204\n",
       "1        957920  0.126340\n",
       "2        957921  0.635330\n",
       "3        957922  0.123506\n",
       "4        957923  0.143437\n",
       "...         ...       ...\n",
       "493469  1451388  0.827184\n",
       "493470  1451389  0.115928\n",
       "493471  1451390  0.754300\n",
       "493472  1451391  0.132036\n",
       "493473  1451392  0.747717\n",
       "\n",
       "[493474 rows x 2 columns]"
      ]
     },
     "execution_count": 7,
     "metadata": {},
     "output_type": "execute_result"
    }
   ],
   "source": [
    "submission[target] = pred\n",
    "submission.to_csv(\"submission.csv\", index=False)\n",
    "\n",
    "submission"
   ]
  }
 ],
 "metadata": {
  "kernelspec": {
   "display_name": "Python 3",
   "language": "python",
   "name": "python3"
  },
  "language_info": {
   "codemirror_mode": {
    "name": "ipython",
    "version": 3
   },
   "file_extension": ".py",
   "mimetype": "text/x-python",
   "name": "python",
   "nbconvert_exporter": "python",
   "pygments_lexer": "ipython3",
   "version": "3.7.10"
  },
  "papermill": {
   "default_parameters": {},
   "duration": 57.354956,
   "end_time": "2021-09-14T14:26:50.952452",
   "environment_variables": {},
   "exception": null,
   "input_path": "__notebook__.ipynb",
   "output_path": "__notebook__.ipynb",
   "parameters": {},
   "start_time": "2021-09-14T14:25:53.597496",
   "version": "2.3.3"
  }
 },
 "nbformat": 4,
 "nbformat_minor": 5
}
