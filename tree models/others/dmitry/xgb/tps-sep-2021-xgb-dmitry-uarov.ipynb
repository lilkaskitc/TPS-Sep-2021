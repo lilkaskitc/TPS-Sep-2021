{
 "cells": [
  {
   "cell_type": "code",
   "execution_count": 1,
   "id": "4c18d6b3",
   "metadata": {
    "_cell_guid": "b1076dfc-b9ad-4769-8c92-a6c4dae69d19",
    "_uuid": "8f2839f25d086af736a60e9eeb907d3b93b6e0e5",
    "execution": {
     "iopub.execute_input": "2021-09-14T07:04:13.459031Z",
     "iopub.status.busy": "2021-09-14T07:04:13.458308Z",
     "iopub.status.idle": "2021-09-14T07:04:14.757840Z",
     "shell.execute_reply": "2021-09-14T07:04:14.757024Z",
     "shell.execute_reply.started": "2021-09-09T09:01:09.31129Z"
    },
    "papermill": {
     "duration": 1.340061,
     "end_time": "2021-09-14T07:04:14.758004",
     "exception": false,
     "start_time": "2021-09-14T07:04:13.417943",
     "status": "completed"
    },
    "tags": []
   },
   "outputs": [],
   "source": [
    "import numpy as np\n",
    "import pandas as pd\n",
    "import random\n",
    "import os\n",
    "import time\n",
    "import pickle\n",
    "from pathlib import Path\n",
    "\n",
    "from sklearn.preprocessing import StandardScaler\n",
    "from sklearn.model_selection import StratifiedKFold, train_test_split\n",
    "from sklearn.metrics import roc_auc_score\n",
    "from sklearn.impute import SimpleImputer\n",
    "\n",
    "#import lightgbm as lgb\n",
    "import xgboost as xgb\n",
    "#import catboost as ctb\n",
    "\n",
    "import matplotlib.pyplot as plt\n",
    "import seaborn as sns\n",
    "\n",
    "import warnings\n",
    "warnings.simplefilter('ignore')"
   ]
  },
  {
   "cell_type": "markdown",
   "id": "ee39863e",
   "metadata": {
    "papermill": {
     "duration": 0.017522,
     "end_time": "2021-09-14T07:04:14.793017",
     "exception": false,
     "start_time": "2021-09-14T07:04:14.775495",
     "status": "completed"
    },
    "tags": []
   },
   "source": [
    "https://www.kaggle.com/dmitryuarov/tps-soft-voting-xgb-cb-lgbm\n",
    "\n",
    "dmitryuarov"
   ]
  },
  {
   "cell_type": "markdown",
   "id": "2bdb264d",
   "metadata": {
    "papermill": {
     "duration": 0.01704,
     "end_time": "2021-09-14T07:04:14.827174",
     "exception": false,
     "start_time": "2021-09-14T07:04:14.810134",
     "status": "completed"
    },
    "tags": []
   },
   "source": [
    "# Parameters"
   ]
  },
  {
   "cell_type": "code",
   "execution_count": 2,
   "id": "8a066d66",
   "metadata": {
    "execution": {
     "iopub.execute_input": "2021-09-14T07:04:14.867486Z",
     "iopub.status.busy": "2021-09-14T07:04:14.866814Z",
     "iopub.status.idle": "2021-09-14T07:04:14.869883Z",
     "shell.execute_reply": "2021-09-14T07:04:14.869377Z",
     "shell.execute_reply.started": "2021-09-09T09:01:10.443991Z"
    },
    "papermill": {
     "duration": 0.025596,
     "end_time": "2021-09-14T07:04:14.870013",
     "exception": false,
     "start_time": "2021-09-14T07:04:14.844417",
     "status": "completed"
    },
    "tags": []
   },
   "outputs": [],
   "source": [
    "target = 'claim'\n",
    "\n",
    "DEBUG = False\n",
    "\n",
    "if DEBUG:\n",
    "    N_ESTIMATORS = 1\n",
    "    N_SPLITS = 2\n",
    "    SEED = 2017\n",
    "    CVSEED = 2017\n",
    "    EARLY_STOPPING_ROUNDS = 1\n",
    "    VERBOSE = 100\n",
    "    #N_ITERS = 2\n",
    "else:\n",
    "    N_SPLITS = 10\n",
    "    N_ESTIMATORS = 20000\n",
    "    EARLY_STOPPING_ROUNDS = 300\n",
    "    VERBOSE = 1000\n",
    "    SEED = 2017\n",
    "    CVSEED = 2017\n",
    "    #N_ITERS = 10"
   ]
  },
  {
   "cell_type": "code",
   "execution_count": 3,
   "id": "f7150ed8",
   "metadata": {
    "execution": {
     "iopub.execute_input": "2021-09-14T07:04:14.910174Z",
     "iopub.status.busy": "2021-09-14T07:04:14.909584Z",
     "iopub.status.idle": "2021-09-14T07:04:14.912628Z",
     "shell.execute_reply": "2021-09-14T07:04:14.912027Z",
     "shell.execute_reply.started": "2021-09-09T09:01:10.452541Z"
    },
    "papermill": {
     "duration": 0.025768,
     "end_time": "2021-09-14T07:04:14.912780",
     "exception": false,
     "start_time": "2021-09-14T07:04:14.887012",
     "status": "completed"
    },
    "tags": []
   },
   "outputs": [],
   "source": [
    "def set_seed(seed=2017):\n",
    "    random.seed(seed)\n",
    "    os.environ['PYTHONHASHSEED'] = str(seed)\n",
    "    np.random.seed(seed)\n",
    "    \n",
    "set_seed(SEED)"
   ]
  },
  {
   "cell_type": "markdown",
   "id": "cfc81f66",
   "metadata": {
    "papermill": {
     "duration": 0.019868,
     "end_time": "2021-09-14T07:04:14.950564",
     "exception": false,
     "start_time": "2021-09-14T07:04:14.930696",
     "status": "completed"
    },
    "tags": []
   },
   "source": [
    "# Datasets"
   ]
  },
  {
   "cell_type": "code",
   "execution_count": 4,
   "id": "af94fe5b",
   "metadata": {
    "execution": {
     "iopub.execute_input": "2021-09-14T07:04:15.004681Z",
     "iopub.status.busy": "2021-09-14T07:04:15.003853Z",
     "iopub.status.idle": "2021-09-14T07:05:00.500676Z",
     "shell.execute_reply": "2021-09-14T07:05:00.499615Z",
     "shell.execute_reply.started": "2021-09-09T09:01:10.470065Z"
    },
    "papermill": {
     "duration": 45.528042,
     "end_time": "2021-09-14T07:05:00.501001",
     "exception": false,
     "start_time": "2021-09-14T07:04:14.972959",
     "status": "completed"
    },
    "tags": []
   },
   "outputs": [],
   "source": [
    "INPUT = Path(\"../input/tabular-playground-series-sep-2021\")\n",
    "\n",
    "train = pd.read_csv(INPUT / \"train.csv\")\n",
    "test = pd.read_csv(INPUT / \"test.csv\")\n",
    "submission = pd.read_csv(INPUT / \"sample_solution.csv\")"
   ]
  },
  {
   "cell_type": "markdown",
   "id": "94dac399",
   "metadata": {
    "papermill": {
     "duration": 0.017095,
     "end_time": "2021-09-14T07:05:00.538044",
     "exception": false,
     "start_time": "2021-09-14T07:05:00.520949",
     "status": "completed"
    },
    "tags": []
   },
   "source": [
    "# Preprocessing"
   ]
  },
  {
   "cell_type": "code",
   "execution_count": 5,
   "id": "856abe27",
   "metadata": {
    "execution": {
     "iopub.execute_input": "2021-09-14T07:05:00.578949Z",
     "iopub.status.busy": "2021-09-14T07:05:00.578246Z",
     "iopub.status.idle": "2021-09-14T07:05:00.580711Z",
     "shell.execute_reply": "2021-09-14T07:05:00.581153Z",
     "shell.execute_reply.started": "2021-09-09T09:01:41.50171Z"
    },
    "papermill": {
     "duration": 0.025896,
     "end_time": "2021-09-14T07:05:00.581325",
     "exception": false,
     "start_time": "2021-09-14T07:05:00.555429",
     "status": "completed"
    },
    "tags": []
   },
   "outputs": [],
   "source": [
    "features = [col for col in train.columns if 'f' in col]"
   ]
  },
  {
   "cell_type": "code",
   "execution_count": 6,
   "id": "b88c83e5",
   "metadata": {
    "execution": {
     "iopub.execute_input": "2021-09-14T07:05:00.991516Z",
     "iopub.status.busy": "2021-09-14T07:05:00.990874Z",
     "iopub.status.idle": "2021-09-14T07:05:02.985103Z",
     "shell.execute_reply": "2021-09-14T07:05:02.984573Z",
     "shell.execute_reply.started": "2021-09-09T09:01:41.50768Z"
    },
    "papermill": {
     "duration": 2.386273,
     "end_time": "2021-09-14T07:05:02.985244",
     "exception": false,
     "start_time": "2021-09-14T07:05:00.598971",
     "status": "completed"
    },
    "tags": []
   },
   "outputs": [],
   "source": [
    "train['n_missing'] = train[features].isna().sum(axis=1)\n",
    "test['n_missing'] = test[features].isna().sum(axis=1)\n",
    "\n",
    "train['std'] = train[features].std(axis=1)\n",
    "test['std'] = test[features].std(axis=1)\n",
    "\n",
    "features += ['n_missing', 'std']"
   ]
  },
  {
   "cell_type": "code",
   "execution_count": 7,
   "id": "5b9cb853",
   "metadata": {
    "execution": {
     "iopub.execute_input": "2021-09-14T07:05:03.024371Z",
     "iopub.status.busy": "2021-09-14T07:05:03.023768Z",
     "iopub.status.idle": "2021-09-14T07:05:03.026862Z",
     "shell.execute_reply": "2021-09-14T07:05:03.026388Z"
    },
    "papermill": {
     "duration": 0.024601,
     "end_time": "2021-09-14T07:05:03.026994",
     "exception": false,
     "start_time": "2021-09-14T07:05:03.002393",
     "status": "completed"
    },
    "tags": []
   },
   "outputs": [],
   "source": [
    "imputer = SimpleImputer(strategy = 'mean')"
   ]
  },
  {
   "cell_type": "code",
   "execution_count": 8,
   "id": "c00721e6",
   "metadata": {
    "execution": {
     "iopub.execute_input": "2021-09-14T07:05:03.065563Z",
     "iopub.status.busy": "2021-09-14T07:05:03.064935Z",
     "iopub.status.idle": "2021-09-14T07:05:03.068391Z",
     "shell.execute_reply": "2021-09-14T07:05:03.067822Z",
     "shell.execute_reply.started": "2021-09-09T09:01:42.650979Z"
    },
    "papermill": {
     "duration": 0.024384,
     "end_time": "2021-09-14T07:05:03.068541",
     "exception": false,
     "start_time": "2021-09-14T07:05:03.044157",
     "status": "completed"
    },
    "tags": []
   },
   "outputs": [],
   "source": [
    "ss = StandardScaler()\n"
   ]
  },
  {
   "cell_type": "code",
   "execution_count": 9,
   "id": "c5bda611",
   "metadata": {
    "execution": {
     "iopub.execute_input": "2021-09-14T07:05:03.116329Z",
     "iopub.status.busy": "2021-09-14T07:05:03.115709Z",
     "iopub.status.idle": "2021-09-14T07:05:03.696280Z",
     "shell.execute_reply": "2021-09-14T07:05:03.696783Z",
     "shell.execute_reply.started": "2021-09-09T09:01:42.657614Z"
    },
    "papermill": {
     "duration": 0.607161,
     "end_time": "2021-09-14T07:05:03.696944",
     "exception": false,
     "start_time": "2021-09-14T07:05:03.089783",
     "status": "completed"
    },
    "tags": []
   },
   "outputs": [
    {
     "data": {
      "text/html": [
       "<div>\n",
       "<style scoped>\n",
       "    .dataframe tbody tr th:only-of-type {\n",
       "        vertical-align: middle;\n",
       "    }\n",
       "\n",
       "    .dataframe tbody tr th {\n",
       "        vertical-align: top;\n",
       "    }\n",
       "\n",
       "    .dataframe thead th {\n",
       "        text-align: right;\n",
       "    }\n",
       "</style>\n",
       "<table border=\"1\" class=\"dataframe\">\n",
       "  <thead>\n",
       "    <tr style=\"text-align: right;\">\n",
       "      <th></th>\n",
       "      <th>f1</th>\n",
       "      <th>f2</th>\n",
       "      <th>f3</th>\n",
       "      <th>f4</th>\n",
       "      <th>f5</th>\n",
       "      <th>f6</th>\n",
       "      <th>f7</th>\n",
       "      <th>f8</th>\n",
       "      <th>f9</th>\n",
       "      <th>f10</th>\n",
       "      <th>...</th>\n",
       "      <th>f111</th>\n",
       "      <th>f112</th>\n",
       "      <th>f113</th>\n",
       "      <th>f114</th>\n",
       "      <th>f115</th>\n",
       "      <th>f116</th>\n",
       "      <th>f117</th>\n",
       "      <th>f118</th>\n",
       "      <th>n_missing</th>\n",
       "      <th>std</th>\n",
       "    </tr>\n",
       "  </thead>\n",
       "  <tbody>\n",
       "    <tr>\n",
       "      <th>0</th>\n",
       "      <td>0.165850</td>\n",
       "      <td>0.487050</td>\n",
       "      <td>1295.00</td>\n",
       "      <td>0.023100</td>\n",
       "      <td>0.31900</td>\n",
       "      <td>0.901880</td>\n",
       "      <td>573.29</td>\n",
       "      <td>3743.7</td>\n",
       "      <td>2.705700e+12</td>\n",
       "      <td>6221.000000</td>\n",
       "      <td>...</td>\n",
       "      <td>2.0655</td>\n",
       "      <td>0.430880</td>\n",
       "      <td>-10.7410</td>\n",
       "      <td>81606.00</td>\n",
       "      <td>1.1940</td>\n",
       "      <td>1.980400e+14</td>\n",
       "      <td>2017.10</td>\n",
       "      <td>0.46357</td>\n",
       "      <td>1</td>\n",
       "      <td>5.589410e+15</td>\n",
       "    </tr>\n",
       "    <tr>\n",
       "      <th>1</th>\n",
       "      <td>0.129650</td>\n",
       "      <td>0.373480</td>\n",
       "      <td>1763.00</td>\n",
       "      <td>0.728840</td>\n",
       "      <td>0.33247</td>\n",
       "      <td>-1.263100</td>\n",
       "      <td>875.55</td>\n",
       "      <td>554370.0</td>\n",
       "      <td>5.955700e+14</td>\n",
       "      <td>934.430000</td>\n",
       "      <td>...</td>\n",
       "      <td>1.5736</td>\n",
       "      <td>-1.071200</td>\n",
       "      <td>11.8320</td>\n",
       "      <td>90114.00</td>\n",
       "      <td>1.1507</td>\n",
       "      <td>4.388000e+16</td>\n",
       "      <td>6638.90</td>\n",
       "      <td>0.28125</td>\n",
       "      <td>0</td>\n",
       "      <td>4.080971e+15</td>\n",
       "    </tr>\n",
       "    <tr>\n",
       "      <th>2</th>\n",
       "      <td>0.120190</td>\n",
       "      <td>0.445210</td>\n",
       "      <td>736.26</td>\n",
       "      <td>0.046150</td>\n",
       "      <td>0.29605</td>\n",
       "      <td>0.316650</td>\n",
       "      <td>2659.50</td>\n",
       "      <td>317140.0</td>\n",
       "      <td>3.977800e+14</td>\n",
       "      <td>131.810000</td>\n",
       "      <td>...</td>\n",
       "      <td>2.1364</td>\n",
       "      <td>-1.931200</td>\n",
       "      <td>-3.2804</td>\n",
       "      <td>37739.00</td>\n",
       "      <td>1.1548</td>\n",
       "      <td>1.718100e+14</td>\n",
       "      <td>5844.00</td>\n",
       "      <td>0.13797</td>\n",
       "      <td>1</td>\n",
       "      <td>4.054317e+13</td>\n",
       "    </tr>\n",
       "    <tr>\n",
       "      <th>3</th>\n",
       "      <td>0.054008</td>\n",
       "      <td>0.395960</td>\n",
       "      <td>996.14</td>\n",
       "      <td>0.859340</td>\n",
       "      <td>0.36678</td>\n",
       "      <td>-0.170600</td>\n",
       "      <td>386.56</td>\n",
       "      <td>325680.0</td>\n",
       "      <td>-3.432200e+13</td>\n",
       "      <td>-26.473000</td>\n",
       "      <td>...</td>\n",
       "      <td>1.5199</td>\n",
       "      <td>-0.011633</td>\n",
       "      <td>1.3840</td>\n",
       "      <td>26849.00</td>\n",
       "      <td>1.1490</td>\n",
       "      <td>2.138800e+17</td>\n",
       "      <td>6173.30</td>\n",
       "      <td>0.32910</td>\n",
       "      <td>0</td>\n",
       "      <td>1.999852e+16</td>\n",
       "    </tr>\n",
       "    <tr>\n",
       "      <th>4</th>\n",
       "      <td>0.079947</td>\n",
       "      <td>-0.006919</td>\n",
       "      <td>10574.00</td>\n",
       "      <td>0.348450</td>\n",
       "      <td>0.45008</td>\n",
       "      <td>-1.842000</td>\n",
       "      <td>3027.00</td>\n",
       "      <td>428150.0</td>\n",
       "      <td>9.291500e+11</td>\n",
       "      <td>5999.400000</td>\n",
       "      <td>...</td>\n",
       "      <td>3.7387</td>\n",
       "      <td>0.757080</td>\n",
       "      <td>-4.9405</td>\n",
       "      <td>50336.00</td>\n",
       "      <td>1.2488</td>\n",
       "      <td>2.151300e+17</td>\n",
       "      <td>2250.10</td>\n",
       "      <td>0.33796</td>\n",
       "      <td>0</td>\n",
       "      <td>1.980389e+16</td>\n",
       "    </tr>\n",
       "    <tr>\n",
       "      <th>...</th>\n",
       "      <td>...</td>\n",
       "      <td>...</td>\n",
       "      <td>...</td>\n",
       "      <td>...</td>\n",
       "      <td>...</td>\n",
       "      <td>...</td>\n",
       "      <td>...</td>\n",
       "      <td>...</td>\n",
       "      <td>...</td>\n",
       "      <td>...</td>\n",
       "      <td>...</td>\n",
       "      <td>...</td>\n",
       "      <td>...</td>\n",
       "      <td>...</td>\n",
       "      <td>...</td>\n",
       "      <td>...</td>\n",
       "      <td>...</td>\n",
       "      <td>...</td>\n",
       "      <td>...</td>\n",
       "      <td>...</td>\n",
       "      <td>...</td>\n",
       "    </tr>\n",
       "    <tr>\n",
       "      <th>493469</th>\n",
       "      <td>-0.009112</td>\n",
       "      <td>0.308190</td>\n",
       "      <td>637.64</td>\n",
       "      <td>0.778200</td>\n",
       "      <td>0.41415</td>\n",
       "      <td>-1.068500</td>\n",
       "      <td>651.22</td>\n",
       "      <td>985000.0</td>\n",
       "      <td>6.079700e+15</td>\n",
       "      <td>508.820000</td>\n",
       "      <td>...</td>\n",
       "      <td>2.3325</td>\n",
       "      <td>0.112260</td>\n",
       "      <td>-5.9238</td>\n",
       "      <td>NaN</td>\n",
       "      <td>1.1559</td>\n",
       "      <td>8.163900e+16</td>\n",
       "      <td>857.09</td>\n",
       "      <td>1.56330</td>\n",
       "      <td>2</td>\n",
       "      <td>1.123239e+16</td>\n",
       "    </tr>\n",
       "    <tr>\n",
       "      <th>493470</th>\n",
       "      <td>0.088922</td>\n",
       "      <td>0.482650</td>\n",
       "      <td>6924.10</td>\n",
       "      <td>0.025963</td>\n",
       "      <td>0.35540</td>\n",
       "      <td>-0.870200</td>\n",
       "      <td>2514.20</td>\n",
       "      <td>18004.0</td>\n",
       "      <td>6.073500e+14</td>\n",
       "      <td>-0.008665</td>\n",
       "      <td>...</td>\n",
       "      <td>1.7005</td>\n",
       "      <td>97.813000</td>\n",
       "      <td>4.3793</td>\n",
       "      <td>-2432.00</td>\n",
       "      <td>1.0707</td>\n",
       "      <td>4.691800e+16</td>\n",
       "      <td>7497.10</td>\n",
       "      <td>0.67075</td>\n",
       "      <td>0</td>\n",
       "      <td>4.335915e+15</td>\n",
       "    </tr>\n",
       "    <tr>\n",
       "      <th>493471</th>\n",
       "      <td>0.140620</td>\n",
       "      <td>0.484750</td>\n",
       "      <td>1797.10</td>\n",
       "      <td>0.147020</td>\n",
       "      <td>0.28803</td>\n",
       "      <td>-1.407100</td>\n",
       "      <td>434.03</td>\n",
       "      <td>333050.0</td>\n",
       "      <td>2.351000e+15</td>\n",
       "      <td>33492.000000</td>\n",
       "      <td>...</td>\n",
       "      <td>1.6827</td>\n",
       "      <td>NaN</td>\n",
       "      <td>8.0633</td>\n",
       "      <td>2471.40</td>\n",
       "      <td>1.1725</td>\n",
       "      <td>7.900900e+16</td>\n",
       "      <td>2904.60</td>\n",
       "      <td>0.18005</td>\n",
       "      <td>5</td>\n",
       "      <td>7.433839e+15</td>\n",
       "    </tr>\n",
       "    <tr>\n",
       "      <th>493472</th>\n",
       "      <td>0.168000</td>\n",
       "      <td>0.351760</td>\n",
       "      <td>454.79</td>\n",
       "      <td>0.164580</td>\n",
       "      <td>0.16983</td>\n",
       "      <td>0.323850</td>\n",
       "      <td>2331.20</td>\n",
       "      <td>223980.0</td>\n",
       "      <td>-2.795300e+12</td>\n",
       "      <td>93.561000</td>\n",
       "      <td>...</td>\n",
       "      <td>1.3531</td>\n",
       "      <td>155.210000</td>\n",
       "      <td>13.9630</td>\n",
       "      <td>-11.44</td>\n",
       "      <td>1.1946</td>\n",
       "      <td>-1.770600e+14</td>\n",
       "      <td>6763.10</td>\n",
       "      <td>0.33223</td>\n",
       "      <td>0</td>\n",
       "      <td>1.172729e+16</td>\n",
       "    </tr>\n",
       "    <tr>\n",
       "      <th>493473</th>\n",
       "      <td>0.093079</td>\n",
       "      <td>0.501860</td>\n",
       "      <td>3322.40</td>\n",
       "      <td>NaN</td>\n",
       "      <td>0.33269</td>\n",
       "      <td>0.056827</td>\n",
       "      <td>2568.70</td>\n",
       "      <td>39185.0</td>\n",
       "      <td>1.489300e+14</td>\n",
       "      <td>-318.920000</td>\n",
       "      <td>...</td>\n",
       "      <td>1.4480</td>\n",
       "      <td>-1.512900</td>\n",
       "      <td>-15.4360</td>\n",
       "      <td>662.46</td>\n",
       "      <td>1.1778</td>\n",
       "      <td>2.459300e+15</td>\n",
       "      <td>8770.00</td>\n",
       "      <td>0.95503</td>\n",
       "      <td>6</td>\n",
       "      <td>2.340480e+14</td>\n",
       "    </tr>\n",
       "  </tbody>\n",
       "</table>\n",
       "<p>493474 rows × 120 columns</p>\n",
       "</div>"
      ],
      "text/plain": [
       "              f1        f2        f3        f4       f5        f6       f7  \\\n",
       "0       0.165850  0.487050   1295.00  0.023100  0.31900  0.901880   573.29   \n",
       "1       0.129650  0.373480   1763.00  0.728840  0.33247 -1.263100   875.55   \n",
       "2       0.120190  0.445210    736.26  0.046150  0.29605  0.316650  2659.50   \n",
       "3       0.054008  0.395960    996.14  0.859340  0.36678 -0.170600   386.56   \n",
       "4       0.079947 -0.006919  10574.00  0.348450  0.45008 -1.842000  3027.00   \n",
       "...          ...       ...       ...       ...      ...       ...      ...   \n",
       "493469 -0.009112  0.308190    637.64  0.778200  0.41415 -1.068500   651.22   \n",
       "493470  0.088922  0.482650   6924.10  0.025963  0.35540 -0.870200  2514.20   \n",
       "493471  0.140620  0.484750   1797.10  0.147020  0.28803 -1.407100   434.03   \n",
       "493472  0.168000  0.351760    454.79  0.164580  0.16983  0.323850  2331.20   \n",
       "493473  0.093079  0.501860   3322.40       NaN  0.33269  0.056827  2568.70   \n",
       "\n",
       "              f8            f9           f10  ...    f111        f112  \\\n",
       "0         3743.7  2.705700e+12   6221.000000  ...  2.0655    0.430880   \n",
       "1       554370.0  5.955700e+14    934.430000  ...  1.5736   -1.071200   \n",
       "2       317140.0  3.977800e+14    131.810000  ...  2.1364   -1.931200   \n",
       "3       325680.0 -3.432200e+13    -26.473000  ...  1.5199   -0.011633   \n",
       "4       428150.0  9.291500e+11   5999.400000  ...  3.7387    0.757080   \n",
       "...          ...           ...           ...  ...     ...         ...   \n",
       "493469  985000.0  6.079700e+15    508.820000  ...  2.3325    0.112260   \n",
       "493470   18004.0  6.073500e+14     -0.008665  ...  1.7005   97.813000   \n",
       "493471  333050.0  2.351000e+15  33492.000000  ...  1.6827         NaN   \n",
       "493472  223980.0 -2.795300e+12     93.561000  ...  1.3531  155.210000   \n",
       "493473   39185.0  1.489300e+14   -318.920000  ...  1.4480   -1.512900   \n",
       "\n",
       "           f113      f114    f115          f116     f117     f118  n_missing  \\\n",
       "0      -10.7410  81606.00  1.1940  1.980400e+14  2017.10  0.46357          1   \n",
       "1       11.8320  90114.00  1.1507  4.388000e+16  6638.90  0.28125          0   \n",
       "2       -3.2804  37739.00  1.1548  1.718100e+14  5844.00  0.13797          1   \n",
       "3        1.3840  26849.00  1.1490  2.138800e+17  6173.30  0.32910          0   \n",
       "4       -4.9405  50336.00  1.2488  2.151300e+17  2250.10  0.33796          0   \n",
       "...         ...       ...     ...           ...      ...      ...        ...   \n",
       "493469  -5.9238       NaN  1.1559  8.163900e+16   857.09  1.56330          2   \n",
       "493470   4.3793  -2432.00  1.0707  4.691800e+16  7497.10  0.67075          0   \n",
       "493471   8.0633   2471.40  1.1725  7.900900e+16  2904.60  0.18005          5   \n",
       "493472  13.9630    -11.44  1.1946 -1.770600e+14  6763.10  0.33223          0   \n",
       "493473 -15.4360    662.46  1.1778  2.459300e+15  8770.00  0.95503          6   \n",
       "\n",
       "                 std  \n",
       "0       5.589410e+15  \n",
       "1       4.080971e+15  \n",
       "2       4.054317e+13  \n",
       "3       1.999852e+16  \n",
       "4       1.980389e+16  \n",
       "...              ...  \n",
       "493469  1.123239e+16  \n",
       "493470  4.335915e+15  \n",
       "493471  7.433839e+15  \n",
       "493472  1.172729e+16  \n",
       "493473  2.340480e+14  \n",
       "\n",
       "[493474 rows x 120 columns]"
      ]
     },
     "execution_count": 9,
     "metadata": {},
     "output_type": "execute_result"
    }
   ],
   "source": [
    "test[features]"
   ]
  },
  {
   "cell_type": "code",
   "execution_count": 10,
   "id": "153cf97c",
   "metadata": {
    "execution": {
     "iopub.execute_input": "2021-09-14T07:05:03.740982Z",
     "iopub.status.busy": "2021-09-14T07:05:03.740057Z",
     "iopub.status.idle": "2021-09-14T07:05:03.744420Z",
     "shell.execute_reply": "2021-09-14T07:05:03.743799Z",
     "shell.execute_reply.started": "2021-09-09T09:01:42.94333Z"
    },
    "papermill": {
     "duration": 0.02917,
     "end_time": "2021-09-14T07:05:03.744561",
     "exception": false,
     "start_time": "2021-09-14T07:05:03.715391",
     "status": "completed"
    },
    "tags": []
   },
   "outputs": [
    {
     "data": {
      "text/plain": [
       "0         1\n",
       "1         0\n",
       "2         1\n",
       "3         1\n",
       "4         1\n",
       "         ..\n",
       "957914    0\n",
       "957915    1\n",
       "957916    0\n",
       "957917    1\n",
       "957918    0\n",
       "Name: claim, Length: 957919, dtype: int64"
      ]
     },
     "execution_count": 10,
     "metadata": {},
     "output_type": "execute_result"
    }
   ],
   "source": [
    "train[target]"
   ]
  },
  {
   "cell_type": "markdown",
   "id": "a7cc976a",
   "metadata": {
    "papermill": {
     "duration": 0.018045,
     "end_time": "2021-09-14T07:05:03.780910",
     "exception": false,
     "start_time": "2021-09-14T07:05:03.762865",
     "status": "completed"
    },
    "tags": []
   },
   "source": [
    "# XGB"
   ]
  },
  {
   "cell_type": "code",
   "execution_count": 11,
   "id": "0b48f1a6",
   "metadata": {
    "execution": {
     "iopub.execute_input": "2021-09-14T07:05:03.824043Z",
     "iopub.status.busy": "2021-09-14T07:05:03.823434Z",
     "iopub.status.idle": "2021-09-14T07:05:03.825886Z",
     "shell.execute_reply": "2021-09-14T07:05:03.825281Z",
     "shell.execute_reply.started": "2021-09-09T09:01:42.953521Z"
    },
    "papermill": {
     "duration": 0.026581,
     "end_time": "2021-09-14T07:05:03.826013",
     "exception": false,
     "start_time": "2021-09-14T07:05:03.799432",
     "status": "completed"
    },
    "tags": []
   },
   "outputs": [],
   "source": [
    "xgb_params = {\n",
    "    #'objective': 'binary',\n",
    "     'n_estimators':N_ESTIMATORS,\n",
    "     #'importance_type': 'gain',\n",
    "     #'metric':'auc',\n",
    "     #'boosting_type': 'gbdt',\n",
    "     'n_jobs' : -1,\n",
    "         \n",
    "    'max_depth': 2, \n",
    "    'learning_rate': 0.021537077920105466, \n",
    "    'min_child_weight': 150,\n",
    "    'gamma': 0.11611920725914951,\n",
    "    'reg_alpha': 0.0021839958087869794, \n",
    "    'reg_lambda': 0.0018567979557499344, \n",
    "    'colsample_bytree': 0.7139742731494992, \n",
    "    'subsample': 0.6258627743440968,\n",
    "     'tree_method': 'hist',\n",
    "     'booster': 'gbtree',\n",
    "     'use_label_encoder': False,\n",
    "     'eval_metric': 'auc'\n",
    "}"
   ]
  },
  {
   "cell_type": "code",
   "execution_count": 12,
   "id": "9b4c53e7",
   "metadata": {
    "execution": {
     "iopub.execute_input": "2021-09-14T07:05:03.874385Z",
     "iopub.status.busy": "2021-09-14T07:05:03.873710Z",
     "iopub.status.idle": "2021-09-14T13:46:42.331256Z",
     "shell.execute_reply": "2021-09-14T13:46:42.332161Z",
     "shell.execute_reply.started": "2021-09-09T09:01:42.966714Z"
    },
    "papermill": {
     "duration": 24098.48854,
     "end_time": "2021-09-14T13:46:42.333283",
     "exception": false,
     "start_time": "2021-09-14T07:05:03.844743",
     "status": "completed"
    },
    "tags": []
   },
   "outputs": [
    {
     "name": "stdout",
     "output_type": "stream",
     "text": [
      "===== fold 0 =====\n",
      "[0]\tvalidation_0-auc:0.51339\n",
      "[1000]\tvalidation_0-auc:0.81179\n",
      "[2000]\tvalidation_0-auc:0.81364\n",
      "[3000]\tvalidation_0-auc:0.81446\n",
      "[4000]\tvalidation_0-auc:0.81509\n",
      "[5000]\tvalidation_0-auc:0.81546\n",
      "[6000]\tvalidation_0-auc:0.81585\n",
      "[7000]\tvalidation_0-auc:0.81604\n",
      "[8000]\tvalidation_0-auc:0.81615\n",
      "[9000]\tvalidation_0-auc:0.81627\n",
      "[10000]\tvalidation_0-auc:0.81637\n",
      "[11000]\tvalidation_0-auc:0.81647\n",
      "[11098]\tvalidation_0-auc:0.81646\n",
      "[0]\tvalidation_0-auc:0.81646\n",
      "[1000]\tvalidation_0-auc:0.81647\n",
      "[1297]\tvalidation_0-auc:0.81647\n",
      "fold 0 - xgb auc: 0.816471, elapsed time: 2544.16sec\n",
      "\n",
      "===== fold 1 =====\n",
      "[0]\tvalidation_0-auc:0.51448\n",
      "[1000]\tvalidation_0-auc:0.81039\n",
      "[2000]\tvalidation_0-auc:0.81236\n",
      "[3000]\tvalidation_0-auc:0.81337\n",
      "[4000]\tvalidation_0-auc:0.81403\n",
      "[5000]\tvalidation_0-auc:0.81443\n",
      "[6000]\tvalidation_0-auc:0.81469\n",
      "[7000]\tvalidation_0-auc:0.81488\n",
      "[8000]\tvalidation_0-auc:0.81500\n",
      "[9000]\tvalidation_0-auc:0.81511\n",
      "[10000]\tvalidation_0-auc:0.81521\n",
      "[10440]\tvalidation_0-auc:0.81523\n",
      "[0]\tvalidation_0-auc:0.81523\n",
      "[649]\tvalidation_0-auc:0.81524\n",
      "fold 1 - xgb auc: 0.815242, elapsed time: 2334.71sec\n",
      "\n",
      "===== fold 2 =====\n",
      "[0]\tvalidation_0-auc:0.51340\n",
      "[1000]\tvalidation_0-auc:0.81195\n",
      "[2000]\tvalidation_0-auc:0.81390\n",
      "[3000]\tvalidation_0-auc:0.81492\n",
      "[4000]\tvalidation_0-auc:0.81557\n",
      "[5000]\tvalidation_0-auc:0.81616\n",
      "[6000]\tvalidation_0-auc:0.81647\n",
      "[7000]\tvalidation_0-auc:0.81668\n",
      "[8000]\tvalidation_0-auc:0.81688\n",
      "[9000]\tvalidation_0-auc:0.81700\n",
      "[10000]\tvalidation_0-auc:0.81703\n",
      "[10257]\tvalidation_0-auc:0.81704\n",
      "[0]\tvalidation_0-auc:0.81704\n",
      "[694]\tvalidation_0-auc:0.81705\n",
      "fold 2 - xgb auc: 0.817034, elapsed time: 2287.11sec\n",
      "\n",
      "===== fold 3 =====\n",
      "[0]\tvalidation_0-auc:0.51522\n",
      "[1000]\tvalidation_0-auc:0.81066\n",
      "[2000]\tvalidation_0-auc:0.81256\n",
      "[3000]\tvalidation_0-auc:0.81357\n",
      "[4000]\tvalidation_0-auc:0.81426\n",
      "[5000]\tvalidation_0-auc:0.81465\n",
      "[6000]\tvalidation_0-auc:0.81493\n",
      "[7000]\tvalidation_0-auc:0.81514\n",
      "[8000]\tvalidation_0-auc:0.81531\n",
      "[9000]\tvalidation_0-auc:0.81547\n",
      "[10000]\tvalidation_0-auc:0.81555\n",
      "[11000]\tvalidation_0-auc:0.81563\n",
      "[11984]\tvalidation_0-auc:0.81567\n",
      "[0]\tvalidation_0-auc:0.81567\n",
      "[1000]\tvalidation_0-auc:0.81568\n",
      "[1149]\tvalidation_0-auc:0.81568\n",
      "fold 3 - xgb auc: 0.815686, elapsed time: 2783.93sec\n",
      "\n",
      "===== fold 4 =====\n",
      "[0]\tvalidation_0-auc:0.51450\n",
      "[1000]\tvalidation_0-auc:0.81203\n",
      "[2000]\tvalidation_0-auc:0.81406\n",
      "[3000]\tvalidation_0-auc:0.81518\n",
      "[4000]\tvalidation_0-auc:0.81582\n",
      "[5000]\tvalidation_0-auc:0.81624\n",
      "[6000]\tvalidation_0-auc:0.81660\n",
      "[7000]\tvalidation_0-auc:0.81677\n",
      "[8000]\tvalidation_0-auc:0.81694\n",
      "[9000]\tvalidation_0-auc:0.81708\n",
      "[10000]\tvalidation_0-auc:0.81717\n",
      "[10584]\tvalidation_0-auc:0.81716\n",
      "[0]\tvalidation_0-auc:0.81716\n",
      "[1000]\tvalidation_0-auc:0.81718\n",
      "[1671]\tvalidation_0-auc:0.81719\n",
      "fold 4 - xgb auc: 0.817178, elapsed time: 2565.28sec\n",
      "\n",
      "===== fold 5 =====\n",
      "[0]\tvalidation_0-auc:0.51465\n",
      "[1000]\tvalidation_0-auc:0.80954\n",
      "[2000]\tvalidation_0-auc:0.81117\n",
      "[3000]\tvalidation_0-auc:0.81212\n",
      "[4000]\tvalidation_0-auc:0.81273\n",
      "[5000]\tvalidation_0-auc:0.81329\n",
      "[6000]\tvalidation_0-auc:0.81363\n",
      "[7000]\tvalidation_0-auc:0.81386\n",
      "[8000]\tvalidation_0-auc:0.81407\n",
      "[9000]\tvalidation_0-auc:0.81425\n",
      "[9898]\tvalidation_0-auc:0.81434\n",
      "[0]\tvalidation_0-auc:0.81434\n",
      "[1000]\tvalidation_0-auc:0.81435\n",
      "[1545]\tvalidation_0-auc:0.81435\n",
      "fold 5 - xgb auc: 0.814365, elapsed time: 2372.91sec\n",
      "\n",
      "===== fold 6 =====\n",
      "[0]\tvalidation_0-auc:0.51777\n",
      "[1000]\tvalidation_0-auc:0.81425\n",
      "[2000]\tvalidation_0-auc:0.81602\n",
      "[3000]\tvalidation_0-auc:0.81688\n",
      "[4000]\tvalidation_0-auc:0.81744\n",
      "[5000]\tvalidation_0-auc:0.81780\n",
      "[6000]\tvalidation_0-auc:0.81808\n",
      "[7000]\tvalidation_0-auc:0.81826\n",
      "[7735]\tvalidation_0-auc:0.81832\n",
      "[0]\tvalidation_0-auc:0.81833\n",
      "[1000]\tvalidation_0-auc:0.81834\n",
      "[1206]\tvalidation_0-auc:0.81834\n",
      "fold 6 - xgb auc: 0.818329, elapsed time: 1863.34sec\n",
      "\n",
      "===== fold 7 =====\n",
      "[0]\tvalidation_0-auc:0.51542\n",
      "[1000]\tvalidation_0-auc:0.80980\n",
      "[2000]\tvalidation_0-auc:0.81179\n",
      "[3000]\tvalidation_0-auc:0.81285\n",
      "[4000]\tvalidation_0-auc:0.81351\n",
      "[5000]\tvalidation_0-auc:0.81392\n",
      "[6000]\tvalidation_0-auc:0.81420\n",
      "[7000]\tvalidation_0-auc:0.81438\n",
      "[8000]\tvalidation_0-auc:0.81454\n",
      "[9000]\tvalidation_0-auc:0.81465\n",
      "[9508]\tvalidation_0-auc:0.81467\n",
      "[0]\tvalidation_0-auc:0.81467\n",
      "[1000]\tvalidation_0-auc:0.81470\n",
      "[1458]\tvalidation_0-auc:0.81470\n",
      "fold 7 - xgb auc: 0.814698, elapsed time: 2272.67sec\n",
      "\n",
      "===== fold 8 =====\n",
      "[0]\tvalidation_0-auc:0.51123\n",
      "[1000]\tvalidation_0-auc:0.81219\n",
      "[2000]\tvalidation_0-auc:0.81389\n",
      "[3000]\tvalidation_0-auc:0.81461\n",
      "[4000]\tvalidation_0-auc:0.81512\n",
      "[5000]\tvalidation_0-auc:0.81542\n",
      "[6000]\tvalidation_0-auc:0.81566\n",
      "[7000]\tvalidation_0-auc:0.81587\n",
      "[8000]\tvalidation_0-auc:0.81605\n",
      "[9000]\tvalidation_0-auc:0.81612\n",
      "[9359]\tvalidation_0-auc:0.81613\n",
      "[0]\tvalidation_0-auc:0.81613\n",
      "[580]\tvalidation_0-auc:0.81613\n",
      "fold 8 - xgb auc: 0.816130, elapsed time: 2046.40sec\n",
      "\n",
      "===== fold 9 =====\n",
      "[0]\tvalidation_0-auc:0.51598\n",
      "[1000]\tvalidation_0-auc:0.81053\n",
      "[2000]\tvalidation_0-auc:0.81234\n",
      "[3000]\tvalidation_0-auc:0.81336\n",
      "[4000]\tvalidation_0-auc:0.81404\n",
      "[5000]\tvalidation_0-auc:0.81450\n",
      "[6000]\tvalidation_0-auc:0.81479\n",
      "[7000]\tvalidation_0-auc:0.81504\n",
      "[8000]\tvalidation_0-auc:0.81524\n",
      "[9000]\tvalidation_0-auc:0.81536\n",
      "[10000]\tvalidation_0-auc:0.81544\n",
      "[11000]\tvalidation_0-auc:0.81550\n",
      "[12000]\tvalidation_0-auc:0.81558\n",
      "[13000]\tvalidation_0-auc:0.81568\n",
      "[13198]\tvalidation_0-auc:0.81568\n",
      "[0]\tvalidation_0-auc:0.81568\n",
      "[874]\tvalidation_0-auc:0.81569\n",
      "fold 9 - xgb auc: 0.815684, elapsed time: 2927.23sec\n",
      "\n",
      "oof xgb_auc = 0.8160745183691867\n"
     ]
    }
   ],
   "source": [
    "xgb_oof = np.zeros(train.shape[0])\n",
    "xgb_pred = np.zeros(test.shape[0])\n",
    "xgb_importances = pd.DataFrame()\n",
    "\n",
    "\n",
    "kf = StratifiedKFold(n_splits=N_SPLITS, shuffle=True, random_state=CVSEED)\n",
    "seed_list=[SEED+9]\n",
    "\n",
    "for fold, (trn_idx, val_idx) in enumerate(kf.split(X=train[features], y=train[target])):\n",
    "    print(f\"===== fold {fold} =====\")\n",
    "\n",
    "\n",
    "    X_train = train[features].iloc[trn_idx]\n",
    "    y_train = train[target].iloc[trn_idx]\n",
    "    X_valid = train[features].iloc[val_idx]\n",
    "    y_valid = train[target].iloc[val_idx]\n",
    "    X_test = test[features]\n",
    "    \n",
    "    for i in features:\n",
    "        X_train[i] = imputer.fit_transform(np.array(X_train[i]).reshape(-1,1))\n",
    "        X_valid[i] = imputer.transform(np.array(X_valid[i]).reshape(-1,1))\n",
    "        X_test[i] = imputer.transform(np.array(X_test[i]).reshape(-1,1))\n",
    "\n",
    "    X_train[features] = ss.fit_transform(X_train[features])\n",
    "    X_valid[features] = ss.transform(X_valid[features])\n",
    "    X_test[features] = ss.transform(X_test[features])\n",
    "\n",
    "    start = time.time()\n",
    "    for inseed in seed_list:\n",
    "        xgb_params['random_state'] = inseed\n",
    "\n",
    "        pre_model = xgb.XGBClassifier(**xgb_params)\n",
    "        pre_model.fit(\n",
    "            X_train, \n",
    "            y_train,\n",
    "            eval_set=[(X_valid, y_valid)],\n",
    "            eval_metric='auc',\n",
    "            early_stopping_rounds=EARLY_STOPPING_ROUNDS,\n",
    "            verbose=VERBOSE,\n",
    "        )\n",
    "\n",
    "        xgb_params2 = xgb_params.copy()\n",
    "        xgb_params2['reg_lambda'] *= 0.9\n",
    "        xgb_params2['reg_alpha'] *= 0.9\n",
    "        xgb_params2['learning_rate'] *= 0.1\n",
    "        model = xgb.XGBClassifier(**xgb_params2)\n",
    "        model.fit(\n",
    "                X_train, y_train,\n",
    "                eval_set=[(X_valid, y_valid)],\n",
    "                eval_metric='auc',\n",
    "                early_stopping_rounds=EARLY_STOPPING_ROUNDS,\n",
    "                verbose=VERBOSE,\n",
    "                xgb_model=pre_model\n",
    "        )    \n",
    "\n",
    "        with open(f\"xgb_model{fold}_seed{inseed}.pkl\", 'wb') as f:\n",
    "            pickle.dump(model, f)\n",
    "\n",
    "        fi_tmp = pd.DataFrame()\n",
    "        fi_tmp['feature'] = X_train.columns\n",
    "        fi_tmp['importance'] = model.feature_importances_\n",
    "        fi_tmp['fold'] = fold\n",
    "        fi_tmp['seed'] = inseed\n",
    "        xgb_importances = xgb_importances.append(fi_tmp)\n",
    "\n",
    "        xgb_oof[val_idx] += model.predict_proba(X_valid)[:,-1] / len(seed_list)\n",
    "        xgb_pred += model.predict_proba(X_test)[:,-1] / len(seed_list)\n",
    "\n",
    "\n",
    "    elapsed = time.time() - start\n",
    "    auc = roc_auc_score(y_valid, xgb_oof[val_idx])\n",
    "    print(f\"fold {fold} - xgb auc: {auc:.6f}, elapsed time: {elapsed:.2f}sec\\n\")            \n",
    "\n",
    "xgb_pred /= N_SPLITS\n",
    "print(f\"oof xgb_auc = {roc_auc_score(train[target], xgb_oof)}\")\n",
    "\n",
    "np.save(\"xgb_oof.npy\", xgb_oof)\n",
    "np.save(\"xgb_pred.npy\", xgb_pred)"
   ]
  },
  {
   "cell_type": "markdown",
   "id": "8d0b7c33",
   "metadata": {
    "papermill": {
     "duration": 0.064779,
     "end_time": "2021-09-14T13:46:42.463356",
     "exception": false,
     "start_time": "2021-09-14T13:46:42.398577",
     "status": "completed"
    },
    "tags": []
   },
   "source": [
    "# OOF predictions"
   ]
  },
  {
   "cell_type": "code",
   "execution_count": 13,
   "id": "88c277c7",
   "metadata": {
    "execution": {
     "iopub.execute_input": "2021-09-14T13:46:42.620645Z",
     "iopub.status.busy": "2021-09-14T13:46:42.613011Z",
     "iopub.status.idle": "2021-09-14T13:46:46.287922Z",
     "shell.execute_reply": "2021-09-14T13:46:46.287321Z",
     "shell.execute_reply.started": "2021-09-09T09:02:06.521109Z"
    },
    "papermill": {
     "duration": 3.759448,
     "end_time": "2021-09-14T13:46:46.288066",
     "exception": false,
     "start_time": "2021-09-14T13:46:42.528618",
     "status": "completed"
    },
    "tags": []
   },
   "outputs": [
    {
     "data": {
      "text/plain": [
       "<matplotlib.collections.PathCollection at 0x7fd995dd9790>"
      ]
     },
     "execution_count": 13,
     "metadata": {},
     "output_type": "execute_result"
    },
    {
     "data": {
      "image/png": "[encoded data removed]",
      "text/plain": [
       "<Figure size 432x288 with 1 Axes>"
      ]
     },
     "metadata": {
      "needs_background": "light"
     },
     "output_type": "display_data"
    }
   ],
   "source": [
    "plt.plot(train[target], train[target])\n",
    "plt.scatter(train[target], xgb_oof)"
   ]
  },
  {
   "cell_type": "markdown",
   "id": "67acd79d",
   "metadata": {
    "papermill": {
     "duration": 0.065037,
     "end_time": "2021-09-14T13:46:46.418030",
     "exception": false,
     "start_time": "2021-09-14T13:46:46.352993",
     "status": "completed"
    },
    "tags": []
   },
   "source": [
    "# Features importances"
   ]
  },
  {
   "cell_type": "code",
   "execution_count": 14,
   "id": "0d3930ec",
   "metadata": {
    "execution": {
     "iopub.execute_input": "2021-09-14T13:46:46.572549Z",
     "iopub.status.busy": "2021-09-14T13:46:46.568970Z",
     "iopub.status.idle": "2021-09-14T13:46:49.360303Z",
     "shell.execute_reply": "2021-09-14T13:46:49.359637Z",
     "shell.execute_reply.started": "2021-09-09T09:02:10.944629Z"
    },
    "papermill": {
     "duration": 2.877238,
     "end_time": "2021-09-14T13:46:49.360473",
     "exception": false,
     "start_time": "2021-09-14T13:46:46.483235",
     "status": "completed"
    },
    "tags": []
   },
   "outputs": [
    {
     "data": {
      "text/plain": [
       "Text(0.5, 1.0, 'LightGBM feature importances')"
      ]
     },
     "execution_count": 14,
     "metadata": {},
     "output_type": "execute_result"
    },
    {
     "data": {
      "image/png": "[encoded data removed]",
      "text/plain": [
       "<Figure size 1152x1152 with 1 Axes>"
      ]
     },
     "metadata": {
      "needs_background": "light"
     },
     "output_type": "display_data"
    }
   ],
   "source": [
    "order = list(xgb_importances.groupby('feature').mean().sort_values('importance', ascending=False).index)\n",
    "\n",
    "fig = plt.figure(figsize=(16, 16), tight_layout=True)\n",
    "sns.barplot(x=\"importance\", y=\"feature\", data=xgb_importances.groupby('feature').mean().reset_index(), order=order)\n",
    "plt.title(\"LightGBM feature importances\")"
   ]
  },
  {
   "cell_type": "markdown",
   "id": "aad1a151",
   "metadata": {
    "papermill": {
     "duration": 0.068316,
     "end_time": "2021-09-14T13:46:49.498047",
     "exception": false,
     "start_time": "2021-09-14T13:46:49.429731",
     "status": "completed"
    },
    "tags": []
   },
   "source": [
    "# Submission"
   ]
  },
  {
   "cell_type": "code",
   "execution_count": 15,
   "id": "5dbeec32",
   "metadata": {
    "execution": {
     "iopub.execute_input": "2021-09-14T13:46:49.640279Z",
     "iopub.status.busy": "2021-09-14T13:46:49.639652Z",
     "iopub.status.idle": "2021-09-14T13:46:51.531055Z",
     "shell.execute_reply": "2021-09-14T13:46:51.530543Z",
     "shell.execute_reply.started": "2021-09-09T09:02:12.857217Z"
    },
    "papermill": {
     "duration": 1.964415,
     "end_time": "2021-09-14T13:46:51.531191",
     "exception": false,
     "start_time": "2021-09-14T13:46:49.566776",
     "status": "completed"
    },
    "tags": []
   },
   "outputs": [
    {
     "data": {
      "text/html": [
       "<div>\n",
       "<style scoped>\n",
       "    .dataframe tbody tr th:only-of-type {\n",
       "        vertical-align: middle;\n",
       "    }\n",
       "\n",
       "    .dataframe tbody tr th {\n",
       "        vertical-align: top;\n",
       "    }\n",
       "\n",
       "    .dataframe thead th {\n",
       "        text-align: right;\n",
       "    }\n",
       "</style>\n",
       "<table border=\"1\" class=\"dataframe\">\n",
       "  <thead>\n",
       "    <tr style=\"text-align: right;\">\n",
       "      <th></th>\n",
       "      <th>id</th>\n",
       "      <th>claim</th>\n",
       "    </tr>\n",
       "  </thead>\n",
       "  <tbody>\n",
       "    <tr>\n",
       "      <th>0</th>\n",
       "      <td>957919</td>\n",
       "      <td>0.578167</td>\n",
       "    </tr>\n",
       "    <tr>\n",
       "      <th>1</th>\n",
       "      <td>957920</td>\n",
       "      <td>0.127217</td>\n",
       "    </tr>\n",
       "    <tr>\n",
       "      <th>2</th>\n",
       "      <td>957921</td>\n",
       "      <td>0.636779</td>\n",
       "    </tr>\n",
       "    <tr>\n",
       "      <th>3</th>\n",
       "      <td>957922</td>\n",
       "      <td>0.124003</td>\n",
       "    </tr>\n",
       "    <tr>\n",
       "      <th>4</th>\n",
       "      <td>957923</td>\n",
       "      <td>0.144906</td>\n",
       "    </tr>\n",
       "    <tr>\n",
       "      <th>...</th>\n",
       "      <td>...</td>\n",
       "      <td>...</td>\n",
       "    </tr>\n",
       "    <tr>\n",
       "      <th>493469</th>\n",
       "      <td>1451388</td>\n",
       "      <td>0.829584</td>\n",
       "    </tr>\n",
       "    <tr>\n",
       "      <th>493470</th>\n",
       "      <td>1451389</td>\n",
       "      <td>0.115092</td>\n",
       "    </tr>\n",
       "    <tr>\n",
       "      <th>493471</th>\n",
       "      <td>1451390</td>\n",
       "      <td>0.752739</td>\n",
       "    </tr>\n",
       "    <tr>\n",
       "      <th>493472</th>\n",
       "      <td>1451391</td>\n",
       "      <td>0.132941</td>\n",
       "    </tr>\n",
       "    <tr>\n",
       "      <th>493473</th>\n",
       "      <td>1451392</td>\n",
       "      <td>0.748168</td>\n",
       "    </tr>\n",
       "  </tbody>\n",
       "</table>\n",
       "<p>493474 rows × 2 columns</p>\n",
       "</div>"
      ],
      "text/plain": [
       "             id     claim\n",
       "0        957919  0.578167\n",
       "1        957920  0.127217\n",
       "2        957921  0.636779\n",
       "3        957922  0.124003\n",
       "4        957923  0.144906\n",
       "...         ...       ...\n",
       "493469  1451388  0.829584\n",
       "493470  1451389  0.115092\n",
       "493471  1451390  0.752739\n",
       "493472  1451391  0.132941\n",
       "493473  1451392  0.748168\n",
       "\n",
       "[493474 rows x 2 columns]"
      ]
     },
     "execution_count": 15,
     "metadata": {},
     "output_type": "execute_result"
    }
   ],
   "source": [
    "submission[target] = xgb_pred\n",
    "submission.to_csv(\"submission.csv\", index=False)\n",
    "\n",
    "submission"
   ]
  },
  {
   "cell_type": "markdown",
   "id": "ff922909",
   "metadata": {
    "papermill": {
     "duration": 0.068043,
     "end_time": "2021-09-14T13:46:51.667271",
     "exception": false,
     "start_time": "2021-09-14T13:46:51.599228",
     "status": "completed"
    },
    "tags": []
   },
   "source": [
    "# Log\n",
    "\n",
    "seeds\n",
    "2017 ver2 mean\n",
    "2018 ver4\n",
    "2019 ver5\n",
    "2020 ver6\n",
    "2021 ver7\n",
    "2022 ver8\n",
    "2023 ver9\n",
    "2024 ver10\n",
    "2025 ver11\n",
    "2026 ver12\n",
    "\n",
    "ver3 median"
   ]
  }
 ],
 "metadata": {
  "kernelspec": {
   "display_name": "Python 3",
   "language": "python",
   "name": "python3"
  },
  "language_info": {
   "codemirror_mode": {
    "name": "ipython",
    "version": 3
   },
   "file_extension": ".py",
   "mimetype": "text/x-python",
   "name": "python",
   "nbconvert_exporter": "python",
   "pygments_lexer": "ipython3",
   "version": "3.7.10"
  },
  "papermill": {
   "default_parameters": {},
   "duration": 24167.600432,
   "end_time": "2021-09-14T13:46:53.226051",
   "environment_variables": {},
   "exception": null,
   "input_path": "__notebook__.ipynb",
   "output_path": "__notebook__.ipynb",
   "parameters": {},
   "start_time": "2021-09-14T07:04:05.625619",
   "version": "2.3.3"
  }
 },
 "nbformat": 4,
 "nbformat_minor": 5
}
