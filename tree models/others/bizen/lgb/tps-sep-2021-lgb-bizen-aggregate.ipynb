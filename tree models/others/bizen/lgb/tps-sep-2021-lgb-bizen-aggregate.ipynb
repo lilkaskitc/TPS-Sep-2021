{
 "cells": [
  {
   "cell_type": "code",
   "execution_count": 1,
   "id": "580d2739",
   "metadata": {
    "execution": {
     "iopub.execute_input": "2021-09-17T00:25:24.850228Z",
     "iopub.status.busy": "2021-09-17T00:25:24.845712Z",
     "iopub.status.idle": "2021-09-17T00:25:26.003142Z",
     "shell.execute_reply": "2021-09-17T00:25:26.002311Z",
     "shell.execute_reply.started": "2021-09-17T00:23:07.028665Z"
    },
    "papermill": {
     "duration": 1.176339,
     "end_time": "2021-09-17T00:25:26.003366",
     "exception": false,
     "start_time": "2021-09-17T00:25:24.827027",
     "status": "completed"
    },
    "tags": []
   },
   "outputs": [],
   "source": [
    "import numpy as np\n",
    "import pandas as pd\n",
    "from pathlib import Path\n",
    "from sklearn.metrics import roc_auc_score\n"
   ]
  },
  {
   "cell_type": "code",
   "execution_count": 2,
   "id": "b9ded582",
   "metadata": {
    "execution": {
     "iopub.execute_input": "2021-09-17T00:25:26.028773Z",
     "iopub.status.busy": "2021-09-17T00:25:26.027894Z",
     "iopub.status.idle": "2021-09-17T00:26:19.146168Z",
     "shell.execute_reply": "2021-09-17T00:26:19.145448Z",
     "shell.execute_reply.started": "2021-09-17T00:23:08.229452Z"
    },
    "papermill": {
     "duration": 53.132439,
     "end_time": "2021-09-17T00:26:19.146370",
     "exception": false,
     "start_time": "2021-09-17T00:25:26.013931",
     "status": "completed"
    },
    "tags": []
   },
   "outputs": [],
   "source": [
    "INPUT = Path(\"../input/tabular-playground-series-sep-2021\")\n",
    "\n",
    "train = pd.read_csv(INPUT / \"train.csv\")\n",
    "test = pd.read_csv(INPUT / \"test.csv\")\n",
    "submission = pd.read_csv(INPUT / \"sample_solution.csv\")"
   ]
  },
  {
   "cell_type": "markdown",
   "id": "19516e55",
   "metadata": {
    "papermill": {
     "duration": 0.007296,
     "end_time": "2021-09-17T00:26:19.161774",
     "exception": false,
     "start_time": "2021-09-17T00:26:19.154478",
     "status": "completed"
    },
    "tags": []
   },
   "source": [
    "seeds \n",
    "\n",
    "ver7 mean fold 0-6 ver6 fold 7-9 seed \n",
    "\n",
    "2017 ver8 aggregate ver6,7 0.8165534780549405 \n",
    "\n",
    "2018 ver9 \n",
    "\n",
    "2019 ver11 fold 0-4 ver12 fold 5-9 \n",
    "\n",
    "2020 ver13 fold 0-4 ver14 fold 5-9 \n",
    "\n",
    "2021 ver15 fold 0-4 ver16 fold 5-9 \n",
    "\n",
    "2022 ver17 fold 0-4 ver18 fold 5-9 \n",
    "\n",
    "2023 ver19 fold 0-4 ver20 fold 5-9 \n",
    "\n",
    "2024 ver21 fold 0-4 ver22 fold 5-9 \n",
    "\n",
    "2025 ver23 fold 0-4 ver24 fold 5-9 \n",
    "\n",
    "2026 ver25 fold 0-4 ver26 fold 5-9"
   ]
  },
  {
   "cell_type": "code",
   "execution_count": 3,
   "id": "7c042f1f",
   "metadata": {
    "execution": {
     "iopub.execute_input": "2021-09-17T00:26:19.184526Z",
     "iopub.status.busy": "2021-09-17T00:26:19.183798Z",
     "iopub.status.idle": "2021-09-17T00:26:19.191966Z",
     "shell.execute_reply": "2021-09-17T00:26:19.191203Z",
     "shell.execute_reply.started": "2021-09-17T00:23:58.723286Z"
    },
    "papermill": {
     "duration": 0.021891,
     "end_time": "2021-09-17T00:26:19.192137",
     "exception": false,
     "start_time": "2021-09-17T00:26:19.170246",
     "status": "completed"
    },
    "tags": []
   },
   "outputs": [],
   "source": [
    "oof = np.zeros(train.shape[0])\n",
    "pred = np.zeros(test.shape[0])\n",
    "\n",
    "target = 'claim'\n",
    "#numseed = [1]+[2]*6+[1]*7\n",
    "numseed=10"
   ]
  },
  {
   "cell_type": "code",
   "execution_count": 4,
   "id": "b235a21e",
   "metadata": {
    "execution": {
     "iopub.execute_input": "2021-09-17T00:26:19.214730Z",
     "iopub.status.busy": "2021-09-17T00:26:19.213930Z",
     "iopub.status.idle": "2021-09-17T00:26:21.670899Z",
     "shell.execute_reply": "2021-09-17T00:26:21.669788Z",
     "shell.execute_reply.started": "2021-09-17T00:23:58.733272Z"
    },
    "papermill": {
     "duration": 2.471249,
     "end_time": "2021-09-17T00:26:21.671100",
     "exception": false,
     "start_time": "2021-09-17T00:26:19.199851",
     "status": "completed"
    },
    "tags": []
   },
   "outputs": [
    {
     "name": "stdout",
     "output_type": "stream",
     "text": [
      "6\n",
      "7\n",
      "9\n",
      "11\n",
      "12\n",
      "13\n",
      "14\n",
      "15\n",
      "16\n",
      "17\n",
      "18\n",
      "19\n",
      "20\n",
      "21\n",
      "22\n",
      "23\n",
      "24\n",
      "25\n",
      "26\n"
     ]
    }
   ],
   "source": [
    "for i in range(6, 27):\n",
    "    if i not in [8,10]:\n",
    "        print(i)\n",
    "        \n",
    "        oof += np.load(\"../input/tps-sep-lgb-bizen/\" +str(i)+ \"lgb_oof.npy\")\n",
    "        pred += np.load(\"../input/tps-sep-lgb-bizen/\" +str(i)+ \"lgb_pred.npy\")"
   ]
  },
  {
   "cell_type": "code",
   "execution_count": 5,
   "id": "8f79f1bf",
   "metadata": {
    "execution": {
     "iopub.execute_input": "2021-09-17T00:26:21.697425Z",
     "iopub.status.busy": "2021-09-17T00:26:21.696716Z",
     "iopub.status.idle": "2021-09-17T00:26:22.207723Z",
     "shell.execute_reply": "2021-09-17T00:26:22.207014Z",
     "shell.execute_reply.started": "2021-09-17T00:24:55.704916Z"
    },
    "papermill": {
     "duration": 0.524951,
     "end_time": "2021-09-17T00:26:22.207884",
     "exception": false,
     "start_time": "2021-09-17T00:26:21.682933",
     "status": "completed"
    },
    "tags": []
   },
   "outputs": [
    {
     "name": "stdout",
     "output_type": "stream",
     "text": [
      "oof auc = 0.8166632738799496\n"
     ]
    }
   ],
   "source": [
    "oof /= numseed\n",
    "pred /= numseed\n",
    "\n",
    "print(f\"oof auc = {roc_auc_score(train[target], oof)}\")"
   ]
  },
  {
   "cell_type": "code",
   "execution_count": 6,
   "id": "d4849217",
   "metadata": {
    "execution": {
     "iopub.execute_input": "2021-09-17T00:26:22.237540Z",
     "iopub.status.busy": "2021-09-17T00:26:22.236269Z",
     "iopub.status.idle": "2021-09-17T00:26:22.258637Z",
     "shell.execute_reply": "2021-09-17T00:26:22.257964Z",
     "shell.execute_reply.started": "2021-09-17T00:24:56.224215Z"
    },
    "papermill": {
     "duration": 0.039517,
     "end_time": "2021-09-17T00:26:22.258813",
     "exception": false,
     "start_time": "2021-09-17T00:26:22.219296",
     "status": "completed"
    },
    "tags": []
   },
   "outputs": [],
   "source": [
    "np.save(\"lgb_bizen_oof.npy\", oof)\n",
    "np.save(\"lgb_bizen_pred.npy\", pred)"
   ]
  },
  {
   "cell_type": "code",
   "execution_count": 7,
   "id": "1866b402",
   "metadata": {
    "execution": {
     "iopub.execute_input": "2021-09-17T00:26:22.288889Z",
     "iopub.status.busy": "2021-09-17T00:26:22.287464Z",
     "iopub.status.idle": "2021-09-17T00:26:24.221817Z",
     "shell.execute_reply": "2021-09-17T00:26:24.221223Z",
     "shell.execute_reply.started": "2021-09-17T00:24:56.246087Z"
    },
    "papermill": {
     "duration": 1.951823,
     "end_time": "2021-09-17T00:26:24.221989",
     "exception": false,
     "start_time": "2021-09-17T00:26:22.270166",
     "status": "completed"
    },
    "tags": []
   },
   "outputs": [
    {
     "data": {
      "text/html": [
       "<div>\n",
       "<style scoped>\n",
       "    .dataframe tbody tr th:only-of-type {\n",
       "        vertical-align: middle;\n",
       "    }\n",
       "\n",
       "    .dataframe tbody tr th {\n",
       "        vertical-align: top;\n",
       "    }\n",
       "\n",
       "    .dataframe thead th {\n",
       "        text-align: right;\n",
       "    }\n",
       "</style>\n",
       "<table border=\"1\" class=\"dataframe\">\n",
       "  <thead>\n",
       "    <tr style=\"text-align: right;\">\n",
       "      <th></th>\n",
       "      <th>id</th>\n",
       "      <th>claim</th>\n",
       "    </tr>\n",
       "  </thead>\n",
       "  <tbody>\n",
       "    <tr>\n",
       "      <th>0</th>\n",
       "      <td>957919</td>\n",
       "      <td>0.561836</td>\n",
       "    </tr>\n",
       "    <tr>\n",
       "      <th>1</th>\n",
       "      <td>957920</td>\n",
       "      <td>0.119917</td>\n",
       "    </tr>\n",
       "    <tr>\n",
       "      <th>2</th>\n",
       "      <td>957921</td>\n",
       "      <td>0.629326</td>\n",
       "    </tr>\n",
       "    <tr>\n",
       "      <th>3</th>\n",
       "      <td>957922</td>\n",
       "      <td>0.128635</td>\n",
       "    </tr>\n",
       "    <tr>\n",
       "      <th>4</th>\n",
       "      <td>957923</td>\n",
       "      <td>0.153291</td>\n",
       "    </tr>\n",
       "    <tr>\n",
       "      <th>...</th>\n",
       "      <td>...</td>\n",
       "      <td>...</td>\n",
       "    </tr>\n",
       "    <tr>\n",
       "      <th>493469</th>\n",
       "      <td>1451388</td>\n",
       "      <td>0.827457</td>\n",
       "    </tr>\n",
       "    <tr>\n",
       "      <th>493470</th>\n",
       "      <td>1451389</td>\n",
       "      <td>0.111374</td>\n",
       "    </tr>\n",
       "    <tr>\n",
       "      <th>493471</th>\n",
       "      <td>1451390</td>\n",
       "      <td>0.758873</td>\n",
       "    </tr>\n",
       "    <tr>\n",
       "      <th>493472</th>\n",
       "      <td>1451391</td>\n",
       "      <td>0.133944</td>\n",
       "    </tr>\n",
       "    <tr>\n",
       "      <th>493473</th>\n",
       "      <td>1451392</td>\n",
       "      <td>0.757657</td>\n",
       "    </tr>\n",
       "  </tbody>\n",
       "</table>\n",
       "<p>493474 rows × 2 columns</p>\n",
       "</div>"
      ],
      "text/plain": [
       "             id     claim\n",
       "0        957919  0.561836\n",
       "1        957920  0.119917\n",
       "2        957921  0.629326\n",
       "3        957922  0.128635\n",
       "4        957923  0.153291\n",
       "...         ...       ...\n",
       "493469  1451388  0.827457\n",
       "493470  1451389  0.111374\n",
       "493471  1451390  0.758873\n",
       "493472  1451391  0.133944\n",
       "493473  1451392  0.757657\n",
       "\n",
       "[493474 rows x 2 columns]"
      ]
     },
     "execution_count": 7,
     "metadata": {},
     "output_type": "execute_result"
    }
   ],
   "source": [
    "submission[target] = pred\n",
    "submission.to_csv(\"submission.csv\", index=False)\n",
    "\n",
    "submission"
   ]
  }
 ],
 "metadata": {
  "kernelspec": {
   "display_name": "Python 3",
   "language": "python",
   "name": "python3"
  },
  "language_info": {
   "codemirror_mode": {
    "name": "ipython",
    "version": 3
   },
   "file_extension": ".py",
   "mimetype": "text/x-python",
   "name": "python",
   "nbconvert_exporter": "python",
   "pygments_lexer": "ipython3",
   "version": "3.7.10"
  },
  "papermill": {
   "default_parameters": {},
   "duration": 69.945451,
   "end_time": "2021-09-17T00:26:25.835837",
   "environment_variables": {},
   "exception": null,
   "input_path": "__notebook__.ipynb",
   "output_path": "__notebook__.ipynb",
   "parameters": {},
   "start_time": "2021-09-17T00:25:15.890386",
   "version": "2.3.3"
  }
 },
 "nbformat": 4,
 "nbformat_minor": 5
}
