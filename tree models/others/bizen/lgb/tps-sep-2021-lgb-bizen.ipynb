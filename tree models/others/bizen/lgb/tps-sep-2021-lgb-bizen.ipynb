{
 "cells": [
  {
   "cell_type": "code",
   "execution_count": 1,
   "id": "8e794b91",
   "metadata": {
    "_cell_guid": "b1076dfc-b9ad-4769-8c92-a6c4dae69d19",
    "_uuid": "8f2839f25d086af736a60e9eeb907d3b93b6e0e5",
    "execution": {
     "iopub.execute_input": "2021-09-16T10:10:30.902439Z",
     "iopub.status.busy": "2021-09-16T10:10:30.901666Z",
     "iopub.status.idle": "2021-09-16T10:10:33.311927Z",
     "shell.execute_reply": "2021-09-16T10:10:33.310999Z",
     "shell.execute_reply.started": "2021-09-11T01:37:08.460261Z"
    },
    "papermill": {
     "duration": 2.442184,
     "end_time": "2021-09-16T10:10:33.312101",
     "exception": false,
     "start_time": "2021-09-16T10:10:30.869917",
     "status": "completed"
    },
    "tags": []
   },
   "outputs": [
    {
     "data": {
      "text/html": [
       "<style type='text/css'>\n",
       ".datatable table.frame { margin-bottom: 0; }\n",
       ".datatable table.frame thead { border-bottom: none; }\n",
       ".datatable table.frame tr.coltypes td {  color: #FFFFFF;  line-height: 6px;  padding: 0 0.5em;}\n",
       ".datatable .bool    { background: #DDDD99; }\n",
       ".datatable .object  { background: #565656; }\n",
       ".datatable .int     { background: #5D9E5D; }\n",
       ".datatable .float   { background: #4040CC; }\n",
       ".datatable .str     { background: #CC4040; }\n",
       ".datatable .time    { background: #40CC40; }\n",
       ".datatable .row_index {  background: var(--jp-border-color3);  border-right: 1px solid var(--jp-border-color0);  color: var(--jp-ui-font-color3);  font-size: 9px;}\n",
       ".datatable .frame tbody td { text-align: left; }\n",
       ".datatable .frame tr.coltypes .row_index {  background: var(--jp-border-color0);}\n",
       ".datatable th:nth-child(2) { padding-left: 12px; }\n",
       ".datatable .hellipsis {  color: var(--jp-cell-editor-border-color);}\n",
       ".datatable .vellipsis {  background: var(--jp-layout-color0);  color: var(--jp-cell-editor-border-color);}\n",
       ".datatable .na {  color: var(--jp-cell-editor-border-color);  font-size: 80%;}\n",
       ".datatable .sp {  opacity: 0.25;}\n",
       ".datatable .footer { font-size: 9px; }\n",
       ".datatable .frame_dimensions {  background: var(--jp-border-color3);  border-top: 1px solid var(--jp-border-color0);  color: var(--jp-ui-font-color3);  display: inline-block;  opacity: 0.6;  padding: 1px 10px 1px 5px;}\n",
       "</style>\n"
      ],
      "text/plain": [
       "<IPython.core.display.HTML object>"
      ]
     },
     "metadata": {},
     "output_type": "display_data"
    }
   ],
   "source": [
    "import numpy as np\n",
    "import pandas as pd\n",
    "import random\n",
    "import os\n",
    "import time\n",
    "import pickle\n",
    "from pathlib import Path\n",
    "\n",
    "from sklearn.preprocessing import StandardScaler\n",
    "from sklearn.model_selection import StratifiedKFold, train_test_split\n",
    "from sklearn.metrics import roc_auc_score\n",
    "\n",
    "import lightgbm as lgb\n",
    "#import xgboost as xgb\n",
    "#import catboost as ctb\n",
    "\n",
    "import matplotlib.pyplot as plt\n",
    "import seaborn as sns\n",
    "\n",
    "import warnings\n",
    "warnings.simplefilter('ignore')"
   ]
  },
  {
   "cell_type": "markdown",
   "id": "066bc015",
   "metadata": {
    "papermill": {
     "duration": 0.017456,
     "end_time": "2021-09-16T10:10:33.348430",
     "exception": false,
     "start_time": "2021-09-16T10:10:33.330974",
     "status": "completed"
    },
    "tags": []
   },
   "source": [
    "https://www.kaggle.com/hiro5299834/tps-sep-2021-single-lgbm/execution\n",
    "\n",
    "hiro5299834"
   ]
  },
  {
   "cell_type": "markdown",
   "id": "e7aa7dd3",
   "metadata": {
    "papermill": {
     "duration": 0.017486,
     "end_time": "2021-09-16T10:10:33.383671",
     "exception": false,
     "start_time": "2021-09-16T10:10:33.366185",
     "status": "completed"
    },
    "tags": []
   },
   "source": [
    "# Parameters"
   ]
  },
  {
   "cell_type": "code",
   "execution_count": 2,
   "id": "52691d1d",
   "metadata": {
    "execution": {
     "iopub.execute_input": "2021-09-16T10:10:33.425563Z",
     "iopub.status.busy": "2021-09-16T10:10:33.424817Z",
     "iopub.status.idle": "2021-09-16T10:10:33.427787Z",
     "shell.execute_reply": "2021-09-16T10:10:33.427201Z",
     "shell.execute_reply.started": "2021-09-11T01:37:09.828774Z"
    },
    "papermill": {
     "duration": 0.026401,
     "end_time": "2021-09-16T10:10:33.427935",
     "exception": false,
     "start_time": "2021-09-16T10:10:33.401534",
     "status": "completed"
    },
    "tags": []
   },
   "outputs": [],
   "source": [
    "target = 'claim'\n",
    "\n",
    "DEBUG = False\n",
    "\n",
    "if DEBUG:\n",
    "    N_ESTIMATORS = 1\n",
    "    N_SPLITS = 2\n",
    "    SEED = 2017\n",
    "    CVSEED = 2017\n",
    "    EARLY_STOPPING_ROUNDS = 1\n",
    "    VERBOSE = 100\n",
    "    #N_ITERS = 2\n",
    "else:\n",
    "    N_SPLITS = 10\n",
    "    N_ESTIMATORS = 20000\n",
    "    EARLY_STOPPING_ROUNDS = 300\n",
    "    VERBOSE = 1000\n",
    "    SEED = 2017\n",
    "    CVSEED = 2017\n",
    "    #N_ITERS = 10"
   ]
  },
  {
   "cell_type": "code",
   "execution_count": 3,
   "id": "e5a21b3b",
   "metadata": {
    "execution": {
     "iopub.execute_input": "2021-09-16T10:10:33.469655Z",
     "iopub.status.busy": "2021-09-16T10:10:33.468932Z",
     "iopub.status.idle": "2021-09-16T10:10:33.471575Z",
     "shell.execute_reply": "2021-09-16T10:10:33.472056Z",
     "shell.execute_reply.started": "2021-09-11T01:37:10.308187Z"
    },
    "papermill": {
     "duration": 0.026442,
     "end_time": "2021-09-16T10:10:33.472244",
     "exception": false,
     "start_time": "2021-09-16T10:10:33.445802",
     "status": "completed"
    },
    "tags": []
   },
   "outputs": [],
   "source": [
    "def set_seed(seed=2017):\n",
    "    random.seed(seed)\n",
    "    os.environ['PYTHONHASHSEED'] = str(seed)\n",
    "    np.random.seed(seed)\n",
    "    \n",
    "set_seed(SEED)"
   ]
  },
  {
   "cell_type": "markdown",
   "id": "00706010",
   "metadata": {
    "papermill": {
     "duration": 0.017479,
     "end_time": "2021-09-16T10:10:33.507727",
     "exception": false,
     "start_time": "2021-09-16T10:10:33.490248",
     "status": "completed"
    },
    "tags": []
   },
   "source": [
    "# Datasets"
   ]
  },
  {
   "cell_type": "code",
   "execution_count": 4,
   "id": "131cf272",
   "metadata": {
    "execution": {
     "iopub.execute_input": "2021-09-16T10:10:33.546673Z",
     "iopub.status.busy": "2021-09-16T10:10:33.546007Z",
     "iopub.status.idle": "2021-09-16T10:11:21.832379Z",
     "shell.execute_reply": "2021-09-16T10:11:21.831189Z",
     "shell.execute_reply.started": "2021-09-11T01:37:12.035894Z"
    },
    "papermill": {
     "duration": 48.306985,
     "end_time": "2021-09-16T10:11:21.832547",
     "exception": false,
     "start_time": "2021-09-16T10:10:33.525562",
     "status": "completed"
    },
    "tags": []
   },
   "outputs": [],
   "source": [
    "INPUT = Path(\"../input/tabular-playground-series-sep-2021\")\n",
    "\n",
    "train = pd.read_csv(INPUT / \"train.csv\")\n",
    "test = pd.read_csv(INPUT / \"test.csv\")\n",
    "submission = pd.read_csv(INPUT / \"sample_solution.csv\")"
   ]
  },
  {
   "cell_type": "markdown",
   "id": "7dcdd20a",
   "metadata": {
    "papermill": {
     "duration": 0.01751,
     "end_time": "2021-09-16T10:11:21.870956",
     "exception": false,
     "start_time": "2021-09-16T10:11:21.853446",
     "status": "completed"
    },
    "tags": []
   },
   "source": [
    "# Preprocessing"
   ]
  },
  {
   "cell_type": "code",
   "execution_count": 5,
   "id": "261a8ee0",
   "metadata": {
    "execution": {
     "iopub.execute_input": "2021-09-16T10:11:21.912072Z",
     "iopub.status.busy": "2021-09-16T10:11:21.911144Z",
     "iopub.status.idle": "2021-09-16T10:11:21.913924Z",
     "shell.execute_reply": "2021-09-16T10:11:21.913436Z",
     "shell.execute_reply.started": "2021-09-07T00:44:26.991956Z"
    },
    "papermill": {
     "duration": 0.0254,
     "end_time": "2021-09-16T10:11:21.914080",
     "exception": false,
     "start_time": "2021-09-16T10:11:21.888680",
     "status": "completed"
    },
    "tags": []
   },
   "outputs": [],
   "source": [
    "features = [col for col in train.columns if 'f' in col]"
   ]
  },
  {
   "cell_type": "code",
   "execution_count": 6,
   "id": "bd0ebe77",
   "metadata": {
    "execution": {
     "iopub.execute_input": "2021-09-16T10:11:21.960795Z",
     "iopub.status.busy": "2021-09-16T10:11:21.960063Z",
     "iopub.status.idle": "2021-09-16T10:11:22.774279Z",
     "shell.execute_reply": "2021-09-16T10:11:22.774768Z",
     "shell.execute_reply.started": "2021-09-07T00:44:26.99871Z"
    },
    "papermill": {
     "duration": 0.84305,
     "end_time": "2021-09-16T10:11:22.774958",
     "exception": false,
     "start_time": "2021-09-16T10:11:21.931908",
     "status": "completed"
    },
    "tags": []
   },
   "outputs": [],
   "source": [
    "train['n_missing'] = train[features].isna().sum(axis=1)\n",
    "test['n_missing'] = test[features].isna().sum(axis=1)\n",
    "\n",
    "features += ['n_missing']"
   ]
  },
  {
   "cell_type": "code",
   "execution_count": 7,
   "id": "c92365e0",
   "metadata": {
    "execution": {
     "iopub.execute_input": "2021-09-16T10:11:22.814205Z",
     "iopub.status.busy": "2021-09-16T10:11:22.813277Z",
     "iopub.status.idle": "2021-09-16T10:11:35.599699Z",
     "shell.execute_reply": "2021-09-16T10:11:35.600205Z"
    },
    "papermill": {
     "duration": 12.807656,
     "end_time": "2021-09-16T10:11:35.600425",
     "exception": false,
     "start_time": "2021-09-16T10:11:22.792769",
     "status": "completed"
    },
    "tags": []
   },
   "outputs": [],
   "source": [
    "train[features] = train[features].interpolate()\n",
    "test[features] = test[features].interpolate()\n",
    "                        \n",
    "train[features] = train[features].fillna(train[features].mean())\n",
    "test[features] = test[features].fillna(test[features].mean())"
   ]
  },
  {
   "cell_type": "code",
   "execution_count": 8,
   "id": "704d0696",
   "metadata": {
    "execution": {
     "iopub.execute_input": "2021-09-16T10:11:35.640001Z",
     "iopub.status.busy": "2021-09-16T10:11:35.639004Z",
     "iopub.status.idle": "2021-09-16T10:11:35.642714Z",
     "shell.execute_reply": "2021-09-16T10:11:35.643149Z",
     "shell.execute_reply.started": "2021-09-07T00:44:32.251726Z"
    },
    "papermill": {
     "duration": 0.025009,
     "end_time": "2021-09-16T10:11:35.643332",
     "exception": false,
     "start_time": "2021-09-16T10:11:35.618323",
     "status": "completed"
    },
    "tags": []
   },
   "outputs": [],
   "source": [
    "ss = StandardScaler()\n"
   ]
  },
  {
   "cell_type": "code",
   "execution_count": 9,
   "id": "cc6d0c9c",
   "metadata": {
    "execution": {
     "iopub.execute_input": "2021-09-16T10:11:35.683464Z",
     "iopub.status.busy": "2021-09-16T10:11:35.682504Z",
     "iopub.status.idle": "2021-09-16T10:11:35.942292Z",
     "shell.execute_reply": "2021-09-16T10:11:35.941741Z",
     "shell.execute_reply.started": "2021-09-07T00:44:32.257636Z"
    },
    "papermill": {
     "duration": 0.28041,
     "end_time": "2021-09-16T10:11:35.942451",
     "exception": false,
     "start_time": "2021-09-16T10:11:35.662041",
     "status": "completed"
    },
    "tags": []
   },
   "outputs": [
    {
     "data": {
      "text/html": [
       "<div>\n",
       "<style scoped>\n",
       "    .dataframe tbody tr th:only-of-type {\n",
       "        vertical-align: middle;\n",
       "    }\n",
       "\n",
       "    .dataframe tbody tr th {\n",
       "        vertical-align: top;\n",
       "    }\n",
       "\n",
       "    .dataframe thead th {\n",
       "        text-align: right;\n",
       "    }\n",
       "</style>\n",
       "<table border=\"1\" class=\"dataframe\">\n",
       "  <thead>\n",
       "    <tr style=\"text-align: right;\">\n",
       "      <th></th>\n",
       "      <th>f1</th>\n",
       "      <th>f2</th>\n",
       "      <th>f3</th>\n",
       "      <th>f4</th>\n",
       "      <th>f5</th>\n",
       "      <th>f6</th>\n",
       "      <th>f7</th>\n",
       "      <th>f8</th>\n",
       "      <th>f9</th>\n",
       "      <th>f10</th>\n",
       "      <th>...</th>\n",
       "      <th>f110</th>\n",
       "      <th>f111</th>\n",
       "      <th>f112</th>\n",
       "      <th>f113</th>\n",
       "      <th>f114</th>\n",
       "      <th>f115</th>\n",
       "      <th>f116</th>\n",
       "      <th>f117</th>\n",
       "      <th>f118</th>\n",
       "      <th>n_missing</th>\n",
       "    </tr>\n",
       "  </thead>\n",
       "  <tbody>\n",
       "    <tr>\n",
       "      <th>0</th>\n",
       "      <td>0.165850</td>\n",
       "      <td>0.487050</td>\n",
       "      <td>1295.00</td>\n",
       "      <td>0.023100</td>\n",
       "      <td>0.31900</td>\n",
       "      <td>0.901880</td>\n",
       "      <td>573.29</td>\n",
       "      <td>3743.7</td>\n",
       "      <td>2.705700e+12</td>\n",
       "      <td>6221.000000</td>\n",
       "      <td>...</td>\n",
       "      <td>-22.1890</td>\n",
       "      <td>2.0655</td>\n",
       "      <td>0.430880</td>\n",
       "      <td>-10.7410</td>\n",
       "      <td>81606.00</td>\n",
       "      <td>1.1940</td>\n",
       "      <td>1.980400e+14</td>\n",
       "      <td>2017.10</td>\n",
       "      <td>0.46357</td>\n",
       "      <td>1</td>\n",
       "    </tr>\n",
       "    <tr>\n",
       "      <th>1</th>\n",
       "      <td>0.129650</td>\n",
       "      <td>0.373480</td>\n",
       "      <td>1763.00</td>\n",
       "      <td>0.728840</td>\n",
       "      <td>0.33247</td>\n",
       "      <td>-1.263100</td>\n",
       "      <td>875.55</td>\n",
       "      <td>554370.0</td>\n",
       "      <td>5.955700e+14</td>\n",
       "      <td>934.430000</td>\n",
       "      <td>...</td>\n",
       "      <td>-1.6342</td>\n",
       "      <td>1.5736</td>\n",
       "      <td>-1.071200</td>\n",
       "      <td>11.8320</td>\n",
       "      <td>90114.00</td>\n",
       "      <td>1.1507</td>\n",
       "      <td>4.388000e+16</td>\n",
       "      <td>6638.90</td>\n",
       "      <td>0.28125</td>\n",
       "      <td>0</td>\n",
       "    </tr>\n",
       "    <tr>\n",
       "      <th>2</th>\n",
       "      <td>0.120190</td>\n",
       "      <td>0.445210</td>\n",
       "      <td>736.26</td>\n",
       "      <td>0.046150</td>\n",
       "      <td>0.29605</td>\n",
       "      <td>0.316650</td>\n",
       "      <td>2659.50</td>\n",
       "      <td>317140.0</td>\n",
       "      <td>3.977800e+14</td>\n",
       "      <td>131.810000</td>\n",
       "      <td>...</td>\n",
       "      <td>-32.7800</td>\n",
       "      <td>2.1364</td>\n",
       "      <td>-1.931200</td>\n",
       "      <td>-3.2804</td>\n",
       "      <td>37739.00</td>\n",
       "      <td>1.1548</td>\n",
       "      <td>1.718100e+14</td>\n",
       "      <td>5844.00</td>\n",
       "      <td>0.13797</td>\n",
       "      <td>1</td>\n",
       "    </tr>\n",
       "    <tr>\n",
       "      <th>3</th>\n",
       "      <td>0.054008</td>\n",
       "      <td>0.395960</td>\n",
       "      <td>996.14</td>\n",
       "      <td>0.859340</td>\n",
       "      <td>0.36678</td>\n",
       "      <td>-0.170600</td>\n",
       "      <td>386.56</td>\n",
       "      <td>325680.0</td>\n",
       "      <td>-3.432200e+13</td>\n",
       "      <td>-26.473000</td>\n",
       "      <td>...</td>\n",
       "      <td>-2.4162</td>\n",
       "      <td>1.5199</td>\n",
       "      <td>-0.011633</td>\n",
       "      <td>1.3840</td>\n",
       "      <td>26849.00</td>\n",
       "      <td>1.1490</td>\n",
       "      <td>2.138800e+17</td>\n",
       "      <td>6173.30</td>\n",
       "      <td>0.32910</td>\n",
       "      <td>0</td>\n",
       "    </tr>\n",
       "    <tr>\n",
       "      <th>4</th>\n",
       "      <td>0.079947</td>\n",
       "      <td>-0.006919</td>\n",
       "      <td>10574.00</td>\n",
       "      <td>0.348450</td>\n",
       "      <td>0.45008</td>\n",
       "      <td>-1.842000</td>\n",
       "      <td>3027.00</td>\n",
       "      <td>428150.0</td>\n",
       "      <td>9.291500e+11</td>\n",
       "      <td>5999.400000</td>\n",
       "      <td>...</td>\n",
       "      <td>-18.6300</td>\n",
       "      <td>3.7387</td>\n",
       "      <td>0.757080</td>\n",
       "      <td>-4.9405</td>\n",
       "      <td>50336.00</td>\n",
       "      <td>1.2488</td>\n",
       "      <td>2.151300e+17</td>\n",
       "      <td>2250.10</td>\n",
       "      <td>0.33796</td>\n",
       "      <td>0</td>\n",
       "    </tr>\n",
       "    <tr>\n",
       "      <th>...</th>\n",
       "      <td>...</td>\n",
       "      <td>...</td>\n",
       "      <td>...</td>\n",
       "      <td>...</td>\n",
       "      <td>...</td>\n",
       "      <td>...</td>\n",
       "      <td>...</td>\n",
       "      <td>...</td>\n",
       "      <td>...</td>\n",
       "      <td>...</td>\n",
       "      <td>...</td>\n",
       "      <td>...</td>\n",
       "      <td>...</td>\n",
       "      <td>...</td>\n",
       "      <td>...</td>\n",
       "      <td>...</td>\n",
       "      <td>...</td>\n",
       "      <td>...</td>\n",
       "      <td>...</td>\n",
       "      <td>...</td>\n",
       "      <td>...</td>\n",
       "    </tr>\n",
       "    <tr>\n",
       "      <th>493469</th>\n",
       "      <td>-0.009112</td>\n",
       "      <td>0.308190</td>\n",
       "      <td>637.64</td>\n",
       "      <td>0.778200</td>\n",
       "      <td>0.41415</td>\n",
       "      <td>-1.068500</td>\n",
       "      <td>651.22</td>\n",
       "      <td>985000.0</td>\n",
       "      <td>6.079700e+15</td>\n",
       "      <td>508.820000</td>\n",
       "      <td>...</td>\n",
       "      <td>-17.5100</td>\n",
       "      <td>2.3325</td>\n",
       "      <td>0.112260</td>\n",
       "      <td>-5.9238</td>\n",
       "      <td>24472.00</td>\n",
       "      <td>1.1559</td>\n",
       "      <td>8.163900e+16</td>\n",
       "      <td>857.09</td>\n",
       "      <td>1.56330</td>\n",
       "      <td>2</td>\n",
       "    </tr>\n",
       "    <tr>\n",
       "      <th>493470</th>\n",
       "      <td>0.088922</td>\n",
       "      <td>0.482650</td>\n",
       "      <td>6924.10</td>\n",
       "      <td>0.025963</td>\n",
       "      <td>0.35540</td>\n",
       "      <td>-0.870200</td>\n",
       "      <td>2514.20</td>\n",
       "      <td>18004.0</td>\n",
       "      <td>6.073500e+14</td>\n",
       "      <td>-0.008665</td>\n",
       "      <td>...</td>\n",
       "      <td>-7.8690</td>\n",
       "      <td>1.7005</td>\n",
       "      <td>97.813000</td>\n",
       "      <td>4.3793</td>\n",
       "      <td>-2432.00</td>\n",
       "      <td>1.0707</td>\n",
       "      <td>4.691800e+16</td>\n",
       "      <td>7497.10</td>\n",
       "      <td>0.67075</td>\n",
       "      <td>0</td>\n",
       "    </tr>\n",
       "    <tr>\n",
       "      <th>493471</th>\n",
       "      <td>0.140620</td>\n",
       "      <td>0.484750</td>\n",
       "      <td>1797.10</td>\n",
       "      <td>0.147020</td>\n",
       "      <td>0.28803</td>\n",
       "      <td>-1.407100</td>\n",
       "      <td>434.03</td>\n",
       "      <td>333050.0</td>\n",
       "      <td>2.351000e+15</td>\n",
       "      <td>33492.000000</td>\n",
       "      <td>...</td>\n",
       "      <td>-5.3824</td>\n",
       "      <td>1.6827</td>\n",
       "      <td>126.511500</td>\n",
       "      <td>8.0633</td>\n",
       "      <td>2471.40</td>\n",
       "      <td>1.1725</td>\n",
       "      <td>7.900900e+16</td>\n",
       "      <td>2904.60</td>\n",
       "      <td>0.18005</td>\n",
       "      <td>5</td>\n",
       "    </tr>\n",
       "    <tr>\n",
       "      <th>493472</th>\n",
       "      <td>0.168000</td>\n",
       "      <td>0.351760</td>\n",
       "      <td>454.79</td>\n",
       "      <td>0.164580</td>\n",
       "      <td>0.16983</td>\n",
       "      <td>0.323850</td>\n",
       "      <td>2331.20</td>\n",
       "      <td>223980.0</td>\n",
       "      <td>-2.795300e+12</td>\n",
       "      <td>93.561000</td>\n",
       "      <td>...</td>\n",
       "      <td>-4.2416</td>\n",
       "      <td>1.3531</td>\n",
       "      <td>155.210000</td>\n",
       "      <td>13.9630</td>\n",
       "      <td>-11.44</td>\n",
       "      <td>1.1946</td>\n",
       "      <td>-1.770600e+14</td>\n",
       "      <td>6763.10</td>\n",
       "      <td>0.33223</td>\n",
       "      <td>0</td>\n",
       "    </tr>\n",
       "    <tr>\n",
       "      <th>493473</th>\n",
       "      <td>0.093079</td>\n",
       "      <td>0.501860</td>\n",
       "      <td>3322.40</td>\n",
       "      <td>0.164580</td>\n",
       "      <td>0.33269</td>\n",
       "      <td>0.056827</td>\n",
       "      <td>2568.70</td>\n",
       "      <td>39185.0</td>\n",
       "      <td>1.489300e+14</td>\n",
       "      <td>-318.920000</td>\n",
       "      <td>...</td>\n",
       "      <td>-13.9390</td>\n",
       "      <td>1.4480</td>\n",
       "      <td>-1.512900</td>\n",
       "      <td>-15.4360</td>\n",
       "      <td>662.46</td>\n",
       "      <td>1.1778</td>\n",
       "      <td>2.459300e+15</td>\n",
       "      <td>8770.00</td>\n",
       "      <td>0.95503</td>\n",
       "      <td>6</td>\n",
       "    </tr>\n",
       "  </tbody>\n",
       "</table>\n",
       "<p>493474 rows × 119 columns</p>\n",
       "</div>"
      ],
      "text/plain": [
       "              f1        f2        f3        f4       f5        f6       f7  \\\n",
       "0       0.165850  0.487050   1295.00  0.023100  0.31900  0.901880   573.29   \n",
       "1       0.129650  0.373480   1763.00  0.728840  0.33247 -1.263100   875.55   \n",
       "2       0.120190  0.445210    736.26  0.046150  0.29605  0.316650  2659.50   \n",
       "3       0.054008  0.395960    996.14  0.859340  0.36678 -0.170600   386.56   \n",
       "4       0.079947 -0.006919  10574.00  0.348450  0.45008 -1.842000  3027.00   \n",
       "...          ...       ...       ...       ...      ...       ...      ...   \n",
       "493469 -0.009112  0.308190    637.64  0.778200  0.41415 -1.068500   651.22   \n",
       "493470  0.088922  0.482650   6924.10  0.025963  0.35540 -0.870200  2514.20   \n",
       "493471  0.140620  0.484750   1797.10  0.147020  0.28803 -1.407100   434.03   \n",
       "493472  0.168000  0.351760    454.79  0.164580  0.16983  0.323850  2331.20   \n",
       "493473  0.093079  0.501860   3322.40  0.164580  0.33269  0.056827  2568.70   \n",
       "\n",
       "              f8            f9           f10  ...     f110    f111  \\\n",
       "0         3743.7  2.705700e+12   6221.000000  ... -22.1890  2.0655   \n",
       "1       554370.0  5.955700e+14    934.430000  ...  -1.6342  1.5736   \n",
       "2       317140.0  3.977800e+14    131.810000  ... -32.7800  2.1364   \n",
       "3       325680.0 -3.432200e+13    -26.473000  ...  -2.4162  1.5199   \n",
       "4       428150.0  9.291500e+11   5999.400000  ... -18.6300  3.7387   \n",
       "...          ...           ...           ...  ...      ...     ...   \n",
       "493469  985000.0  6.079700e+15    508.820000  ... -17.5100  2.3325   \n",
       "493470   18004.0  6.073500e+14     -0.008665  ...  -7.8690  1.7005   \n",
       "493471  333050.0  2.351000e+15  33492.000000  ...  -5.3824  1.6827   \n",
       "493472  223980.0 -2.795300e+12     93.561000  ...  -4.2416  1.3531   \n",
       "493473   39185.0  1.489300e+14   -318.920000  ... -13.9390  1.4480   \n",
       "\n",
       "              f112     f113      f114    f115          f116     f117     f118  \\\n",
       "0         0.430880 -10.7410  81606.00  1.1940  1.980400e+14  2017.10  0.46357   \n",
       "1        -1.071200  11.8320  90114.00  1.1507  4.388000e+16  6638.90  0.28125   \n",
       "2        -1.931200  -3.2804  37739.00  1.1548  1.718100e+14  5844.00  0.13797   \n",
       "3        -0.011633   1.3840  26849.00  1.1490  2.138800e+17  6173.30  0.32910   \n",
       "4         0.757080  -4.9405  50336.00  1.2488  2.151300e+17  2250.10  0.33796   \n",
       "...            ...      ...       ...     ...           ...      ...      ...   \n",
       "493469    0.112260  -5.9238  24472.00  1.1559  8.163900e+16   857.09  1.56330   \n",
       "493470   97.813000   4.3793  -2432.00  1.0707  4.691800e+16  7497.10  0.67075   \n",
       "493471  126.511500   8.0633   2471.40  1.1725  7.900900e+16  2904.60  0.18005   \n",
       "493472  155.210000  13.9630    -11.44  1.1946 -1.770600e+14  6763.10  0.33223   \n",
       "493473   -1.512900 -15.4360    662.46  1.1778  2.459300e+15  8770.00  0.95503   \n",
       "\n",
       "        n_missing  \n",
       "0               1  \n",
       "1               0  \n",
       "2               1  \n",
       "3               0  \n",
       "4               0  \n",
       "...           ...  \n",
       "493469          2  \n",
       "493470          0  \n",
       "493471          5  \n",
       "493472          0  \n",
       "493473          6  \n",
       "\n",
       "[493474 rows x 119 columns]"
      ]
     },
     "execution_count": 9,
     "metadata": {},
     "output_type": "execute_result"
    }
   ],
   "source": [
    "test[features]"
   ]
  },
  {
   "cell_type": "code",
   "execution_count": 10,
   "id": "7c7737d1",
   "metadata": {
    "execution": {
     "iopub.execute_input": "2021-09-16T10:11:35.987344Z",
     "iopub.status.busy": "2021-09-16T10:11:35.986640Z",
     "iopub.status.idle": "2021-09-16T10:11:35.990852Z",
     "shell.execute_reply": "2021-09-16T10:11:35.990226Z",
     "shell.execute_reply.started": "2021-09-07T00:44:32.507605Z"
    },
    "papermill": {
     "duration": 0.029261,
     "end_time": "2021-09-16T10:11:35.990999",
     "exception": false,
     "start_time": "2021-09-16T10:11:35.961738",
     "status": "completed"
    },
    "tags": []
   },
   "outputs": [
    {
     "data": {
      "text/plain": [
       "0         1\n",
       "1         0\n",
       "2         1\n",
       "3         1\n",
       "4         1\n",
       "         ..\n",
       "957914    0\n",
       "957915    1\n",
       "957916    0\n",
       "957917    1\n",
       "957918    0\n",
       "Name: claim, Length: 957919, dtype: int64"
      ]
     },
     "execution_count": 10,
     "metadata": {},
     "output_type": "execute_result"
    }
   ],
   "source": [
    "train[target]"
   ]
  },
  {
   "cell_type": "markdown",
   "id": "87228a89",
   "metadata": {
    "papermill": {
     "duration": 0.019952,
     "end_time": "2021-09-16T10:11:36.030432",
     "exception": false,
     "start_time": "2021-09-16T10:11:36.010480",
     "status": "completed"
    },
    "tags": []
   },
   "source": [
    "# LGB"
   ]
  },
  {
   "cell_type": "code",
   "execution_count": 11,
   "id": "638fd2bd",
   "metadata": {
    "execution": {
     "iopub.execute_input": "2021-09-16T10:11:36.075544Z",
     "iopub.status.busy": "2021-09-16T10:11:36.074805Z",
     "iopub.status.idle": "2021-09-16T10:11:36.077896Z",
     "shell.execute_reply": "2021-09-16T10:11:36.077281Z",
     "shell.execute_reply.started": "2021-09-07T00:44:32.516352Z"
    },
    "papermill": {
     "duration": 0.027988,
     "end_time": "2021-09-16T10:11:36.078034",
     "exception": false,
     "start_time": "2021-09-16T10:11:36.050046",
     "status": "completed"
    },
    "tags": []
   },
   "outputs": [],
   "source": [
    "lgb_params = {\n",
    "    'objective': 'binary',\n",
    "     'n_estimators':N_ESTIMATORS,\n",
    "     #'importance_type': 'gain',\n",
    "     #'metric':'auc',\n",
    "     #'boosting_type': 'gbdt',\n",
    "     'n_jobs' : -1,\n",
    "        \n",
    "   \n",
    "    'learning_rate': 5e-3,\n",
    "    'subsample': 0.6,\n",
    "    'subsample_freq': 1,\n",
    "    'colsample_bytree': 0.4,\n",
    "    'reg_alpha': 10.0,\n",
    "    'reg_lambda': 1e-1,\n",
    "    'min_child_weight': 256,\n",
    "    'min_child_samples': 20,\n",
    "}"
   ]
  },
  {
   "cell_type": "code",
   "execution_count": 12,
   "id": "fc1796cd",
   "metadata": {
    "execution": {
     "iopub.execute_input": "2021-09-16T10:11:36.120570Z",
     "iopub.status.busy": "2021-09-16T10:11:36.119751Z",
     "iopub.status.idle": "2021-09-16T15:29:06.412970Z",
     "shell.execute_reply": "2021-09-16T15:29:06.413630Z",
     "shell.execute_reply.started": "2021-09-07T00:48:20.356186Z"
    },
    "papermill": {
     "duration": 19050.316313,
     "end_time": "2021-09-16T15:29:06.413879",
     "exception": false,
     "start_time": "2021-09-16T10:11:36.097566",
     "status": "completed"
    },
    "tags": []
   },
   "outputs": [
    {
     "name": "stdout",
     "output_type": "stream",
     "text": [
      "===== fold 0 =====\n",
      "===== fold 1 =====\n",
      "===== fold 2 =====\n",
      "===== fold 3 =====\n",
      "===== fold 4 =====\n",
      "===== fold 5 =====\n",
      "Training until validation scores don't improve for 300 rounds\n",
      "[1000]\tvalid_0's auc: 0.8102\tvalid_0's binary_logloss: 0.517127\n",
      "[2000]\tvalid_0's auc: 0.811736\tvalid_0's binary_logloss: 0.510801\n",
      "[3000]\tvalid_0's auc: 0.812656\tvalid_0's binary_logloss: 0.509938\n",
      "[4000]\tvalid_0's auc: 0.813321\tvalid_0's binary_logloss: 0.509445\n",
      "[5000]\tvalid_0's auc: 0.81373\tvalid_0's binary_logloss: 0.509154\n",
      "[6000]\tvalid_0's auc: 0.81402\tvalid_0's binary_logloss: 0.508957\n",
      "[7000]\tvalid_0's auc: 0.814285\tvalid_0's binary_logloss: 0.508786\n",
      "[8000]\tvalid_0's auc: 0.814495\tvalid_0's binary_logloss: 0.508655\n",
      "[9000]\tvalid_0's auc: 0.814655\tvalid_0's binary_logloss: 0.508547\n",
      "[10000]\tvalid_0's auc: 0.814745\tvalid_0's binary_logloss: 0.508489\n",
      "[11000]\tvalid_0's auc: 0.814838\tvalid_0's binary_logloss: 0.508428\n",
      "[12000]\tvalid_0's auc: 0.814936\tvalid_0's binary_logloss: 0.508369\n",
      "[13000]\tvalid_0's auc: 0.815002\tvalid_0's binary_logloss: 0.508339\n",
      "[14000]\tvalid_0's auc: 0.815063\tvalid_0's binary_logloss: 0.508302\n",
      "[15000]\tvalid_0's auc: 0.815121\tvalid_0's binary_logloss: 0.508266\n",
      "[16000]\tvalid_0's auc: 0.81517\tvalid_0's binary_logloss: 0.508239\n",
      "[17000]\tvalid_0's auc: 0.815198\tvalid_0's binary_logloss: 0.508228\n",
      "[18000]\tvalid_0's auc: 0.81523\tvalid_0's binary_logloss: 0.508209\n",
      "Early stopping, best iteration is:\n",
      "[18638]\tvalid_0's auc: 0.81526\tvalid_0's binary_logloss: 0.508196\n",
      "Training until validation scores don't improve for 300 rounds\n",
      "[19000]\tvalid_0's auc: 0.815261\tvalid_0's binary_logloss: 0.508196\n",
      "Early stopping, best iteration is:\n",
      "[18779]\tvalid_0's auc: 0.815262\tvalid_0's binary_logloss: 0.508195\n",
      "fold 5 - lgb auc: 0.815262, elapsed time: 4580.15sec\n",
      "\n",
      "===== fold 6 =====\n",
      "Training until validation scores don't improve for 300 rounds\n",
      "[1000]\tvalid_0's auc: 0.81505\tvalid_0's binary_logloss: 0.514287\n",
      "[2000]\tvalid_0's auc: 0.816685\tvalid_0's binary_logloss: 0.507383\n",
      "[3000]\tvalid_0's auc: 0.817467\tvalid_0's binary_logloss: 0.50636\n",
      "[4000]\tvalid_0's auc: 0.817979\tvalid_0's binary_logloss: 0.5058\n",
      "[5000]\tvalid_0's auc: 0.818316\tvalid_0's binary_logloss: 0.505463\n",
      "[6000]\tvalid_0's auc: 0.818553\tvalid_0's binary_logloss: 0.505238\n",
      "[7000]\tvalid_0's auc: 0.81876\tvalid_0's binary_logloss: 0.505063\n",
      "[8000]\tvalid_0's auc: 0.818893\tvalid_0's binary_logloss: 0.504929\n",
      "[9000]\tvalid_0's auc: 0.818984\tvalid_0's binary_logloss: 0.504839\n",
      "[10000]\tvalid_0's auc: 0.819034\tvalid_0's binary_logloss: 0.504777\n",
      "[11000]\tvalid_0's auc: 0.819099\tvalid_0's binary_logloss: 0.50471\n",
      "Early stopping, best iteration is:\n",
      "[11180]\tvalid_0's auc: 0.819123\tvalid_0's binary_logloss: 0.504695\n",
      "Training until validation scores don't improve for 300 rounds\n",
      "[12000]\tvalid_0's auc: 0.819127\tvalid_0's binary_logloss: 0.504691\n",
      "[13000]\tvalid_0's auc: 0.819134\tvalid_0's binary_logloss: 0.504685\n",
      "[14000]\tvalid_0's auc: 0.819143\tvalid_0's binary_logloss: 0.504679\n",
      "Early stopping, best iteration is:\n",
      "[14109]\tvalid_0's auc: 0.819144\tvalid_0's binary_logloss: 0.504678\n",
      "fold 6 - lgb auc: 0.819144, elapsed time: 3202.39sec\n",
      "\n",
      "===== fold 7 =====\n",
      "Training until validation scores don't improve for 300 rounds\n",
      "[1000]\tvalid_0's auc: 0.810474\tvalid_0's binary_logloss: 0.517099\n",
      "[2000]\tvalid_0's auc: 0.812037\tvalid_0's binary_logloss: 0.510788\n",
      "[3000]\tvalid_0's auc: 0.812929\tvalid_0's binary_logloss: 0.509931\n",
      "[4000]\tvalid_0's auc: 0.813567\tvalid_0's binary_logloss: 0.509449\n",
      "[5000]\tvalid_0's auc: 0.813944\tvalid_0's binary_logloss: 0.509162\n",
      "[6000]\tvalid_0's auc: 0.814211\tvalid_0's binary_logloss: 0.508969\n",
      "[7000]\tvalid_0's auc: 0.814448\tvalid_0's binary_logloss: 0.508814\n",
      "[8000]\tvalid_0's auc: 0.814623\tvalid_0's binary_logloss: 0.508698\n",
      "[9000]\tvalid_0's auc: 0.814773\tvalid_0's binary_logloss: 0.50861\n",
      "[10000]\tvalid_0's auc: 0.81486\tvalid_0's binary_logloss: 0.508552\n",
      "[11000]\tvalid_0's auc: 0.814932\tvalid_0's binary_logloss: 0.508509\n",
      "[12000]\tvalid_0's auc: 0.814988\tvalid_0's binary_logloss: 0.508466\n",
      "Early stopping, best iteration is:\n",
      "[12660]\tvalid_0's auc: 0.815045\tvalid_0's binary_logloss: 0.50843\n",
      "Training until validation scores don't improve for 300 rounds\n",
      "[13000]\tvalid_0's auc: 0.815048\tvalid_0's binary_logloss: 0.508429\n",
      "[14000]\tvalid_0's auc: 0.815055\tvalid_0's binary_logloss: 0.508424\n",
      "[15000]\tvalid_0's auc: 0.815061\tvalid_0's binary_logloss: 0.508421\n",
      "[16000]\tvalid_0's auc: 0.815071\tvalid_0's binary_logloss: 0.508416\n",
      "[17000]\tvalid_0's auc: 0.81508\tvalid_0's binary_logloss: 0.50841\n",
      "Early stopping, best iteration is:\n",
      "[17691]\tvalid_0's auc: 0.815083\tvalid_0's binary_logloss: 0.508408\n",
      "fold 7 - lgb auc: 0.815083, elapsed time: 3985.45sec\n",
      "\n",
      "===== fold 8 =====\n",
      "Training until validation scores don't improve for 300 rounds\n",
      "[1000]\tvalid_0's auc: 0.812672\tvalid_0's binary_logloss: 0.515121\n",
      "[2000]\tvalid_0's auc: 0.81398\tvalid_0's binary_logloss: 0.508487\n",
      "[3000]\tvalid_0's auc: 0.814709\tvalid_0's binary_logloss: 0.50765\n",
      "[4000]\tvalid_0's auc: 0.815263\tvalid_0's binary_logloss: 0.507201\n",
      "[5000]\tvalid_0's auc: 0.815617\tvalid_0's binary_logloss: 0.506927\n",
      "[6000]\tvalid_0's auc: 0.81588\tvalid_0's binary_logloss: 0.50674\n",
      "[7000]\tvalid_0's auc: 0.816092\tvalid_0's binary_logloss: 0.506595\n",
      "[8000]\tvalid_0's auc: 0.816236\tvalid_0's binary_logloss: 0.506488\n",
      "[9000]\tvalid_0's auc: 0.816344\tvalid_0's binary_logloss: 0.506422\n",
      "[10000]\tvalid_0's auc: 0.816457\tvalid_0's binary_logloss: 0.506346\n",
      "[11000]\tvalid_0's auc: 0.816549\tvalid_0's binary_logloss: 0.506289\n",
      "[12000]\tvalid_0's auc: 0.816598\tvalid_0's binary_logloss: 0.506257\n",
      "Early stopping, best iteration is:\n",
      "[12409]\tvalid_0's auc: 0.816622\tvalid_0's binary_logloss: 0.506242\n",
      "Training until validation scores don't improve for 300 rounds\n",
      "[13000]\tvalid_0's auc: 0.816627\tvalid_0's binary_logloss: 0.506239\n",
      "[14000]\tvalid_0's auc: 0.816632\tvalid_0's binary_logloss: 0.506236\n",
      "[15000]\tvalid_0's auc: 0.816646\tvalid_0's binary_logloss: 0.506228\n",
      "Early stopping, best iteration is:\n",
      "[15484]\tvalid_0's auc: 0.816648\tvalid_0's binary_logloss: 0.506227\n",
      "fold 8 - lgb auc: 0.816648, elapsed time: 3520.39sec\n",
      "\n",
      "===== fold 9 =====\n",
      "Training until validation scores don't improve for 300 rounds\n",
      "[1000]\tvalid_0's auc: 0.811828\tvalid_0's binary_logloss: 0.515756\n",
      "[2000]\tvalid_0's auc: 0.813216\tvalid_0's binary_logloss: 0.509333\n",
      "[3000]\tvalid_0's auc: 0.814071\tvalid_0's binary_logloss: 0.508458\n",
      "[4000]\tvalid_0's auc: 0.81466\tvalid_0's binary_logloss: 0.507982\n",
      "[5000]\tvalid_0's auc: 0.815014\tvalid_0's binary_logloss: 0.5077\n",
      "[6000]\tvalid_0's auc: 0.815253\tvalid_0's binary_logloss: 0.507508\n",
      "[7000]\tvalid_0's auc: 0.815452\tvalid_0's binary_logloss: 0.507369\n",
      "[8000]\tvalid_0's auc: 0.815592\tvalid_0's binary_logloss: 0.507268\n",
      "[9000]\tvalid_0's auc: 0.815729\tvalid_0's binary_logloss: 0.507178\n",
      "[10000]\tvalid_0's auc: 0.815782\tvalid_0's binary_logloss: 0.507128\n",
      "[11000]\tvalid_0's auc: 0.815836\tvalid_0's binary_logloss: 0.507084\n",
      "[12000]\tvalid_0's auc: 0.815894\tvalid_0's binary_logloss: 0.50704\n",
      "[13000]\tvalid_0's auc: 0.816013\tvalid_0's binary_logloss: 0.506973\n",
      "[14000]\tvalid_0's auc: 0.816062\tvalid_0's binary_logloss: 0.50694\n",
      "Early stopping, best iteration is:\n",
      "[14089]\tvalid_0's auc: 0.816066\tvalid_0's binary_logloss: 0.506936\n",
      "Training until validation scores don't improve for 300 rounds\n",
      "Early stopping, best iteration is:\n",
      "[14231]\tvalid_0's auc: 0.816067\tvalid_0's binary_logloss: 0.506936\n",
      "fold 9 - lgb auc: 0.816067, elapsed time: 3465.06sec\n",
      "\n",
      "oof lgb_auc = 0.579102213946805\n"
     ]
    }
   ],
   "source": [
    "lgb_oof = np.zeros(train.shape[0])\n",
    "lgb_pred = np.zeros(test.shape[0])\n",
    "lgb_importances = pd.DataFrame()\n",
    "\n",
    "\n",
    "kf = StratifiedKFold(n_splits=N_SPLITS, shuffle=True, random_state=CVSEED)\n",
    "seed_list=[SEED+9]\n",
    "\n",
    "for fold, (trn_idx, val_idx) in enumerate(kf.split(X=train[features], y=train[target])):\n",
    "    print(f\"===== fold {fold} =====\")\n",
    "\n",
    "    if fold >4:\n",
    "\n",
    "        X_train = train[features].iloc[trn_idx]\n",
    "        y_train = train[target].iloc[trn_idx]\n",
    "        X_valid = train[features].iloc[val_idx]\n",
    "        y_valid = train[target].iloc[val_idx]\n",
    "        X_test = test[features]\n",
    "\n",
    "        X_train[features] = ss.fit_transform(X_train[features])\n",
    "        X_valid[features] = ss.transform(X_valid[features])\n",
    "        X_test[features] = ss.transform(X_test[features])\n",
    "\n",
    "        start = time.time()\n",
    "        for inseed in seed_list:\n",
    "            lgb_params['random_state'] = inseed\n",
    "\n",
    "            pre_model = lgb.LGBMClassifier(**lgb_params)\n",
    "            pre_model.fit(\n",
    "                X_train, \n",
    "                y_train,\n",
    "                eval_set=[(X_valid, y_valid)],\n",
    "                eval_metric='auc',\n",
    "                early_stopping_rounds=EARLY_STOPPING_ROUNDS,\n",
    "                verbose=VERBOSE,\n",
    "            )\n",
    "\n",
    "            lgb_params2 = lgb_params.copy()\n",
    "            lgb_params2['reg_lambda'] *= 0.9\n",
    "            lgb_params2['reg_alpha'] *= 0.9\n",
    "            lgb_params2['learning_rate'] *= 0.1\n",
    "            model = lgb.LGBMClassifier(**lgb_params2)\n",
    "            model.fit(\n",
    "                    X_train, y_train,\n",
    "                    eval_set=[(X_valid, y_valid)],\n",
    "                    eval_metric='auc',\n",
    "                    early_stopping_rounds=EARLY_STOPPING_ROUNDS,\n",
    "                    verbose=VERBOSE,\n",
    "                    init_model=pre_model\n",
    "            )    \n",
    "\n",
    "            with open(f\"lgb_model{fold}_seed{inseed}.pkl\", 'wb') as f:\n",
    "                pickle.dump(model, f)\n",
    "\n",
    "            fi_tmp = pd.DataFrame()\n",
    "            fi_tmp['feature'] = model.feature_name_\n",
    "            fi_tmp['importance'] = model.feature_importances_\n",
    "            fi_tmp['fold'] = fold\n",
    "            fi_tmp['seed'] = inseed\n",
    "            lgb_importances = lgb_importances.append(fi_tmp)\n",
    "\n",
    "            lgb_oof[val_idx] += model.predict_proba(X_valid)[:,-1] / len(seed_list)\n",
    "            lgb_pred += model.predict_proba(X_test)[:,-1] / len(seed_list)\n",
    "\n",
    "\n",
    "        elapsed = time.time() - start\n",
    "        auc = roc_auc_score(y_valid, lgb_oof[val_idx])\n",
    "        print(f\"fold {fold} - lgb auc: {auc:.6f}, elapsed time: {elapsed:.2f}sec\\n\")            \n",
    "\n",
    "lgb_pred /= N_SPLITS\n",
    "print(f\"oof lgb_auc = {roc_auc_score(train[target], lgb_oof)}\")\n",
    "\n",
    "np.save(\"lgb_oof.npy\", lgb_oof)\n",
    "np.save(\"lgb_pred.npy\", lgb_pred)"
   ]
  },
  {
   "cell_type": "markdown",
   "id": "8401e804",
   "metadata": {
    "papermill": {
     "duration": 0.050621,
     "end_time": "2021-09-16T15:29:06.515907",
     "exception": false,
     "start_time": "2021-09-16T15:29:06.465286",
     "status": "completed"
    },
    "tags": []
   },
   "source": [
    "# OOF predictions"
   ]
  },
  {
   "cell_type": "code",
   "execution_count": 13,
   "id": "da2f6d83",
   "metadata": {
    "execution": {
     "iopub.execute_input": "2021-09-16T15:29:06.668095Z",
     "iopub.status.busy": "2021-09-16T15:29:06.663186Z",
     "iopub.status.idle": "2021-09-16T15:29:10.365187Z",
     "shell.execute_reply": "2021-09-16T15:29:10.365691Z",
     "shell.execute_reply.started": "2021-09-07T00:50:57.432219Z"
    },
    "papermill": {
     "duration": 3.799069,
     "end_time": "2021-09-16T15:29:10.365882",
     "exception": false,
     "start_time": "2021-09-16T15:29:06.566813",
     "status": "completed"
    },
    "tags": []
   },
   "outputs": [
    {
     "data": {
      "text/plain": [
       "<matplotlib.collections.PathCollection at 0x7f938de49710>"
      ]
     },
     "execution_count": 13,
     "metadata": {},
     "output_type": "execute_result"
    },
    {
     "data": {
      "image/png": "[encoded data removed]",
      "text/plain": [
       "<Figure size 432x288 with 1 Axes>"
      ]
     },
     "metadata": {
      "needs_background": "light"
     },
     "output_type": "display_data"
    }
   ],
   "source": [
    "plt.plot(train[target], train[target])\n",
    "plt.scatter(train[target], lgb_oof)"
   ]
  },
  {
   "cell_type": "markdown",
   "id": "33245686",
   "metadata": {
    "papermill": {
     "duration": 0.052219,
     "end_time": "2021-09-16T15:29:10.470583",
     "exception": false,
     "start_time": "2021-09-16T15:29:10.418364",
     "status": "completed"
    },
    "tags": []
   },
   "source": [
    "# Features importances"
   ]
  },
  {
   "cell_type": "code",
   "execution_count": 14,
   "id": "fcb7557a",
   "metadata": {
    "execution": {
     "iopub.execute_input": "2021-09-16T15:29:10.601578Z",
     "iopub.status.busy": "2021-09-16T15:29:10.598360Z",
     "iopub.status.idle": "2021-09-16T15:29:13.263157Z",
     "shell.execute_reply": "2021-09-16T15:29:13.262638Z",
     "shell.execute_reply.started": "2021-09-07T00:51:01.011128Z"
    },
    "papermill": {
     "duration": 2.740449,
     "end_time": "2021-09-16T15:29:13.263370",
     "exception": false,
     "start_time": "2021-09-16T15:29:10.522921",
     "status": "completed"
    },
    "tags": []
   },
   "outputs": [
    {
     "data": {
      "text/plain": [
       "Text(0.5, 1.0, 'LightGBM feature importances')"
      ]
     },
     "execution_count": 14,
     "metadata": {},
     "output_type": "execute_result"
    },
    {
     "data": {
      "image/png": "[encoded data removed]",
      "text/plain": [
       "<Figure size 1152x1152 with 1 Axes>"
      ]
     },
     "metadata": {
      "needs_background": "light"
     },
     "output_type": "display_data"
    }
   ],
   "source": [
    "order = list(lgb_importances.groupby('feature').mean().sort_values('importance', ascending=False).index)\n",
    "\n",
    "fig = plt.figure(figsize=(16, 16), tight_layout=True)\n",
    "sns.barplot(x=\"importance\", y=\"feature\", data=lgb_importances.groupby('feature').mean().reset_index(), order=order)\n",
    "plt.title(\"LightGBM feature importances\")"
   ]
  },
  {
   "cell_type": "markdown",
   "id": "a28fb0bb",
   "metadata": {
    "papermill": {
     "duration": 0.054499,
     "end_time": "2021-09-16T15:29:13.373732",
     "exception": false,
     "start_time": "2021-09-16T15:29:13.319233",
     "status": "completed"
    },
    "tags": []
   },
   "source": [
    "# Submission"
   ]
  },
  {
   "cell_type": "code",
   "execution_count": 15,
   "id": "bbaf386c",
   "metadata": {
    "execution": {
     "iopub.execute_input": "2021-09-16T15:29:13.489382Z",
     "iopub.status.busy": "2021-09-16T15:29:13.488352Z",
     "iopub.status.idle": "2021-09-16T15:29:15.421607Z",
     "shell.execute_reply": "2021-09-16T15:29:15.420691Z",
     "shell.execute_reply.started": "2021-09-07T00:51:03.177221Z"
    },
    "papermill": {
     "duration": 1.99339,
     "end_time": "2021-09-16T15:29:15.421813",
     "exception": false,
     "start_time": "2021-09-16T15:29:13.428423",
     "status": "completed"
    },
    "tags": []
   },
   "outputs": [
    {
     "data": {
      "text/html": [
       "<div>\n",
       "<style scoped>\n",
       "    .dataframe tbody tr th:only-of-type {\n",
       "        vertical-align: middle;\n",
       "    }\n",
       "\n",
       "    .dataframe tbody tr th {\n",
       "        vertical-align: top;\n",
       "    }\n",
       "\n",
       "    .dataframe thead th {\n",
       "        text-align: right;\n",
       "    }\n",
       "</style>\n",
       "<table border=\"1\" class=\"dataframe\">\n",
       "  <thead>\n",
       "    <tr style=\"text-align: right;\">\n",
       "      <th></th>\n",
       "      <th>id</th>\n",
       "      <th>claim</th>\n",
       "    </tr>\n",
       "  </thead>\n",
       "  <tbody>\n",
       "    <tr>\n",
       "      <th>0</th>\n",
       "      <td>957919</td>\n",
       "      <td>0.277711</td>\n",
       "    </tr>\n",
       "    <tr>\n",
       "      <th>1</th>\n",
       "      <td>957920</td>\n",
       "      <td>0.059527</td>\n",
       "    </tr>\n",
       "    <tr>\n",
       "      <th>2</th>\n",
       "      <td>957921</td>\n",
       "      <td>0.316708</td>\n",
       "    </tr>\n",
       "    <tr>\n",
       "      <th>3</th>\n",
       "      <td>957922</td>\n",
       "      <td>0.063750</td>\n",
       "    </tr>\n",
       "    <tr>\n",
       "      <th>4</th>\n",
       "      <td>957923</td>\n",
       "      <td>0.078672</td>\n",
       "    </tr>\n",
       "    <tr>\n",
       "      <th>...</th>\n",
       "      <td>...</td>\n",
       "      <td>...</td>\n",
       "    </tr>\n",
       "    <tr>\n",
       "      <th>493469</th>\n",
       "      <td>1451388</td>\n",
       "      <td>0.412753</td>\n",
       "    </tr>\n",
       "    <tr>\n",
       "      <th>493470</th>\n",
       "      <td>1451389</td>\n",
       "      <td>0.055088</td>\n",
       "    </tr>\n",
       "    <tr>\n",
       "      <th>493471</th>\n",
       "      <td>1451390</td>\n",
       "      <td>0.377560</td>\n",
       "    </tr>\n",
       "    <tr>\n",
       "      <th>493472</th>\n",
       "      <td>1451391</td>\n",
       "      <td>0.068108</td>\n",
       "    </tr>\n",
       "    <tr>\n",
       "      <th>493473</th>\n",
       "      <td>1451392</td>\n",
       "      <td>0.378552</td>\n",
       "    </tr>\n",
       "  </tbody>\n",
       "</table>\n",
       "<p>493474 rows × 2 columns</p>\n",
       "</div>"
      ],
      "text/plain": [
       "             id     claim\n",
       "0        957919  0.277711\n",
       "1        957920  0.059527\n",
       "2        957921  0.316708\n",
       "3        957922  0.063750\n",
       "4        957923  0.078672\n",
       "...         ...       ...\n",
       "493469  1451388  0.412753\n",
       "493470  1451389  0.055088\n",
       "493471  1451390  0.377560\n",
       "493472  1451391  0.068108\n",
       "493473  1451392  0.378552\n",
       "\n",
       "[493474 rows x 2 columns]"
      ]
     },
     "execution_count": 15,
     "metadata": {},
     "output_type": "execute_result"
    }
   ],
   "source": [
    "submission[target] = lgb_pred\n",
    "submission.to_csv(\"submission.csv\", index=False)\n",
    "\n",
    "submission"
   ]
  },
  {
   "cell_type": "markdown",
   "id": "5f7c85a5",
   "metadata": {
    "papermill": {
     "duration": 0.070081,
     "end_time": "2021-09-16T15:29:15.563983",
     "exception": false,
     "start_time": "2021-09-16T15:29:15.493902",
     "status": "completed"
    },
    "tags": []
   },
   "source": [
    "# Log\n",
    "\n",
    "ver7 mean fold 0-6 ver6 fold 7-9\n",
    "seed 2017 ver8 aggregate ver6,7\n",
    "0.8165534780549405\n",
    "2018 ver9\n",
    "2019 ver11 fold 0-4 ver12 fold 5-9\n",
    "2020 ver13 fold 0-4 ver14 fold 5-9\n",
    "2021 ver15 fold 0-4 ver16 fold 5-9\n",
    "2022 ver17 fold 0-4 ver18 fold 5-9\n",
    "2023 ver19 fold 0-4 ver20 fold 5-9\n",
    "2024 ver21 fold 0-4 ver22 fold 5-9\n",
    "2025 ver23 fold 0-4 ver24 fold 5-9\n",
    "2026 ver25 fold 0-4 ver26 fold 5-9\n",
    "\n",
    "ver4 median\n",
    "0.8165459343926716"
   ]
  }
 ],
 "metadata": {
  "kernelspec": {
   "display_name": "Python 3",
   "language": "python",
   "name": "python3"
  },
  "language_info": {
   "codemirror_mode": {
    "name": "ipython",
    "version": 3
   },
   "file_extension": ".py",
   "mimetype": "text/x-python",
   "name": "python",
   "nbconvert_exporter": "python",
   "pygments_lexer": "ipython3",
   "version": "3.7.10"
  },
  "papermill": {
   "default_parameters": {},
   "duration": 19135.380643,
   "end_time": "2021-09-16T15:29:17.809959",
   "environment_variables": {},
   "exception": null,
   "input_path": "__notebook__.ipynb",
   "output_path": "__notebook__.ipynb",
   "parameters": {},
   "start_time": "2021-09-16T10:10:22.429316",
   "version": "2.3.3"
  }
 },
 "nbformat": 4,
 "nbformat_minor": 5
}
