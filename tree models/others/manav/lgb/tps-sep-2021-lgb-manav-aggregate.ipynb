{
 "cells": [
  {
   "cell_type": "code",
   "execution_count": 1,
   "id": "b3b55d74",
   "metadata": {
    "execution": {
     "iopub.execute_input": "2021-09-17T13:26:10.176814Z",
     "iopub.status.busy": "2021-09-17T13:26:10.175596Z",
     "iopub.status.idle": "2021-09-17T13:26:11.252884Z",
     "shell.execute_reply": "2021-09-17T13:26:11.253563Z",
     "shell.execute_reply.started": "2021-09-17T13:24:39.346314Z"
    },
    "papermill": {
     "duration": 1.090572,
     "end_time": "2021-09-17T13:26:11.253911",
     "exception": false,
     "start_time": "2021-09-17T13:26:10.163339",
     "status": "completed"
    },
    "tags": []
   },
   "outputs": [],
   "source": [
    "import numpy as np\n",
    "import pandas as pd\n",
    "from pathlib import Path\n",
    "from sklearn.metrics import roc_auc_score\n"
   ]
  },
  {
   "cell_type": "code",
   "execution_count": 2,
   "id": "fdd5eeec",
   "metadata": {
    "execution": {
     "iopub.execute_input": "2021-09-17T13:26:11.273816Z",
     "iopub.status.busy": "2021-09-17T13:26:11.272986Z",
     "iopub.status.idle": "2021-09-17T13:26:56.296418Z",
     "shell.execute_reply": "2021-09-17T13:26:56.295770Z",
     "shell.execute_reply.started": "2021-09-17T13:24:40.409551Z"
    },
    "papermill": {
     "duration": 45.03405,
     "end_time": "2021-09-17T13:26:56.296592",
     "exception": false,
     "start_time": "2021-09-17T13:26:11.262542",
     "status": "completed"
    },
    "tags": []
   },
   "outputs": [],
   "source": [
    "INPUT = Path(\"../input/tabular-playground-series-sep-2021\")\n",
    "\n",
    "train = pd.read_csv(INPUT / \"train.csv\")\n",
    "test = pd.read_csv(INPUT / \"test.csv\")\n",
    "submission = pd.read_csv(INPUT / \"sample_solution.csv\")"
   ]
  },
  {
   "cell_type": "markdown",
   "id": "7ca7ed4d",
   "metadata": {
    "papermill": {
     "duration": 0.007036,
     "end_time": "2021-09-17T13:26:56.311488",
     "exception": false,
     "start_time": "2021-09-17T13:26:56.304452",
     "status": "completed"
    },
    "tags": []
   },
   "source": [
    "seeds \n",
    "\n",
    "median ver6 fold 0-4 ver7 fold 5-9 \n",
    "\n",
    "0.8165581192557307 ver8 aggregate seed 2017 \n",
    "\n",
    "2018 ver10 fold 0-4 ver11 fold 5-9 \n",
    "\n",
    "2019 ver12 fold 0-4 ver13 fold 5-9 \n",
    "\n",
    "2020 ver14 fold 0-4 ver15 fold 5-9 \n",
    "\n",
    "2021 ver16 fold 0-4 ver17 fold 5-9 \n",
    "\n",
    "2022 ver18 fold 0-4 ver19 fold 5-9 \n",
    "\n",
    "2023 ver20 fold 0-4 ver21 fold 5-9 \n",
    "\n",
    "2024 ver22 fold 0-4 ver23 fold 5-9 \n",
    "\n",
    "2025 ver24 fold 0-4 ver25 fold 5-9 \n",
    "\n",
    "2026 ver26 fold 0-4 ver27 fold 5-9"
   ]
  },
  {
   "cell_type": "code",
   "execution_count": 3,
   "id": "905da809",
   "metadata": {
    "execution": {
     "iopub.execute_input": "2021-09-17T13:26:56.331678Z",
     "iopub.status.busy": "2021-09-17T13:26:56.331016Z",
     "iopub.status.idle": "2021-09-17T13:26:56.336081Z",
     "shell.execute_reply": "2021-09-17T13:26:56.335403Z",
     "shell.execute_reply.started": "2021-09-17T13:25:27.705970Z"
    },
    "papermill": {
     "duration": 0.017394,
     "end_time": "2021-09-17T13:26:56.336232",
     "exception": false,
     "start_time": "2021-09-17T13:26:56.318838",
     "status": "completed"
    },
    "tags": []
   },
   "outputs": [],
   "source": [
    "oof = np.zeros(train.shape[0])\n",
    "pred = np.zeros(test.shape[0])\n",
    "\n",
    "target = 'claim'\n",
    "#numseed = [1]+[2]*6+[1]*7\n",
    "numseed=10"
   ]
  },
  {
   "cell_type": "code",
   "execution_count": 4,
   "id": "3209b51b",
   "metadata": {
    "execution": {
     "iopub.execute_input": "2021-09-17T13:26:56.357259Z",
     "iopub.status.busy": "2021-09-17T13:26:56.356496Z",
     "iopub.status.idle": "2021-09-17T13:26:58.165773Z",
     "shell.execute_reply": "2021-09-17T13:26:58.165186Z",
     "shell.execute_reply.started": "2021-09-17T13:25:27.714082Z"
    },
    "papermill": {
     "duration": 1.822158,
     "end_time": "2021-09-17T13:26:58.165954",
     "exception": false,
     "start_time": "2021-09-17T13:26:56.343796",
     "status": "completed"
    },
    "tags": []
   },
   "outputs": [
    {
     "name": "stdout",
     "output_type": "stream",
     "text": [
      "8\n",
      "10\n",
      "11\n",
      "12\n",
      "13\n",
      "14\n",
      "15\n",
      "16\n",
      "17\n",
      "18\n",
      "19\n",
      "20\n",
      "21\n",
      "22\n",
      "23\n",
      "24\n",
      "25\n",
      "26\n",
      "27\n"
     ]
    }
   ],
   "source": [
    "for i in range(8, 28):\n",
    "    if i not in [9]:\n",
    "        print(i)\n",
    "        \n",
    "        oof += np.load(\"../input/tps-sep-lgb-manav/\" +str(i)+ \"lgb_oof.npy\")\n",
    "        pred += np.load(\"../input/tps-sep-lgb-manav/\" +str(i)+ \"lgb_pred.npy\")"
   ]
  },
  {
   "cell_type": "code",
   "execution_count": 5,
   "id": "1a1b6564",
   "metadata": {
    "execution": {
     "iopub.execute_input": "2021-09-17T13:26:58.191378Z",
     "iopub.status.busy": "2021-09-17T13:26:58.190638Z",
     "iopub.status.idle": "2021-09-17T13:26:58.643820Z",
     "shell.execute_reply": "2021-09-17T13:26:58.644343Z",
     "shell.execute_reply.started": "2021-09-17T13:25:30.050484Z"
    },
    "papermill": {
     "duration": 0.46836,
     "end_time": "2021-09-17T13:26:58.644532",
     "exception": false,
     "start_time": "2021-09-17T13:26:58.176172",
     "status": "completed"
    },
    "tags": []
   },
   "outputs": [
    {
     "name": "stdout",
     "output_type": "stream",
     "text": [
      "oof auc = 0.8166955334451454\n"
     ]
    }
   ],
   "source": [
    "oof /= numseed\n",
    "pred /= numseed\n",
    "\n",
    "print(f\"oof auc = {roc_auc_score(train[target], oof)}\")"
   ]
  },
  {
   "cell_type": "code",
   "execution_count": 6,
   "id": "32a0bc18",
   "metadata": {
    "execution": {
     "iopub.execute_input": "2021-09-17T13:26:58.669670Z",
     "iopub.status.busy": "2021-09-17T13:26:58.668904Z",
     "iopub.status.idle": "2021-09-17T13:26:58.684909Z",
     "shell.execute_reply": "2021-09-17T13:26:58.684376Z",
     "shell.execute_reply.started": "2021-09-17T13:25:30.514660Z"
    },
    "papermill": {
     "duration": 0.030526,
     "end_time": "2021-09-17T13:26:58.685107",
     "exception": false,
     "start_time": "2021-09-17T13:26:58.654581",
     "status": "completed"
    },
    "tags": []
   },
   "outputs": [],
   "source": [
    "np.save(\"lgb_manav_oof.npy\", oof)\n",
    "np.save(\"lgb_manav_pred.npy\", pred)"
   ]
  },
  {
   "cell_type": "code",
   "execution_count": 7,
   "id": "157369fd",
   "metadata": {
    "execution": {
     "iopub.execute_input": "2021-09-17T13:26:58.709441Z",
     "iopub.status.busy": "2021-09-17T13:26:58.708759Z",
     "iopub.status.idle": "2021-09-17T13:27:00.585115Z",
     "shell.execute_reply": "2021-09-17T13:27:00.585672Z",
     "shell.execute_reply.started": "2021-09-17T13:25:30.533535Z"
    },
    "papermill": {
     "duration": 1.890738,
     "end_time": "2021-09-17T13:27:00.585848",
     "exception": false,
     "start_time": "2021-09-17T13:26:58.695110",
     "status": "completed"
    },
    "tags": []
   },
   "outputs": [
    {
     "data": {
      "text/html": [
       "<div>\n",
       "<style scoped>\n",
       "    .dataframe tbody tr th:only-of-type {\n",
       "        vertical-align: middle;\n",
       "    }\n",
       "\n",
       "    .dataframe tbody tr th {\n",
       "        vertical-align: top;\n",
       "    }\n",
       "\n",
       "    .dataframe thead th {\n",
       "        text-align: right;\n",
       "    }\n",
       "</style>\n",
       "<table border=\"1\" class=\"dataframe\">\n",
       "  <thead>\n",
       "    <tr style=\"text-align: right;\">\n",
       "      <th></th>\n",
       "      <th>id</th>\n",
       "      <th>claim</th>\n",
       "    </tr>\n",
       "  </thead>\n",
       "  <tbody>\n",
       "    <tr>\n",
       "      <th>0</th>\n",
       "      <td>957919</td>\n",
       "      <td>0.564575</td>\n",
       "    </tr>\n",
       "    <tr>\n",
       "      <th>1</th>\n",
       "      <td>957920</td>\n",
       "      <td>0.121656</td>\n",
       "    </tr>\n",
       "    <tr>\n",
       "      <th>2</th>\n",
       "      <td>957921</td>\n",
       "      <td>0.626681</td>\n",
       "    </tr>\n",
       "    <tr>\n",
       "      <th>3</th>\n",
       "      <td>957922</td>\n",
       "      <td>0.128684</td>\n",
       "    </tr>\n",
       "    <tr>\n",
       "      <th>4</th>\n",
       "      <td>957923</td>\n",
       "      <td>0.152862</td>\n",
       "    </tr>\n",
       "    <tr>\n",
       "      <th>...</th>\n",
       "      <td>...</td>\n",
       "      <td>...</td>\n",
       "    </tr>\n",
       "    <tr>\n",
       "      <th>493469</th>\n",
       "      <td>1451388</td>\n",
       "      <td>0.831222</td>\n",
       "    </tr>\n",
       "    <tr>\n",
       "      <th>493470</th>\n",
       "      <td>1451389</td>\n",
       "      <td>0.111981</td>\n",
       "    </tr>\n",
       "    <tr>\n",
       "      <th>493471</th>\n",
       "      <td>1451390</td>\n",
       "      <td>0.756039</td>\n",
       "    </tr>\n",
       "    <tr>\n",
       "      <th>493472</th>\n",
       "      <td>1451391</td>\n",
       "      <td>0.135098</td>\n",
       "    </tr>\n",
       "    <tr>\n",
       "      <th>493473</th>\n",
       "      <td>1451392</td>\n",
       "      <td>0.741040</td>\n",
       "    </tr>\n",
       "  </tbody>\n",
       "</table>\n",
       "<p>493474 rows × 2 columns</p>\n",
       "</div>"
      ],
      "text/plain": [
       "             id     claim\n",
       "0        957919  0.564575\n",
       "1        957920  0.121656\n",
       "2        957921  0.626681\n",
       "3        957922  0.128684\n",
       "4        957923  0.152862\n",
       "...         ...       ...\n",
       "493469  1451388  0.831222\n",
       "493470  1451389  0.111981\n",
       "493471  1451390  0.756039\n",
       "493472  1451391  0.135098\n",
       "493473  1451392  0.741040\n",
       "\n",
       "[493474 rows x 2 columns]"
      ]
     },
     "execution_count": 7,
     "metadata": {},
     "output_type": "execute_result"
    }
   ],
   "source": [
    "submission[target] = pred\n",
    "submission.to_csv(\"submission.csv\", index=False)\n",
    "\n",
    "submission"
   ]
  }
 ],
 "metadata": {
  "kernelspec": {
   "display_name": "Python 3",
   "language": "python",
   "name": "python3"
  },
  "language_info": {
   "codemirror_mode": {
    "name": "ipython",
    "version": 3
   },
   "file_extension": ".py",
   "mimetype": "text/x-python",
   "name": "python",
   "nbconvert_exporter": "python",
   "pygments_lexer": "ipython3",
   "version": "3.7.10"
  },
  "papermill": {
   "default_parameters": {},
   "duration": 59.706438,
   "end_time": "2021-09-17T13:27:01.409260",
   "environment_variables": {},
   "exception": null,
   "input_path": "__notebook__.ipynb",
   "output_path": "__notebook__.ipynb",
   "parameters": {},
   "start_time": "2021-09-17T13:26:01.702822",
   "version": "2.3.3"
  }
 },
 "nbformat": 4,
 "nbformat_minor": 5
}
