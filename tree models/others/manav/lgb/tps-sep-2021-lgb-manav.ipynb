{
 "cells": [
  {
   "cell_type": "code",
   "execution_count": 1,
   "id": "9974900d",
   "metadata": {
    "_cell_guid": "b1076dfc-b9ad-4769-8c92-a6c4dae69d19",
    "_uuid": "8f2839f25d086af736a60e9eeb907d3b93b6e0e5",
    "execution": {
     "iopub.execute_input": "2021-09-17T02:31:50.604163Z",
     "iopub.status.busy": "2021-09-17T02:31:50.602996Z",
     "iopub.status.idle": "2021-09-17T02:31:52.966318Z",
     "shell.execute_reply": "2021-09-17T02:31:52.965169Z",
     "shell.execute_reply.started": "2021-09-12T10:41:53.506228Z"
    },
    "papermill": {
     "duration": 2.384503,
     "end_time": "2021-09-17T02:31:52.966497",
     "exception": false,
     "start_time": "2021-09-17T02:31:50.581994",
     "status": "completed"
    },
    "tags": []
   },
   "outputs": [
    {
     "data": {
      "text/html": [
       "<style type='text/css'>\n",
       ".datatable table.frame { margin-bottom: 0; }\n",
       ".datatable table.frame thead { border-bottom: none; }\n",
       ".datatable table.frame tr.coltypes td {  color: #FFFFFF;  line-height: 6px;  padding: 0 0.5em;}\n",
       ".datatable .bool    { background: #DDDD99; }\n",
       ".datatable .object  { background: #565656; }\n",
       ".datatable .int     { background: #5D9E5D; }\n",
       ".datatable .float   { background: #4040CC; }\n",
       ".datatable .str     { background: #CC4040; }\n",
       ".datatable .time    { background: #40CC40; }\n",
       ".datatable .row_index {  background: var(--jp-border-color3);  border-right: 1px solid var(--jp-border-color0);  color: var(--jp-ui-font-color3);  font-size: 9px;}\n",
       ".datatable .frame tbody td { text-align: left; }\n",
       ".datatable .frame tr.coltypes .row_index {  background: var(--jp-border-color0);}\n",
       ".datatable th:nth-child(2) { padding-left: 12px; }\n",
       ".datatable .hellipsis {  color: var(--jp-cell-editor-border-color);}\n",
       ".datatable .vellipsis {  background: var(--jp-layout-color0);  color: var(--jp-cell-editor-border-color);}\n",
       ".datatable .na {  color: var(--jp-cell-editor-border-color);  font-size: 80%;}\n",
       ".datatable .sp {  opacity: 0.25;}\n",
       ".datatable .footer { font-size: 9px; }\n",
       ".datatable .frame_dimensions {  background: var(--jp-border-color3);  border-top: 1px solid var(--jp-border-color0);  color: var(--jp-ui-font-color3);  display: inline-block;  opacity: 0.6;  padding: 1px 10px 1px 5px;}\n",
       "</style>\n"
      ],
      "text/plain": [
       "<IPython.core.display.HTML object>"
      ]
     },
     "metadata": {},
     "output_type": "display_data"
    }
   ],
   "source": [
    "import numpy as np\n",
    "import pandas as pd\n",
    "import random\n",
    "import os\n",
    "import time\n",
    "import pickle\n",
    "from pathlib import Path\n",
    "\n",
    "from sklearn.preprocessing import StandardScaler\n",
    "from sklearn.model_selection import StratifiedKFold, train_test_split\n",
    "from sklearn.metrics import roc_auc_score\n",
    "\n",
    "import lightgbm as lgb\n",
    "#import xgboost as xgb\n",
    "#import catboost as ctb\n",
    "\n",
    "import matplotlib.pyplot as plt\n",
    "import seaborn as sns\n",
    "\n",
    "import warnings\n",
    "warnings.simplefilter('ignore')"
   ]
  },
  {
   "cell_type": "markdown",
   "id": "f562f62e",
   "metadata": {
    "papermill": {
     "duration": 0.016677,
     "end_time": "2021-09-17T02:31:53.000962",
     "exception": false,
     "start_time": "2021-09-17T02:31:52.984285",
     "status": "completed"
    },
    "tags": []
   },
   "source": [
    "https://www.kaggle.com/manabendrarout/custom-stacking-of-classifiers-gpu-tps-sep2021\n",
    "\n",
    "manabendrarout"
   ]
  },
  {
   "cell_type": "markdown",
   "id": "804f060e",
   "metadata": {
    "papermill": {
     "duration": 0.0167,
     "end_time": "2021-09-17T02:31:53.034680",
     "exception": false,
     "start_time": "2021-09-17T02:31:53.017980",
     "status": "completed"
    },
    "tags": []
   },
   "source": [
    "# Parameters"
   ]
  },
  {
   "cell_type": "code",
   "execution_count": 2,
   "id": "7ed895af",
   "metadata": {
    "execution": {
     "iopub.execute_input": "2021-09-17T02:31:53.074995Z",
     "iopub.status.busy": "2021-09-17T02:31:53.074342Z",
     "iopub.status.idle": "2021-09-17T02:31:53.077233Z",
     "shell.execute_reply": "2021-09-17T02:31:53.076575Z",
     "shell.execute_reply.started": "2021-09-12T10:41:55.812026Z"
    },
    "papermill": {
     "duration": 0.025743,
     "end_time": "2021-09-17T02:31:53.077395",
     "exception": false,
     "start_time": "2021-09-17T02:31:53.051652",
     "status": "completed"
    },
    "tags": []
   },
   "outputs": [],
   "source": [
    "target = 'claim'\n",
    "\n",
    "DEBUG = False\n",
    "\n",
    "if DEBUG:\n",
    "    N_ESTIMATORS = 1\n",
    "    N_SPLITS = 2\n",
    "    SEED = 2017\n",
    "    CVSEED = 2017\n",
    "    EARLY_STOPPING_ROUNDS = 1\n",
    "    VERBOSE = 100\n",
    "    #N_ITERS = 2\n",
    "else:\n",
    "    N_SPLITS = 10\n",
    "    N_ESTIMATORS = 20000\n",
    "    EARLY_STOPPING_ROUNDS = 300\n",
    "    VERBOSE = 1000\n",
    "    SEED = 2017\n",
    "    CVSEED = 2017\n",
    "    #N_ITERS = 10"
   ]
  },
  {
   "cell_type": "code",
   "execution_count": 3,
   "id": "e6a5b995",
   "metadata": {
    "execution": {
     "iopub.execute_input": "2021-09-17T02:31:53.115305Z",
     "iopub.status.busy": "2021-09-17T02:31:53.114683Z",
     "iopub.status.idle": "2021-09-17T02:31:53.119443Z",
     "shell.execute_reply": "2021-09-17T02:31:53.120017Z",
     "shell.execute_reply.started": "2021-09-12T10:41:55.818623Z"
    },
    "papermill": {
     "duration": 0.02545,
     "end_time": "2021-09-17T02:31:53.120232",
     "exception": false,
     "start_time": "2021-09-17T02:31:53.094782",
     "status": "completed"
    },
    "tags": []
   },
   "outputs": [],
   "source": [
    "def set_seed(seed=2017):\n",
    "    random.seed(seed)\n",
    "    os.environ['PYTHONHASHSEED'] = str(seed)\n",
    "    np.random.seed(seed)\n",
    "    \n",
    "set_seed(SEED)"
   ]
  },
  {
   "cell_type": "markdown",
   "id": "456cc158",
   "metadata": {
    "papermill": {
     "duration": 0.017192,
     "end_time": "2021-09-17T02:31:53.155478",
     "exception": false,
     "start_time": "2021-09-17T02:31:53.138286",
     "status": "completed"
    },
    "tags": []
   },
   "source": [
    "# Datasets"
   ]
  },
  {
   "cell_type": "code",
   "execution_count": 4,
   "id": "68f969d5",
   "metadata": {
    "execution": {
     "iopub.execute_input": "2021-09-17T02:31:53.193908Z",
     "iopub.status.busy": "2021-09-17T02:31:53.193244Z",
     "iopub.status.idle": "2021-09-17T02:32:39.557214Z",
     "shell.execute_reply": "2021-09-17T02:32:39.556507Z",
     "shell.execute_reply.started": "2021-09-12T10:45:21.377558Z"
    },
    "papermill": {
     "duration": 46.384187,
     "end_time": "2021-09-17T02:32:39.557359",
     "exception": false,
     "start_time": "2021-09-17T02:31:53.173172",
     "status": "completed"
    },
    "tags": []
   },
   "outputs": [],
   "source": [
    "INPUT = Path(\"../input/tabular-playground-series-sep-2021\")\n",
    "\n",
    "train = pd.read_csv(INPUT / \"train.csv\")\n",
    "test = pd.read_csv(INPUT / \"test.csv\")\n",
    "submission = pd.read_csv(INPUT / \"sample_solution.csv\")"
   ]
  },
  {
   "cell_type": "markdown",
   "id": "2c2b316c",
   "metadata": {
    "papermill": {
     "duration": 0.016756,
     "end_time": "2021-09-17T02:32:39.591452",
     "exception": false,
     "start_time": "2021-09-17T02:32:39.574696",
     "status": "completed"
    },
    "tags": []
   },
   "source": [
    "# Preprocessing"
   ]
  },
  {
   "cell_type": "code",
   "execution_count": 5,
   "id": "2fb94626",
   "metadata": {
    "execution": {
     "iopub.execute_input": "2021-09-17T02:32:39.630128Z",
     "iopub.status.busy": "2021-09-17T02:32:39.629518Z",
     "iopub.status.idle": "2021-09-17T02:32:39.632663Z",
     "shell.execute_reply": "2021-09-17T02:32:39.632143Z",
     "shell.execute_reply.started": "2021-09-07T00:44:26.991956Z"
    },
    "papermill": {
     "duration": 0.024381,
     "end_time": "2021-09-17T02:32:39.632801",
     "exception": false,
     "start_time": "2021-09-17T02:32:39.608420",
     "status": "completed"
    },
    "tags": []
   },
   "outputs": [],
   "source": [
    "features = [col for col in train.columns if 'f' in col]"
   ]
  },
  {
   "cell_type": "code",
   "execution_count": 6,
   "id": "162b10a8",
   "metadata": {
    "execution": {
     "iopub.execute_input": "2021-09-17T02:32:39.677739Z",
     "iopub.status.busy": "2021-09-17T02:32:39.677087Z",
     "iopub.status.idle": "2021-09-17T02:32:42.094503Z",
     "shell.execute_reply": "2021-09-17T02:32:42.095014Z",
     "shell.execute_reply.started": "2021-09-07T00:44:26.99871Z"
    },
    "papermill": {
     "duration": 2.445529,
     "end_time": "2021-09-17T02:32:42.095246",
     "exception": false,
     "start_time": "2021-09-17T02:32:39.649717",
     "status": "completed"
    },
    "tags": []
   },
   "outputs": [],
   "source": [
    "train['n_missing'] = train[features].isna().sum(axis=1)\n",
    "test['n_missing'] = test[features].isna().sum(axis=1)\n",
    "\n",
    "train['std'] = train[features].std(axis=1)\n",
    "test['std'] = test[features].std(axis=1)\n",
    "\n",
    "features += ['n_missing', 'std']"
   ]
  },
  {
   "cell_type": "code",
   "execution_count": 7,
   "id": "f24f65a2",
   "metadata": {
    "execution": {
     "iopub.execute_input": "2021-09-17T02:32:42.134369Z",
     "iopub.status.busy": "2021-09-17T02:32:42.133679Z",
     "iopub.status.idle": "2021-09-17T02:32:42.138266Z",
     "shell.execute_reply": "2021-09-17T02:32:42.138843Z",
     "shell.execute_reply.started": "2021-09-07T00:44:32.251726Z"
    },
    "papermill": {
     "duration": 0.025591,
     "end_time": "2021-09-17T02:32:42.139015",
     "exception": false,
     "start_time": "2021-09-17T02:32:42.113424",
     "status": "completed"
    },
    "tags": []
   },
   "outputs": [],
   "source": [
    "ss = StandardScaler()\n"
   ]
  },
  {
   "cell_type": "code",
   "execution_count": 8,
   "id": "8e19c1d2",
   "metadata": {
    "execution": {
     "iopub.execute_input": "2021-09-17T02:32:42.184006Z",
     "iopub.status.busy": "2021-09-17T02:32:42.183380Z",
     "iopub.status.idle": "2021-09-17T02:32:42.773454Z",
     "shell.execute_reply": "2021-09-17T02:32:42.773989Z",
     "shell.execute_reply.started": "2021-09-07T00:44:32.257636Z"
    },
    "papermill": {
     "duration": 0.617205,
     "end_time": "2021-09-17T02:32:42.774158",
     "exception": false,
     "start_time": "2021-09-17T02:32:42.156953",
     "status": "completed"
    },
    "tags": []
   },
   "outputs": [
    {
     "data": {
      "text/html": [
       "<div>\n",
       "<style scoped>\n",
       "    .dataframe tbody tr th:only-of-type {\n",
       "        vertical-align: middle;\n",
       "    }\n",
       "\n",
       "    .dataframe tbody tr th {\n",
       "        vertical-align: top;\n",
       "    }\n",
       "\n",
       "    .dataframe thead th {\n",
       "        text-align: right;\n",
       "    }\n",
       "</style>\n",
       "<table border=\"1\" class=\"dataframe\">\n",
       "  <thead>\n",
       "    <tr style=\"text-align: right;\">\n",
       "      <th></th>\n",
       "      <th>f1</th>\n",
       "      <th>f2</th>\n",
       "      <th>f3</th>\n",
       "      <th>f4</th>\n",
       "      <th>f5</th>\n",
       "      <th>f6</th>\n",
       "      <th>f7</th>\n",
       "      <th>f8</th>\n",
       "      <th>f9</th>\n",
       "      <th>f10</th>\n",
       "      <th>...</th>\n",
       "      <th>f111</th>\n",
       "      <th>f112</th>\n",
       "      <th>f113</th>\n",
       "      <th>f114</th>\n",
       "      <th>f115</th>\n",
       "      <th>f116</th>\n",
       "      <th>f117</th>\n",
       "      <th>f118</th>\n",
       "      <th>n_missing</th>\n",
       "      <th>std</th>\n",
       "    </tr>\n",
       "  </thead>\n",
       "  <tbody>\n",
       "    <tr>\n",
       "      <th>0</th>\n",
       "      <td>0.165850</td>\n",
       "      <td>0.487050</td>\n",
       "      <td>1295.00</td>\n",
       "      <td>0.023100</td>\n",
       "      <td>0.31900</td>\n",
       "      <td>0.901880</td>\n",
       "      <td>573.29</td>\n",
       "      <td>3743.7</td>\n",
       "      <td>2.705700e+12</td>\n",
       "      <td>6221.000000</td>\n",
       "      <td>...</td>\n",
       "      <td>2.0655</td>\n",
       "      <td>0.430880</td>\n",
       "      <td>-10.7410</td>\n",
       "      <td>81606.00</td>\n",
       "      <td>1.1940</td>\n",
       "      <td>1.980400e+14</td>\n",
       "      <td>2017.10</td>\n",
       "      <td>0.46357</td>\n",
       "      <td>1</td>\n",
       "      <td>5.589410e+15</td>\n",
       "    </tr>\n",
       "    <tr>\n",
       "      <th>1</th>\n",
       "      <td>0.129650</td>\n",
       "      <td>0.373480</td>\n",
       "      <td>1763.00</td>\n",
       "      <td>0.728840</td>\n",
       "      <td>0.33247</td>\n",
       "      <td>-1.263100</td>\n",
       "      <td>875.55</td>\n",
       "      <td>554370.0</td>\n",
       "      <td>5.955700e+14</td>\n",
       "      <td>934.430000</td>\n",
       "      <td>...</td>\n",
       "      <td>1.5736</td>\n",
       "      <td>-1.071200</td>\n",
       "      <td>11.8320</td>\n",
       "      <td>90114.00</td>\n",
       "      <td>1.1507</td>\n",
       "      <td>4.388000e+16</td>\n",
       "      <td>6638.90</td>\n",
       "      <td>0.28125</td>\n",
       "      <td>0</td>\n",
       "      <td>4.080971e+15</td>\n",
       "    </tr>\n",
       "    <tr>\n",
       "      <th>2</th>\n",
       "      <td>0.120190</td>\n",
       "      <td>0.445210</td>\n",
       "      <td>736.26</td>\n",
       "      <td>0.046150</td>\n",
       "      <td>0.29605</td>\n",
       "      <td>0.316650</td>\n",
       "      <td>2659.50</td>\n",
       "      <td>317140.0</td>\n",
       "      <td>3.977800e+14</td>\n",
       "      <td>131.810000</td>\n",
       "      <td>...</td>\n",
       "      <td>2.1364</td>\n",
       "      <td>-1.931200</td>\n",
       "      <td>-3.2804</td>\n",
       "      <td>37739.00</td>\n",
       "      <td>1.1548</td>\n",
       "      <td>1.718100e+14</td>\n",
       "      <td>5844.00</td>\n",
       "      <td>0.13797</td>\n",
       "      <td>1</td>\n",
       "      <td>4.054317e+13</td>\n",
       "    </tr>\n",
       "    <tr>\n",
       "      <th>3</th>\n",
       "      <td>0.054008</td>\n",
       "      <td>0.395960</td>\n",
       "      <td>996.14</td>\n",
       "      <td>0.859340</td>\n",
       "      <td>0.36678</td>\n",
       "      <td>-0.170600</td>\n",
       "      <td>386.56</td>\n",
       "      <td>325680.0</td>\n",
       "      <td>-3.432200e+13</td>\n",
       "      <td>-26.473000</td>\n",
       "      <td>...</td>\n",
       "      <td>1.5199</td>\n",
       "      <td>-0.011633</td>\n",
       "      <td>1.3840</td>\n",
       "      <td>26849.00</td>\n",
       "      <td>1.1490</td>\n",
       "      <td>2.138800e+17</td>\n",
       "      <td>6173.30</td>\n",
       "      <td>0.32910</td>\n",
       "      <td>0</td>\n",
       "      <td>1.999852e+16</td>\n",
       "    </tr>\n",
       "    <tr>\n",
       "      <th>4</th>\n",
       "      <td>0.079947</td>\n",
       "      <td>-0.006919</td>\n",
       "      <td>10574.00</td>\n",
       "      <td>0.348450</td>\n",
       "      <td>0.45008</td>\n",
       "      <td>-1.842000</td>\n",
       "      <td>3027.00</td>\n",
       "      <td>428150.0</td>\n",
       "      <td>9.291500e+11</td>\n",
       "      <td>5999.400000</td>\n",
       "      <td>...</td>\n",
       "      <td>3.7387</td>\n",
       "      <td>0.757080</td>\n",
       "      <td>-4.9405</td>\n",
       "      <td>50336.00</td>\n",
       "      <td>1.2488</td>\n",
       "      <td>2.151300e+17</td>\n",
       "      <td>2250.10</td>\n",
       "      <td>0.33796</td>\n",
       "      <td>0</td>\n",
       "      <td>1.980389e+16</td>\n",
       "    </tr>\n",
       "    <tr>\n",
       "      <th>...</th>\n",
       "      <td>...</td>\n",
       "      <td>...</td>\n",
       "      <td>...</td>\n",
       "      <td>...</td>\n",
       "      <td>...</td>\n",
       "      <td>...</td>\n",
       "      <td>...</td>\n",
       "      <td>...</td>\n",
       "      <td>...</td>\n",
       "      <td>...</td>\n",
       "      <td>...</td>\n",
       "      <td>...</td>\n",
       "      <td>...</td>\n",
       "      <td>...</td>\n",
       "      <td>...</td>\n",
       "      <td>...</td>\n",
       "      <td>...</td>\n",
       "      <td>...</td>\n",
       "      <td>...</td>\n",
       "      <td>...</td>\n",
       "      <td>...</td>\n",
       "    </tr>\n",
       "    <tr>\n",
       "      <th>493469</th>\n",
       "      <td>-0.009112</td>\n",
       "      <td>0.308190</td>\n",
       "      <td>637.64</td>\n",
       "      <td>0.778200</td>\n",
       "      <td>0.41415</td>\n",
       "      <td>-1.068500</td>\n",
       "      <td>651.22</td>\n",
       "      <td>985000.0</td>\n",
       "      <td>6.079700e+15</td>\n",
       "      <td>508.820000</td>\n",
       "      <td>...</td>\n",
       "      <td>2.3325</td>\n",
       "      <td>0.112260</td>\n",
       "      <td>-5.9238</td>\n",
       "      <td>NaN</td>\n",
       "      <td>1.1559</td>\n",
       "      <td>8.163900e+16</td>\n",
       "      <td>857.09</td>\n",
       "      <td>1.56330</td>\n",
       "      <td>2</td>\n",
       "      <td>1.123239e+16</td>\n",
       "    </tr>\n",
       "    <tr>\n",
       "      <th>493470</th>\n",
       "      <td>0.088922</td>\n",
       "      <td>0.482650</td>\n",
       "      <td>6924.10</td>\n",
       "      <td>0.025963</td>\n",
       "      <td>0.35540</td>\n",
       "      <td>-0.870200</td>\n",
       "      <td>2514.20</td>\n",
       "      <td>18004.0</td>\n",
       "      <td>6.073500e+14</td>\n",
       "      <td>-0.008665</td>\n",
       "      <td>...</td>\n",
       "      <td>1.7005</td>\n",
       "      <td>97.813000</td>\n",
       "      <td>4.3793</td>\n",
       "      <td>-2432.00</td>\n",
       "      <td>1.0707</td>\n",
       "      <td>4.691800e+16</td>\n",
       "      <td>7497.10</td>\n",
       "      <td>0.67075</td>\n",
       "      <td>0</td>\n",
       "      <td>4.335915e+15</td>\n",
       "    </tr>\n",
       "    <tr>\n",
       "      <th>493471</th>\n",
       "      <td>0.140620</td>\n",
       "      <td>0.484750</td>\n",
       "      <td>1797.10</td>\n",
       "      <td>0.147020</td>\n",
       "      <td>0.28803</td>\n",
       "      <td>-1.407100</td>\n",
       "      <td>434.03</td>\n",
       "      <td>333050.0</td>\n",
       "      <td>2.351000e+15</td>\n",
       "      <td>33492.000000</td>\n",
       "      <td>...</td>\n",
       "      <td>1.6827</td>\n",
       "      <td>NaN</td>\n",
       "      <td>8.0633</td>\n",
       "      <td>2471.40</td>\n",
       "      <td>1.1725</td>\n",
       "      <td>7.900900e+16</td>\n",
       "      <td>2904.60</td>\n",
       "      <td>0.18005</td>\n",
       "      <td>5</td>\n",
       "      <td>7.433839e+15</td>\n",
       "    </tr>\n",
       "    <tr>\n",
       "      <th>493472</th>\n",
       "      <td>0.168000</td>\n",
       "      <td>0.351760</td>\n",
       "      <td>454.79</td>\n",
       "      <td>0.164580</td>\n",
       "      <td>0.16983</td>\n",
       "      <td>0.323850</td>\n",
       "      <td>2331.20</td>\n",
       "      <td>223980.0</td>\n",
       "      <td>-2.795300e+12</td>\n",
       "      <td>93.561000</td>\n",
       "      <td>...</td>\n",
       "      <td>1.3531</td>\n",
       "      <td>155.210000</td>\n",
       "      <td>13.9630</td>\n",
       "      <td>-11.44</td>\n",
       "      <td>1.1946</td>\n",
       "      <td>-1.770600e+14</td>\n",
       "      <td>6763.10</td>\n",
       "      <td>0.33223</td>\n",
       "      <td>0</td>\n",
       "      <td>1.172729e+16</td>\n",
       "    </tr>\n",
       "    <tr>\n",
       "      <th>493473</th>\n",
       "      <td>0.093079</td>\n",
       "      <td>0.501860</td>\n",
       "      <td>3322.40</td>\n",
       "      <td>NaN</td>\n",
       "      <td>0.33269</td>\n",
       "      <td>0.056827</td>\n",
       "      <td>2568.70</td>\n",
       "      <td>39185.0</td>\n",
       "      <td>1.489300e+14</td>\n",
       "      <td>-318.920000</td>\n",
       "      <td>...</td>\n",
       "      <td>1.4480</td>\n",
       "      <td>-1.512900</td>\n",
       "      <td>-15.4360</td>\n",
       "      <td>662.46</td>\n",
       "      <td>1.1778</td>\n",
       "      <td>2.459300e+15</td>\n",
       "      <td>8770.00</td>\n",
       "      <td>0.95503</td>\n",
       "      <td>6</td>\n",
       "      <td>2.340480e+14</td>\n",
       "    </tr>\n",
       "  </tbody>\n",
       "</table>\n",
       "<p>493474 rows × 120 columns</p>\n",
       "</div>"
      ],
      "text/plain": [
       "              f1        f2        f3        f4       f5        f6       f7  \\\n",
       "0       0.165850  0.487050   1295.00  0.023100  0.31900  0.901880   573.29   \n",
       "1       0.129650  0.373480   1763.00  0.728840  0.33247 -1.263100   875.55   \n",
       "2       0.120190  0.445210    736.26  0.046150  0.29605  0.316650  2659.50   \n",
       "3       0.054008  0.395960    996.14  0.859340  0.36678 -0.170600   386.56   \n",
       "4       0.079947 -0.006919  10574.00  0.348450  0.45008 -1.842000  3027.00   \n",
       "...          ...       ...       ...       ...      ...       ...      ...   \n",
       "493469 -0.009112  0.308190    637.64  0.778200  0.41415 -1.068500   651.22   \n",
       "493470  0.088922  0.482650   6924.10  0.025963  0.35540 -0.870200  2514.20   \n",
       "493471  0.140620  0.484750   1797.10  0.147020  0.28803 -1.407100   434.03   \n",
       "493472  0.168000  0.351760    454.79  0.164580  0.16983  0.323850  2331.20   \n",
       "493473  0.093079  0.501860   3322.40       NaN  0.33269  0.056827  2568.70   \n",
       "\n",
       "              f8            f9           f10  ...    f111        f112  \\\n",
       "0         3743.7  2.705700e+12   6221.000000  ...  2.0655    0.430880   \n",
       "1       554370.0  5.955700e+14    934.430000  ...  1.5736   -1.071200   \n",
       "2       317140.0  3.977800e+14    131.810000  ...  2.1364   -1.931200   \n",
       "3       325680.0 -3.432200e+13    -26.473000  ...  1.5199   -0.011633   \n",
       "4       428150.0  9.291500e+11   5999.400000  ...  3.7387    0.757080   \n",
       "...          ...           ...           ...  ...     ...         ...   \n",
       "493469  985000.0  6.079700e+15    508.820000  ...  2.3325    0.112260   \n",
       "493470   18004.0  6.073500e+14     -0.008665  ...  1.7005   97.813000   \n",
       "493471  333050.0  2.351000e+15  33492.000000  ...  1.6827         NaN   \n",
       "493472  223980.0 -2.795300e+12     93.561000  ...  1.3531  155.210000   \n",
       "493473   39185.0  1.489300e+14   -318.920000  ...  1.4480   -1.512900   \n",
       "\n",
       "           f113      f114    f115          f116     f117     f118  n_missing  \\\n",
       "0      -10.7410  81606.00  1.1940  1.980400e+14  2017.10  0.46357          1   \n",
       "1       11.8320  90114.00  1.1507  4.388000e+16  6638.90  0.28125          0   \n",
       "2       -3.2804  37739.00  1.1548  1.718100e+14  5844.00  0.13797          1   \n",
       "3        1.3840  26849.00  1.1490  2.138800e+17  6173.30  0.32910          0   \n",
       "4       -4.9405  50336.00  1.2488  2.151300e+17  2250.10  0.33796          0   \n",
       "...         ...       ...     ...           ...      ...      ...        ...   \n",
       "493469  -5.9238       NaN  1.1559  8.163900e+16   857.09  1.56330          2   \n",
       "493470   4.3793  -2432.00  1.0707  4.691800e+16  7497.10  0.67075          0   \n",
       "493471   8.0633   2471.40  1.1725  7.900900e+16  2904.60  0.18005          5   \n",
       "493472  13.9630    -11.44  1.1946 -1.770600e+14  6763.10  0.33223          0   \n",
       "493473 -15.4360    662.46  1.1778  2.459300e+15  8770.00  0.95503          6   \n",
       "\n",
       "                 std  \n",
       "0       5.589410e+15  \n",
       "1       4.080971e+15  \n",
       "2       4.054317e+13  \n",
       "3       1.999852e+16  \n",
       "4       1.980389e+16  \n",
       "...              ...  \n",
       "493469  1.123239e+16  \n",
       "493470  4.335915e+15  \n",
       "493471  7.433839e+15  \n",
       "493472  1.172729e+16  \n",
       "493473  2.340480e+14  \n",
       "\n",
       "[493474 rows x 120 columns]"
      ]
     },
     "execution_count": 8,
     "metadata": {},
     "output_type": "execute_result"
    }
   ],
   "source": [
    "test[features]"
   ]
  },
  {
   "cell_type": "code",
   "execution_count": 9,
   "id": "5f66e6b7",
   "metadata": {
    "execution": {
     "iopub.execute_input": "2021-09-17T02:32:42.815610Z",
     "iopub.status.busy": "2021-09-17T02:32:42.814866Z",
     "iopub.status.idle": "2021-09-17T02:32:42.822553Z",
     "shell.execute_reply": "2021-09-17T02:32:42.822000Z",
     "shell.execute_reply.started": "2021-09-07T00:44:32.507605Z"
    },
    "papermill": {
     "duration": 0.029189,
     "end_time": "2021-09-17T02:32:42.822719",
     "exception": false,
     "start_time": "2021-09-17T02:32:42.793530",
     "status": "completed"
    },
    "tags": []
   },
   "outputs": [
    {
     "data": {
      "text/plain": [
       "0         1\n",
       "1         0\n",
       "2         1\n",
       "3         1\n",
       "4         1\n",
       "         ..\n",
       "957914    0\n",
       "957915    1\n",
       "957916    0\n",
       "957917    1\n",
       "957918    0\n",
       "Name: claim, Length: 957919, dtype: int64"
      ]
     },
     "execution_count": 9,
     "metadata": {},
     "output_type": "execute_result"
    }
   ],
   "source": [
    "train[target]"
   ]
  },
  {
   "cell_type": "markdown",
   "id": "40655cf8",
   "metadata": {
    "papermill": {
     "duration": 0.018748,
     "end_time": "2021-09-17T02:32:42.860673",
     "exception": false,
     "start_time": "2021-09-17T02:32:42.841925",
     "status": "completed"
    },
    "tags": []
   },
   "source": [
    "# LGB"
   ]
  },
  {
   "cell_type": "code",
   "execution_count": 10,
   "id": "0776a220",
   "metadata": {
    "execution": {
     "iopub.execute_input": "2021-09-17T02:32:42.905211Z",
     "iopub.status.busy": "2021-09-17T02:32:42.904437Z",
     "iopub.status.idle": "2021-09-17T02:32:42.907521Z",
     "shell.execute_reply": "2021-09-17T02:32:42.906838Z",
     "shell.execute_reply.started": "2021-09-07T00:44:32.516352Z"
    },
    "papermill": {
     "duration": 0.028343,
     "end_time": "2021-09-17T02:32:42.907701",
     "exception": false,
     "start_time": "2021-09-17T02:32:42.879358",
     "status": "completed"
    },
    "tags": []
   },
   "outputs": [],
   "source": [
    "lgb_params = {\n",
    "    'objective': 'binary',\n",
    "     'n_estimators':N_ESTIMATORS,\n",
    "     #'importance_type': 'gain',\n",
    "     'metric':'auc',\n",
    "     #'boosting_type': 'gbdt',\n",
    "     'n_jobs' : -1,\n",
    "        \n",
    "   \n",
    "    \n",
    "    'learning_rate': 5e-3,\n",
    "    'subsample': 0.6,\n",
    "    'subsample_freq': 1,\n",
    "    'colsample_bytree': 0.4,\n",
    "    'reg_alpha': 10.0,\n",
    "    'reg_lambda': 1e-1,\n",
    "    'min_child_weight': 256,\n",
    "    'min_child_samples': 20,\n",
    "   \n",
    "}"
   ]
  },
  {
   "cell_type": "code",
   "execution_count": 11,
   "id": "7c81334e",
   "metadata": {
    "execution": {
     "iopub.execute_input": "2021-09-17T02:32:42.965117Z",
     "iopub.status.busy": "2021-09-17T02:32:42.964388Z",
     "iopub.status.idle": "2021-09-17T07:20:46.316376Z",
     "shell.execute_reply": "2021-09-17T07:20:46.315798Z",
     "shell.execute_reply.started": "2021-09-07T00:48:20.356186Z"
    },
    "papermill": {
     "duration": 17283.389653,
     "end_time": "2021-09-17T07:20:46.316540",
     "exception": false,
     "start_time": "2021-09-17T02:32:42.926887",
     "status": "completed"
    },
    "tags": []
   },
   "outputs": [
    {
     "name": "stdout",
     "output_type": "stream",
     "text": [
      "===== fold 0 =====\n",
      "===== fold 1 =====\n",
      "===== fold 2 =====\n",
      "===== fold 3 =====\n",
      "===== fold 4 =====\n",
      "===== fold 5 =====\n",
      "Training until validation scores don't improve for 300 rounds\n",
      "[1000]\tvalid_0's auc: 0.809792\n",
      "[2000]\tvalid_0's auc: 0.811633\n",
      "[3000]\tvalid_0's auc: 0.812588\n",
      "[4000]\tvalid_0's auc: 0.813229\n",
      "[5000]\tvalid_0's auc: 0.813721\n",
      "[6000]\tvalid_0's auc: 0.814021\n",
      "[7000]\tvalid_0's auc: 0.814241\n",
      "[8000]\tvalid_0's auc: 0.814413\n",
      "[9000]\tvalid_0's auc: 0.814564\n",
      "[10000]\tvalid_0's auc: 0.814695\n",
      "[11000]\tvalid_0's auc: 0.814832\n",
      "[12000]\tvalid_0's auc: 0.814919\n",
      "[13000]\tvalid_0's auc: 0.815003\n",
      "[14000]\tvalid_0's auc: 0.815028\n",
      "[15000]\tvalid_0's auc: 0.815077\n",
      "Early stopping, best iteration is:\n",
      "[14945]\tvalid_0's auc: 0.815083\n",
      "Training until validation scores don't improve for 300 rounds\n",
      "[15000]\tvalid_0's auc: 0.815084\n",
      "[16000]\tvalid_0's auc: 0.815089\n",
      "[17000]\tvalid_0's auc: 0.815094\n",
      "[18000]\tvalid_0's auc: 0.815104\n",
      "[19000]\tvalid_0's auc: 0.815108\n",
      "Early stopping, best iteration is:\n",
      "[18831]\tvalid_0's auc: 0.815109\n",
      "fold 5 - lgb auc: 0.815109, elapsed time: 4073.99sec\n",
      "\n",
      "===== fold 6 =====\n",
      "Training until validation scores don't improve for 300 rounds\n",
      "[1000]\tvalid_0's auc: 0.814685\n",
      "[2000]\tvalid_0's auc: 0.81664\n",
      "[3000]\tvalid_0's auc: 0.817505\n",
      "[4000]\tvalid_0's auc: 0.818087\n",
      "[5000]\tvalid_0's auc: 0.818474\n",
      "[6000]\tvalid_0's auc: 0.818735\n",
      "[7000]\tvalid_0's auc: 0.818915\n",
      "[8000]\tvalid_0's auc: 0.819032\n",
      "[9000]\tvalid_0's auc: 0.819147\n",
      "Early stopping, best iteration is:\n",
      "[9581]\tvalid_0's auc: 0.819194\n",
      "Training until validation scores don't improve for 300 rounds\n",
      "[10000]\tvalid_0's auc: 0.819199\n",
      "[11000]\tvalid_0's auc: 0.819208\n",
      "[12000]\tvalid_0's auc: 0.819217\n",
      "[13000]\tvalid_0's auc: 0.819221\n",
      "Early stopping, best iteration is:\n",
      "[12942]\tvalid_0's auc: 0.819223\n",
      "fold 6 - lgb auc: 0.819223, elapsed time: 2787.95sec\n",
      "\n",
      "===== fold 7 =====\n",
      "Training until validation scores don't improve for 300 rounds\n",
      "[1000]\tvalid_0's auc: 0.810069\n",
      "[2000]\tvalid_0's auc: 0.811972\n",
      "[3000]\tvalid_0's auc: 0.81295\n",
      "[4000]\tvalid_0's auc: 0.813521\n",
      "[5000]\tvalid_0's auc: 0.813924\n",
      "[6000]\tvalid_0's auc: 0.81424\n",
      "[7000]\tvalid_0's auc: 0.814411\n",
      "[8000]\tvalid_0's auc: 0.814552\n",
      "[9000]\tvalid_0's auc: 0.814706\n",
      "[10000]\tvalid_0's auc: 0.814835\n",
      "[11000]\tvalid_0's auc: 0.814901\n",
      "[12000]\tvalid_0's auc: 0.814946\n",
      "Early stopping, best iteration is:\n",
      "[12193]\tvalid_0's auc: 0.814972\n",
      "Training until validation scores don't improve for 300 rounds\n",
      "[13000]\tvalid_0's auc: 0.814977\n",
      "[14000]\tvalid_0's auc: 0.814982\n",
      "[15000]\tvalid_0's auc: 0.814989\n",
      "[16000]\tvalid_0's auc: 0.814999\n",
      "Early stopping, best iteration is:\n",
      "[16105]\tvalid_0's auc: 0.815\n",
      "fold 7 - lgb auc: 0.815000, elapsed time: 3439.80sec\n",
      "\n",
      "===== fold 8 =====\n",
      "Training until validation scores don't improve for 300 rounds\n",
      "[1000]\tvalid_0's auc: 0.812266\n",
      "[2000]\tvalid_0's auc: 0.813811\n",
      "[3000]\tvalid_0's auc: 0.814695\n",
      "[4000]\tvalid_0's auc: 0.815247\n",
      "[5000]\tvalid_0's auc: 0.815579\n",
      "[6000]\tvalid_0's auc: 0.815861\n",
      "[7000]\tvalid_0's auc: 0.816047\n",
      "[8000]\tvalid_0's auc: 0.816215\n",
      "[9000]\tvalid_0's auc: 0.816374\n",
      "[10000]\tvalid_0's auc: 0.816463\n",
      "[11000]\tvalid_0's auc: 0.816556\n",
      "Early stopping, best iteration is:\n",
      "[11085]\tvalid_0's auc: 0.816576\n",
      "Training until validation scores don't improve for 300 rounds\n",
      "[12000]\tvalid_0's auc: 0.816584\n",
      "[13000]\tvalid_0's auc: 0.816591\n",
      "[14000]\tvalid_0's auc: 0.816602\n",
      "[15000]\tvalid_0's auc: 0.816607\n",
      "[16000]\tvalid_0's auc: 0.816616\n",
      "[17000]\tvalid_0's auc: 0.816625\n",
      "[18000]\tvalid_0's auc: 0.816633\n",
      "[19000]\tvalid_0's auc: 0.816638\n",
      "Early stopping, best iteration is:\n",
      "[18857]\tvalid_0's auc: 0.816639\n",
      "fold 8 - lgb auc: 0.816639, elapsed time: 3753.36sec\n",
      "\n",
      "===== fold 9 =====\n",
      "Training until validation scores don't improve for 300 rounds\n",
      "[1000]\tvalid_0's auc: 0.811322\n",
      "[2000]\tvalid_0's auc: 0.812928\n",
      "[3000]\tvalid_0's auc: 0.81389\n",
      "[4000]\tvalid_0's auc: 0.814464\n",
      "[5000]\tvalid_0's auc: 0.814906\n",
      "[6000]\tvalid_0's auc: 0.815226\n",
      "[7000]\tvalid_0's auc: 0.815428\n",
      "[8000]\tvalid_0's auc: 0.815578\n",
      "[9000]\tvalid_0's auc: 0.815715\n",
      "[10000]\tvalid_0's auc: 0.815825\n",
      "[11000]\tvalid_0's auc: 0.815908\n",
      "[12000]\tvalid_0's auc: 0.815993\n",
      "Early stopping, best iteration is:\n",
      "[11856]\tvalid_0's auc: 0.815999\n",
      "Training until validation scores don't improve for 300 rounds\n",
      "[12000]\tvalid_0's auc: 0.816001\n",
      "[13000]\tvalid_0's auc: 0.816008\n",
      "Early stopping, best iteration is:\n",
      "[12825]\tvalid_0's auc: 0.816009\n",
      "fold 9 - lgb auc: 0.816009, elapsed time: 2932.94sec\n",
      "\n",
      "oof lgb_auc = 0.5790906171741194\n"
     ]
    }
   ],
   "source": [
    "lgb_oof = np.zeros(train.shape[0])\n",
    "lgb_pred = np.zeros(test.shape[0])\n",
    "lgb_importances = pd.DataFrame()\n",
    "\n",
    "\n",
    "kf = StratifiedKFold(n_splits=N_SPLITS, shuffle=True, random_state=CVSEED)\n",
    "seed_list=[SEED+9]\n",
    "\n",
    "for fold, (trn_idx, val_idx) in enumerate(kf.split(X=train[features], y=train[target])):\n",
    "    print(f\"===== fold {fold} =====\")\n",
    "    if fold >4:\n",
    "\n",
    "        X_train = train[features].iloc[trn_idx]\n",
    "        y_train = train[target].iloc[trn_idx]\n",
    "        X_valid = train[features].iloc[val_idx]\n",
    "        y_valid = train[target].iloc[val_idx]\n",
    "        X_test = test[features]\n",
    "\n",
    "        X_train[features] = X_train[features].fillna(X_train[features].median())\n",
    "        X_valid[features] = X_valid[features].fillna(X_valid[features].median())\n",
    "        X_test[features] = X_test[features].fillna(X_test[features].median())\n",
    "\n",
    "        X_train[features] = ss.fit_transform(X_train[features])\n",
    "        X_valid[features] = ss.transform(X_valid[features])\n",
    "        X_test[features] = ss.transform(X_test[features])\n",
    "\n",
    "        start = time.time()\n",
    "        for inseed in seed_list:\n",
    "            lgb_params['random_state'] = inseed\n",
    "\n",
    "            pre_model = lgb.LGBMClassifier(**lgb_params)\n",
    "            pre_model.fit(\n",
    "                X_train, \n",
    "                y_train,\n",
    "                eval_set=[(X_valid, y_valid)],\n",
    "                eval_metric='auc',\n",
    "                early_stopping_rounds=EARLY_STOPPING_ROUNDS,\n",
    "                verbose=VERBOSE,\n",
    "            )\n",
    "\n",
    "            lgb_params2 = lgb_params.copy()\n",
    "            lgb_params2['reg_lambda'] *= 0.9\n",
    "            lgb_params2['reg_alpha'] *= 0.9\n",
    "            lgb_params2['learning_rate'] *= 0.1\n",
    "            model = lgb.LGBMClassifier(**lgb_params2)\n",
    "            model.fit(\n",
    "                    X_train, y_train,\n",
    "                    eval_set=[(X_valid, y_valid)],\n",
    "                    eval_metric='auc',\n",
    "                    early_stopping_rounds=EARLY_STOPPING_ROUNDS,\n",
    "                    verbose=VERBOSE,\n",
    "                    init_model=pre_model\n",
    "            )    \n",
    "\n",
    "            with open(f\"lgb_model{fold}_seed{inseed}.pkl\", 'wb') as f:\n",
    "                pickle.dump(model, f)\n",
    "\n",
    "            fi_tmp = pd.DataFrame()\n",
    "            fi_tmp['feature'] = model.feature_name_\n",
    "            fi_tmp['importance'] = model.feature_importances_\n",
    "            fi_tmp['fold'] = fold\n",
    "            fi_tmp['seed'] = inseed\n",
    "            lgb_importances = lgb_importances.append(fi_tmp)\n",
    "\n",
    "            lgb_oof[val_idx] += model.predict_proba(X_valid)[:,-1] / len(seed_list)\n",
    "            lgb_pred += model.predict_proba(X_test)[:,-1] / len(seed_list)\n",
    "\n",
    "\n",
    "        elapsed = time.time() - start\n",
    "        auc = roc_auc_score(y_valid, lgb_oof[val_idx])\n",
    "        print(f\"fold {fold} - lgb auc: {auc:.6f}, elapsed time: {elapsed:.2f}sec\\n\")            \n",
    "\n",
    "lgb_pred /= N_SPLITS\n",
    "print(f\"oof lgb_auc = {roc_auc_score(train[target], lgb_oof)}\")\n",
    "\n",
    "np.save(\"lgb_oof.npy\", lgb_oof)\n",
    "np.save(\"lgb_pred.npy\", lgb_pred)"
   ]
  },
  {
   "cell_type": "markdown",
   "id": "bfe5f2f7",
   "metadata": {
    "papermill": {
     "duration": 0.050161,
     "end_time": "2021-09-17T07:20:46.417511",
     "exception": false,
     "start_time": "2021-09-17T07:20:46.367350",
     "status": "completed"
    },
    "tags": []
   },
   "source": [
    "# OOF predictions"
   ]
  },
  {
   "cell_type": "code",
   "execution_count": 12,
   "id": "713f1c07",
   "metadata": {
    "execution": {
     "iopub.execute_input": "2021-09-17T07:20:46.540352Z",
     "iopub.status.busy": "2021-09-17T07:20:46.539648Z",
     "iopub.status.idle": "2021-09-17T07:20:50.161047Z",
     "shell.execute_reply": "2021-09-17T07:20:50.160372Z",
     "shell.execute_reply.started": "2021-09-07T00:50:57.432219Z"
    },
    "papermill": {
     "duration": 3.691519,
     "end_time": "2021-09-17T07:20:50.161209",
     "exception": false,
     "start_time": "2021-09-17T07:20:46.469690",
     "status": "completed"
    },
    "tags": []
   },
   "outputs": [
    {
     "data": {
      "text/plain": [
       "<matplotlib.collections.PathCollection at 0x7fd39630af50>"
      ]
     },
     "execution_count": 12,
     "metadata": {},
     "output_type": "execute_result"
    },
    {
     "data": {
      "image/png": "[encoded data removed]",
      "text/plain": [
       "<Figure size 432x288 with 1 Axes>"
      ]
     },
     "metadata": {
      "needs_background": "light"
     },
     "output_type": "display_data"
    }
   ],
   "source": [
    "plt.plot(train[target], train[target])\n",
    "plt.scatter(train[target], lgb_oof)"
   ]
  },
  {
   "cell_type": "markdown",
   "id": "06d930d9",
   "metadata": {
    "papermill": {
     "duration": 0.053659,
     "end_time": "2021-09-17T07:20:50.267399",
     "exception": false,
     "start_time": "2021-09-17T07:20:50.213740",
     "status": "completed"
    },
    "tags": []
   },
   "source": [
    "# Features importances"
   ]
  },
  {
   "cell_type": "code",
   "execution_count": 13,
   "id": "22254ac8",
   "metadata": {
    "execution": {
     "iopub.execute_input": "2021-09-17T07:20:50.388619Z",
     "iopub.status.busy": "2021-09-17T07:20:50.385358Z",
     "iopub.status.idle": "2021-09-17T07:20:52.837594Z",
     "shell.execute_reply": "2021-09-17T07:20:52.838065Z",
     "shell.execute_reply.started": "2021-09-07T00:51:01.011128Z"
    },
    "papermill": {
     "duration": 2.517826,
     "end_time": "2021-09-17T07:20:52.838258",
     "exception": false,
     "start_time": "2021-09-17T07:20:50.320432",
     "status": "completed"
    },
    "tags": []
   },
   "outputs": [
    {
     "data": {
      "text/plain": [
       "Text(0.5, 1.0, 'LightGBM feature importances')"
      ]
     },
     "execution_count": 13,
     "metadata": {},
     "output_type": "execute_result"
    },
    {
     "data": {
      "image/png": "[encoded data removed]",
      "text/plain": [
       "<Figure size 1152x1152 with 1 Axes>"
      ]
     },
     "metadata": {
      "needs_background": "light"
     },
     "output_type": "display_data"
    }
   ],
   "source": [
    "order = list(lgb_importances.groupby('feature').mean().sort_values('importance', ascending=False).index)\n",
    "\n",
    "fig = plt.figure(figsize=(16, 16), tight_layout=True)\n",
    "sns.barplot(x=\"importance\", y=\"feature\", data=lgb_importances.groupby('feature').mean().reset_index(), order=order)\n",
    "plt.title(\"LightGBM feature importances\")"
   ]
  },
  {
   "cell_type": "markdown",
   "id": "8c4e53ac",
   "metadata": {
    "papermill": {
     "duration": 0.053946,
     "end_time": "2021-09-17T07:20:52.947360",
     "exception": false,
     "start_time": "2021-09-17T07:20:52.893414",
     "status": "completed"
    },
    "tags": []
   },
   "source": [
    "# Submission"
   ]
  },
  {
   "cell_type": "code",
   "execution_count": 14,
   "id": "98d22050",
   "metadata": {
    "execution": {
     "iopub.execute_input": "2021-09-17T07:20:53.062941Z",
     "iopub.status.busy": "2021-09-17T07:20:53.061916Z",
     "iopub.status.idle": "2021-09-17T07:20:54.956218Z",
     "shell.execute_reply": "2021-09-17T07:20:54.955678Z",
     "shell.execute_reply.started": "2021-09-07T00:51:03.177221Z"
    },
    "papermill": {
     "duration": 1.95388,
     "end_time": "2021-09-17T07:20:54.956396",
     "exception": false,
     "start_time": "2021-09-17T07:20:53.002516",
     "status": "completed"
    },
    "tags": []
   },
   "outputs": [
    {
     "data": {
      "text/html": [
       "<div>\n",
       "<style scoped>\n",
       "    .dataframe tbody tr th:only-of-type {\n",
       "        vertical-align: middle;\n",
       "    }\n",
       "\n",
       "    .dataframe tbody tr th {\n",
       "        vertical-align: top;\n",
       "    }\n",
       "\n",
       "    .dataframe thead th {\n",
       "        text-align: right;\n",
       "    }\n",
       "</style>\n",
       "<table border=\"1\" class=\"dataframe\">\n",
       "  <thead>\n",
       "    <tr style=\"text-align: right;\">\n",
       "      <th></th>\n",
       "      <th>id</th>\n",
       "      <th>claim</th>\n",
       "    </tr>\n",
       "  </thead>\n",
       "  <tbody>\n",
       "    <tr>\n",
       "      <th>0</th>\n",
       "      <td>957919</td>\n",
       "      <td>0.279705</td>\n",
       "    </tr>\n",
       "    <tr>\n",
       "      <th>1</th>\n",
       "      <td>957920</td>\n",
       "      <td>0.060162</td>\n",
       "    </tr>\n",
       "    <tr>\n",
       "      <th>2</th>\n",
       "      <td>957921</td>\n",
       "      <td>0.311747</td>\n",
       "    </tr>\n",
       "    <tr>\n",
       "      <th>3</th>\n",
       "      <td>957922</td>\n",
       "      <td>0.063955</td>\n",
       "    </tr>\n",
       "    <tr>\n",
       "      <th>4</th>\n",
       "      <td>957923</td>\n",
       "      <td>0.076830</td>\n",
       "    </tr>\n",
       "    <tr>\n",
       "      <th>...</th>\n",
       "      <td>...</td>\n",
       "      <td>...</td>\n",
       "    </tr>\n",
       "    <tr>\n",
       "      <th>493469</th>\n",
       "      <td>1451388</td>\n",
       "      <td>0.415131</td>\n",
       "    </tr>\n",
       "    <tr>\n",
       "      <th>493470</th>\n",
       "      <td>1451389</td>\n",
       "      <td>0.055897</td>\n",
       "    </tr>\n",
       "    <tr>\n",
       "      <th>493471</th>\n",
       "      <td>1451390</td>\n",
       "      <td>0.376669</td>\n",
       "    </tr>\n",
       "    <tr>\n",
       "      <th>493472</th>\n",
       "      <td>1451391</td>\n",
       "      <td>0.067769</td>\n",
       "    </tr>\n",
       "    <tr>\n",
       "      <th>493473</th>\n",
       "      <td>1451392</td>\n",
       "      <td>0.369124</td>\n",
       "    </tr>\n",
       "  </tbody>\n",
       "</table>\n",
       "<p>493474 rows × 2 columns</p>\n",
       "</div>"
      ],
      "text/plain": [
       "             id     claim\n",
       "0        957919  0.279705\n",
       "1        957920  0.060162\n",
       "2        957921  0.311747\n",
       "3        957922  0.063955\n",
       "4        957923  0.076830\n",
       "...         ...       ...\n",
       "493469  1451388  0.415131\n",
       "493470  1451389  0.055897\n",
       "493471  1451390  0.376669\n",
       "493472  1451391  0.067769\n",
       "493473  1451392  0.369124\n",
       "\n",
       "[493474 rows x 2 columns]"
      ]
     },
     "execution_count": 14,
     "metadata": {},
     "output_type": "execute_result"
    }
   ],
   "source": [
    "submission[target] = lgb_pred\n",
    "submission.to_csv(\"submission.csv\", index=False)\n",
    "\n",
    "submission"
   ]
  },
  {
   "cell_type": "markdown",
   "id": "5642eb90",
   "metadata": {
    "papermill": {
     "duration": 0.054983,
     "end_time": "2021-09-17T07:20:55.066134",
     "exception": false,
     "start_time": "2021-09-17T07:20:55.011151",
     "status": "completed"
    },
    "tags": []
   },
   "source": [
    "# Log\n",
    "\n",
    "mean ver3 fold 0-4 ver4 fold 5-9\n",
    "0.8165301880013356\n",
    "\n",
    "median ver6 fold 0-4 ver7 fold 5-9 \n",
    "0.8165581192557307\n",
    "ver8 aggregate seed 2017\n",
    "2018 ver10 fold 0-4 ver11 fold 5-9 \n",
    "2019 ver12 fold 0-4 ver13 fold 5-9\n",
    "2020 ver14 fold 0-4 ver15 fold 5-9\n",
    "2021 ver16 fold 0-4 ver17 fold 5-9\n",
    "2022 ver18 fold 0-4 ver19 fold 5-9\n",
    "2023 ver20 fold 0-4 ver21 fold 5-9\n",
    "2024 ver22 fold 0-4 ver23 fold 5-9\n",
    "2025 ver24 fold 0-4 ver25 fold 5-9\n",
    "2026 ver26 fold 0-4 ver27 fold 5-9"
   ]
  }
 ],
 "metadata": {
  "kernelspec": {
   "display_name": "Python 3",
   "language": "python",
   "name": "python3"
  },
  "language_info": {
   "codemirror_mode": {
    "name": "ipython",
    "version": 3
   },
   "file_extension": ".py",
   "mimetype": "text/x-python",
   "name": "python",
   "nbconvert_exporter": "python",
   "pygments_lexer": "ipython3",
   "version": "3.7.10"
  },
  "papermill": {
   "default_parameters": {},
   "duration": 17353.677985,
   "end_time": "2021-09-17T07:20:56.133971",
   "environment_variables": {},
   "exception": null,
   "input_path": "__notebook__.ipynb",
   "output_path": "__notebook__.ipynb",
   "parameters": {},
   "start_time": "2021-09-17T02:31:42.455986",
   "version": "2.3.3"
  }
 },
 "nbformat": 4,
 "nbformat_minor": 5
}
