{
 "cells": [
  {
   "cell_type": "code",
   "execution_count": 1,
   "id": "39c83d3c",
   "metadata": {
    "execution": {
     "iopub.execute_input": "2021-09-11T15:01:10.839498Z",
     "iopub.status.busy": "2021-09-11T15:01:10.838859Z",
     "iopub.status.idle": "2021-09-11T15:01:11.856552Z",
     "shell.execute_reply": "2021-09-11T15:01:11.855816Z",
     "shell.execute_reply.started": "2021-09-08T15:02:19.543574Z"
    },
    "papermill": {
     "duration": 1.038511,
     "end_time": "2021-09-11T15:01:11.856788",
     "exception": false,
     "start_time": "2021-09-11T15:01:10.818277",
     "status": "completed"
    },
    "tags": []
   },
   "outputs": [],
   "source": [
    "import numpy as np\n",
    "import pandas as pd\n",
    "from pathlib import Path\n",
    "from sklearn.metrics import roc_auc_score\n"
   ]
  },
  {
   "cell_type": "code",
   "execution_count": 2,
   "id": "d4db03f4",
   "metadata": {
    "execution": {
     "iopub.execute_input": "2021-09-11T15:01:11.879159Z",
     "iopub.status.busy": "2021-09-11T15:01:11.878436Z",
     "iopub.status.idle": "2021-09-11T15:01:59.348330Z",
     "shell.execute_reply": "2021-09-11T15:01:59.347691Z",
     "shell.execute_reply.started": "2021-09-08T15:02:19.551442Z"
    },
    "papermill": {
     "duration": 47.483411,
     "end_time": "2021-09-11T15:01:59.348508",
     "exception": false,
     "start_time": "2021-09-11T15:01:11.865097",
     "status": "completed"
    },
    "tags": []
   },
   "outputs": [],
   "source": [
    "INPUT = Path(\"../input/tabular-playground-series-sep-2021\")\n",
    "\n",
    "train = pd.read_csv(INPUT / \"train.csv\")\n",
    "test = pd.read_csv(INPUT / \"test.csv\")\n",
    "submission = pd.read_csv(INPUT / \"sample_solution.csv\")"
   ]
  },
  {
   "cell_type": "markdown",
   "id": "c124e2e9",
   "metadata": {
    "papermill": {
     "duration": 0.007208,
     "end_time": "2021-09-11T15:01:59.363668",
     "exception": false,
     "start_time": "2021-09-11T15:01:59.356460",
     "status": "completed"
    },
    "tags": []
   },
   "source": [
    "seeds \n",
    "\n",
    "2017 ver2 \n",
    "\n",
    "2018-2022 ver3 \n",
    "\n",
    "2023-2026 ver4 \n",
    "\n",
    "2027-2031 ver5 \n",
    "\n",
    "2032-2033 ver6 \n",
    "\n",
    "2034-2036 ver7"
   ]
  },
  {
   "cell_type": "code",
   "execution_count": 3,
   "id": "cba7563a",
   "metadata": {
    "execution": {
     "iopub.execute_input": "2021-09-11T15:01:59.384484Z",
     "iopub.status.busy": "2021-09-11T15:01:59.383835Z",
     "iopub.status.idle": "2021-09-11T15:01:59.389847Z",
     "shell.execute_reply": "2021-09-11T15:01:59.390330Z",
     "shell.execute_reply.started": "2021-09-08T15:03:31.214579Z"
    },
    "papermill": {
     "duration": 0.019308,
     "end_time": "2021-09-11T15:01:59.390494",
     "exception": false,
     "start_time": "2021-09-11T15:01:59.371186",
     "status": "completed"
    },
    "tags": []
   },
   "outputs": [],
   "source": [
    "oof = np.zeros(train.shape[0])\n",
    "pred = np.zeros(test.shape[0])\n",
    "\n",
    "target = 'claim'\n",
    "numseed = [1,5,4,5,2,3]"
   ]
  },
  {
   "cell_type": "code",
   "execution_count": 4,
   "id": "3394cdbd",
   "metadata": {
    "execution": {
     "iopub.execute_input": "2021-09-11T15:01:59.412077Z",
     "iopub.status.busy": "2021-09-11T15:01:59.411383Z",
     "iopub.status.idle": "2021-09-11T15:02:00.141051Z",
     "shell.execute_reply": "2021-09-11T15:02:00.140339Z",
     "shell.execute_reply.started": "2021-09-08T15:02:53.907598Z"
    },
    "papermill": {
     "duration": 0.743233,
     "end_time": "2021-09-11T15:02:00.141205",
     "exception": false,
     "start_time": "2021-09-11T15:01:59.397972",
     "status": "completed"
    },
    "tags": []
   },
   "outputs": [
    {
     "name": "stdout",
     "output_type": "stream",
     "text": [
      "2\n",
      "3\n",
      "4\n",
      "5\n",
      "6\n",
      "7\n"
     ]
    }
   ],
   "source": [
    "for i in range(2, 8):\n",
    "    print(i)\n",
    "    oof += np.load(\"../input/tps-sep-xgb-manav-pred/\" +str(i)+ \"xgb_oof.npy\")*numseed[i-2]\n",
    "    pred += np.load(\"../input/tps-sep-xgb-manav-pred/\" +str(i)+ \"xgb_pred.npy\")*numseed[i-2]"
   ]
  },
  {
   "cell_type": "code",
   "execution_count": 5,
   "id": "861a1934",
   "metadata": {
    "execution": {
     "iopub.execute_input": "2021-09-11T15:02:00.164147Z",
     "iopub.status.busy": "2021-09-11T15:02:00.163445Z",
     "iopub.status.idle": "2021-09-11T15:02:00.624566Z",
     "shell.execute_reply": "2021-09-11T15:02:00.625238Z",
     "shell.execute_reply.started": "2021-09-08T15:02:53.983206Z"
    },
    "papermill": {
     "duration": 0.47522,
     "end_time": "2021-09-11T15:02:00.625414",
     "exception": false,
     "start_time": "2021-09-11T15:02:00.150194",
     "status": "completed"
    },
    "tags": []
   },
   "outputs": [
    {
     "name": "stdout",
     "output_type": "stream",
     "text": [
      "oof auc = 0.8165454924399745\n"
     ]
    }
   ],
   "source": [
    "oof /= sum(numseed)\n",
    "pred /= sum(numseed)\n",
    "\n",
    "print(f\"oof auc = {roc_auc_score(train[target], oof)}\")"
   ]
  },
  {
   "cell_type": "code",
   "execution_count": 6,
   "id": "9740c7b0",
   "metadata": {
    "execution": {
     "iopub.execute_input": "2021-09-11T15:02:00.648644Z",
     "iopub.status.busy": "2021-09-11T15:02:00.647731Z",
     "iopub.status.idle": "2021-09-11T15:02:00.667464Z",
     "shell.execute_reply": "2021-09-11T15:02:00.666610Z",
     "shell.execute_reply.started": "2021-09-08T15:02:53.991055Z"
    },
    "papermill": {
     "duration": 0.033433,
     "end_time": "2021-09-11T15:02:00.667666",
     "exception": false,
     "start_time": "2021-09-11T15:02:00.634233",
     "status": "completed"
    },
    "tags": []
   },
   "outputs": [],
   "source": [
    "np.save(\"xgb_manav_oof.npy\", oof)\n",
    "np.save(\"xgb_manav_pred.npy\", pred)"
   ]
  },
  {
   "cell_type": "code",
   "execution_count": 7,
   "id": "a76b6f4f",
   "metadata": {
    "execution": {
     "iopub.execute_input": "2021-09-11T15:02:00.699336Z",
     "iopub.status.busy": "2021-09-11T15:02:00.698083Z",
     "iopub.status.idle": "2021-09-11T15:02:02.616579Z",
     "shell.execute_reply": "2021-09-11T15:02:02.617099Z",
     "shell.execute_reply.started": "2021-09-08T15:02:54.015789Z"
    },
    "papermill": {
     "duration": 1.936353,
     "end_time": "2021-09-11T15:02:02.617286",
     "exception": false,
     "start_time": "2021-09-11T15:02:00.680933",
     "status": "completed"
    },
    "tags": []
   },
   "outputs": [
    {
     "data": {
      "text/html": [
       "<div>\n",
       "<style scoped>\n",
       "    .dataframe tbody tr th:only-of-type {\n",
       "        vertical-align: middle;\n",
       "    }\n",
       "\n",
       "    .dataframe tbody tr th {\n",
       "        vertical-align: top;\n",
       "    }\n",
       "\n",
       "    .dataframe thead th {\n",
       "        text-align: right;\n",
       "    }\n",
       "</style>\n",
       "<table border=\"1\" class=\"dataframe\">\n",
       "  <thead>\n",
       "    <tr style=\"text-align: right;\">\n",
       "      <th></th>\n",
       "      <th>id</th>\n",
       "      <th>claim</th>\n",
       "    </tr>\n",
       "  </thead>\n",
       "  <tbody>\n",
       "    <tr>\n",
       "      <th>0</th>\n",
       "      <td>957919</td>\n",
       "      <td>0.564908</td>\n",
       "    </tr>\n",
       "    <tr>\n",
       "      <th>1</th>\n",
       "      <td>957920</td>\n",
       "      <td>0.120459</td>\n",
       "    </tr>\n",
       "    <tr>\n",
       "      <th>2</th>\n",
       "      <td>957921</td>\n",
       "      <td>0.633499</td>\n",
       "    </tr>\n",
       "    <tr>\n",
       "      <th>3</th>\n",
       "      <td>957922</td>\n",
       "      <td>0.131022</td>\n",
       "    </tr>\n",
       "    <tr>\n",
       "      <th>4</th>\n",
       "      <td>957923</td>\n",
       "      <td>0.153132</td>\n",
       "    </tr>\n",
       "    <tr>\n",
       "      <th>...</th>\n",
       "      <td>...</td>\n",
       "      <td>...</td>\n",
       "    </tr>\n",
       "    <tr>\n",
       "      <th>493469</th>\n",
       "      <td>1451388</td>\n",
       "      <td>0.816129</td>\n",
       "    </tr>\n",
       "    <tr>\n",
       "      <th>493470</th>\n",
       "      <td>1451389</td>\n",
       "      <td>0.109487</td>\n",
       "    </tr>\n",
       "    <tr>\n",
       "      <th>493471</th>\n",
       "      <td>1451390</td>\n",
       "      <td>0.774203</td>\n",
       "    </tr>\n",
       "    <tr>\n",
       "      <th>493472</th>\n",
       "      <td>1451391</td>\n",
       "      <td>0.136081</td>\n",
       "    </tr>\n",
       "    <tr>\n",
       "      <th>493473</th>\n",
       "      <td>1451392</td>\n",
       "      <td>0.760795</td>\n",
       "    </tr>\n",
       "  </tbody>\n",
       "</table>\n",
       "<p>493474 rows × 2 columns</p>\n",
       "</div>"
      ],
      "text/plain": [
       "             id     claim\n",
       "0        957919  0.564908\n",
       "1        957920  0.120459\n",
       "2        957921  0.633499\n",
       "3        957922  0.131022\n",
       "4        957923  0.153132\n",
       "...         ...       ...\n",
       "493469  1451388  0.816129\n",
       "493470  1451389  0.109487\n",
       "493471  1451390  0.774203\n",
       "493472  1451391  0.136081\n",
       "493473  1451392  0.760795\n",
       "\n",
       "[493474 rows x 2 columns]"
      ]
     },
     "execution_count": 7,
     "metadata": {},
     "output_type": "execute_result"
    }
   ],
   "source": [
    "submission[target] = pred\n",
    "submission.to_csv(\"submission.csv\", index=False)\n",
    "\n",
    "submission"
   ]
  }
 ],
 "metadata": {
  "kernelspec": {
   "display_name": "Python 3",
   "language": "python",
   "name": "python3"
  },
  "language_info": {
   "codemirror_mode": {
    "name": "ipython",
    "version": 3
   },
   "file_extension": ".py",
   "mimetype": "text/x-python",
   "name": "python",
   "nbconvert_exporter": "python",
   "pygments_lexer": "ipython3",
   "version": "3.7.10"
  },
  "papermill": {
   "default_parameters": {},
   "duration": 61.816123,
   "end_time": "2021-09-11T15:02:04.210496",
   "environment_variables": {},
   "exception": null,
   "input_path": "__notebook__.ipynb",
   "output_path": "__notebook__.ipynb",
   "parameters": {},
   "start_time": "2021-09-11T15:01:02.394373",
   "version": "2.3.3"
  }
 },
 "nbformat": 4,
 "nbformat_minor": 5
}
