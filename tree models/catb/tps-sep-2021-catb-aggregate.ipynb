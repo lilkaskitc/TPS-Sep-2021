{
 "cells": [
  {
   "cell_type": "code",
   "execution_count": 1,
   "id": "060a35a3",
   "metadata": {
    "execution": {
     "iopub.execute_input": "2021-09-09T00:04:00.650829Z",
     "iopub.status.busy": "2021-09-09T00:04:00.650156Z",
     "iopub.status.idle": "2021-09-09T00:04:01.671165Z",
     "shell.execute_reply": "2021-09-09T00:04:01.670480Z",
     "shell.execute_reply.started": "2021-09-09T00:02:23.321073Z"
    },
    "papermill": {
     "duration": 1.041866,
     "end_time": "2021-09-09T00:04:01.671330",
     "exception": false,
     "start_time": "2021-09-09T00:04:00.629464",
     "status": "completed"
    },
    "tags": []
   },
   "outputs": [],
   "source": [
    "import numpy as np\n",
    "import pandas as pd\n",
    "from pathlib import Path\n",
    "from sklearn.metrics import roc_auc_score"
   ]
  },
  {
   "cell_type": "code",
   "execution_count": 2,
   "id": "97447bd5",
   "metadata": {
    "execution": {
     "iopub.execute_input": "2021-09-09T00:04:01.695447Z",
     "iopub.status.busy": "2021-09-09T00:04:01.694585Z",
     "iopub.status.idle": "2021-09-09T00:04:47.898552Z",
     "shell.execute_reply": "2021-09-09T00:04:47.899027Z",
     "shell.execute_reply.started": "2021-09-09T00:02:23.328369Z"
    },
    "papermill": {
     "duration": 46.217735,
     "end_time": "2021-09-09T00:04:47.899215",
     "exception": false,
     "start_time": "2021-09-09T00:04:01.681480",
     "status": "completed"
    },
    "tags": []
   },
   "outputs": [],
   "source": [
    "INPUT = Path(\"../input/tabular-playground-series-sep-2021\")\n",
    "\n",
    "train = pd.read_csv(INPUT / \"train.csv\")\n",
    "test = pd.read_csv(INPUT / \"test.csv\")\n",
    "submission = pd.read_csv(INPUT / \"sample_solution.csv\")"
   ]
  },
  {
   "cell_type": "markdown",
   "id": "d19468f4",
   "metadata": {
    "papermill": {
     "duration": 0.007873,
     "end_time": "2021-09-09T00:04:47.915540",
     "exception": false,
     "start_time": "2021-09-09T00:04:47.907667",
     "status": "completed"
    },
    "tags": []
   },
   "source": [
    "seeds\n",
    "\n",
    "2017-2018 ver2\n",
    "\n",
    "2019 ver5\n",
    "\n",
    "2020 ver6\n",
    "\n",
    "2021 ver7\n",
    "\n",
    "2022 ver8\n",
    "\n",
    "2023 ver9\n",
    "\n",
    "2024 ver10\n",
    "\n",
    "2025 ver11\n",
    "\n",
    "2026 ver12"
   ]
  },
  {
   "cell_type": "code",
   "execution_count": 3,
   "id": "d01b06ec",
   "metadata": {
    "execution": {
     "iopub.execute_input": "2021-09-09T00:04:47.937614Z",
     "iopub.status.busy": "2021-09-09T00:04:47.936672Z",
     "iopub.status.idle": "2021-09-09T00:04:47.941220Z",
     "shell.execute_reply": "2021-09-09T00:04:47.940698Z",
     "shell.execute_reply.started": "2021-09-09T00:03:02.505251Z"
    },
    "papermill": {
     "duration": 0.017878,
     "end_time": "2021-09-09T00:04:47.941373",
     "exception": false,
     "start_time": "2021-09-09T00:04:47.923495",
     "status": "completed"
    },
    "tags": []
   },
   "outputs": [],
   "source": [
    "oof = np.zeros(train.shape[0])\n",
    "pred = np.zeros(test.shape[0])\n",
    "\n",
    "target = 'claim'\n",
    "numseed = [2]+[1]*8"
   ]
  },
  {
   "cell_type": "code",
   "execution_count": 4,
   "id": "6aacd032",
   "metadata": {
    "execution": {
     "iopub.execute_input": "2021-09-09T00:04:47.965629Z",
     "iopub.status.busy": "2021-09-09T00:04:47.964818Z",
     "iopub.status.idle": "2021-09-09T00:04:47.968814Z",
     "shell.execute_reply": "2021-09-09T00:04:47.969303Z",
     "shell.execute_reply.started": "2021-09-09T00:03:02.516406Z"
    },
    "papermill": {
     "duration": 0.020011,
     "end_time": "2021-09-09T00:04:47.969475",
     "exception": false,
     "start_time": "2021-09-09T00:04:47.949464",
     "status": "completed"
    },
    "tags": []
   },
   "outputs": [
    {
     "data": {
      "text/plain": [
       "[2, 1, 1, 1, 1, 1, 1, 1, 1]"
      ]
     },
     "execution_count": 4,
     "metadata": {},
     "output_type": "execute_result"
    }
   ],
   "source": [
    "numseed"
   ]
  },
  {
   "cell_type": "code",
   "execution_count": 5,
   "id": "1c350b33",
   "metadata": {
    "execution": {
     "iopub.execute_input": "2021-09-09T00:04:47.993127Z",
     "iopub.status.busy": "2021-09-09T00:04:47.992387Z",
     "iopub.status.idle": "2021-09-09T00:04:48.959026Z",
     "shell.execute_reply": "2021-09-09T00:04:48.958054Z",
     "shell.execute_reply.started": "2021-09-09T00:03:02.530596Z"
    },
    "papermill": {
     "duration": 0.98102,
     "end_time": "2021-09-09T00:04:48.959184",
     "exception": false,
     "start_time": "2021-09-09T00:04:47.978164",
     "status": "completed"
    },
    "tags": []
   },
   "outputs": [
    {
     "name": "stdout",
     "output_type": "stream",
     "text": [
      "2\n",
      "5\n",
      "6\n",
      "7\n",
      "8\n",
      "9\n",
      "10\n",
      "11\n",
      "12\n"
     ]
    }
   ],
   "source": [
    "for i in [2] + list(range(5, 13)):\n",
    "    print(i)\n",
    "    \n",
    "    if i==2: j=0 \n",
    "    else: j=i-4\n",
    "    \n",
    "    oof += np.load(\"../input/tps-sep-ctb-pred/\" +str(i)+ \"ctb_oof.npy\")*numseed[j]\n",
    "    pred += np.load(\"../input/tps-sep-ctb-pred/\" +str(i)+ \"ctb_pred.npy\")*numseed[j]"
   ]
  },
  {
   "cell_type": "code",
   "execution_count": 6,
   "id": "01f4d968",
   "metadata": {
    "execution": {
     "iopub.execute_input": "2021-09-09T00:04:48.983988Z",
     "iopub.status.busy": "2021-09-09T00:04:48.983108Z",
     "iopub.status.idle": "2021-09-09T00:04:49.416825Z",
     "shell.execute_reply": "2021-09-09T00:04:49.416158Z",
     "shell.execute_reply.started": "2021-09-09T00:03:02.672006Z"
    },
    "papermill": {
     "duration": 0.447741,
     "end_time": "2021-09-09T00:04:49.416960",
     "exception": false,
     "start_time": "2021-09-09T00:04:48.969219",
     "status": "completed"
    },
    "tags": []
   },
   "outputs": [
    {
     "name": "stdout",
     "output_type": "stream",
     "text": [
      "oof auc = 0.8157435525667102\n"
     ]
    }
   ],
   "source": [
    "oof /= sum(numseed)\n",
    "pred /= sum(numseed)\n",
    "\n",
    "print(f\"oof auc = {roc_auc_score(train[target], oof)}\")"
   ]
  },
  {
   "cell_type": "code",
   "execution_count": 7,
   "id": "3670e051",
   "metadata": {
    "execution": {
     "iopub.execute_input": "2021-09-09T00:04:49.442007Z",
     "iopub.status.busy": "2021-09-09T00:04:49.440932Z",
     "iopub.status.idle": "2021-09-09T00:04:49.456524Z",
     "shell.execute_reply": "2021-09-09T00:04:49.455943Z",
     "shell.execute_reply.started": "2021-09-09T00:03:03.196540Z"
    },
    "papermill": {
     "duration": 0.02979,
     "end_time": "2021-09-09T00:04:49.456665",
     "exception": false,
     "start_time": "2021-09-09T00:04:49.426875",
     "status": "completed"
    },
    "tags": []
   },
   "outputs": [],
   "source": [
    "np.save(\"aggctb_oof.npy\", oof)\n",
    "np.save(\"aggctb_pred.npy\", pred)"
   ]
  },
  {
   "cell_type": "code",
   "execution_count": 8,
   "id": "23b58eed",
   "metadata": {
    "execution": {
     "iopub.execute_input": "2021-09-09T00:04:49.481872Z",
     "iopub.status.busy": "2021-09-09T00:04:49.480874Z",
     "iopub.status.idle": "2021-09-09T00:04:51.327305Z",
     "shell.execute_reply": "2021-09-09T00:04:51.326782Z",
     "shell.execute_reply.started": "2021-09-09T00:03:03.261700Z"
    },
    "papermill": {
     "duration": 1.860738,
     "end_time": "2021-09-09T00:04:51.327438",
     "exception": false,
     "start_time": "2021-09-09T00:04:49.466700",
     "status": "completed"
    },
    "tags": []
   },
   "outputs": [
    {
     "data": {
      "text/html": [
       "<div>\n",
       "<style scoped>\n",
       "    .dataframe tbody tr th:only-of-type {\n",
       "        vertical-align: middle;\n",
       "    }\n",
       "\n",
       "    .dataframe tbody tr th {\n",
       "        vertical-align: top;\n",
       "    }\n",
       "\n",
       "    .dataframe thead th {\n",
       "        text-align: right;\n",
       "    }\n",
       "</style>\n",
       "<table border=\"1\" class=\"dataframe\">\n",
       "  <thead>\n",
       "    <tr style=\"text-align: right;\">\n",
       "      <th></th>\n",
       "      <th>id</th>\n",
       "      <th>claim</th>\n",
       "    </tr>\n",
       "  </thead>\n",
       "  <tbody>\n",
       "    <tr>\n",
       "      <th>0</th>\n",
       "      <td>957919</td>\n",
       "      <td>0.589211</td>\n",
       "    </tr>\n",
       "    <tr>\n",
       "      <th>1</th>\n",
       "      <td>957920</td>\n",
       "      <td>0.121205</td>\n",
       "    </tr>\n",
       "    <tr>\n",
       "      <th>2</th>\n",
       "      <td>957921</td>\n",
       "      <td>0.620935</td>\n",
       "    </tr>\n",
       "    <tr>\n",
       "      <th>3</th>\n",
       "      <td>957922</td>\n",
       "      <td>0.126567</td>\n",
       "    </tr>\n",
       "    <tr>\n",
       "      <th>4</th>\n",
       "      <td>957923</td>\n",
       "      <td>0.144612</td>\n",
       "    </tr>\n",
       "    <tr>\n",
       "      <th>...</th>\n",
       "      <td>...</td>\n",
       "      <td>...</td>\n",
       "    </tr>\n",
       "    <tr>\n",
       "      <th>493469</th>\n",
       "      <td>1451388</td>\n",
       "      <td>0.823959</td>\n",
       "    </tr>\n",
       "    <tr>\n",
       "      <th>493470</th>\n",
       "      <td>1451389</td>\n",
       "      <td>0.119486</td>\n",
       "    </tr>\n",
       "    <tr>\n",
       "      <th>493471</th>\n",
       "      <td>1451390</td>\n",
       "      <td>0.760484</td>\n",
       "    </tr>\n",
       "    <tr>\n",
       "      <th>493472</th>\n",
       "      <td>1451391</td>\n",
       "      <td>0.127404</td>\n",
       "    </tr>\n",
       "    <tr>\n",
       "      <th>493473</th>\n",
       "      <td>1451392</td>\n",
       "      <td>0.751507</td>\n",
       "    </tr>\n",
       "  </tbody>\n",
       "</table>\n",
       "<p>493474 rows × 2 columns</p>\n",
       "</div>"
      ],
      "text/plain": [
       "             id     claim\n",
       "0        957919  0.589211\n",
       "1        957920  0.121205\n",
       "2        957921  0.620935\n",
       "3        957922  0.126567\n",
       "4        957923  0.144612\n",
       "...         ...       ...\n",
       "493469  1451388  0.823959\n",
       "493470  1451389  0.119486\n",
       "493471  1451390  0.760484\n",
       "493472  1451391  0.127404\n",
       "493473  1451392  0.751507\n",
       "\n",
       "[493474 rows x 2 columns]"
      ]
     },
     "execution_count": 8,
     "metadata": {},
     "output_type": "execute_result"
    }
   ],
   "source": [
    "submission[target] = pred\n",
    "submission.to_csv(\"submission.csv\", index=False)\n",
    "\n",
    "submission"
   ]
  }
 ],
 "metadata": {
  "kernelspec": {
   "display_name": "Python 3",
   "language": "python",
   "name": "python3"
  },
  "language_info": {
   "codemirror_mode": {
    "name": "ipython",
    "version": 3
   },
   "file_extension": ".py",
   "mimetype": "text/x-python",
   "name": "python",
   "nbconvert_exporter": "python",
   "pygments_lexer": "ipython3",
   "version": "3.7.10"
  },
  "papermill": {
   "default_parameters": {},
   "duration": 59.556904,
   "end_time": "2021-09-09T00:04:52.048125",
   "environment_variables": {},
   "exception": null,
   "input_path": "__notebook__.ipynb",
   "output_path": "__notebook__.ipynb",
   "parameters": {},
   "start_time": "2021-09-09T00:03:52.491221",
   "version": "2.3.3"
  }
 },
 "nbformat": 4,
 "nbformat_minor": 5
}
