{
 "cells": [
  {
   "cell_type": "code",
   "execution_count": 1,
   "id": "6067c879",
   "metadata": {
    "execution": {
     "iopub.execute_input": "2021-09-08T15:04:08.796270Z",
     "iopub.status.busy": "2021-09-08T15:04:08.795588Z",
     "iopub.status.idle": "2021-09-08T15:04:08.799031Z",
     "shell.execute_reply": "2021-09-08T15:04:08.798383Z",
     "shell.execute_reply.started": "2021-09-08T15:02:19.543574Z"
    },
    "papermill": {
     "duration": 0.025862,
     "end_time": "2021-09-08T15:04:08.799234",
     "exception": false,
     "start_time": "2021-09-08T15:04:08.773372",
     "status": "completed"
    },
    "tags": []
   },
   "outputs": [],
   "source": [
    "import numpy as np\n",
    "import pandas as pd\n",
    "from pathlib import Path"
   ]
  },
  {
   "cell_type": "code",
   "execution_count": 2,
   "id": "f475df49",
   "metadata": {
    "execution": {
     "iopub.execute_input": "2021-09-08T15:04:08.825901Z",
     "iopub.status.busy": "2021-09-08T15:04:08.824847Z",
     "iopub.status.idle": "2021-09-08T15:04:56.705453Z",
     "shell.execute_reply": "2021-09-08T15:04:56.704671Z",
     "shell.execute_reply.started": "2021-09-08T15:02:19.551442Z"
    },
    "papermill": {
     "duration": 47.895753,
     "end_time": "2021-09-08T15:04:56.705609",
     "exception": false,
     "start_time": "2021-09-08T15:04:08.809856",
     "status": "completed"
    },
    "tags": []
   },
   "outputs": [],
   "source": [
    "INPUT = Path(\"../input/tabular-playground-series-sep-2021\")\n",
    "\n",
    "train = pd.read_csv(INPUT / \"train.csv\")\n",
    "test = pd.read_csv(INPUT / \"test.csv\")\n",
    "submission = pd.read_csv(INPUT / \"sample_solution.csv\")"
   ]
  },
  {
   "cell_type": "markdown",
   "id": "9793e10a",
   "metadata": {
    "papermill": {
     "duration": 0.007289,
     "end_time": "2021-09-08T15:04:56.720678",
     "exception": false,
     "start_time": "2021-09-08T15:04:56.713389",
     "status": "completed"
    },
    "tags": []
   },
   "source": [
    "seeds \n",
    "\n",
    "2017-2019 ver2 \n",
    "\n",
    "2020-2024 ver3 \n",
    "\n",
    "2025-2029 ver4 \n",
    "\n",
    "2030-2034 ver5 \n",
    "\n",
    "2035-2036 ver6"
   ]
  },
  {
   "cell_type": "code",
   "execution_count": 3,
   "id": "4c2403dd",
   "metadata": {
    "execution": {
     "iopub.execute_input": "2021-09-08T15:04:56.741919Z",
     "iopub.status.busy": "2021-09-08T15:04:56.740919Z",
     "iopub.status.idle": "2021-09-08T15:04:56.745814Z",
     "shell.execute_reply": "2021-09-08T15:04:56.744727Z",
     "shell.execute_reply.started": "2021-09-08T15:03:31.214579Z"
    },
    "papermill": {
     "duration": 0.017862,
     "end_time": "2021-09-08T15:04:56.746023",
     "exception": false,
     "start_time": "2021-09-08T15:04:56.728161",
     "status": "completed"
    },
    "tags": []
   },
   "outputs": [],
   "source": [
    "oof = np.zeros(train.shape[0])\n",
    "pred = np.zeros(test.shape[0])\n",
    "\n",
    "target = 'claim'\n",
    "numseed = [3,5,5,5,2]"
   ]
  },
  {
   "cell_type": "code",
   "execution_count": 4,
   "id": "48f85a57",
   "metadata": {
    "execution": {
     "iopub.execute_input": "2021-09-08T15:04:56.769735Z",
     "iopub.status.busy": "2021-09-08T15:04:56.768967Z",
     "iopub.status.idle": "2021-09-08T15:04:57.528677Z",
     "shell.execute_reply": "2021-09-08T15:04:57.529236Z",
     "shell.execute_reply.started": "2021-09-08T15:02:53.907598Z"
    },
    "papermill": {
     "duration": 0.775296,
     "end_time": "2021-09-08T15:04:57.529428",
     "exception": false,
     "start_time": "2021-09-08T15:04:56.754132",
     "status": "completed"
    },
    "tags": []
   },
   "outputs": [
    {
     "name": "stdout",
     "output_type": "stream",
     "text": [
      "2\n",
      "3\n",
      "4\n",
      "5\n",
      "6\n"
     ]
    }
   ],
   "source": [
    "for i in range(2, 7):\n",
    "    print(i)\n",
    "    oof += np.load(\"../input/tps-sep-lgb-pred/\" +str(i)+ \"lgb_oof.npy\")*numseed[i-2]\n",
    "    pred += np.load(\"../input/tps-sep-lgb-pred/\" +str(i)+ \"lgb_pred.npy\")*numseed[i-2]"
   ]
  },
  {
   "cell_type": "code",
   "execution_count": 5,
   "id": "dade7584",
   "metadata": {
    "execution": {
     "iopub.execute_input": "2021-09-08T15:04:57.551450Z",
     "iopub.status.busy": "2021-09-08T15:04:57.550701Z",
     "iopub.status.idle": "2021-09-08T15:04:57.555618Z",
     "shell.execute_reply": "2021-09-08T15:04:57.555008Z",
     "shell.execute_reply.started": "2021-09-08T15:02:53.983206Z"
    },
    "papermill": {
     "duration": 0.017489,
     "end_time": "2021-09-08T15:04:57.555759",
     "exception": false,
     "start_time": "2021-09-08T15:04:57.538270",
     "status": "completed"
    },
    "tags": []
   },
   "outputs": [],
   "source": [
    "oof /= sum(numseed)\n",
    "pred /= sum(numseed)"
   ]
  },
  {
   "cell_type": "code",
   "execution_count": 6,
   "id": "1a6ea2ee",
   "metadata": {
    "execution": {
     "iopub.execute_input": "2021-09-08T15:04:57.578328Z",
     "iopub.status.busy": "2021-09-08T15:04:57.577570Z",
     "iopub.status.idle": "2021-09-08T15:04:57.594214Z",
     "shell.execute_reply": "2021-09-08T15:04:57.594695Z",
     "shell.execute_reply.started": "2021-09-08T15:02:53.991055Z"
    },
    "papermill": {
     "duration": 0.030495,
     "end_time": "2021-09-08T15:04:57.594882",
     "exception": false,
     "start_time": "2021-09-08T15:04:57.564387",
     "status": "completed"
    },
    "tags": []
   },
   "outputs": [],
   "source": [
    "np.save(\"lgb_oof.npy\", oof)\n",
    "np.save(\"lgb_pred.npy\", pred)"
   ]
  },
  {
   "cell_type": "code",
   "execution_count": 7,
   "id": "75a9e17a",
   "metadata": {
    "execution": {
     "iopub.execute_input": "2021-09-08T15:04:57.621877Z",
     "iopub.status.busy": "2021-09-08T15:04:57.621034Z",
     "iopub.status.idle": "2021-09-08T15:04:59.480769Z",
     "shell.execute_reply": "2021-09-08T15:04:59.480268Z",
     "shell.execute_reply.started": "2021-09-08T15:02:54.015789Z"
    },
    "papermill": {
     "duration": 1.877149,
     "end_time": "2021-09-08T15:04:59.480908",
     "exception": false,
     "start_time": "2021-09-08T15:04:57.603759",
     "status": "completed"
    },
    "tags": []
   },
   "outputs": [
    {
     "data": {
      "text/html": [
       "<div>\n",
       "<style scoped>\n",
       "    .dataframe tbody tr th:only-of-type {\n",
       "        vertical-align: middle;\n",
       "    }\n",
       "\n",
       "    .dataframe tbody tr th {\n",
       "        vertical-align: top;\n",
       "    }\n",
       "\n",
       "    .dataframe thead th {\n",
       "        text-align: right;\n",
       "    }\n",
       "</style>\n",
       "<table border=\"1\" class=\"dataframe\">\n",
       "  <thead>\n",
       "    <tr style=\"text-align: right;\">\n",
       "      <th></th>\n",
       "      <th>id</th>\n",
       "      <th>claim</th>\n",
       "    </tr>\n",
       "  </thead>\n",
       "  <tbody>\n",
       "    <tr>\n",
       "      <th>0</th>\n",
       "      <td>957919</td>\n",
       "      <td>0.558734</td>\n",
       "    </tr>\n",
       "    <tr>\n",
       "      <th>1</th>\n",
       "      <td>957920</td>\n",
       "      <td>0.130124</td>\n",
       "    </tr>\n",
       "    <tr>\n",
       "      <th>2</th>\n",
       "      <td>957921</td>\n",
       "      <td>0.634854</td>\n",
       "    </tr>\n",
       "    <tr>\n",
       "      <th>3</th>\n",
       "      <td>957922</td>\n",
       "      <td>0.121661</td>\n",
       "    </tr>\n",
       "    <tr>\n",
       "      <th>4</th>\n",
       "      <td>957923</td>\n",
       "      <td>0.151700</td>\n",
       "    </tr>\n",
       "    <tr>\n",
       "      <th>...</th>\n",
       "      <td>...</td>\n",
       "      <td>...</td>\n",
       "    </tr>\n",
       "    <tr>\n",
       "      <th>493469</th>\n",
       "      <td>1451388</td>\n",
       "      <td>0.833647</td>\n",
       "    </tr>\n",
       "    <tr>\n",
       "      <th>493470</th>\n",
       "      <td>1451389</td>\n",
       "      <td>0.114116</td>\n",
       "    </tr>\n",
       "    <tr>\n",
       "      <th>493471</th>\n",
       "      <td>1451390</td>\n",
       "      <td>0.771955</td>\n",
       "    </tr>\n",
       "    <tr>\n",
       "      <th>493472</th>\n",
       "      <td>1451391</td>\n",
       "      <td>0.129603</td>\n",
       "    </tr>\n",
       "    <tr>\n",
       "      <th>493473</th>\n",
       "      <td>1451392</td>\n",
       "      <td>0.742763</td>\n",
       "    </tr>\n",
       "  </tbody>\n",
       "</table>\n",
       "<p>493474 rows × 2 columns</p>\n",
       "</div>"
      ],
      "text/plain": [
       "             id     claim\n",
       "0        957919  0.558734\n",
       "1        957920  0.130124\n",
       "2        957921  0.634854\n",
       "3        957922  0.121661\n",
       "4        957923  0.151700\n",
       "...         ...       ...\n",
       "493469  1451388  0.833647\n",
       "493470  1451389  0.114116\n",
       "493471  1451390  0.771955\n",
       "493472  1451391  0.129603\n",
       "493473  1451392  0.742763\n",
       "\n",
       "[493474 rows x 2 columns]"
      ]
     },
     "execution_count": 7,
     "metadata": {},
     "output_type": "execute_result"
    }
   ],
   "source": [
    "submission[target] = pred\n",
    "submission.to_csv(\"submission.csv\", index=False)\n",
    "\n",
    "submission"
   ]
  }
 ],
 "metadata": {
  "kernelspec": {
   "display_name": "Python 3",
   "language": "python",
   "name": "python3"
  },
  "language_info": {
   "codemirror_mode": {
    "name": "ipython",
    "version": 3
   },
   "file_extension": ".py",
   "mimetype": "text/x-python",
   "name": "python",
   "nbconvert_exporter": "python",
   "pygments_lexer": "ipython3",
   "version": "3.7.10"
  },
  "papermill": {
   "default_parameters": {},
   "duration": 60.865227,
   "end_time": "2021-09-08T15:05:01.003492",
   "environment_variables": {},
   "exception": null,
   "input_path": "__notebook__.ipynb",
   "output_path": "__notebook__.ipynb",
   "parameters": {},
   "start_time": "2021-09-08T15:04:00.138265",
   "version": "2.3.3"
  }
 },
 "nbformat": 4,
 "nbformat_minor": 5
}
