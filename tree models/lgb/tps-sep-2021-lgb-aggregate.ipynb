{
 "cells": [
  {
   "cell_type": "code",
   "execution_count": 1,
   "id": "5186adbc",
   "metadata": {
    "execution": {
     "iopub.execute_input": "2021-09-08T15:33:47.459960Z",
     "iopub.status.busy": "2021-09-08T15:33:47.459147Z",
     "iopub.status.idle": "2021-09-08T15:33:48.469799Z",
     "shell.execute_reply": "2021-09-08T15:33:48.468921Z",
     "shell.execute_reply.started": "2021-09-08T15:02:19.543574Z"
    },
    "papermill": {
     "duration": 1.031043,
     "end_time": "2021-09-08T15:33:48.469984",
     "exception": false,
     "start_time": "2021-09-08T15:33:47.438941",
     "status": "completed"
    },
    "tags": []
   },
   "outputs": [],
   "source": [
    "import numpy as np\n",
    "import pandas as pd\n",
    "from pathlib import Path\n",
    "from sklearn.metrics import roc_auc_score\n"
   ]
  },
  {
   "cell_type": "code",
   "execution_count": 2,
   "id": "d4c4be37",
   "metadata": {
    "execution": {
     "iopub.execute_input": "2021-09-08T15:33:48.492735Z",
     "iopub.status.busy": "2021-09-08T15:33:48.491866Z",
     "iopub.status.idle": "2021-09-08T15:34:36.756546Z",
     "shell.execute_reply": "2021-09-08T15:34:36.755743Z",
     "shell.execute_reply.started": "2021-09-08T15:02:19.551442Z"
    },
    "papermill": {
     "duration": 48.27827,
     "end_time": "2021-09-08T15:34:36.756722",
     "exception": false,
     "start_time": "2021-09-08T15:33:48.478452",
     "status": "completed"
    },
    "tags": []
   },
   "outputs": [],
   "source": [
    "INPUT = Path(\"../input/tabular-playground-series-sep-2021\")\n",
    "\n",
    "train = pd.read_csv(INPUT / \"train.csv\")\n",
    "test = pd.read_csv(INPUT / \"test.csv\")\n",
    "submission = pd.read_csv(INPUT / \"sample_solution.csv\")"
   ]
  },
  {
   "cell_type": "markdown",
   "id": "b306a40c",
   "metadata": {
    "papermill": {
     "duration": 0.007355,
     "end_time": "2021-09-08T15:34:36.771869",
     "exception": false,
     "start_time": "2021-09-08T15:34:36.764514",
     "status": "completed"
    },
    "tags": []
   },
   "source": [
    "seeds \n",
    "\n",
    "2017-2019 ver2 \n",
    "\n",
    "2020-2024 ver3 \n",
    "\n",
    "2025-2029 ver4 \n",
    "\n",
    "2030-2034 ver5 \n",
    "\n",
    "2035-2036 ver6"
   ]
  },
  {
   "cell_type": "code",
   "execution_count": 3,
   "id": "87a0557a",
   "metadata": {
    "execution": {
     "iopub.execute_input": "2021-09-08T15:34:36.793330Z",
     "iopub.status.busy": "2021-09-08T15:34:36.792153Z",
     "iopub.status.idle": "2021-09-08T15:34:36.797191Z",
     "shell.execute_reply": "2021-09-08T15:34:36.796633Z",
     "shell.execute_reply.started": "2021-09-08T15:03:31.214579Z"
    },
    "papermill": {
     "duration": 0.01807,
     "end_time": "2021-09-08T15:34:36.797385",
     "exception": false,
     "start_time": "2021-09-08T15:34:36.779315",
     "status": "completed"
    },
    "tags": []
   },
   "outputs": [],
   "source": [
    "oof = np.zeros(train.shape[0])\n",
    "pred = np.zeros(test.shape[0])\n",
    "\n",
    "target = 'claim'\n",
    "numseed = [3,5,5,5,2]"
   ]
  },
  {
   "cell_type": "code",
   "execution_count": 4,
   "id": "97396e9f",
   "metadata": {
    "execution": {
     "iopub.execute_input": "2021-09-08T15:34:36.818684Z",
     "iopub.status.busy": "2021-09-08T15:34:36.817876Z",
     "iopub.status.idle": "2021-09-08T15:34:37.482522Z",
     "shell.execute_reply": "2021-09-08T15:34:37.482998Z",
     "shell.execute_reply.started": "2021-09-08T15:02:53.907598Z"
    },
    "papermill": {
     "duration": 0.678187,
     "end_time": "2021-09-08T15:34:37.483191",
     "exception": false,
     "start_time": "2021-09-08T15:34:36.805004",
     "status": "completed"
    },
    "tags": []
   },
   "outputs": [
    {
     "name": "stdout",
     "output_type": "stream",
     "text": [
      "2\n",
      "3\n",
      "4\n",
      "5\n",
      "6\n"
     ]
    }
   ],
   "source": [
    "for i in range(2, 7):\n",
    "    print(i)\n",
    "    oof += np.load(\"../input/tps-sep-lgb-pred/\" +str(i)+ \"lgb_oof.npy\")*numseed[i-2]\n",
    "    pred += np.load(\"../input/tps-sep-lgb-pred/\" +str(i)+ \"lgb_pred.npy\")*numseed[i-2]"
   ]
  },
  {
   "cell_type": "code",
   "execution_count": 5,
   "id": "aba3602a",
   "metadata": {
    "execution": {
     "iopub.execute_input": "2021-09-08T15:34:37.505090Z",
     "iopub.status.busy": "2021-09-08T15:34:37.504409Z",
     "iopub.status.idle": "2021-09-08T15:34:37.960598Z",
     "shell.execute_reply": "2021-09-08T15:34:37.959906Z",
     "shell.execute_reply.started": "2021-09-08T15:02:53.983206Z"
    },
    "papermill": {
     "duration": 0.468749,
     "end_time": "2021-09-08T15:34:37.960753",
     "exception": false,
     "start_time": "2021-09-08T15:34:37.492004",
     "status": "completed"
    },
    "tags": []
   },
   "outputs": [
    {
     "name": "stdout",
     "output_type": "stream",
     "text": [
      "oof auc = 0.8167622592221979\n"
     ]
    }
   ],
   "source": [
    "oof /= sum(numseed)\n",
    "pred /= sum(numseed)\n",
    "\n",
    "print(f\"oof auc = {roc_auc_score(train[target], oof)}\")"
   ]
  },
  {
   "cell_type": "code",
   "execution_count": 6,
   "id": "217a7749",
   "metadata": {
    "execution": {
     "iopub.execute_input": "2021-09-08T15:34:37.984515Z",
     "iopub.status.busy": "2021-09-08T15:34:37.983373Z",
     "iopub.status.idle": "2021-09-08T15:34:38.000197Z",
     "shell.execute_reply": "2021-09-08T15:34:37.999487Z",
     "shell.execute_reply.started": "2021-09-08T15:02:53.991055Z"
    },
    "papermill": {
     "duration": 0.030791,
     "end_time": "2021-09-08T15:34:38.000409",
     "exception": false,
     "start_time": "2021-09-08T15:34:37.969618",
     "status": "completed"
    },
    "tags": []
   },
   "outputs": [],
   "source": [
    "np.save(\"lgb_oof.npy\", oof)\n",
    "np.save(\"lgb_pred.npy\", pred)"
   ]
  },
  {
   "cell_type": "code",
   "execution_count": 7,
   "id": "592405a4",
   "metadata": {
    "execution": {
     "iopub.execute_input": "2021-09-08T15:34:38.025581Z",
     "iopub.status.busy": "2021-09-08T15:34:38.024635Z",
     "iopub.status.idle": "2021-09-08T15:34:39.940070Z",
     "shell.execute_reply": "2021-09-08T15:34:39.939040Z",
     "shell.execute_reply.started": "2021-09-08T15:02:54.015789Z"
    },
    "papermill": {
     "duration": 1.930651,
     "end_time": "2021-09-08T15:34:39.940251",
     "exception": false,
     "start_time": "2021-09-08T15:34:38.009600",
     "status": "completed"
    },
    "tags": []
   },
   "outputs": [
    {
     "data": {
      "text/html": [
       "<div>\n",
       "<style scoped>\n",
       "    .dataframe tbody tr th:only-of-type {\n",
       "        vertical-align: middle;\n",
       "    }\n",
       "\n",
       "    .dataframe tbody tr th {\n",
       "        vertical-align: top;\n",
       "    }\n",
       "\n",
       "    .dataframe thead th {\n",
       "        text-align: right;\n",
       "    }\n",
       "</style>\n",
       "<table border=\"1\" class=\"dataframe\">\n",
       "  <thead>\n",
       "    <tr style=\"text-align: right;\">\n",
       "      <th></th>\n",
       "      <th>id</th>\n",
       "      <th>claim</th>\n",
       "    </tr>\n",
       "  </thead>\n",
       "  <tbody>\n",
       "    <tr>\n",
       "      <th>0</th>\n",
       "      <td>957919</td>\n",
       "      <td>0.558734</td>\n",
       "    </tr>\n",
       "    <tr>\n",
       "      <th>1</th>\n",
       "      <td>957920</td>\n",
       "      <td>0.130124</td>\n",
       "    </tr>\n",
       "    <tr>\n",
       "      <th>2</th>\n",
       "      <td>957921</td>\n",
       "      <td>0.634854</td>\n",
       "    </tr>\n",
       "    <tr>\n",
       "      <th>3</th>\n",
       "      <td>957922</td>\n",
       "      <td>0.121661</td>\n",
       "    </tr>\n",
       "    <tr>\n",
       "      <th>4</th>\n",
       "      <td>957923</td>\n",
       "      <td>0.151700</td>\n",
       "    </tr>\n",
       "    <tr>\n",
       "      <th>...</th>\n",
       "      <td>...</td>\n",
       "      <td>...</td>\n",
       "    </tr>\n",
       "    <tr>\n",
       "      <th>493469</th>\n",
       "      <td>1451388</td>\n",
       "      <td>0.833647</td>\n",
       "    </tr>\n",
       "    <tr>\n",
       "      <th>493470</th>\n",
       "      <td>1451389</td>\n",
       "      <td>0.114116</td>\n",
       "    </tr>\n",
       "    <tr>\n",
       "      <th>493471</th>\n",
       "      <td>1451390</td>\n",
       "      <td>0.771955</td>\n",
       "    </tr>\n",
       "    <tr>\n",
       "      <th>493472</th>\n",
       "      <td>1451391</td>\n",
       "      <td>0.129603</td>\n",
       "    </tr>\n",
       "    <tr>\n",
       "      <th>493473</th>\n",
       "      <td>1451392</td>\n",
       "      <td>0.742763</td>\n",
       "    </tr>\n",
       "  </tbody>\n",
       "</table>\n",
       "<p>493474 rows × 2 columns</p>\n",
       "</div>"
      ],
      "text/plain": [
       "             id     claim\n",
       "0        957919  0.558734\n",
       "1        957920  0.130124\n",
       "2        957921  0.634854\n",
       "3        957922  0.121661\n",
       "4        957923  0.151700\n",
       "...         ...       ...\n",
       "493469  1451388  0.833647\n",
       "493470  1451389  0.114116\n",
       "493471  1451390  0.771955\n",
       "493472  1451391  0.129603\n",
       "493473  1451392  0.742763\n",
       "\n",
       "[493474 rows x 2 columns]"
      ]
     },
     "execution_count": 7,
     "metadata": {},
     "output_type": "execute_result"
    }
   ],
   "source": [
    "submission[target] = pred\n",
    "submission.to_csv(\"submission.csv\", index=False)\n",
    "\n",
    "submission"
   ]
  }
 ],
 "metadata": {
  "kernelspec": {
   "display_name": "Python 3",
   "language": "python",
   "name": "python3"
  },
  "language_info": {
   "codemirror_mode": {
    "name": "ipython",
    "version": 3
   },
   "file_extension": ".py",
   "mimetype": "text/x-python",
   "name": "python",
   "nbconvert_exporter": "python",
   "pygments_lexer": "ipython3",
   "version": "3.7.10"
  },
  "papermill": {
   "default_parameters": {},
   "duration": 62.836273,
   "end_time": "2021-09-08T15:34:41.680299",
   "environment_variables": {},
   "exception": null,
   "input_path": "__notebook__.ipynb",
   "output_path": "__notebook__.ipynb",
   "parameters": {},
   "start_time": "2021-09-08T15:33:38.844026",
   "version": "2.3.3"
  }
 },
 "nbformat": 4,
 "nbformat_minor": 5
}
