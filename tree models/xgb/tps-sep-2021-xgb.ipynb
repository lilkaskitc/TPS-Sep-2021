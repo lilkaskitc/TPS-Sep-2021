{
 "cells": [
  {
   "cell_type": "code",
   "execution_count": 1,
   "id": "f42789a5",
   "metadata": {
    "_cell_guid": "b1076dfc-b9ad-4769-8c92-a6c4dae69d19",
    "_uuid": "8f2839f25d086af736a60e9eeb907d3b93b6e0e5",
    "execution": {
     "iopub.execute_input": "2021-09-16T23:56:52.386722Z",
     "iopub.status.busy": "2021-09-16T23:56:52.386082Z",
     "iopub.status.idle": "2021-09-16T23:56:53.586400Z",
     "shell.execute_reply": "2021-09-16T23:56:53.585704Z",
     "shell.execute_reply.started": "2021-09-07T00:43:45.360395Z"
    },
    "papermill": {
     "duration": 1.230718,
     "end_time": "2021-09-16T23:56:53.586574",
     "exception": false,
     "start_time": "2021-09-16T23:56:52.355856",
     "status": "completed"
    },
    "tags": []
   },
   "outputs": [],
   "source": [
    "import numpy as np\n",
    "import pandas as pd\n",
    "import random\n",
    "import os\n",
    "import time\n",
    "import pickle\n",
    "from pathlib import Path\n",
    "\n",
    "from sklearn.preprocessing import StandardScaler\n",
    "from sklearn.model_selection import StratifiedKFold, train_test_split\n",
    "from sklearn.metrics import roc_auc_score\n",
    "\n",
    "#import lightgbm as lgb\n",
    "import xgboost as xgb\n",
    "#import catboost as ctb\n",
    "\n",
    "import matplotlib.pyplot as plt\n",
    "import seaborn as sns\n",
    "\n",
    "import warnings\n",
    "warnings.simplefilter('ignore')"
   ]
  },
  {
   "cell_type": "markdown",
   "id": "81992e98",
   "metadata": {
    "papermill": {
     "duration": 0.016572,
     "end_time": "2021-09-16T23:56:53.621114",
     "exception": false,
     "start_time": "2021-09-16T23:56:53.604542",
     "status": "completed"
    },
    "tags": []
   },
   "source": [
    "# Parameters"
   ]
  },
  {
   "cell_type": "code",
   "execution_count": 2,
   "id": "bee52c5e",
   "metadata": {
    "execution": {
     "iopub.execute_input": "2021-09-16T23:56:53.660770Z",
     "iopub.status.busy": "2021-09-16T23:56:53.659985Z",
     "iopub.status.idle": "2021-09-16T23:56:53.662782Z",
     "shell.execute_reply": "2021-09-16T23:56:53.662237Z",
     "shell.execute_reply.started": "2021-09-07T00:43:47.509686Z"
    },
    "papermill": {
     "duration": 0.024846,
     "end_time": "2021-09-16T23:56:53.662905",
     "exception": false,
     "start_time": "2021-09-16T23:56:53.638059",
     "status": "completed"
    },
    "tags": []
   },
   "outputs": [],
   "source": [
    "target = 'claim'\n",
    "\n",
    "DEBUG = False\n",
    "\n",
    "if DEBUG:\n",
    "    N_ESTIMATORS = 1\n",
    "    N_SPLITS = 2\n",
    "    SEED = 2017\n",
    "    CVSEED = 2017\n",
    "    EARLY_STOPPING_ROUNDS = 1\n",
    "    VERBOSE = 100\n",
    "    #N_ITERS = 2\n",
    "else:\n",
    "    N_SPLITS = 10\n",
    "    N_ESTIMATORS = 20000\n",
    "    EARLY_STOPPING_ROUNDS = 300\n",
    "    VERBOSE = 1000\n",
    "    SEED = 2017\n",
    "    CVSEED = 2017\n",
    "    #N_ITERS = 10"
   ]
  },
  {
   "cell_type": "code",
   "execution_count": 3,
   "id": "5384029c",
   "metadata": {
    "execution": {
     "iopub.execute_input": "2021-09-16T23:56:53.699189Z",
     "iopub.status.busy": "2021-09-16T23:56:53.698605Z",
     "iopub.status.idle": "2021-09-16T23:56:53.702727Z",
     "shell.execute_reply": "2021-09-16T23:56:53.703296Z",
     "shell.execute_reply.started": "2021-09-07T00:43:47.518414Z"
    },
    "papermill": {
     "duration": 0.023869,
     "end_time": "2021-09-16T23:56:53.703441",
     "exception": false,
     "start_time": "2021-09-16T23:56:53.679572",
     "status": "completed"
    },
    "tags": []
   },
   "outputs": [],
   "source": [
    "def set_seed(seed=2017):\n",
    "    random.seed(seed)\n",
    "    os.environ['PYTHONHASHSEED'] = str(seed)\n",
    "    np.random.seed(seed)\n",
    "    \n",
    "set_seed(SEED)"
   ]
  },
  {
   "cell_type": "markdown",
   "id": "02b58b04",
   "metadata": {
    "papermill": {
     "duration": 0.01618,
     "end_time": "2021-09-16T23:56:53.736233",
     "exception": false,
     "start_time": "2021-09-16T23:56:53.720053",
     "status": "completed"
    },
    "tags": []
   },
   "source": [
    "# Datasets"
   ]
  },
  {
   "cell_type": "code",
   "execution_count": 4,
   "id": "a1a4cfa5",
   "metadata": {
    "execution": {
     "iopub.execute_input": "2021-09-16T23:56:53.772475Z",
     "iopub.status.busy": "2021-09-16T23:56:53.771874Z",
     "iopub.status.idle": "2021-09-16T23:57:39.565165Z",
     "shell.execute_reply": "2021-09-16T23:57:39.564089Z",
     "shell.execute_reply.started": "2021-09-07T00:43:47.527652Z"
    },
    "papermill": {
     "duration": 45.812512,
     "end_time": "2021-09-16T23:57:39.565350",
     "exception": false,
     "start_time": "2021-09-16T23:56:53.752838",
     "status": "completed"
    },
    "tags": []
   },
   "outputs": [],
   "source": [
    "INPUT = Path(\"../input/tabular-playground-series-sep-2021\")\n",
    "\n",
    "train = pd.read_csv(INPUT / \"train.csv\")\n",
    "test = pd.read_csv(INPUT / \"test.csv\")\n",
    "submission = pd.read_csv(INPUT / \"sample_solution.csv\")"
   ]
  },
  {
   "cell_type": "markdown",
   "id": "d9de031b",
   "metadata": {
    "papermill": {
     "duration": 0.016394,
     "end_time": "2021-09-16T23:57:39.598526",
     "exception": false,
     "start_time": "2021-09-16T23:57:39.582132",
     "status": "completed"
    },
    "tags": []
   },
   "source": [
    "# Preprocessing"
   ]
  },
  {
   "cell_type": "code",
   "execution_count": 5,
   "id": "d3818b86",
   "metadata": {
    "execution": {
     "iopub.execute_input": "2021-09-16T23:57:39.635959Z",
     "iopub.status.busy": "2021-09-16T23:57:39.634966Z",
     "iopub.status.idle": "2021-09-16T23:57:39.637535Z",
     "shell.execute_reply": "2021-09-16T23:57:39.637977Z",
     "shell.execute_reply.started": "2021-09-07T00:44:26.991956Z"
    },
    "papermill": {
     "duration": 0.02349,
     "end_time": "2021-09-16T23:57:39.638133",
     "exception": false,
     "start_time": "2021-09-16T23:57:39.614643",
     "status": "completed"
    },
    "tags": []
   },
   "outputs": [],
   "source": [
    "features = [col for col in train.columns if 'f' in col]"
   ]
  },
  {
   "cell_type": "code",
   "execution_count": 6,
   "id": "bffe5ecb",
   "metadata": {
    "execution": {
     "iopub.execute_input": "2021-09-16T23:57:39.681847Z",
     "iopub.status.busy": "2021-09-16T23:57:39.681191Z",
     "iopub.status.idle": "2021-09-16T23:57:40.465369Z",
     "shell.execute_reply": "2021-09-16T23:57:40.465881Z",
     "shell.execute_reply.started": "2021-09-07T00:44:26.99871Z"
    },
    "papermill": {
     "duration": 0.811429,
     "end_time": "2021-09-16T23:57:40.466054",
     "exception": false,
     "start_time": "2021-09-16T23:57:39.654625",
     "status": "completed"
    },
    "tags": []
   },
   "outputs": [],
   "source": [
    "train['n_missing'] = train[features].isna().sum(axis=1)\n",
    "test['n_missing'] = test[features].isna().sum(axis=1)\n",
    "\n",
    "features += ['n_missing']"
   ]
  },
  {
   "cell_type": "code",
   "execution_count": 7,
   "id": "46d713e4",
   "metadata": {
    "execution": {
     "iopub.execute_input": "2021-09-16T23:57:40.503127Z",
     "iopub.status.busy": "2021-09-16T23:57:40.502156Z",
     "iopub.status.idle": "2021-09-16T23:57:45.087918Z",
     "shell.execute_reply": "2021-09-16T23:57:45.088427Z",
     "shell.execute_reply.started": "2021-09-07T00:44:27.791362Z"
    },
    "papermill": {
     "duration": 4.605933,
     "end_time": "2021-09-16T23:57:45.088613",
     "exception": false,
     "start_time": "2021-09-16T23:57:40.482680",
     "status": "completed"
    },
    "tags": []
   },
   "outputs": [],
   "source": [
    "train[features] = train[features].fillna(train[features].median())\n",
    "test[features] = test[features].fillna(test[features].median())"
   ]
  },
  {
   "cell_type": "code",
   "execution_count": 8,
   "id": "4533eea0",
   "metadata": {
    "execution": {
     "iopub.execute_input": "2021-09-16T23:57:45.126462Z",
     "iopub.status.busy": "2021-09-16T23:57:45.125509Z",
     "iopub.status.idle": "2021-09-16T23:57:45.129468Z",
     "shell.execute_reply": "2021-09-16T23:57:45.129926Z",
     "shell.execute_reply.started": "2021-09-07T00:44:32.251726Z"
    },
    "papermill": {
     "duration": 0.024363,
     "end_time": "2021-09-16T23:57:45.130104",
     "exception": false,
     "start_time": "2021-09-16T23:57:45.105741",
     "status": "completed"
    },
    "tags": []
   },
   "outputs": [],
   "source": [
    "ss = StandardScaler()\n"
   ]
  },
  {
   "cell_type": "code",
   "execution_count": 9,
   "id": "b2ba9229",
   "metadata": {
    "execution": {
     "iopub.execute_input": "2021-09-16T23:57:45.167324Z",
     "iopub.status.busy": "2021-09-16T23:57:45.166372Z",
     "iopub.status.idle": "2021-09-16T23:57:45.433152Z",
     "shell.execute_reply": "2021-09-16T23:57:45.433740Z",
     "shell.execute_reply.started": "2021-09-07T00:44:32.257636Z"
    },
    "papermill": {
     "duration": 0.286851,
     "end_time": "2021-09-16T23:57:45.433917",
     "exception": false,
     "start_time": "2021-09-16T23:57:45.147066",
     "status": "completed"
    },
    "tags": []
   },
   "outputs": [
    {
     "data": {
      "text/html": [
       "<div>\n",
       "<style scoped>\n",
       "    .dataframe tbody tr th:only-of-type {\n",
       "        vertical-align: middle;\n",
       "    }\n",
       "\n",
       "    .dataframe tbody tr th {\n",
       "        vertical-align: top;\n",
       "    }\n",
       "\n",
       "    .dataframe thead th {\n",
       "        text-align: right;\n",
       "    }\n",
       "</style>\n",
       "<table border=\"1\" class=\"dataframe\">\n",
       "  <thead>\n",
       "    <tr style=\"text-align: right;\">\n",
       "      <th></th>\n",
       "      <th>f1</th>\n",
       "      <th>f2</th>\n",
       "      <th>f3</th>\n",
       "      <th>f4</th>\n",
       "      <th>f5</th>\n",
       "      <th>f6</th>\n",
       "      <th>f7</th>\n",
       "      <th>f8</th>\n",
       "      <th>f9</th>\n",
       "      <th>f10</th>\n",
       "      <th>...</th>\n",
       "      <th>f110</th>\n",
       "      <th>f111</th>\n",
       "      <th>f112</th>\n",
       "      <th>f113</th>\n",
       "      <th>f114</th>\n",
       "      <th>f115</th>\n",
       "      <th>f116</th>\n",
       "      <th>f117</th>\n",
       "      <th>f118</th>\n",
       "      <th>n_missing</th>\n",
       "    </tr>\n",
       "  </thead>\n",
       "  <tbody>\n",
       "    <tr>\n",
       "      <th>0</th>\n",
       "      <td>0.165850</td>\n",
       "      <td>0.487050</td>\n",
       "      <td>1295.00</td>\n",
       "      <td>0.023100</td>\n",
       "      <td>0.31900</td>\n",
       "      <td>0.901880</td>\n",
       "      <td>573.29</td>\n",
       "      <td>3743.7</td>\n",
       "      <td>2.705700e+12</td>\n",
       "      <td>6221.000000</td>\n",
       "      <td>...</td>\n",
       "      <td>-22.1890</td>\n",
       "      <td>2.0655</td>\n",
       "      <td>0.430880</td>\n",
       "      <td>-10.7410</td>\n",
       "      <td>81606.00</td>\n",
       "      <td>1.1940</td>\n",
       "      <td>1.980400e+14</td>\n",
       "      <td>2017.10</td>\n",
       "      <td>0.46357</td>\n",
       "      <td>1</td>\n",
       "    </tr>\n",
       "    <tr>\n",
       "      <th>1</th>\n",
       "      <td>0.129650</td>\n",
       "      <td>0.373480</td>\n",
       "      <td>1763.00</td>\n",
       "      <td>0.728840</td>\n",
       "      <td>0.33247</td>\n",
       "      <td>-1.263100</td>\n",
       "      <td>875.55</td>\n",
       "      <td>554370.0</td>\n",
       "      <td>5.955700e+14</td>\n",
       "      <td>934.430000</td>\n",
       "      <td>...</td>\n",
       "      <td>-1.6342</td>\n",
       "      <td>1.5736</td>\n",
       "      <td>-1.071200</td>\n",
       "      <td>11.8320</td>\n",
       "      <td>90114.00</td>\n",
       "      <td>1.1507</td>\n",
       "      <td>4.388000e+16</td>\n",
       "      <td>6638.90</td>\n",
       "      <td>0.28125</td>\n",
       "      <td>0</td>\n",
       "    </tr>\n",
       "    <tr>\n",
       "      <th>2</th>\n",
       "      <td>0.120190</td>\n",
       "      <td>0.445210</td>\n",
       "      <td>736.26</td>\n",
       "      <td>0.046150</td>\n",
       "      <td>0.29605</td>\n",
       "      <td>0.316650</td>\n",
       "      <td>2659.50</td>\n",
       "      <td>317140.0</td>\n",
       "      <td>3.977800e+14</td>\n",
       "      <td>131.810000</td>\n",
       "      <td>...</td>\n",
       "      <td>-32.7800</td>\n",
       "      <td>2.1364</td>\n",
       "      <td>-1.931200</td>\n",
       "      <td>-3.2804</td>\n",
       "      <td>37739.00</td>\n",
       "      <td>1.1548</td>\n",
       "      <td>1.718100e+14</td>\n",
       "      <td>5844.00</td>\n",
       "      <td>0.13797</td>\n",
       "      <td>1</td>\n",
       "    </tr>\n",
       "    <tr>\n",
       "      <th>3</th>\n",
       "      <td>0.054008</td>\n",
       "      <td>0.395960</td>\n",
       "      <td>996.14</td>\n",
       "      <td>0.859340</td>\n",
       "      <td>0.36678</td>\n",
       "      <td>-0.170600</td>\n",
       "      <td>386.56</td>\n",
       "      <td>325680.0</td>\n",
       "      <td>-3.432200e+13</td>\n",
       "      <td>-26.473000</td>\n",
       "      <td>...</td>\n",
       "      <td>-2.4162</td>\n",
       "      <td>1.5199</td>\n",
       "      <td>-0.011633</td>\n",
       "      <td>1.3840</td>\n",
       "      <td>26849.00</td>\n",
       "      <td>1.1490</td>\n",
       "      <td>2.138800e+17</td>\n",
       "      <td>6173.30</td>\n",
       "      <td>0.32910</td>\n",
       "      <td>0</td>\n",
       "    </tr>\n",
       "    <tr>\n",
       "      <th>4</th>\n",
       "      <td>0.079947</td>\n",
       "      <td>-0.006919</td>\n",
       "      <td>10574.00</td>\n",
       "      <td>0.348450</td>\n",
       "      <td>0.45008</td>\n",
       "      <td>-1.842000</td>\n",
       "      <td>3027.00</td>\n",
       "      <td>428150.0</td>\n",
       "      <td>9.291500e+11</td>\n",
       "      <td>5999.400000</td>\n",
       "      <td>...</td>\n",
       "      <td>-18.6300</td>\n",
       "      <td>3.7387</td>\n",
       "      <td>0.757080</td>\n",
       "      <td>-4.9405</td>\n",
       "      <td>50336.00</td>\n",
       "      <td>1.2488</td>\n",
       "      <td>2.151300e+17</td>\n",
       "      <td>2250.10</td>\n",
       "      <td>0.33796</td>\n",
       "      <td>0</td>\n",
       "    </tr>\n",
       "    <tr>\n",
       "      <th>...</th>\n",
       "      <td>...</td>\n",
       "      <td>...</td>\n",
       "      <td>...</td>\n",
       "      <td>...</td>\n",
       "      <td>...</td>\n",
       "      <td>...</td>\n",
       "      <td>...</td>\n",
       "      <td>...</td>\n",
       "      <td>...</td>\n",
       "      <td>...</td>\n",
       "      <td>...</td>\n",
       "      <td>...</td>\n",
       "      <td>...</td>\n",
       "      <td>...</td>\n",
       "      <td>...</td>\n",
       "      <td>...</td>\n",
       "      <td>...</td>\n",
       "      <td>...</td>\n",
       "      <td>...</td>\n",
       "      <td>...</td>\n",
       "      <td>...</td>\n",
       "    </tr>\n",
       "    <tr>\n",
       "      <th>493469</th>\n",
       "      <td>-0.009112</td>\n",
       "      <td>0.308190</td>\n",
       "      <td>637.64</td>\n",
       "      <td>0.778200</td>\n",
       "      <td>0.41415</td>\n",
       "      <td>-1.068500</td>\n",
       "      <td>651.22</td>\n",
       "      <td>985000.0</td>\n",
       "      <td>6.079700e+15</td>\n",
       "      <td>508.820000</td>\n",
       "      <td>...</td>\n",
       "      <td>-17.5100</td>\n",
       "      <td>2.3325</td>\n",
       "      <td>0.112260</td>\n",
       "      <td>-5.9238</td>\n",
       "      <td>19429.00</td>\n",
       "      <td>1.1559</td>\n",
       "      <td>8.163900e+16</td>\n",
       "      <td>857.09</td>\n",
       "      <td>1.56330</td>\n",
       "      <td>2</td>\n",
       "    </tr>\n",
       "    <tr>\n",
       "      <th>493470</th>\n",
       "      <td>0.088922</td>\n",
       "      <td>0.482650</td>\n",
       "      <td>6924.10</td>\n",
       "      <td>0.025963</td>\n",
       "      <td>0.35540</td>\n",
       "      <td>-0.870200</td>\n",
       "      <td>2514.20</td>\n",
       "      <td>18004.0</td>\n",
       "      <td>6.073500e+14</td>\n",
       "      <td>-0.008665</td>\n",
       "      <td>...</td>\n",
       "      <td>-7.8690</td>\n",
       "      <td>1.7005</td>\n",
       "      <td>97.813000</td>\n",
       "      <td>4.3793</td>\n",
       "      <td>-2432.00</td>\n",
       "      <td>1.0707</td>\n",
       "      <td>4.691800e+16</td>\n",
       "      <td>7497.10</td>\n",
       "      <td>0.67075</td>\n",
       "      <td>0</td>\n",
       "    </tr>\n",
       "    <tr>\n",
       "      <th>493471</th>\n",
       "      <td>0.140620</td>\n",
       "      <td>0.484750</td>\n",
       "      <td>1797.10</td>\n",
       "      <td>0.147020</td>\n",
       "      <td>0.28803</td>\n",
       "      <td>-1.407100</td>\n",
       "      <td>434.03</td>\n",
       "      <td>333050.0</td>\n",
       "      <td>2.351000e+15</td>\n",
       "      <td>33492.000000</td>\n",
       "      <td>...</td>\n",
       "      <td>-5.3824</td>\n",
       "      <td>1.6827</td>\n",
       "      <td>1.730400</td>\n",
       "      <td>8.0633</td>\n",
       "      <td>2471.40</td>\n",
       "      <td>1.1725</td>\n",
       "      <td>7.900900e+16</td>\n",
       "      <td>2904.60</td>\n",
       "      <td>0.18005</td>\n",
       "      <td>5</td>\n",
       "    </tr>\n",
       "    <tr>\n",
       "      <th>493472</th>\n",
       "      <td>0.168000</td>\n",
       "      <td>0.351760</td>\n",
       "      <td>454.79</td>\n",
       "      <td>0.164580</td>\n",
       "      <td>0.16983</td>\n",
       "      <td>0.323850</td>\n",
       "      <td>2331.20</td>\n",
       "      <td>223980.0</td>\n",
       "      <td>-2.795300e+12</td>\n",
       "      <td>93.561000</td>\n",
       "      <td>...</td>\n",
       "      <td>-4.2416</td>\n",
       "      <td>1.3531</td>\n",
       "      <td>155.210000</td>\n",
       "      <td>13.9630</td>\n",
       "      <td>-11.44</td>\n",
       "      <td>1.1946</td>\n",
       "      <td>-1.770600e+14</td>\n",
       "      <td>6763.10</td>\n",
       "      <td>0.33223</td>\n",
       "      <td>0</td>\n",
       "    </tr>\n",
       "    <tr>\n",
       "      <th>493473</th>\n",
       "      <td>0.093079</td>\n",
       "      <td>0.501860</td>\n",
       "      <td>3322.40</td>\n",
       "      <td>0.137350</td>\n",
       "      <td>0.33269</td>\n",
       "      <td>0.056827</td>\n",
       "      <td>2568.70</td>\n",
       "      <td>39185.0</td>\n",
       "      <td>1.489300e+14</td>\n",
       "      <td>-318.920000</td>\n",
       "      <td>...</td>\n",
       "      <td>-13.9390</td>\n",
       "      <td>1.4480</td>\n",
       "      <td>-1.512900</td>\n",
       "      <td>-15.4360</td>\n",
       "      <td>662.46</td>\n",
       "      <td>1.1778</td>\n",
       "      <td>2.459300e+15</td>\n",
       "      <td>8770.00</td>\n",
       "      <td>0.95503</td>\n",
       "      <td>6</td>\n",
       "    </tr>\n",
       "  </tbody>\n",
       "</table>\n",
       "<p>493474 rows × 119 columns</p>\n",
       "</div>"
      ],
      "text/plain": [
       "              f1        f2        f3        f4       f5        f6       f7  \\\n",
       "0       0.165850  0.487050   1295.00  0.023100  0.31900  0.901880   573.29   \n",
       "1       0.129650  0.373480   1763.00  0.728840  0.33247 -1.263100   875.55   \n",
       "2       0.120190  0.445210    736.26  0.046150  0.29605  0.316650  2659.50   \n",
       "3       0.054008  0.395960    996.14  0.859340  0.36678 -0.170600   386.56   \n",
       "4       0.079947 -0.006919  10574.00  0.348450  0.45008 -1.842000  3027.00   \n",
       "...          ...       ...       ...       ...      ...       ...      ...   \n",
       "493469 -0.009112  0.308190    637.64  0.778200  0.41415 -1.068500   651.22   \n",
       "493470  0.088922  0.482650   6924.10  0.025963  0.35540 -0.870200  2514.20   \n",
       "493471  0.140620  0.484750   1797.10  0.147020  0.28803 -1.407100   434.03   \n",
       "493472  0.168000  0.351760    454.79  0.164580  0.16983  0.323850  2331.20   \n",
       "493473  0.093079  0.501860   3322.40  0.137350  0.33269  0.056827  2568.70   \n",
       "\n",
       "              f8            f9           f10  ...     f110    f111  \\\n",
       "0         3743.7  2.705700e+12   6221.000000  ... -22.1890  2.0655   \n",
       "1       554370.0  5.955700e+14    934.430000  ...  -1.6342  1.5736   \n",
       "2       317140.0  3.977800e+14    131.810000  ... -32.7800  2.1364   \n",
       "3       325680.0 -3.432200e+13    -26.473000  ...  -2.4162  1.5199   \n",
       "4       428150.0  9.291500e+11   5999.400000  ... -18.6300  3.7387   \n",
       "...          ...           ...           ...  ...      ...     ...   \n",
       "493469  985000.0  6.079700e+15    508.820000  ... -17.5100  2.3325   \n",
       "493470   18004.0  6.073500e+14     -0.008665  ...  -7.8690  1.7005   \n",
       "493471  333050.0  2.351000e+15  33492.000000  ...  -5.3824  1.6827   \n",
       "493472  223980.0 -2.795300e+12     93.561000  ...  -4.2416  1.3531   \n",
       "493473   39185.0  1.489300e+14   -318.920000  ... -13.9390  1.4480   \n",
       "\n",
       "              f112     f113      f114    f115          f116     f117     f118  \\\n",
       "0         0.430880 -10.7410  81606.00  1.1940  1.980400e+14  2017.10  0.46357   \n",
       "1        -1.071200  11.8320  90114.00  1.1507  4.388000e+16  6638.90  0.28125   \n",
       "2        -1.931200  -3.2804  37739.00  1.1548  1.718100e+14  5844.00  0.13797   \n",
       "3        -0.011633   1.3840  26849.00  1.1490  2.138800e+17  6173.30  0.32910   \n",
       "4         0.757080  -4.9405  50336.00  1.2488  2.151300e+17  2250.10  0.33796   \n",
       "...            ...      ...       ...     ...           ...      ...      ...   \n",
       "493469    0.112260  -5.9238  19429.00  1.1559  8.163900e+16   857.09  1.56330   \n",
       "493470   97.813000   4.3793  -2432.00  1.0707  4.691800e+16  7497.10  0.67075   \n",
       "493471    1.730400   8.0633   2471.40  1.1725  7.900900e+16  2904.60  0.18005   \n",
       "493472  155.210000  13.9630    -11.44  1.1946 -1.770600e+14  6763.10  0.33223   \n",
       "493473   -1.512900 -15.4360    662.46  1.1778  2.459300e+15  8770.00  0.95503   \n",
       "\n",
       "        n_missing  \n",
       "0               1  \n",
       "1               0  \n",
       "2               1  \n",
       "3               0  \n",
       "4               0  \n",
       "...           ...  \n",
       "493469          2  \n",
       "493470          0  \n",
       "493471          5  \n",
       "493472          0  \n",
       "493473          6  \n",
       "\n",
       "[493474 rows x 119 columns]"
      ]
     },
     "execution_count": 9,
     "metadata": {},
     "output_type": "execute_result"
    }
   ],
   "source": [
    "test[features]"
   ]
  },
  {
   "cell_type": "code",
   "execution_count": 10,
   "id": "85082c9e",
   "metadata": {
    "execution": {
     "iopub.execute_input": "2021-09-16T23:57:45.475507Z",
     "iopub.status.busy": "2021-09-16T23:57:45.474544Z",
     "iopub.status.idle": "2021-09-16T23:57:45.482212Z",
     "shell.execute_reply": "2021-09-16T23:57:45.481710Z",
     "shell.execute_reply.started": "2021-09-07T00:44:32.507605Z"
    },
    "papermill": {
     "duration": 0.0286,
     "end_time": "2021-09-16T23:57:45.482366",
     "exception": false,
     "start_time": "2021-09-16T23:57:45.453766",
     "status": "completed"
    },
    "tags": []
   },
   "outputs": [
    {
     "data": {
      "text/plain": [
       "0         1\n",
       "1         0\n",
       "2         1\n",
       "3         1\n",
       "4         1\n",
       "         ..\n",
       "957914    0\n",
       "957915    1\n",
       "957916    0\n",
       "957917    1\n",
       "957918    0\n",
       "Name: claim, Length: 957919, dtype: int64"
      ]
     },
     "execution_count": 10,
     "metadata": {},
     "output_type": "execute_result"
    }
   ],
   "source": [
    "train[target]"
   ]
  },
  {
   "cell_type": "markdown",
   "id": "56c18e93",
   "metadata": {
    "papermill": {
     "duration": 0.018223,
     "end_time": "2021-09-16T23:57:45.518520",
     "exception": false,
     "start_time": "2021-09-16T23:57:45.500297",
     "status": "completed"
    },
    "tags": []
   },
   "source": [
    "# XGB"
   ]
  },
  {
   "cell_type": "code",
   "execution_count": 11,
   "id": "f4723007",
   "metadata": {
    "execution": {
     "iopub.execute_input": "2021-09-16T23:57:45.560352Z",
     "iopub.status.busy": "2021-09-16T23:57:45.559719Z",
     "iopub.status.idle": "2021-09-16T23:57:45.562593Z",
     "shell.execute_reply": "2021-09-16T23:57:45.562048Z",
     "shell.execute_reply.started": "2021-09-07T00:44:32.516352Z"
    },
    "papermill": {
     "duration": 0.026206,
     "end_time": "2021-09-16T23:57:45.562719",
     "exception": false,
     "start_time": "2021-09-16T23:57:45.536513",
     "status": "completed"
    },
    "tags": []
   },
   "outputs": [],
   "source": [
    "xgb_params = {\n",
    "     'objective': 'binary:logistic',\n",
    "     'n_estimators':N_ESTIMATORS,\n",
    "     'importance_type': 'total_gain',\n",
    "     'booster': 'gbtree',\n",
    "     'n_jobs' : -1,\n",
    "     'tree_method': 'hist',\n",
    "        \n",
    "    'learning_rate': 0.011408145763328648, \n",
    "    'subsample': 0.6489144254089433,\n",
    "    'colsample_bytree': 0.31016036851267714,\n",
    "    'reg_lambda': 1.8503301760994761, \n",
    "    'reg_alpha': 0.006156853356859978, \n",
    "    'min_child_weight': 32.44448570207321,\n",
    "    'max_depth': 5, \n",
    "    'max_bin': 278, \n",
    "    'gamma': 4.676751228463395\n",
    "}"
   ]
  },
  {
   "cell_type": "code",
   "execution_count": 12,
   "id": "84614245",
   "metadata": {
    "execution": {
     "iopub.execute_input": "2021-09-16T23:57:45.614735Z",
     "iopub.status.busy": "2021-09-16T23:57:45.613976Z",
     "iopub.status.idle": "2021-09-17T06:52:20.705815Z",
     "shell.execute_reply": "2021-09-17T06:52:20.704839Z",
     "shell.execute_reply.started": "2021-09-07T00:48:20.356186Z"
    },
    "papermill": {
     "duration": 24875.125681,
     "end_time": "2021-09-17T06:52:20.706493",
     "exception": false,
     "start_time": "2021-09-16T23:57:45.580812",
     "status": "completed"
    },
    "tags": []
   },
   "outputs": [
    {
     "name": "stdout",
     "output_type": "stream",
     "text": [
      "===== fold 0 =====\n",
      "[0]\tvalidation_0-auc:0.52967\n",
      "[1000]\tvalidation_0-auc:0.81287\n",
      "[2000]\tvalidation_0-auc:0.81448\n",
      "[3000]\tvalidation_0-auc:0.81545\n",
      "[4000]\tvalidation_0-auc:0.81602\n",
      "[5000]\tvalidation_0-auc:0.81633\n",
      "[6000]\tvalidation_0-auc:0.81648\n",
      "[7000]\tvalidation_0-auc:0.81664\n",
      "[7049]\tvalidation_0-auc:0.81663\n",
      "[0]\tvalidation_0-auc:0.81663\n",
      "[1000]\tvalidation_0-auc:0.81665\n",
      "[1744]\tvalidation_0-auc:0.81667\n",
      "fold 0 - xgb auc: 0.816667, elapsed time: 2433.08sec\n",
      "\n",
      "===== fold 1 =====\n",
      "[0]\tvalidation_0-auc:0.53020\n",
      "[1000]\tvalidation_0-auc:0.81148\n",
      "[2000]\tvalidation_0-auc:0.81337\n",
      "[3000]\tvalidation_0-auc:0.81440\n",
      "[4000]\tvalidation_0-auc:0.81492\n",
      "[5000]\tvalidation_0-auc:0.81524\n",
      "[6000]\tvalidation_0-auc:0.81548\n",
      "[6359]\tvalidation_0-auc:0.81550\n",
      "[0]\tvalidation_0-auc:0.81549\n",
      "[1000]\tvalidation_0-auc:0.81551\n",
      "[1417]\tvalidation_0-auc:0.81552\n",
      "fold 1 - xgb auc: 0.815523, elapsed time: 2127.91sec\n",
      "\n",
      "===== fold 2 =====\n",
      "[0]\tvalidation_0-auc:0.52530\n",
      "[1000]\tvalidation_0-auc:0.81304\n",
      "[2000]\tvalidation_0-auc:0.81474\n",
      "[3000]\tvalidation_0-auc:0.81563\n",
      "[4000]\tvalidation_0-auc:0.81625\n",
      "[5000]\tvalidation_0-auc:0.81656\n",
      "[6000]\tvalidation_0-auc:0.81682\n",
      "[7000]\tvalidation_0-auc:0.81697\n",
      "[7074]\tvalidation_0-auc:0.81696\n",
      "[0]\tvalidation_0-auc:0.81696\n",
      "[1000]\tvalidation_0-auc:0.81699\n",
      "[2000]\tvalidation_0-auc:0.81700\n",
      "[2181]\tvalidation_0-auc:0.81700\n",
      "fold 2 - xgb auc: 0.817000, elapsed time: 2547.68sec\n",
      "\n",
      "===== fold 3 =====\n",
      "[0]\tvalidation_0-auc:0.52940\n",
      "[1000]\tvalidation_0-auc:0.81213\n",
      "[2000]\tvalidation_0-auc:0.81395\n",
      "[3000]\tvalidation_0-auc:0.81478\n",
      "[4000]\tvalidation_0-auc:0.81530\n",
      "[5000]\tvalidation_0-auc:0.81567\n",
      "[6000]\tvalidation_0-auc:0.81586\n",
      "[7000]\tvalidation_0-auc:0.81600\n",
      "[8000]\tvalidation_0-auc:0.81614\n",
      "[9000]\tvalidation_0-auc:0.81627\n",
      "[9352]\tvalidation_0-auc:0.81626\n",
      "[0]\tvalidation_0-auc:0.81626\n",
      "[592]\tvalidation_0-auc:0.81627\n",
      "fold 3 - xgb auc: 0.816265, elapsed time: 2742.76sec\n",
      "\n",
      "===== fold 4 =====\n",
      "[0]\tvalidation_0-auc:0.52656\n",
      "[1000]\tvalidation_0-auc:0.81320\n",
      "[2000]\tvalidation_0-auc:0.81531\n",
      "[3000]\tvalidation_0-auc:0.81613\n",
      "[4000]\tvalidation_0-auc:0.81661\n",
      "[5000]\tvalidation_0-auc:0.81686\n",
      "[6000]\tvalidation_0-auc:0.81708\n",
      "[7000]\tvalidation_0-auc:0.81728\n",
      "[8000]\tvalidation_0-auc:0.81738\n",
      "[8615]\tvalidation_0-auc:0.81738\n",
      "[0]\tvalidation_0-auc:0.81738\n",
      "[313]\tvalidation_0-auc:0.81738\n",
      "fold 4 - xgb auc: 0.817372, elapsed time: 2481.27sec\n",
      "\n",
      "===== fold 5 =====\n",
      "[0]\tvalidation_0-auc:0.52645\n",
      "[1000]\tvalidation_0-auc:0.81017\n",
      "[2000]\tvalidation_0-auc:0.81203\n",
      "[3000]\tvalidation_0-auc:0.81302\n",
      "[4000]\tvalidation_0-auc:0.81365\n",
      "[5000]\tvalidation_0-auc:0.81409\n",
      "[6000]\tvalidation_0-auc:0.81438\n",
      "[7000]\tvalidation_0-auc:0.81452\n",
      "[8000]\tvalidation_0-auc:0.81467\n",
      "[8850]\tvalidation_0-auc:0.81476\n",
      "[0]\tvalidation_0-auc:0.81476\n",
      "[322]\tvalidation_0-auc:0.81476\n",
      "fold 5 - xgb auc: 0.814748, elapsed time: 2523.23sec\n",
      "\n",
      "===== fold 6 =====\n",
      "[0]\tvalidation_0-auc:0.53163\n",
      "[1000]\tvalidation_0-auc:0.81564\n",
      "[2000]\tvalidation_0-auc:0.81715\n",
      "[3000]\tvalidation_0-auc:0.81791\n",
      "[4000]\tvalidation_0-auc:0.81847\n",
      "[5000]\tvalidation_0-auc:0.81879\n",
      "[6000]\tvalidation_0-auc:0.81891\n",
      "[7000]\tvalidation_0-auc:0.81902\n",
      "[7254]\tvalidation_0-auc:0.81903\n",
      "[0]\tvalidation_0-auc:0.81903\n",
      "[365]\tvalidation_0-auc:0.81902\n",
      "fold 6 - xgb auc: 0.819032, elapsed time: 2123.73sec\n",
      "\n",
      "===== fold 7 =====\n",
      "[0]\tvalidation_0-auc:0.52878\n",
      "[1000]\tvalidation_0-auc:0.81124\n",
      "[2000]\tvalidation_0-auc:0.81308\n",
      "[3000]\tvalidation_0-auc:0.81393\n",
      "[4000]\tvalidation_0-auc:0.81444\n",
      "[5000]\tvalidation_0-auc:0.81482\n",
      "[6000]\tvalidation_0-auc:0.81506\n",
      "[7000]\tvalidation_0-auc:0.81517\n",
      "[8000]\tvalidation_0-auc:0.81530\n",
      "[8319]\tvalidation_0-auc:0.81527\n",
      "[0]\tvalidation_0-auc:0.81527\n",
      "[565]\tvalidation_0-auc:0.81527\n",
      "fold 7 - xgb auc: 0.815273, elapsed time: 2446.99sec\n",
      "\n",
      "===== fold 8 =====\n",
      "[0]\tvalidation_0-auc:0.52488\n",
      "[1000]\tvalidation_0-auc:0.81262\n",
      "[2000]\tvalidation_0-auc:0.81421\n",
      "[3000]\tvalidation_0-auc:0.81508\n",
      "[4000]\tvalidation_0-auc:0.81554\n",
      "[5000]\tvalidation_0-auc:0.81591\n",
      "[6000]\tvalidation_0-auc:0.81620\n",
      "[7000]\tvalidation_0-auc:0.81634\n",
      "[7150]\tvalidation_0-auc:0.81633\n",
      "[0]\tvalidation_0-auc:0.81633\n",
      "[1000]\tvalidation_0-auc:0.81634\n",
      "[1049]\tvalidation_0-auc:0.81634\n",
      "fold 8 - xgb auc: 0.816347, elapsed time: 2267.28sec\n",
      "\n",
      "===== fold 9 =====\n",
      "[0]\tvalidation_0-auc:0.52820\n",
      "[1000]\tvalidation_0-auc:0.81171\n",
      "[2000]\tvalidation_0-auc:0.81358\n",
      "[3000]\tvalidation_0-auc:0.81451\n",
      "[4000]\tvalidation_0-auc:0.81508\n",
      "[5000]\tvalidation_0-auc:0.81553\n",
      "[6000]\tvalidation_0-auc:0.81575\n",
      "[7000]\tvalidation_0-auc:0.81585\n",
      "[8000]\tvalidation_0-auc:0.81601\n",
      "[8821]\tvalidation_0-auc:0.81607\n",
      "[0]\tvalidation_0-auc:0.81608\n",
      "[299]\tvalidation_0-auc:0.81607\n",
      "fold 9 - xgb auc: 0.816057, elapsed time: 2592.97sec\n",
      "\n",
      "oof xgb_auc = 0.8164208780108669\n"
     ]
    }
   ],
   "source": [
    "xgb_oof = np.zeros(train.shape[0])\n",
    "xgb_pred = np.zeros(test.shape[0])\n",
    "xgb_importances = pd.DataFrame()\n",
    "\n",
    "\n",
    "kf = StratifiedKFold(n_splits=N_SPLITS, shuffle=True, random_state=CVSEED)\n",
    "seed_list=[SEED+9]\n",
    "\n",
    "for fold, (trn_idx, val_idx) in enumerate(kf.split(X=train[features], y=train[target])):\n",
    "    print(f\"===== fold {fold} =====\")\n",
    "    if fold <12:\n",
    "        \n",
    "        X_train = train[features].iloc[trn_idx]\n",
    "        y_train = train[target].iloc[trn_idx]\n",
    "        X_valid = train[features].iloc[val_idx]\n",
    "        y_valid = train[target].iloc[val_idx]\n",
    "        X_test = test[features]\n",
    "\n",
    "        X_train[features] = ss.fit_transform(X_train[features])\n",
    "        X_valid[features] = ss.transform(X_valid[features])\n",
    "        X_test[features] = ss.transform(X_test[features])\n",
    "\n",
    "        start = time.time()\n",
    "        for inseed in seed_list:\n",
    "            xgb_params['random_state'] = inseed\n",
    "\n",
    "            pre_model = xgb.XGBClassifier(**xgb_params)\n",
    "            pre_model.fit(\n",
    "                X_train, \n",
    "                y_train,\n",
    "                eval_set=[(X_valid, y_valid)],\n",
    "                eval_metric='auc',\n",
    "                early_stopping_rounds=EARLY_STOPPING_ROUNDS,\n",
    "                verbose=VERBOSE,\n",
    "            )\n",
    "\n",
    "            xgb_params2 = xgb_params.copy()\n",
    "            xgb_params2['reg_lambda'] *= 0.9\n",
    "            xgb_params2['reg_alpha'] *= 0.9\n",
    "            xgb_params2['learning_rate'] *= 0.1\n",
    "            model = xgb.XGBClassifier(**xgb_params2)\n",
    "            model.fit(\n",
    "                    X_train, y_train,\n",
    "                    eval_set=[(X_valid, y_valid)],\n",
    "                    eval_metric='auc',\n",
    "                    early_stopping_rounds=EARLY_STOPPING_ROUNDS,\n",
    "                    verbose=VERBOSE,\n",
    "                    xgb_model=pre_model\n",
    "            )    \n",
    "\n",
    "            with open(f\"xgb_model{fold}_seed{inseed}.pkl\", 'wb') as f:\n",
    "                pickle.dump(model, f)\n",
    "\n",
    "            fi_tmp = pd.DataFrame()\n",
    "            fi_tmp['feature'] = X_train.columns\n",
    "            fi_tmp['importance'] = model.feature_importances_\n",
    "            fi_tmp['fold'] = fold\n",
    "            fi_tmp['seed'] = inseed\n",
    "            xgb_importances = xgb_importances.append(fi_tmp)\n",
    "\n",
    "            xgb_oof[val_idx] += model.predict_proba(X_valid)[:,-1] / len(seed_list)\n",
    "            xgb_pred += model.predict_proba(X_test)[:,-1] / len(seed_list)\n",
    "\n",
    "\n",
    "        elapsed = time.time() - start\n",
    "        auc = roc_auc_score(y_valid, xgb_oof[val_idx])\n",
    "        print(f\"fold {fold} - xgb auc: {auc:.6f}, elapsed time: {elapsed:.2f}sec\\n\")            \n",
    "\n",
    "xgb_pred /= N_SPLITS\n",
    "print(f\"oof xgb_auc = {roc_auc_score(train[target], xgb_oof)}\")\n",
    "\n",
    "np.save(\"xgb_oof.npy\", xgb_oof)\n",
    "np.save(\"xgb_pred.npy\", xgb_pred)"
   ]
  },
  {
   "cell_type": "markdown",
   "id": "40b5e18e",
   "metadata": {
    "papermill": {
     "duration": 0.062007,
     "end_time": "2021-09-17T06:52:20.828577",
     "exception": false,
     "start_time": "2021-09-17T06:52:20.766570",
     "status": "completed"
    },
    "tags": []
   },
   "source": [
    "# OOF predictions"
   ]
  },
  {
   "cell_type": "code",
   "execution_count": 13,
   "id": "eb4e1c7e",
   "metadata": {
    "execution": {
     "iopub.execute_input": "2021-09-17T06:52:21.070754Z",
     "iopub.status.busy": "2021-09-17T06:52:21.016945Z",
     "iopub.status.idle": "2021-09-17T06:52:24.988706Z",
     "shell.execute_reply": "2021-09-17T06:52:24.987994Z",
     "shell.execute_reply.started": "2021-09-07T00:50:57.432219Z"
    },
    "papermill": {
     "duration": 4.099275,
     "end_time": "2021-09-17T06:52:24.988861",
     "exception": false,
     "start_time": "2021-09-17T06:52:20.889586",
     "status": "completed"
    },
    "tags": []
   },
   "outputs": [
    {
     "data": {
      "text/plain": [
       "<matplotlib.collections.PathCollection at 0x7f1a6569f7d0>"
      ]
     },
     "execution_count": 13,
     "metadata": {},
     "output_type": "execute_result"
    },
    {
     "data": {
      "image/png": "[encoded data removed]",
      "text/plain": [
       "<Figure size 432x288 with 1 Axes>"
      ]
     },
     "metadata": {
      "needs_background": "light"
     },
     "output_type": "display_data"
    }
   ],
   "source": [
    "plt.plot(train[target], train[target])\n",
    "plt.scatter(train[target], xgb_oof)"
   ]
  },
  {
   "cell_type": "markdown",
   "id": "f5c132ed",
   "metadata": {
    "papermill": {
     "duration": 0.069793,
     "end_time": "2021-09-17T06:52:25.120711",
     "exception": false,
     "start_time": "2021-09-17T06:52:25.050918",
     "status": "completed"
    },
    "tags": []
   },
   "source": [
    "# Features importances"
   ]
  },
  {
   "cell_type": "code",
   "execution_count": 14,
   "id": "a0324ace",
   "metadata": {
    "execution": {
     "iopub.execute_input": "2021-09-17T06:52:25.263955Z",
     "iopub.status.busy": "2021-09-17T06:52:25.263080Z",
     "iopub.status.idle": "2021-09-17T06:52:28.518990Z",
     "shell.execute_reply": "2021-09-17T06:52:28.518432Z",
     "shell.execute_reply.started": "2021-09-07T00:51:01.011128Z"
    },
    "papermill": {
     "duration": 3.334406,
     "end_time": "2021-09-17T06:52:28.519139",
     "exception": false,
     "start_time": "2021-09-17T06:52:25.184733",
     "status": "completed"
    },
    "tags": []
   },
   "outputs": [
    {
     "data": {
      "text/plain": [
       "Text(0.5, 1.0, 'LightGBM feature importances')"
      ]
     },
     "execution_count": 14,
     "metadata": {},
     "output_type": "execute_result"
    },
    {
     "data": {
      "image/png": "[encoded data removed]",
      "text/plain": [
       "<Figure size 1152x1152 with 1 Axes>"
      ]
     },
     "metadata": {
      "needs_background": "light"
     },
     "output_type": "display_data"
    }
   ],
   "source": [
    "order = list(xgb_importances.groupby('feature').mean().sort_values('importance', ascending=False).index)\n",
    "\n",
    "fig = plt.figure(figsize=(16, 16), tight_layout=True)\n",
    "sns.barplot(x=\"importance\", y=\"feature\", data=xgb_importances.groupby('feature').mean().reset_index(), order=order)\n",
    "plt.title(\"LightGBM feature importances\")"
   ]
  },
  {
   "cell_type": "markdown",
   "id": "873733a3",
   "metadata": {
    "papermill": {
     "duration": 0.064464,
     "end_time": "2021-09-17T06:52:28.651035",
     "exception": false,
     "start_time": "2021-09-17T06:52:28.586571",
     "status": "completed"
    },
    "tags": []
   },
   "source": [
    "# Submission"
   ]
  },
  {
   "cell_type": "code",
   "execution_count": 15,
   "id": "1eb1190c",
   "metadata": {
    "execution": {
     "iopub.execute_input": "2021-09-17T06:52:28.787192Z",
     "iopub.status.busy": "2021-09-17T06:52:28.786505Z",
     "iopub.status.idle": "2021-09-17T06:52:30.696791Z",
     "shell.execute_reply": "2021-09-17T06:52:30.696220Z",
     "shell.execute_reply.started": "2021-09-07T00:51:03.177221Z"
    },
    "papermill": {
     "duration": 1.982207,
     "end_time": "2021-09-17T06:52:30.696941",
     "exception": false,
     "start_time": "2021-09-17T06:52:28.714734",
     "status": "completed"
    },
    "tags": []
   },
   "outputs": [
    {
     "data": {
      "text/html": [
       "<div>\n",
       "<style scoped>\n",
       "    .dataframe tbody tr th:only-of-type {\n",
       "        vertical-align: middle;\n",
       "    }\n",
       "\n",
       "    .dataframe tbody tr th {\n",
       "        vertical-align: top;\n",
       "    }\n",
       "\n",
       "    .dataframe thead th {\n",
       "        text-align: right;\n",
       "    }\n",
       "</style>\n",
       "<table border=\"1\" class=\"dataframe\">\n",
       "  <thead>\n",
       "    <tr style=\"text-align: right;\">\n",
       "      <th></th>\n",
       "      <th>id</th>\n",
       "      <th>claim</th>\n",
       "    </tr>\n",
       "  </thead>\n",
       "  <tbody>\n",
       "    <tr>\n",
       "      <th>0</th>\n",
       "      <td>957919</td>\n",
       "      <td>0.571098</td>\n",
       "    </tr>\n",
       "    <tr>\n",
       "      <th>1</th>\n",
       "      <td>957920</td>\n",
       "      <td>0.123908</td>\n",
       "    </tr>\n",
       "    <tr>\n",
       "      <th>2</th>\n",
       "      <td>957921</td>\n",
       "      <td>0.632813</td>\n",
       "    </tr>\n",
       "    <tr>\n",
       "      <th>3</th>\n",
       "      <td>957922</td>\n",
       "      <td>0.126405</td>\n",
       "    </tr>\n",
       "    <tr>\n",
       "      <th>4</th>\n",
       "      <td>957923</td>\n",
       "      <td>0.148981</td>\n",
       "    </tr>\n",
       "    <tr>\n",
       "      <th>...</th>\n",
       "      <td>...</td>\n",
       "      <td>...</td>\n",
       "    </tr>\n",
       "    <tr>\n",
       "      <th>493469</th>\n",
       "      <td>1451388</td>\n",
       "      <td>0.828612</td>\n",
       "    </tr>\n",
       "    <tr>\n",
       "      <th>493470</th>\n",
       "      <td>1451389</td>\n",
       "      <td>0.118345</td>\n",
       "    </tr>\n",
       "    <tr>\n",
       "      <th>493471</th>\n",
       "      <td>1451390</td>\n",
       "      <td>0.758199</td>\n",
       "    </tr>\n",
       "    <tr>\n",
       "      <th>493472</th>\n",
       "      <td>1451391</td>\n",
       "      <td>0.133169</td>\n",
       "    </tr>\n",
       "    <tr>\n",
       "      <th>493473</th>\n",
       "      <td>1451392</td>\n",
       "      <td>0.751070</td>\n",
       "    </tr>\n",
       "  </tbody>\n",
       "</table>\n",
       "<p>493474 rows × 2 columns</p>\n",
       "</div>"
      ],
      "text/plain": [
       "             id     claim\n",
       "0        957919  0.571098\n",
       "1        957920  0.123908\n",
       "2        957921  0.632813\n",
       "3        957922  0.126405\n",
       "4        957923  0.148981\n",
       "...         ...       ...\n",
       "493469  1451388  0.828612\n",
       "493470  1451389  0.118345\n",
       "493471  1451390  0.758199\n",
       "493472  1451391  0.133169\n",
       "493473  1451392  0.751070\n",
       "\n",
       "[493474 rows x 2 columns]"
      ]
     },
     "execution_count": 15,
     "metadata": {},
     "output_type": "execute_result"
    }
   ],
   "source": [
    "submission[target] = xgb_pred\n",
    "submission.to_csv(\"submission.csv\", index=False)\n",
    "\n",
    "submission"
   ]
  },
  {
   "cell_type": "markdown",
   "id": "d6414330",
   "metadata": {
    "papermill": {
     "duration": 0.064386,
     "end_time": "2021-09-17T06:52:30.826704",
     "exception": false,
     "start_time": "2021-09-17T06:52:30.762318",
     "status": "completed"
    },
    "tags": []
   },
   "source": [
    "# Log\n",
    "\n",
    "seeds\n",
    "2017 ver1 fold 0-4 ver2 fold 5-9\n",
    "2018 ver3\n",
    "2019 ver4\n",
    "2020 ver5\n",
    "2021 ver6\n",
    "2022 ver7\n",
    "2023 ver8\n",
    "2024 ver9\n",
    "2025 ver10\n",
    "2026 ver11"
   ]
  }
 ],
 "metadata": {
  "kernelspec": {
   "display_name": "Python 3",
   "language": "python",
   "name": "python3"
  },
  "language_info": {
   "codemirror_mode": {
    "name": "ipython",
    "version": 3
   },
   "file_extension": ".py",
   "mimetype": "text/x-python",
   "name": "python",
   "nbconvert_exporter": "python",
   "pygments_lexer": "ipython3",
   "version": "3.7.10"
  },
  "papermill": {
   "default_parameters": {},
   "duration": 24947.360872,
   "end_time": "2021-09-17T06:52:32.110241",
   "environment_variables": {},
   "exception": null,
   "input_path": "__notebook__.ipynb",
   "output_path": "__notebook__.ipynb",
   "parameters": {},
   "start_time": "2021-09-16T23:56:44.749369",
   "version": "2.3.3"
  }
 },
 "nbformat": 4,
 "nbformat_minor": 5
}
