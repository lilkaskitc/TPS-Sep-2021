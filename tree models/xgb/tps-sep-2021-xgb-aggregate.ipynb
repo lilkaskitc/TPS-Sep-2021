{
 "cells": [
  {
   "cell_type": "code",
   "execution_count": 1,
   "id": "d2827ae9",
   "metadata": {
    "execution": {
     "iopub.execute_input": "2021-09-17T13:08:41.340074Z",
     "iopub.status.busy": "2021-09-17T13:08:41.338450Z",
     "iopub.status.idle": "2021-09-17T13:08:42.337775Z",
     "shell.execute_reply": "2021-09-17T13:08:42.338456Z",
     "shell.execute_reply.started": "2021-09-17T13:06:29.813706Z"
    },
    "papermill": {
     "duration": 1.011081,
     "end_time": "2021-09-17T13:08:42.338756",
     "exception": false,
     "start_time": "2021-09-17T13:08:41.327675",
     "status": "completed"
    },
    "tags": []
   },
   "outputs": [],
   "source": [
    "import numpy as np\n",
    "import pandas as pd\n",
    "from pathlib import Path\n",
    "from sklearn.metrics import roc_auc_score\n"
   ]
  },
  {
   "cell_type": "code",
   "execution_count": 2,
   "id": "14da784e",
   "metadata": {
    "execution": {
     "iopub.execute_input": "2021-09-17T13:08:42.353554Z",
     "iopub.status.busy": "2021-09-17T13:08:42.352964Z",
     "iopub.status.idle": "2021-09-17T13:09:23.474519Z",
     "shell.execute_reply": "2021-09-17T13:09:23.473954Z",
     "shell.execute_reply.started": "2021-09-17T13:06:30.719174Z"
    },
    "papermill": {
     "duration": 41.129523,
     "end_time": "2021-09-17T13:09:23.474665",
     "exception": false,
     "start_time": "2021-09-17T13:08:42.345142",
     "status": "completed"
    },
    "tags": []
   },
   "outputs": [],
   "source": [
    "INPUT = Path(\"../input/tabular-playground-series-sep-2021\")\n",
    "\n",
    "train = pd.read_csv(INPUT / \"train.csv\")\n",
    "test = pd.read_csv(INPUT / \"test.csv\")\n",
    "submission = pd.read_csv(INPUT / \"sample_solution.csv\")"
   ]
  },
  {
   "cell_type": "markdown",
   "id": "e9db1f45",
   "metadata": {
    "papermill": {
     "duration": 0.005363,
     "end_time": "2021-09-17T13:09:23.485883",
     "exception": false,
     "start_time": "2021-09-17T13:09:23.480520",
     "status": "completed"
    },
    "tags": []
   },
   "source": [
    "seeds \n",
    "\n",
    "2017 ver1 fold 0-4 ver2 fold 5-9 \n",
    "\n",
    "2018 ver3 \n",
    "\n",
    "2019 ver4 \n",
    "\n",
    "2020 ver5 \n",
    "\n",
    "2021 ver6 \n",
    "\n",
    "2022 ver7 \n",
    "\n",
    "2023 ver8 \n",
    "\n",
    "2024 ver9 \n",
    "\n",
    "2025 ver10 \n",
    "\n",
    "2026 ver11"
   ]
  },
  {
   "cell_type": "code",
   "execution_count": 3,
   "id": "30174415",
   "metadata": {
    "execution": {
     "iopub.execute_input": "2021-09-17T13:09:23.502770Z",
     "iopub.status.busy": "2021-09-17T13:09:23.501827Z",
     "iopub.status.idle": "2021-09-17T13:09:23.506610Z",
     "shell.execute_reply": "2021-09-17T13:09:23.505980Z",
     "shell.execute_reply.started": "2021-09-17T13:07:05.897650Z"
    },
    "papermill": {
     "duration": 0.015344,
     "end_time": "2021-09-17T13:09:23.506757",
     "exception": false,
     "start_time": "2021-09-17T13:09:23.491413",
     "status": "completed"
    },
    "tags": []
   },
   "outputs": [],
   "source": [
    "oof = np.zeros(train.shape[0])\n",
    "pred = np.zeros(test.shape[0])\n",
    "\n",
    "target = 'claim'\n",
    "#numseed = [1]+[2]*6+[1]*7\n",
    "numseed=10"
   ]
  },
  {
   "cell_type": "code",
   "execution_count": 4,
   "id": "177ce8cc",
   "metadata": {
    "execution": {
     "iopub.execute_input": "2021-09-17T13:09:23.522599Z",
     "iopub.status.busy": "2021-09-17T13:09:23.521940Z",
     "iopub.status.idle": "2021-09-17T13:09:25.009067Z",
     "shell.execute_reply": "2021-09-17T13:09:25.008338Z",
     "shell.execute_reply.started": "2021-09-17T13:07:05.904607Z"
    },
    "papermill": {
     "duration": 1.496682,
     "end_time": "2021-09-17T13:09:25.009230",
     "exception": false,
     "start_time": "2021-09-17T13:09:23.512548",
     "status": "completed"
    },
    "tags": []
   },
   "outputs": [
    {
     "name": "stdout",
     "output_type": "stream",
     "text": [
      "1\n",
      "2\n",
      "3\n",
      "4\n",
      "5\n",
      "6\n",
      "7\n",
      "8\n",
      "9\n",
      "10\n",
      "11\n"
     ]
    }
   ],
   "source": [
    "for i in range(1, 12):\n",
    "        print(i)\n",
    "        \n",
    "        oof += np.load(\"../input/tps-sep-xgb-agg-pred/\" +str(i)+ \"xgb_oof.npy\")\n",
    "        pred += np.load(\"../input/tps-sep-xgb-agg-pred/\" +str(i)+ \"xgb_pred.npy\")"
   ]
  },
  {
   "cell_type": "code",
   "execution_count": 5,
   "id": "91959bba",
   "metadata": {
    "execution": {
     "iopub.execute_input": "2021-09-17T13:09:25.026324Z",
     "iopub.status.busy": "2021-09-17T13:09:25.025784Z",
     "iopub.status.idle": "2021-09-17T13:09:25.468832Z",
     "shell.execute_reply": "2021-09-17T13:09:25.468343Z",
     "shell.execute_reply.started": "2021-09-17T13:07:07.094272Z"
    },
    "papermill": {
     "duration": 0.452148,
     "end_time": "2021-09-17T13:09:25.468956",
     "exception": false,
     "start_time": "2021-09-17T13:09:25.016808",
     "status": "completed"
    },
    "tags": []
   },
   "outputs": [
    {
     "name": "stdout",
     "output_type": "stream",
     "text": [
      "oof auc = 0.8167136710449491\n"
     ]
    }
   ],
   "source": [
    "oof /= numseed\n",
    "pred /= numseed\n",
    "\n",
    "print(f\"oof auc = {roc_auc_score(train[target], oof)}\")"
   ]
  },
  {
   "cell_type": "code",
   "execution_count": 6,
   "id": "d7a8284d",
   "metadata": {
    "execution": {
     "iopub.execute_input": "2021-09-17T13:09:25.488031Z",
     "iopub.status.busy": "2021-09-17T13:09:25.487484Z",
     "iopub.status.idle": "2021-09-17T13:09:25.501997Z",
     "shell.execute_reply": "2021-09-17T13:09:25.501487Z",
     "shell.execute_reply.started": "2021-09-17T13:07:07.451022Z"
    },
    "papermill": {
     "duration": 0.025795,
     "end_time": "2021-09-17T13:09:25.502142",
     "exception": false,
     "start_time": "2021-09-17T13:09:25.476347",
     "status": "completed"
    },
    "tags": []
   },
   "outputs": [],
   "source": [
    "np.save(\"agg_xgb_oof.npy\", oof)\n",
    "np.save(\"agg_xgb_pred.npy\", pred)"
   ]
  },
  {
   "cell_type": "code",
   "execution_count": 7,
   "id": "a2c7cb78",
   "metadata": {
    "execution": {
     "iopub.execute_input": "2021-09-17T13:09:25.520863Z",
     "iopub.status.busy": "2021-09-17T13:09:25.520263Z",
     "iopub.status.idle": "2021-09-17T13:09:26.700723Z",
     "shell.execute_reply": "2021-09-17T13:09:26.701152Z",
     "shell.execute_reply.started": "2021-09-17T13:07:07.466285Z"
    },
    "papermill": {
     "duration": 1.191862,
     "end_time": "2021-09-17T13:09:26.701358",
     "exception": false,
     "start_time": "2021-09-17T13:09:25.509496",
     "status": "completed"
    },
    "tags": []
   },
   "outputs": [
    {
     "data": {
      "text/html": [
       "<div>\n",
       "<style scoped>\n",
       "    .dataframe tbody tr th:only-of-type {\n",
       "        vertical-align: middle;\n",
       "    }\n",
       "\n",
       "    .dataframe tbody tr th {\n",
       "        vertical-align: top;\n",
       "    }\n",
       "\n",
       "    .dataframe thead th {\n",
       "        text-align: right;\n",
       "    }\n",
       "</style>\n",
       "<table border=\"1\" class=\"dataframe\">\n",
       "  <thead>\n",
       "    <tr style=\"text-align: right;\">\n",
       "      <th></th>\n",
       "      <th>id</th>\n",
       "      <th>claim</th>\n",
       "    </tr>\n",
       "  </thead>\n",
       "  <tbody>\n",
       "    <tr>\n",
       "      <th>0</th>\n",
       "      <td>957919</td>\n",
       "      <td>0.576973</td>\n",
       "    </tr>\n",
       "    <tr>\n",
       "      <th>1</th>\n",
       "      <td>957920</td>\n",
       "      <td>0.124073</td>\n",
       "    </tr>\n",
       "    <tr>\n",
       "      <th>2</th>\n",
       "      <td>957921</td>\n",
       "      <td>0.630655</td>\n",
       "    </tr>\n",
       "    <tr>\n",
       "      <th>3</th>\n",
       "      <td>957922</td>\n",
       "      <td>0.126651</td>\n",
       "    </tr>\n",
       "    <tr>\n",
       "      <th>4</th>\n",
       "      <td>957923</td>\n",
       "      <td>0.149483</td>\n",
       "    </tr>\n",
       "    <tr>\n",
       "      <th>...</th>\n",
       "      <td>...</td>\n",
       "      <td>...</td>\n",
       "    </tr>\n",
       "    <tr>\n",
       "      <th>493469</th>\n",
       "      <td>1451388</td>\n",
       "      <td>0.829659</td>\n",
       "    </tr>\n",
       "    <tr>\n",
       "      <th>493470</th>\n",
       "      <td>1451389</td>\n",
       "      <td>0.117947</td>\n",
       "    </tr>\n",
       "    <tr>\n",
       "      <th>493471</th>\n",
       "      <td>1451390</td>\n",
       "      <td>0.758474</td>\n",
       "    </tr>\n",
       "    <tr>\n",
       "      <th>493472</th>\n",
       "      <td>1451391</td>\n",
       "      <td>0.129645</td>\n",
       "    </tr>\n",
       "    <tr>\n",
       "      <th>493473</th>\n",
       "      <td>1451392</td>\n",
       "      <td>0.749504</td>\n",
       "    </tr>\n",
       "  </tbody>\n",
       "</table>\n",
       "<p>493474 rows × 2 columns</p>\n",
       "</div>"
      ],
      "text/plain": [
       "             id     claim\n",
       "0        957919  0.576973\n",
       "1        957920  0.124073\n",
       "2        957921  0.630655\n",
       "3        957922  0.126651\n",
       "4        957923  0.149483\n",
       "...         ...       ...\n",
       "493469  1451388  0.829659\n",
       "493470  1451389  0.117947\n",
       "493471  1451390  0.758474\n",
       "493472  1451391  0.129645\n",
       "493473  1451392  0.749504\n",
       "\n",
       "[493474 rows x 2 columns]"
      ]
     },
     "execution_count": 7,
     "metadata": {},
     "output_type": "execute_result"
    }
   ],
   "source": [
    "submission[target] = pred\n",
    "submission.to_csv(\"submission.csv\", index=False)\n",
    "\n",
    "submission"
   ]
  }
 ],
 "metadata": {
  "kernelspec": {
   "display_name": "Python 3",
   "language": "python",
   "name": "python3"
  },
  "language_info": {
   "codemirror_mode": {
    "name": "ipython",
    "version": 3
   },
   "file_extension": ".py",
   "mimetype": "text/x-python",
   "name": "python",
   "nbconvert_exporter": "python",
   "pygments_lexer": "ipython3",
   "version": "3.7.10"
  },
  "papermill": {
   "default_parameters": {},
   "duration": 53.666214,
   "end_time": "2021-09-17T13:09:28.307671",
   "environment_variables": {},
   "exception": null,
   "input_path": "__notebook__.ipynb",
   "output_path": "__notebook__.ipynb",
   "parameters": {},
   "start_time": "2021-09-17T13:08:34.641457",
   "version": "2.3.3"
  }
 },
 "nbformat": 4,
 "nbformat_minor": 5
}
