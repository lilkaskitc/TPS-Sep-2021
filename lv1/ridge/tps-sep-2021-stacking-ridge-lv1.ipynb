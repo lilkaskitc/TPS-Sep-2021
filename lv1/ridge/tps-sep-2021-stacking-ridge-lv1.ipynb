{
 "cells": [
  {
   "cell_type": "code",
   "execution_count": 1,
   "id": "1b0b9b90",
   "metadata": {
    "_cell_guid": "b1076dfc-b9ad-4769-8c92-a6c4dae69d19",
    "_uuid": "8f2839f25d086af736a60e9eeb907d3b93b6e0e5",
    "execution": {
     "iopub.execute_input": "2021-09-23T03:57:18.583071Z",
     "iopub.status.busy": "2021-09-23T03:57:18.582364Z",
     "iopub.status.idle": "2021-09-23T03:57:19.791768Z",
     "shell.execute_reply": "2021-09-23T03:57:19.790924Z",
     "shell.execute_reply.started": "2021-09-20T00:59:36.828873Z"
    },
    "papermill": {
     "duration": 1.240187,
     "end_time": "2021-09-23T03:57:19.791947",
     "exception": false,
     "start_time": "2021-09-23T03:57:18.551760",
     "status": "completed"
    },
    "tags": []
   },
   "outputs": [],
   "source": [
    "import numpy as np\n",
    "import pandas as pd\n",
    "import random\n",
    "import os\n",
    "import time\n",
    "import pickle\n",
    "from pathlib import Path\n",
    "\n",
    "from sklearn.preprocessing import StandardScaler, QuantileTransformer\n",
    "from sklearn.model_selection import StratifiedKFold, train_test_split\n",
    "from sklearn.metrics import roc_auc_score\n",
    "from sklearn.linear_model import RidgeClassifier\n",
    "from sklearn.utils.extmath import softmax\n",
    "\n",
    "#import lightgbm as lgb\n",
    "#import xgboost as xgb\n",
    "#import catboost as ctb\n",
    "\n",
    "import matplotlib.pyplot as plt\n",
    "import seaborn as sns\n",
    "\n",
    "import warnings\n",
    "warnings.simplefilter('ignore')"
   ]
  },
  {
   "cell_type": "markdown",
   "id": "fd7610d9",
   "metadata": {
    "papermill": {
     "duration": 0.015661,
     "end_time": "2021-09-23T03:57:19.824265",
     "exception": false,
     "start_time": "2021-09-23T03:57:19.808604",
     "status": "completed"
    },
    "tags": []
   },
   "source": [
    "# Parameters"
   ]
  },
  {
   "cell_type": "code",
   "execution_count": 2,
   "id": "eb01caf6",
   "metadata": {
    "execution": {
     "iopub.execute_input": "2021-09-23T03:57:19.862966Z",
     "iopub.status.busy": "2021-09-23T03:57:19.862285Z",
     "iopub.status.idle": "2021-09-23T03:57:19.865568Z",
     "shell.execute_reply": "2021-09-23T03:57:19.865070Z",
     "shell.execute_reply.started": "2021-09-20T00:58:17.95867Z"
    },
    "papermill": {
     "duration": 0.025476,
     "end_time": "2021-09-23T03:57:19.865709",
     "exception": false,
     "start_time": "2021-09-23T03:57:19.840233",
     "status": "completed"
    },
    "tags": []
   },
   "outputs": [],
   "source": [
    "target = 'claim'\n",
    "\n",
    "DEBUG = False\n",
    "\n",
    "if DEBUG:\n",
    "    N_ESTIMATORS = 1\n",
    "    N_SPLITS = 2\n",
    "    SEED = 2017\n",
    "    CVSEED = 2017\n",
    "    EARLY_STOPPING_ROUNDS = 1\n",
    "    VERBOSE = 100\n",
    "    #N_ITERS = 2\n",
    "else:\n",
    "    N_SPLITS = 10\n",
    "    N_ESTIMATORS = 20000\n",
    "    EARLY_STOPPING_ROUNDS = 300\n",
    "    VERBOSE = 1000\n",
    "    SEED = 2017\n",
    "    CVSEED = 2017\n",
    "    #N_ITERS = 10"
   ]
  },
  {
   "cell_type": "code",
   "execution_count": 3,
   "id": "ffa5a211",
   "metadata": {
    "execution": {
     "iopub.execute_input": "2021-09-23T03:57:19.903757Z",
     "iopub.status.busy": "2021-09-23T03:57:19.903081Z",
     "iopub.status.idle": "2021-09-23T03:57:19.906102Z",
     "shell.execute_reply": "2021-09-23T03:57:19.906642Z",
     "shell.execute_reply.started": "2021-09-20T00:58:17.969323Z"
    },
    "papermill": {
     "duration": 0.024823,
     "end_time": "2021-09-23T03:57:19.906830",
     "exception": false,
     "start_time": "2021-09-23T03:57:19.882007",
     "status": "completed"
    },
    "tags": []
   },
   "outputs": [],
   "source": [
    "def set_seed(seed=2017):\n",
    "    random.seed(seed)\n",
    "    os.environ['PYTHONHASHSEED'] = str(seed)\n",
    "    np.random.seed(seed)\n",
    "    \n",
    "set_seed(SEED)"
   ]
  },
  {
   "cell_type": "code",
   "execution_count": 4,
   "id": "a191df98",
   "metadata": {
    "execution": {
     "iopub.execute_input": "2021-09-23T03:57:19.945256Z",
     "iopub.status.busy": "2021-09-23T03:57:19.944548Z",
     "iopub.status.idle": "2021-09-23T03:57:19.947353Z",
     "shell.execute_reply": "2021-09-23T03:57:19.947824Z",
     "shell.execute_reply.started": "2021-09-20T00:58:17.982198Z"
    },
    "papermill": {
     "duration": 0.024408,
     "end_time": "2021-09-23T03:57:19.948000",
     "exception": false,
     "start_time": "2021-09-23T03:57:19.923592",
     "status": "completed"
    },
    "tags": []
   },
   "outputs": [],
   "source": [
    "class RidgeClassifierwithProba(RidgeClassifier):\n",
    "    def predict_proba(self, X):\n",
    "        d = self.decision_function(X)\n",
    "        d_2d = np.c_[-d, d]\n",
    "        return softmax(d_2d)"
   ]
  },
  {
   "cell_type": "markdown",
   "id": "cb00eff7",
   "metadata": {
    "papermill": {
     "duration": 0.015917,
     "end_time": "2021-09-23T03:57:19.980293",
     "exception": false,
     "start_time": "2021-09-23T03:57:19.964376",
     "status": "completed"
    },
    "tags": []
   },
   "source": [
    "# Datasets"
   ]
  },
  {
   "cell_type": "code",
   "execution_count": 5,
   "id": "ffbe1283",
   "metadata": {
    "execution": {
     "iopub.execute_input": "2021-09-23T03:57:20.018420Z",
     "iopub.status.busy": "2021-09-23T03:57:20.017719Z",
     "iopub.status.idle": "2021-09-23T03:57:51.504606Z",
     "shell.execute_reply": "2021-09-23T03:57:51.503507Z",
     "shell.execute_reply.started": "2021-09-20T00:58:17.992995Z"
    },
    "papermill": {
     "duration": 31.508436,
     "end_time": "2021-09-23T03:57:51.504774",
     "exception": false,
     "start_time": "2021-09-23T03:57:19.996338",
     "status": "completed"
    },
    "tags": []
   },
   "outputs": [],
   "source": [
    "INPUT = Path(\"../input/tabular-playground-series-sep-2021\")\n",
    "\n",
    "train = pd.DataFrame(pd.read_csv(INPUT / \"train.csv\")[target])\n",
    "#test = pd.read_csv(INPUT / \"test.csv\")\n",
    "test = pd.DataFrame()\n",
    "submission = pd.read_csv(INPUT / \"sample_solution.csv\")"
   ]
  },
  {
   "cell_type": "code",
   "execution_count": 6,
   "id": "5acdd3fd",
   "metadata": {
    "execution": {
     "iopub.execute_input": "2021-09-23T03:57:51.545881Z",
     "iopub.status.busy": "2021-09-23T03:57:51.545099Z",
     "iopub.status.idle": "2021-09-23T03:57:52.759618Z",
     "shell.execute_reply": "2021-09-23T03:57:52.758409Z",
     "shell.execute_reply.started": "2021-09-20T00:58:45.509712Z"
    },
    "papermill": {
     "duration": 1.238751,
     "end_time": "2021-09-23T03:57:52.759784",
     "exception": false,
     "start_time": "2021-09-23T03:57:51.521033",
     "status": "completed"
    },
    "tags": []
   },
   "outputs": [],
   "source": [
    "train['lgb_pred'] = np.load(\"../input/tps-sep-lv0-base-trees/agg_lgb_oof.npy\")\n",
    "test['lgb_pred'] = np.load(\"../input/tps-sep-lv0-base-trees/agg_lgb_pred.npy\")\n",
    "\n",
    "train['lgb2_pred'] = np.load(\"../input/tps-sep-lv0-base-trees/agg_lgb2_oof.npy\")\n",
    "test['lgb2_pred'] = np.load(\"../input/tps-sep-lv0-base-trees/agg_lgb2_pred.npy\")\n",
    "\n",
    "train['xgb_pred'] = np.load(\"../input/tps-sep-lv0-base-trees/agg_xgb_oof.npy\")\n",
    "test['xgb_pred'] = np.load(\"../input/tps-sep-lv0-base-trees/agg_xgb_pred.npy\")\n",
    "\n",
    "train['lgb_bizen_pred'] = np.load(\"../input/tps-sep-lv0-base-trees/lgb_bizen_oof.npy\")\n",
    "test['lgb_bizen_pred'] = np.load(\"../input/tps-sep-lv0-base-trees/lgb_bizen_pred.npy\")\n",
    "\n",
    "train['lgb_dmitry_pred'] = np.load(\"../input/tps-sep-lv0-base-trees/lgb_dmitry_oof.npy\")\n",
    "test['lgb_dmitry_pred'] = np.load(\"../input/tps-sep-lv0-base-trees/lgb_dmitry_pred.npy\")\n",
    "\n",
    "train['xgb_dmitry_pred'] = np.load(\"../input/tps-sep-lv0-base-trees/xgb_dmitry_oof.npy\")\n",
    "test['xgb_dmitry_pred'] = np.load(\"../input/tps-sep-lv0-base-trees/xgb_dmitry_pred.npy\")\n",
    "\n",
    "train['lgb_manav_pred'] = np.load(\"../input/tps-sep-lv0-base-trees/lgb_manav_oof.npy\")\n",
    "test['lgb_manav_pred'] = np.load(\"../input/tps-sep-lv0-base-trees/lgb_manav_pred.npy\")\n",
    "\n",
    "train['xgb_manav_pred'] = np.load(\"../input/tps-sep-lv0-base-trees/xgb_manav_oof.npy\")\n",
    "test['xgb_manav_pred'] = np.load(\"../input/tps-sep-lv0-base-trees/xgb_manav_pred.npy\")\n"
   ]
  },
  {
   "cell_type": "code",
   "execution_count": 7,
   "id": "e4ab4c39",
   "metadata": {
    "execution": {
     "iopub.execute_input": "2021-09-23T03:57:52.797181Z",
     "iopub.status.busy": "2021-09-23T03:57:52.796420Z",
     "iopub.status.idle": "2021-09-23T03:57:52.936185Z",
     "shell.execute_reply": "2021-09-23T03:57:52.936768Z"
    },
    "papermill": {
     "duration": 0.160642,
     "end_time": "2021-09-23T03:57:52.936968",
     "exception": false,
     "start_time": "2021-09-23T03:57:52.776326",
     "status": "completed"
    },
    "tags": []
   },
   "outputs": [],
   "source": [
    "train['ridge_pred'] = np.load(\"../input/tps-sep-lv0-base-trees/ridge_oof.npy\")\n",
    "test['ridge_pred'] = np.load(\"../input/tps-sep-lv0-base-trees/ridge_pred.npy\")"
   ]
  },
  {
   "cell_type": "markdown",
   "id": "43225657",
   "metadata": {
    "papermill": {
     "duration": 0.016064,
     "end_time": "2021-09-23T03:57:52.969788",
     "exception": false,
     "start_time": "2021-09-23T03:57:52.953724",
     "status": "completed"
    },
    "tags": []
   },
   "source": [
    "# Preprocessing"
   ]
  },
  {
   "cell_type": "code",
   "execution_count": 8,
   "id": "040d2b1f",
   "metadata": {
    "execution": {
     "iopub.execute_input": "2021-09-23T03:57:53.006593Z",
     "iopub.status.busy": "2021-09-23T03:57:53.005893Z",
     "iopub.status.idle": "2021-09-23T03:57:53.009744Z",
     "shell.execute_reply": "2021-09-23T03:57:53.010512Z",
     "shell.execute_reply.started": "2021-09-20T00:58:46.638516Z"
    },
    "papermill": {
     "duration": 0.024302,
     "end_time": "2021-09-23T03:57:53.010730",
     "exception": false,
     "start_time": "2021-09-23T03:57:52.986428",
     "status": "completed"
    },
    "tags": []
   },
   "outputs": [],
   "source": [
    "features = [col for col in train.columns if 'pred' in col]"
   ]
  },
  {
   "cell_type": "code",
   "execution_count": 9,
   "id": "6d7e74a1",
   "metadata": {
    "execution": {
     "iopub.execute_input": "2021-09-23T03:57:53.047394Z",
     "iopub.status.busy": "2021-09-23T03:57:53.046758Z",
     "iopub.status.idle": "2021-09-23T03:57:53.050265Z",
     "shell.execute_reply": "2021-09-23T03:57:53.050792Z",
     "shell.execute_reply.started": "2021-09-20T00:58:46.643513Z"
    },
    "papermill": {
     "duration": 0.023797,
     "end_time": "2021-09-23T03:57:53.050985",
     "exception": false,
     "start_time": "2021-09-23T03:57:53.027188",
     "status": "completed"
    },
    "tags": []
   },
   "outputs": [],
   "source": [
    "ss = StandardScaler()"
   ]
  },
  {
   "cell_type": "code",
   "execution_count": 10,
   "id": "2067230d",
   "metadata": {
    "execution": {
     "iopub.execute_input": "2021-09-23T03:57:53.088106Z",
     "iopub.status.busy": "2021-09-23T03:57:53.087399Z",
     "iopub.status.idle": "2021-09-23T03:57:53.144124Z",
     "shell.execute_reply": "2021-09-23T03:57:53.143612Z",
     "shell.execute_reply.started": "2021-09-20T00:58:46.657489Z"
    },
    "papermill": {
     "duration": 0.076396,
     "end_time": "2021-09-23T03:57:53.144270",
     "exception": false,
     "start_time": "2021-09-23T03:57:53.067874",
     "status": "completed"
    },
    "tags": []
   },
   "outputs": [
    {
     "data": {
      "text/html": [
       "<div>\n",
       "<style scoped>\n",
       "    .dataframe tbody tr th:only-of-type {\n",
       "        vertical-align: middle;\n",
       "    }\n",
       "\n",
       "    .dataframe tbody tr th {\n",
       "        vertical-align: top;\n",
       "    }\n",
       "\n",
       "    .dataframe thead th {\n",
       "        text-align: right;\n",
       "    }\n",
       "</style>\n",
       "<table border=\"1\" class=\"dataframe\">\n",
       "  <thead>\n",
       "    <tr style=\"text-align: right;\">\n",
       "      <th></th>\n",
       "      <th>lgb_pred</th>\n",
       "      <th>lgb2_pred</th>\n",
       "      <th>xgb_pred</th>\n",
       "      <th>lgb_bizen_pred</th>\n",
       "      <th>lgb_dmitry_pred</th>\n",
       "      <th>xgb_dmitry_pred</th>\n",
       "      <th>lgb_manav_pred</th>\n",
       "      <th>xgb_manav_pred</th>\n",
       "      <th>ridge_pred</th>\n",
       "    </tr>\n",
       "  </thead>\n",
       "  <tbody>\n",
       "    <tr>\n",
       "      <th>0</th>\n",
       "      <td>0.558734</td>\n",
       "      <td>0.578699</td>\n",
       "      <td>0.576973</td>\n",
       "      <td>0.561836</td>\n",
       "      <td>0.566536</td>\n",
       "      <td>0.575204</td>\n",
       "      <td>0.564575</td>\n",
       "      <td>0.564908</td>\n",
       "      <td>0.553440</td>\n",
       "    </tr>\n",
       "    <tr>\n",
       "      <th>1</th>\n",
       "      <td>0.130124</td>\n",
       "      <td>0.120648</td>\n",
       "      <td>0.124073</td>\n",
       "      <td>0.119917</td>\n",
       "      <td>0.126946</td>\n",
       "      <td>0.126340</td>\n",
       "      <td>0.121656</td>\n",
       "      <td>0.120459</td>\n",
       "      <td>0.182040</td>\n",
       "    </tr>\n",
       "    <tr>\n",
       "      <th>2</th>\n",
       "      <td>0.634854</td>\n",
       "      <td>0.628457</td>\n",
       "      <td>0.630655</td>\n",
       "      <td>0.629326</td>\n",
       "      <td>0.627686</td>\n",
       "      <td>0.635330</td>\n",
       "      <td>0.626681</td>\n",
       "      <td>0.633499</td>\n",
       "      <td>0.631720</td>\n",
       "    </tr>\n",
       "    <tr>\n",
       "      <th>3</th>\n",
       "      <td>0.121661</td>\n",
       "      <td>0.125785</td>\n",
       "      <td>0.126651</td>\n",
       "      <td>0.128635</td>\n",
       "      <td>0.122506</td>\n",
       "      <td>0.123506</td>\n",
       "      <td>0.128684</td>\n",
       "      <td>0.131022</td>\n",
       "      <td>0.184237</td>\n",
       "    </tr>\n",
       "    <tr>\n",
       "      <th>4</th>\n",
       "      <td>0.151700</td>\n",
       "      <td>0.150161</td>\n",
       "      <td>0.149483</td>\n",
       "      <td>0.153291</td>\n",
       "      <td>0.146343</td>\n",
       "      <td>0.143437</td>\n",
       "      <td>0.152862</td>\n",
       "      <td>0.153132</td>\n",
       "      <td>0.203202</td>\n",
       "    </tr>\n",
       "    <tr>\n",
       "      <th>...</th>\n",
       "      <td>...</td>\n",
       "      <td>...</td>\n",
       "      <td>...</td>\n",
       "      <td>...</td>\n",
       "      <td>...</td>\n",
       "      <td>...</td>\n",
       "      <td>...</td>\n",
       "      <td>...</td>\n",
       "      <td>...</td>\n",
       "    </tr>\n",
       "    <tr>\n",
       "      <th>493469</th>\n",
       "      <td>0.833647</td>\n",
       "      <td>0.829336</td>\n",
       "      <td>0.829659</td>\n",
       "      <td>0.827457</td>\n",
       "      <td>0.825696</td>\n",
       "      <td>0.827184</td>\n",
       "      <td>0.831222</td>\n",
       "      <td>0.816129</td>\n",
       "      <td>0.790480</td>\n",
       "    </tr>\n",
       "    <tr>\n",
       "      <th>493470</th>\n",
       "      <td>0.114116</td>\n",
       "      <td>0.116351</td>\n",
       "      <td>0.117947</td>\n",
       "      <td>0.111374</td>\n",
       "      <td>0.112238</td>\n",
       "      <td>0.115928</td>\n",
       "      <td>0.111981</td>\n",
       "      <td>0.109487</td>\n",
       "      <td>0.174385</td>\n",
       "    </tr>\n",
       "    <tr>\n",
       "      <th>493471</th>\n",
       "      <td>0.771955</td>\n",
       "      <td>0.760704</td>\n",
       "      <td>0.758474</td>\n",
       "      <td>0.758873</td>\n",
       "      <td>0.764026</td>\n",
       "      <td>0.754300</td>\n",
       "      <td>0.756039</td>\n",
       "      <td>0.774203</td>\n",
       "      <td>0.751130</td>\n",
       "    </tr>\n",
       "    <tr>\n",
       "      <th>493472</th>\n",
       "      <td>0.129603</td>\n",
       "      <td>0.132275</td>\n",
       "      <td>0.129645</td>\n",
       "      <td>0.133944</td>\n",
       "      <td>0.135123</td>\n",
       "      <td>0.132036</td>\n",
       "      <td>0.135098</td>\n",
       "      <td>0.136081</td>\n",
       "      <td>0.184900</td>\n",
       "    </tr>\n",
       "    <tr>\n",
       "      <th>493473</th>\n",
       "      <td>0.742763</td>\n",
       "      <td>0.748962</td>\n",
       "      <td>0.749504</td>\n",
       "      <td>0.757657</td>\n",
       "      <td>0.744380</td>\n",
       "      <td>0.747717</td>\n",
       "      <td>0.741040</td>\n",
       "      <td>0.760795</td>\n",
       "      <td>0.734600</td>\n",
       "    </tr>\n",
       "  </tbody>\n",
       "</table>\n",
       "<p>493474 rows × 9 columns</p>\n",
       "</div>"
      ],
      "text/plain": [
       "        lgb_pred  lgb2_pred  xgb_pred  lgb_bizen_pred  lgb_dmitry_pred  \\\n",
       "0       0.558734   0.578699  0.576973        0.561836         0.566536   \n",
       "1       0.130124   0.120648  0.124073        0.119917         0.126946   \n",
       "2       0.634854   0.628457  0.630655        0.629326         0.627686   \n",
       "3       0.121661   0.125785  0.126651        0.128635         0.122506   \n",
       "4       0.151700   0.150161  0.149483        0.153291         0.146343   \n",
       "...          ...        ...       ...             ...              ...   \n",
       "493469  0.833647   0.829336  0.829659        0.827457         0.825696   \n",
       "493470  0.114116   0.116351  0.117947        0.111374         0.112238   \n",
       "493471  0.771955   0.760704  0.758474        0.758873         0.764026   \n",
       "493472  0.129603   0.132275  0.129645        0.133944         0.135123   \n",
       "493473  0.742763   0.748962  0.749504        0.757657         0.744380   \n",
       "\n",
       "        xgb_dmitry_pred  lgb_manav_pred  xgb_manav_pred  ridge_pred  \n",
       "0              0.575204        0.564575        0.564908    0.553440  \n",
       "1              0.126340        0.121656        0.120459    0.182040  \n",
       "2              0.635330        0.626681        0.633499    0.631720  \n",
       "3              0.123506        0.128684        0.131022    0.184237  \n",
       "4              0.143437        0.152862        0.153132    0.203202  \n",
       "...                 ...             ...             ...         ...  \n",
       "493469         0.827184        0.831222        0.816129    0.790480  \n",
       "493470         0.115928        0.111981        0.109487    0.174385  \n",
       "493471         0.754300        0.756039        0.774203    0.751130  \n",
       "493472         0.132036        0.135098        0.136081    0.184900  \n",
       "493473         0.747717        0.741040        0.760795    0.734600  \n",
       "\n",
       "[493474 rows x 9 columns]"
      ]
     },
     "execution_count": 10,
     "metadata": {},
     "output_type": "execute_result"
    }
   ],
   "source": [
    "test[features]"
   ]
  },
  {
   "cell_type": "code",
   "execution_count": 11,
   "id": "2ef99415",
   "metadata": {
    "execution": {
     "iopub.execute_input": "2021-09-23T03:57:53.185843Z",
     "iopub.status.busy": "2021-09-23T03:57:53.184859Z",
     "iopub.status.idle": "2021-09-23T03:57:53.189029Z",
     "shell.execute_reply": "2021-09-23T03:57:53.188513Z",
     "shell.execute_reply.started": "2021-09-20T00:58:46.712757Z"
    },
    "papermill": {
     "duration": 0.027559,
     "end_time": "2021-09-23T03:57:53.189172",
     "exception": false,
     "start_time": "2021-09-23T03:57:53.161613",
     "status": "completed"
    },
    "tags": []
   },
   "outputs": [
    {
     "data": {
      "text/plain": [
       "0         1\n",
       "1         0\n",
       "2         1\n",
       "3         1\n",
       "4         1\n",
       "         ..\n",
       "957914    0\n",
       "957915    1\n",
       "957916    0\n",
       "957917    1\n",
       "957918    0\n",
       "Name: claim, Length: 957919, dtype: int64"
      ]
     },
     "execution_count": 11,
     "metadata": {},
     "output_type": "execute_result"
    }
   ],
   "source": [
    "train[target]"
   ]
  },
  {
   "cell_type": "markdown",
   "id": "050de385",
   "metadata": {
    "papermill": {
     "duration": 0.01679,
     "end_time": "2021-09-23T03:57:53.223133",
     "exception": false,
     "start_time": "2021-09-23T03:57:53.206343",
     "status": "completed"
    },
    "tags": []
   },
   "source": [
    "# Ridge"
   ]
  },
  {
   "cell_type": "code",
   "execution_count": 12,
   "id": "a2037582",
   "metadata": {
    "execution": {
     "iopub.execute_input": "2021-09-23T03:57:53.261049Z",
     "iopub.status.busy": "2021-09-23T03:57:53.260053Z",
     "iopub.status.idle": "2021-09-23T03:57:53.265371Z",
     "shell.execute_reply": "2021-09-23T03:57:53.264746Z",
     "shell.execute_reply.started": "2021-09-20T00:58:46.720531Z"
    },
    "papermill": {
     "duration": 0.025229,
     "end_time": "2021-09-23T03:57:53.265520",
     "exception": false,
     "start_time": "2021-09-23T03:57:53.240291",
     "status": "completed"
    },
    "tags": []
   },
   "outputs": [],
   "source": [
    "ridge_params = {\n",
    "                'max_iter':N_ESTIMATORS,\n",
    "               'tol':1e-8,\n",
    "              \n",
    "                'alpha': 0.0001076358910639844, \n",
    "                'solver': 'saga'\n",
    "}"
   ]
  },
  {
   "cell_type": "code",
   "execution_count": 13,
   "id": "11f89c3f",
   "metadata": {
    "execution": {
     "iopub.execute_input": "2021-09-23T03:57:53.313846Z",
     "iopub.status.busy": "2021-09-23T03:57:53.312727Z",
     "iopub.status.idle": "2021-09-23T04:51:31.970865Z",
     "shell.execute_reply": "2021-09-23T04:51:31.971535Z",
     "shell.execute_reply.started": "2021-09-20T01:02:28.441611Z"
    },
    "papermill": {
     "duration": 3218.689286,
     "end_time": "2021-09-23T04:51:31.971907",
     "exception": false,
     "start_time": "2021-09-23T03:57:53.282621",
     "status": "completed"
    },
    "tags": []
   },
   "outputs": [
    {
     "name": "stdout",
     "output_type": "stream",
     "text": [
      "===== fold 0 =====\n",
      "fold 0 - ridge auc: 0.817406, elapsed time: 335.02sec\n",
      "\n",
      "===== fold 1 =====\n",
      "fold 1 - ridge auc: 0.816383, elapsed time: 328.00sec\n",
      "\n",
      "===== fold 2 =====\n",
      "fold 2 - ridge auc: 0.817834, elapsed time: 321.06sec\n",
      "\n",
      "===== fold 3 =====\n",
      "fold 3 - ridge auc: 0.816568, elapsed time: 317.30sec\n",
      "\n",
      "===== fold 4 =====\n",
      "fold 4 - ridge auc: 0.818210, elapsed time: 318.40sec\n",
      "\n",
      "===== fold 5 =====\n",
      "fold 5 - ridge auc: 0.815620, elapsed time: 325.68sec\n",
      "\n",
      "===== fold 6 =====\n",
      "fold 6 - ridge auc: 0.819605, elapsed time: 315.82sec\n",
      "\n",
      "===== fold 7 =====\n",
      "fold 7 - ridge auc: 0.815749, elapsed time: 318.07sec\n",
      "\n",
      "===== fold 8 =====\n",
      "fold 8 - ridge auc: 0.817337, elapsed time: 310.26sec\n",
      "\n",
      "===== fold 9 =====\n",
      "fold 9 - ridge auc: 0.816517, elapsed time: 324.49sec\n",
      "\n",
      "oof ridge_auc = 0.8171113826593416\n"
     ]
    }
   ],
   "source": [
    "ridge_oof = np.zeros(train.shape[0])\n",
    "ridge_pred = np.zeros(test.shape[0])\n",
    "ridge_importances = pd.DataFrame()\n",
    "\n",
    "\n",
    "kf = StratifiedKFold(n_splits=N_SPLITS, shuffle=True, random_state=CVSEED)\n",
    "seed_list=range(SEED, SEED+20)\n",
    "\n",
    "for fold, (trn_idx, val_idx) in enumerate(kf.split(X=train[features], y=train[target])):\n",
    "    print(f\"===== fold {fold} =====\")\n",
    "\n",
    "\n",
    "    X_train = train[features].iloc[trn_idx]\n",
    "    y_train = train[target].iloc[trn_idx]\n",
    "    X_valid = train[features].iloc[val_idx]\n",
    "    y_valid = train[target].iloc[val_idx]\n",
    "    X_test = test[features]\n",
    "\n",
    "        \n",
    "    X_train[features] = ss.fit_transform(X_train[features])\n",
    "    X_valid[features] = ss.transform(X_valid[features])\n",
    "    X_test[features] = ss.transform(X_test[features])\n",
    "\n",
    "    start = time.time()\n",
    "    for inseed in seed_list:\n",
    "        ridge_params['random_state'] = inseed\n",
    "\n",
    "        model = RidgeClassifierwithProba(**ridge_params)\n",
    "        model.fit(\n",
    "            X_train, \n",
    "            y_train,\n",
    "            \n",
    "        )\n",
    "\n",
    "        with open(f\"ridge_model{fold}_seed{inseed}.pkl\", 'wb') as f:\n",
    "            pickle.dump(model, f)\n",
    "\n",
    "\n",
    "        ridge_oof[val_idx] += model.predict_proba(X_valid)[:,-1] / len(seed_list)\n",
    "        ridge_pred += model.predict_proba(X_test)[:,-1] / len(seed_list)\n",
    "\n",
    "\n",
    "    elapsed = time.time() - start\n",
    "    auc = roc_auc_score(y_valid, ridge_oof[val_idx])\n",
    "    print(f\"fold {fold} - ridge auc: {auc:.6f}, elapsed time: {elapsed:.2f}sec\\n\")            \n",
    "\n",
    "ridge_pred /= N_SPLITS\n",
    "print(f\"oof ridge_auc = {roc_auc_score(train[target], ridge_oof)}\")\n",
    "\n",
    "np.save(\"ridge_oof.npy\", ridge_oof)\n",
    "np.save(\"ridge_pred.npy\", ridge_pred)"
   ]
  },
  {
   "cell_type": "markdown",
   "id": "ddcf3228",
   "metadata": {
    "papermill": {
     "duration": 0.021331,
     "end_time": "2021-09-23T04:51:32.014182",
     "exception": false,
     "start_time": "2021-09-23T04:51:31.992851",
     "status": "completed"
    },
    "tags": []
   },
   "source": [
    "# OOF predictions"
   ]
  },
  {
   "cell_type": "code",
   "execution_count": 14,
   "id": "175fba8c",
   "metadata": {
    "execution": {
     "iopub.execute_input": "2021-09-23T04:51:32.061954Z",
     "iopub.status.busy": "2021-09-23T04:51:32.060963Z",
     "iopub.status.idle": "2021-09-23T04:51:35.760569Z",
     "shell.execute_reply": "2021-09-23T04:51:35.761071Z"
    },
    "papermill": {
     "duration": 3.726096,
     "end_time": "2021-09-23T04:51:35.761237",
     "exception": false,
     "start_time": "2021-09-23T04:51:32.035141",
     "status": "completed"
    },
    "tags": []
   },
   "outputs": [
    {
     "data": {
      "text/plain": [
       "<matplotlib.collections.PathCollection at 0x7f9811e73710>"
      ]
     },
     "execution_count": 14,
     "metadata": {},
     "output_type": "execute_result"
    },
    {
     "data": {
      "image/png": "[encoded data removed]",
      "text/plain": [
       "<Figure size 432x288 with 1 Axes>"
      ]
     },
     "metadata": {
      "needs_background": "light"
     },
     "output_type": "display_data"
    }
   ],
   "source": [
    "plt.plot(train[target], train[target])\n",
    "plt.scatter(train[target], ridge_oof)"
   ]
  },
  {
   "cell_type": "markdown",
   "id": "1dfc07e6",
   "metadata": {
    "papermill": {
     "duration": 0.022277,
     "end_time": "2021-09-23T04:51:35.805516",
     "exception": false,
     "start_time": "2021-09-23T04:51:35.783239",
     "status": "completed"
    },
    "tags": []
   },
   "source": [
    "# Submission"
   ]
  },
  {
   "cell_type": "code",
   "execution_count": 15,
   "id": "48051db9",
   "metadata": {
    "execution": {
     "iopub.execute_input": "2021-09-23T04:51:35.853829Z",
     "iopub.status.busy": "2021-09-23T04:51:35.852781Z",
     "iopub.status.idle": "2021-09-23T04:51:37.714163Z",
     "shell.execute_reply": "2021-09-23T04:51:37.714655Z"
    },
    "papermill": {
     "duration": 1.887312,
     "end_time": "2021-09-23T04:51:37.714840",
     "exception": false,
     "start_time": "2021-09-23T04:51:35.827528",
     "status": "completed"
    },
    "tags": []
   },
   "outputs": [
    {
     "data": {
      "text/html": [
       "<div>\n",
       "<style scoped>\n",
       "    .dataframe tbody tr th:only-of-type {\n",
       "        vertical-align: middle;\n",
       "    }\n",
       "\n",
       "    .dataframe tbody tr th {\n",
       "        vertical-align: top;\n",
       "    }\n",
       "\n",
       "    .dataframe thead th {\n",
       "        text-align: right;\n",
       "    }\n",
       "</style>\n",
       "<table border=\"1\" class=\"dataframe\">\n",
       "  <thead>\n",
       "    <tr style=\"text-align: right;\">\n",
       "      <th></th>\n",
       "      <th>id</th>\n",
       "      <th>claim</th>\n",
       "    </tr>\n",
       "  </thead>\n",
       "  <tbody>\n",
       "    <tr>\n",
       "      <th>0</th>\n",
       "      <td>957919</td>\n",
       "      <td>0.553749</td>\n",
       "    </tr>\n",
       "    <tr>\n",
       "      <th>1</th>\n",
       "      <td>957920</td>\n",
       "      <td>0.181853</td>\n",
       "    </tr>\n",
       "    <tr>\n",
       "      <th>2</th>\n",
       "      <td>957921</td>\n",
       "      <td>0.631183</td>\n",
       "    </tr>\n",
       "    <tr>\n",
       "      <th>3</th>\n",
       "      <td>957922</td>\n",
       "      <td>0.184233</td>\n",
       "    </tr>\n",
       "    <tr>\n",
       "      <th>4</th>\n",
       "      <td>957923</td>\n",
       "      <td>0.203805</td>\n",
       "    </tr>\n",
       "    <tr>\n",
       "      <th>...</th>\n",
       "      <td>...</td>\n",
       "      <td>...</td>\n",
       "    </tr>\n",
       "    <tr>\n",
       "      <th>493469</th>\n",
       "      <td>1451388</td>\n",
       "      <td>0.791137</td>\n",
       "    </tr>\n",
       "    <tr>\n",
       "      <th>493470</th>\n",
       "      <td>1451389</td>\n",
       "      <td>0.173984</td>\n",
       "    </tr>\n",
       "    <tr>\n",
       "      <th>493471</th>\n",
       "      <td>1451390</td>\n",
       "      <td>0.751149</td>\n",
       "    </tr>\n",
       "    <tr>\n",
       "      <th>493472</th>\n",
       "      <td>1451391</td>\n",
       "      <td>0.184891</td>\n",
       "    </tr>\n",
       "    <tr>\n",
       "      <th>493473</th>\n",
       "      <td>1451392</td>\n",
       "      <td>0.734501</td>\n",
       "    </tr>\n",
       "  </tbody>\n",
       "</table>\n",
       "<p>493474 rows × 2 columns</p>\n",
       "</div>"
      ],
      "text/plain": [
       "             id     claim\n",
       "0        957919  0.553749\n",
       "1        957920  0.181853\n",
       "2        957921  0.631183\n",
       "3        957922  0.184233\n",
       "4        957923  0.203805\n",
       "...         ...       ...\n",
       "493469  1451388  0.791137\n",
       "493470  1451389  0.173984\n",
       "493471  1451390  0.751149\n",
       "493472  1451391  0.184891\n",
       "493473  1451392  0.734501\n",
       "\n",
       "[493474 rows x 2 columns]"
      ]
     },
     "execution_count": 15,
     "metadata": {},
     "output_type": "execute_result"
    }
   ],
   "source": [
    "submission[target] = ridge_pred\n",
    "submission.to_csv(\"submission.csv\", index=False)\n",
    "\n",
    "submission"
   ]
  },
  {
   "cell_type": "markdown",
   "id": "867eb448",
   "metadata": {
    "papermill": {
     "duration": 0.022245,
     "end_time": "2021-09-23T04:51:37.759531",
     "exception": false,
     "start_time": "2021-09-23T04:51:37.737286",
     "status": "completed"
    },
    "tags": []
   },
   "source": [
    "# Log\n",
    "\n",
    "by oof pred ver1"
   ]
  }
 ],
 "metadata": {
  "kernelspec": {
   "display_name": "Python 3",
   "language": "python",
   "name": "python3"
  },
  "language_info": {
   "codemirror_mode": {
    "name": "ipython",
    "version": 3
   },
   "file_extension": ".py",
   "mimetype": "text/x-python",
   "name": "python",
   "nbconvert_exporter": "python",
   "pygments_lexer": "ipython3",
   "version": "3.7.10"
  },
  "papermill": {
   "default_parameters": {},
   "duration": 3268.461861,
   "end_time": "2021-09-23T04:51:38.696154",
   "environment_variables": {},
   "exception": null,
   "input_path": "__notebook__.ipynb",
   "output_path": "__notebook__.ipynb",
   "parameters": {},
   "start_time": "2021-09-23T03:57:10.234293",
   "version": "2.3.3"
  }
 },
 "nbformat": 4,
 "nbformat_minor": 5
}
