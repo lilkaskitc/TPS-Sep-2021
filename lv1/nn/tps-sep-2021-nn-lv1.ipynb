{
 "cells": [
  {
   "cell_type": "code",
   "execution_count": 1,
   "id": "f3619480",
   "metadata": {
    "_kg_hide-input": false,
    "execution": {
     "iopub.execute_input": "2021-09-27T02:10:10.504232Z",
     "iopub.status.busy": "2021-09-27T02:10:10.503018Z",
     "iopub.status.idle": "2021-09-27T02:10:17.604001Z",
     "shell.execute_reply": "2021-09-27T02:10:17.603129Z",
     "shell.execute_reply.started": "2021-09-25T11:09:49.38996Z"
    },
    "papermill": {
     "duration": 7.12119,
     "end_time": "2021-09-27T02:10:17.604214",
     "exception": false,
     "start_time": "2021-09-27T02:10:10.483024",
     "status": "completed"
    },
    "tags": []
   },
   "outputs": [],
   "source": [
    "import numpy as np # linear algebra\n",
    "import pandas as pd # data processing, CSV file I/O (e.g. pd.read_csv)\n",
    "import os\n",
    "import random\n",
    "from sklearn.pipeline import Pipeline\n",
    "\n",
    "\n",
    "import tensorflow as tf\n",
    "from tensorflow.keras import layers\n",
    "from tensorflow.keras.layers import Input, Dense, BatchNormalization, Dropout, Embedding,  Flatten\n",
    "from tensorflow.keras.models import Model, Sequential\n",
    "from keras.callbacks import ReduceLROnPlateau\n",
    "from keras.optimizers import RMSprop\n",
    "import keras_tuner as kt\n",
    "\n",
    "from tensorflow.data import Dataset\n",
    "from sklearn.preprocessing import QuantileTransformer,  KBinsDiscretizer\n",
    "from sklearn.model_selection import StratifiedKFold\n",
    "from tensorflow import keras\n",
    "from sklearn import metrics\n",
    "from sklearn.impute import SimpleImputer\n",
    "\n",
    "from sklearn.model_selection import train_test_split\n",
    "\n",
    "from sklearn.metrics import roc_auc_score\n",
    "\n",
    "import gc\n",
    "import warnings\n",
    "warnings.simplefilter('ignore')"
   ]
  },
  {
   "cell_type": "markdown",
   "id": "7a7f37bc",
   "metadata": {
    "papermill": {
     "duration": 0.01419,
     "end_time": "2021-09-27T02:10:17.633632",
     "exception": false,
     "start_time": "2021-09-27T02:10:17.619442",
     "status": "completed"
    },
    "tags": []
   },
   "source": [
    "# Parameters"
   ]
  },
  {
   "cell_type": "code",
   "execution_count": 2,
   "id": "441c43a3",
   "metadata": {
    "execution": {
     "iopub.execute_input": "2021-09-27T02:10:17.670153Z",
     "iopub.status.busy": "2021-09-27T02:10:17.669405Z",
     "iopub.status.idle": "2021-09-27T02:10:17.672998Z",
     "shell.execute_reply": "2021-09-27T02:10:17.672325Z",
     "shell.execute_reply.started": "2021-09-25T11:09:55.177224Z"
    },
    "papermill": {
     "duration": 0.025074,
     "end_time": "2021-09-27T02:10:17.673157",
     "exception": false,
     "start_time": "2021-09-27T02:10:17.648083",
     "status": "completed"
    },
    "tags": []
   },
   "outputs": [],
   "source": [
    "target = 'claim'\n",
    "\n",
    "DEBUG = False\n",
    "\n",
    "if DEBUG:\n",
    "    N_ESTIMATORS = 1\n",
    "    N_SPLITS = 2\n",
    "    SEED = 2017\n",
    "    CVSEED = 2017\n",
    "    EARLY_STOPPING_ROUNDS = 1\n",
    "    VERBOSE = 100\n",
    "    BINS = 128\n",
    "    #N_ITERS = 2\n",
    "else:\n",
    "    N_SPLITS = 10\n",
    "    N_ESTIMATORS = 20000\n",
    "    EARLY_STOPPING_ROUNDS = 300\n",
    "    VERBOSE = 1000\n",
    "    SEED = 2026\n",
    "    CVSEED = 2017\n",
    "    BINS = 128\n",
    "    #N_ITERS = 10"
   ]
  },
  {
   "cell_type": "code",
   "execution_count": 3,
   "id": "94dd4708",
   "metadata": {
    "execution": {
     "iopub.execute_input": "2021-09-27T02:10:17.709276Z",
     "iopub.status.busy": "2021-09-27T02:10:17.708252Z",
     "iopub.status.idle": "2021-09-27T02:10:17.711666Z",
     "shell.execute_reply": "2021-09-27T02:10:17.711109Z",
     "shell.execute_reply.started": "2021-09-25T11:09:55.185742Z"
    },
    "papermill": {
     "duration": 0.024081,
     "end_time": "2021-09-27T02:10:17.711836",
     "exception": false,
     "start_time": "2021-09-27T02:10:17.687755",
     "status": "completed"
    },
    "tags": []
   },
   "outputs": [],
   "source": [
    "def set_seed(seed=2017):\n",
    "    random.seed(seed)\n",
    "    os.environ['PYTHONHASHSEED'] = str(seed)\n",
    "    np.random.seed(seed)\n",
    "    tf.compat.v1.set_random_seed(seed)\n",
    "    \n",
    "set_seed(SEED)"
   ]
  },
  {
   "cell_type": "markdown",
   "id": "7566c671",
   "metadata": {
    "papermill": {
     "duration": 0.014374,
     "end_time": "2021-09-27T02:10:17.740747",
     "exception": false,
     "start_time": "2021-09-27T02:10:17.726373",
     "status": "completed"
    },
    "tags": []
   },
   "source": [
    "# Load Dataset"
   ]
  },
  {
   "cell_type": "code",
   "execution_count": 4,
   "id": "2a244cc4",
   "metadata": {
    "execution": {
     "iopub.execute_input": "2021-09-27T02:10:17.773174Z",
     "iopub.status.busy": "2021-09-27T02:10:17.772456Z",
     "iopub.status.idle": "2021-09-27T02:11:08.128420Z",
     "shell.execute_reply": "2021-09-27T02:11:08.129173Z",
     "shell.execute_reply.started": "2021-09-25T11:09:55.205307Z"
    },
    "papermill": {
     "duration": 50.374226,
     "end_time": "2021-09-27T02:11:08.129388",
     "exception": false,
     "start_time": "2021-09-27T02:10:17.755162",
     "status": "completed"
    },
    "tags": []
   },
   "outputs": [],
   "source": [
    "train = pd.read_csv('../input/tabular-playground-series-sep-2021/train.csv')\n",
    "test  = pd.read_csv('../input/tabular-playground-series-sep-2021/test.csv')\n",
    "sub   = pd.read_csv('../input/tabular-playground-series-sep-2021/sample_solution.csv')"
   ]
  },
  {
   "cell_type": "code",
   "execution_count": 5,
   "id": "28e5d6f8",
   "metadata": {
    "execution": {
     "iopub.execute_input": "2021-09-27T02:11:08.161812Z",
     "iopub.status.busy": "2021-09-27T02:11:08.161141Z",
     "iopub.status.idle": "2021-09-27T02:11:09.563060Z",
     "shell.execute_reply": "2021-09-27T02:11:09.561997Z"
    },
    "papermill": {
     "duration": 1.419229,
     "end_time": "2021-09-27T02:11:09.563231",
     "exception": false,
     "start_time": "2021-09-27T02:11:08.144002",
     "status": "completed"
    },
    "tags": []
   },
   "outputs": [],
   "source": [
    "train['lgb_pred'] = np.load(\"../input/tps-sep-lv0-base-trees/agg_lgb_oof.npy\")\n",
    "test['lgb_pred'] = np.load(\"../input/tps-sep-lv0-base-trees/agg_lgb_pred.npy\")\n",
    "\n",
    "train['lgb2_pred'] = np.load(\"../input/tps-sep-lv0-base-trees/agg_lgb2_oof.npy\")\n",
    "test['lgb2_pred'] = np.load(\"../input/tps-sep-lv0-base-trees/agg_lgb2_pred.npy\")\n",
    "\n",
    "train['xgb_pred'] = np.load(\"../input/tps-sep-lv0-base-trees/agg_xgb_oof.npy\")\n",
    "test['xgb_pred'] = np.load(\"../input/tps-sep-lv0-base-trees/agg_xgb_pred.npy\")\n",
    "\n",
    "train['lgb_bizen_pred'] = np.load(\"../input/tps-sep-lv0-base-trees/lgb_bizen_oof.npy\")\n",
    "test['lgb_bizen_pred'] = np.load(\"../input/tps-sep-lv0-base-trees/lgb_bizen_pred.npy\")\n",
    "\n",
    "train['lgb_dmitry_pred'] = np.load(\"../input/tps-sep-lv0-base-trees/lgb_dmitry_oof.npy\")\n",
    "test['lgb_dmitry_pred'] = np.load(\"../input/tps-sep-lv0-base-trees/lgb_dmitry_pred.npy\")\n",
    "\n",
    "train['xgb_dmitry_pred'] = np.load(\"../input/tps-sep-lv0-base-trees/xgb_dmitry_oof.npy\")\n",
    "test['xgb_dmitry_pred'] = np.load(\"../input/tps-sep-lv0-base-trees/xgb_dmitry_pred.npy\")\n",
    "\n",
    "train['lgb_manav_pred'] = np.load(\"../input/tps-sep-lv0-base-trees/lgb_manav_oof.npy\")\n",
    "test['lgb_manav_pred'] = np.load(\"../input/tps-sep-lv0-base-trees/lgb_manav_pred.npy\")\n",
    "\n",
    "train['xgb_manav_pred'] = np.load(\"../input/tps-sep-lv0-base-trees/xgb_manav_oof.npy\")\n",
    "test['xgb_manav_pred'] = np.load(\"../input/tps-sep-lv0-base-trees/xgb_manav_pred.npy\")"
   ]
  },
  {
   "cell_type": "code",
   "execution_count": 6,
   "id": "30d57531",
   "metadata": {
    "execution": {
     "iopub.execute_input": "2021-09-27T02:11:09.598972Z",
     "iopub.status.busy": "2021-09-27T02:11:09.598201Z",
     "iopub.status.idle": "2021-09-27T02:11:09.875535Z",
     "shell.execute_reply": "2021-09-27T02:11:09.874846Z"
    },
    "papermill": {
     "duration": 0.297741,
     "end_time": "2021-09-27T02:11:09.875701",
     "exception": false,
     "start_time": "2021-09-27T02:11:09.577960",
     "status": "completed"
    },
    "tags": []
   },
   "outputs": [],
   "source": [
    "train['ridge_pred'] = np.load(\"../input/tps-sep-lv0-base-trees/ridge_oof.npy\")\n",
    "test['ridge_pred'] = np.load(\"../input/tps-sep-lv0-base-trees/ridge_pred.npy\")\n",
    "\n",
    "train['nn_pred'] = np.load(\"../input/tps-sep-lv0-base-trees/agg_nn_oof.npy\")\n",
    "test['nn_pred'] = np.load(\"../input/tps-sep-lv0-base-trees/agg_nn_pred.npy\")"
   ]
  },
  {
   "cell_type": "markdown",
   "id": "8ae83d51",
   "metadata": {
    "papermill": {
     "duration": 0.015143,
     "end_time": "2021-09-27T02:11:09.905552",
     "exception": false,
     "start_time": "2021-09-27T02:11:09.890409",
     "status": "completed"
    },
    "tags": []
   },
   "source": [
    "# Preprocessing"
   ]
  },
  {
   "cell_type": "code",
   "execution_count": 7,
   "id": "79063b77",
   "metadata": {
    "execution": {
     "iopub.execute_input": "2021-09-27T02:11:09.942473Z",
     "iopub.status.busy": "2021-09-27T02:11:09.941747Z",
     "iopub.status.idle": "2021-09-27T02:11:09.945276Z",
     "shell.execute_reply": "2021-09-27T02:11:09.944743Z",
     "shell.execute_reply.started": "2021-09-25T11:10:36.2265Z"
    },
    "papermill": {
     "duration": 0.024698,
     "end_time": "2021-09-27T02:11:09.945451",
     "exception": false,
     "start_time": "2021-09-27T02:11:09.920753",
     "status": "completed"
    },
    "tags": []
   },
   "outputs": [],
   "source": [
    "features = [col for col in train.columns if 'pred' in col]\n",
    "\n",
    "pipe = Pipeline([\n",
    "       # ('imputer', SimpleImputer(strategy='median',missing_values=np.nan)),\n",
    "        (\"scaler\", QuantileTransformer(n_quantiles=BINS,output_distribution='normal')),\n",
    "        ('bin', KBinsDiscretizer(n_bins=BINS, encode='ordinal',strategy='uniform'))\n",
    "        ])\n",
    "#train[features] = pipe.fit_transform(train[features])\n",
    "#test[features] = pipe.transform(test[features])"
   ]
  },
  {
   "cell_type": "code",
   "execution_count": 8,
   "id": "2aa09a03",
   "metadata": {
    "execution": {
     "iopub.execute_input": "2021-09-27T02:11:09.978143Z",
     "iopub.status.busy": "2021-09-27T02:11:09.977421Z",
     "iopub.status.idle": "2021-09-27T02:11:10.460753Z",
     "shell.execute_reply": "2021-09-27T02:11:10.461295Z",
     "shell.execute_reply.started": "2021-09-25T11:10:36.603206Z"
    },
    "papermill": {
     "duration": 0.5014,
     "end_time": "2021-09-27T02:11:10.461506",
     "exception": false,
     "start_time": "2021-09-27T02:11:09.960106",
     "status": "completed"
    },
    "tags": []
   },
   "outputs": [
    {
     "data": {
      "text/html": [
       "<div>\n",
       "<style scoped>\n",
       "    .dataframe tbody tr th:only-of-type {\n",
       "        vertical-align: middle;\n",
       "    }\n",
       "\n",
       "    .dataframe tbody tr th {\n",
       "        vertical-align: top;\n",
       "    }\n",
       "\n",
       "    .dataframe thead th {\n",
       "        text-align: right;\n",
       "    }\n",
       "</style>\n",
       "<table border=\"1\" class=\"dataframe\">\n",
       "  <thead>\n",
       "    <tr style=\"text-align: right;\">\n",
       "      <th></th>\n",
       "      <th>lgb_pred</th>\n",
       "      <th>lgb2_pred</th>\n",
       "      <th>xgb_pred</th>\n",
       "      <th>lgb_bizen_pred</th>\n",
       "      <th>lgb_dmitry_pred</th>\n",
       "      <th>xgb_dmitry_pred</th>\n",
       "      <th>lgb_manav_pred</th>\n",
       "      <th>xgb_manav_pred</th>\n",
       "      <th>ridge_pred</th>\n",
       "      <th>nn_pred</th>\n",
       "    </tr>\n",
       "  </thead>\n",
       "  <tbody>\n",
       "    <tr>\n",
       "      <th>0</th>\n",
       "      <td>0.558734</td>\n",
       "      <td>0.578699</td>\n",
       "      <td>0.576973</td>\n",
       "      <td>0.561836</td>\n",
       "      <td>0.566536</td>\n",
       "      <td>0.575204</td>\n",
       "      <td>0.564575</td>\n",
       "      <td>0.564908</td>\n",
       "      <td>0.553440</td>\n",
       "      <td>0.564283</td>\n",
       "    </tr>\n",
       "    <tr>\n",
       "      <th>1</th>\n",
       "      <td>0.130124</td>\n",
       "      <td>0.120648</td>\n",
       "      <td>0.124073</td>\n",
       "      <td>0.119917</td>\n",
       "      <td>0.126946</td>\n",
       "      <td>0.126340</td>\n",
       "      <td>0.121656</td>\n",
       "      <td>0.120459</td>\n",
       "      <td>0.182040</td>\n",
       "      <td>0.120549</td>\n",
       "    </tr>\n",
       "    <tr>\n",
       "      <th>2</th>\n",
       "      <td>0.634854</td>\n",
       "      <td>0.628457</td>\n",
       "      <td>0.630655</td>\n",
       "      <td>0.629326</td>\n",
       "      <td>0.627686</td>\n",
       "      <td>0.635330</td>\n",
       "      <td>0.626681</td>\n",
       "      <td>0.633499</td>\n",
       "      <td>0.631720</td>\n",
       "      <td>0.569874</td>\n",
       "    </tr>\n",
       "    <tr>\n",
       "      <th>3</th>\n",
       "      <td>0.121661</td>\n",
       "      <td>0.125785</td>\n",
       "      <td>0.126651</td>\n",
       "      <td>0.128635</td>\n",
       "      <td>0.122506</td>\n",
       "      <td>0.123506</td>\n",
       "      <td>0.128684</td>\n",
       "      <td>0.131022</td>\n",
       "      <td>0.184237</td>\n",
       "      <td>0.120917</td>\n",
       "    </tr>\n",
       "    <tr>\n",
       "      <th>4</th>\n",
       "      <td>0.151700</td>\n",
       "      <td>0.150161</td>\n",
       "      <td>0.149483</td>\n",
       "      <td>0.153291</td>\n",
       "      <td>0.146343</td>\n",
       "      <td>0.143437</td>\n",
       "      <td>0.152862</td>\n",
       "      <td>0.153132</td>\n",
       "      <td>0.203202</td>\n",
       "      <td>0.124316</td>\n",
       "    </tr>\n",
       "    <tr>\n",
       "      <th>...</th>\n",
       "      <td>...</td>\n",
       "      <td>...</td>\n",
       "      <td>...</td>\n",
       "      <td>...</td>\n",
       "      <td>...</td>\n",
       "      <td>...</td>\n",
       "      <td>...</td>\n",
       "      <td>...</td>\n",
       "      <td>...</td>\n",
       "      <td>...</td>\n",
       "    </tr>\n",
       "    <tr>\n",
       "      <th>493469</th>\n",
       "      <td>0.833647</td>\n",
       "      <td>0.829336</td>\n",
       "      <td>0.829659</td>\n",
       "      <td>0.827457</td>\n",
       "      <td>0.825696</td>\n",
       "      <td>0.827184</td>\n",
       "      <td>0.831222</td>\n",
       "      <td>0.816129</td>\n",
       "      <td>0.790480</td>\n",
       "      <td>0.587796</td>\n",
       "    </tr>\n",
       "    <tr>\n",
       "      <th>493470</th>\n",
       "      <td>0.114116</td>\n",
       "      <td>0.116351</td>\n",
       "      <td>0.117947</td>\n",
       "      <td>0.111374</td>\n",
       "      <td>0.112238</td>\n",
       "      <td>0.115928</td>\n",
       "      <td>0.111981</td>\n",
       "      <td>0.109487</td>\n",
       "      <td>0.174385</td>\n",
       "      <td>0.120834</td>\n",
       "    </tr>\n",
       "    <tr>\n",
       "      <th>493471</th>\n",
       "      <td>0.771955</td>\n",
       "      <td>0.760704</td>\n",
       "      <td>0.758474</td>\n",
       "      <td>0.758873</td>\n",
       "      <td>0.764026</td>\n",
       "      <td>0.754300</td>\n",
       "      <td>0.756039</td>\n",
       "      <td>0.774203</td>\n",
       "      <td>0.751130</td>\n",
       "      <td>0.580247</td>\n",
       "    </tr>\n",
       "    <tr>\n",
       "      <th>493472</th>\n",
       "      <td>0.129603</td>\n",
       "      <td>0.132275</td>\n",
       "      <td>0.129645</td>\n",
       "      <td>0.133944</td>\n",
       "      <td>0.135123</td>\n",
       "      <td>0.132036</td>\n",
       "      <td>0.135098</td>\n",
       "      <td>0.136081</td>\n",
       "      <td>0.184900</td>\n",
       "      <td>0.122772</td>\n",
       "    </tr>\n",
       "    <tr>\n",
       "      <th>493473</th>\n",
       "      <td>0.742763</td>\n",
       "      <td>0.748962</td>\n",
       "      <td>0.749504</td>\n",
       "      <td>0.757657</td>\n",
       "      <td>0.744380</td>\n",
       "      <td>0.747717</td>\n",
       "      <td>0.741040</td>\n",
       "      <td>0.760795</td>\n",
       "      <td>0.734600</td>\n",
       "      <td>0.584487</td>\n",
       "    </tr>\n",
       "  </tbody>\n",
       "</table>\n",
       "<p>493474 rows × 10 columns</p>\n",
       "</div>"
      ],
      "text/plain": [
       "        lgb_pred  lgb2_pred  xgb_pred  lgb_bizen_pred  lgb_dmitry_pred  \\\n",
       "0       0.558734   0.578699  0.576973        0.561836         0.566536   \n",
       "1       0.130124   0.120648  0.124073        0.119917         0.126946   \n",
       "2       0.634854   0.628457  0.630655        0.629326         0.627686   \n",
       "3       0.121661   0.125785  0.126651        0.128635         0.122506   \n",
       "4       0.151700   0.150161  0.149483        0.153291         0.146343   \n",
       "...          ...        ...       ...             ...              ...   \n",
       "493469  0.833647   0.829336  0.829659        0.827457         0.825696   \n",
       "493470  0.114116   0.116351  0.117947        0.111374         0.112238   \n",
       "493471  0.771955   0.760704  0.758474        0.758873         0.764026   \n",
       "493472  0.129603   0.132275  0.129645        0.133944         0.135123   \n",
       "493473  0.742763   0.748962  0.749504        0.757657         0.744380   \n",
       "\n",
       "        xgb_dmitry_pred  lgb_manav_pred  xgb_manav_pred  ridge_pred   nn_pred  \n",
       "0              0.575204        0.564575        0.564908    0.553440  0.564283  \n",
       "1              0.126340        0.121656        0.120459    0.182040  0.120549  \n",
       "2              0.635330        0.626681        0.633499    0.631720  0.569874  \n",
       "3              0.123506        0.128684        0.131022    0.184237  0.120917  \n",
       "4              0.143437        0.152862        0.153132    0.203202  0.124316  \n",
       "...                 ...             ...             ...         ...       ...  \n",
       "493469         0.827184        0.831222        0.816129    0.790480  0.587796  \n",
       "493470         0.115928        0.111981        0.109487    0.174385  0.120834  \n",
       "493471         0.754300        0.756039        0.774203    0.751130  0.580247  \n",
       "493472         0.132036        0.135098        0.136081    0.184900  0.122772  \n",
       "493473         0.747717        0.741040        0.760795    0.734600  0.584487  \n",
       "\n",
       "[493474 rows x 10 columns]"
      ]
     },
     "execution_count": 8,
     "metadata": {},
     "output_type": "execute_result"
    }
   ],
   "source": [
    "test[features]"
   ]
  },
  {
   "cell_type": "code",
   "execution_count": 9,
   "id": "559070a9",
   "metadata": {
    "execution": {
     "iopub.execute_input": "2021-09-27T02:11:10.501795Z",
     "iopub.status.busy": "2021-09-27T02:11:10.500785Z",
     "iopub.status.idle": "2021-09-27T02:11:10.504865Z",
     "shell.execute_reply": "2021-09-27T02:11:10.505326Z",
     "shell.execute_reply.started": "2021-09-25T11:10:36.928763Z"
    },
    "papermill": {
     "duration": 0.028493,
     "end_time": "2021-09-27T02:11:10.505543",
     "exception": false,
     "start_time": "2021-09-27T02:11:10.477050",
     "status": "completed"
    },
    "tags": []
   },
   "outputs": [
    {
     "data": {
      "text/plain": [
       "0         1\n",
       "1         0\n",
       "2         1\n",
       "3         1\n",
       "4         1\n",
       "         ..\n",
       "957914    0\n",
       "957915    1\n",
       "957916    0\n",
       "957917    1\n",
       "957918    0\n",
       "Name: claim, Length: 957919, dtype: int64"
      ]
     },
     "execution_count": 9,
     "metadata": {},
     "output_type": "execute_result"
    }
   ],
   "source": [
    "train[target]"
   ]
  },
  {
   "cell_type": "markdown",
   "id": "8b3c8673",
   "metadata": {
    "papermill": {
     "duration": 0.015465,
     "end_time": "2021-09-27T02:11:10.537734",
     "exception": false,
     "start_time": "2021-09-27T02:11:10.522269",
     "status": "completed"
    },
    "tags": []
   },
   "source": [
    "# Model"
   ]
  },
  {
   "cell_type": "code",
   "execution_count": 10,
   "id": "d339b761",
   "metadata": {
    "execution": {
     "iopub.execute_input": "2021-09-27T02:11:10.580982Z",
     "iopub.status.busy": "2021-09-27T02:11:10.578286Z",
     "iopub.status.idle": "2021-09-27T02:11:10.584760Z",
     "shell.execute_reply": "2021-09-27T02:11:10.584165Z",
     "shell.execute_reply.started": "2021-09-25T11:11:11.500585Z"
    },
    "papermill": {
     "duration": 0.031478,
     "end_time": "2021-09-27T02:11:10.584923",
     "exception": false,
     "start_time": "2021-09-27T02:11:10.553445",
     "status": "completed"
    },
    "tags": []
   },
   "outputs": [],
   "source": [
    "def make_model():\n",
    "    \n",
    "    lr = 0.005705572830883387\n",
    "    dropout =0.5684029315925301\n",
    "    embed_dim =12\n",
    "    hidden_dim = 312\n",
    "    n_layers = 1\n",
    "    act = 'relu'\n",
    "    #dstep = hp.Int('decay_steps', min_value=2000, max_value=4000, step=200)\n",
    "    drate = 0.6620490386166048\n",
    "    eps =8.956803803898012e-08\n",
    "    \n",
    "    \n",
    "    inputs = Input(train[features].shape[1:])\n",
    "    X = Embedding(input_dim=BINS, output_dim=embed_dim, embeddings_initializer = \"glorot_normal\")(inputs)\n",
    "    X = Dropout(dropout)(X)\n",
    "    #X = BatchNormalization()(X)\n",
    "    X = Flatten()(X)\n",
    "    \n",
    "    for i in range(n_layers):\n",
    "        #units = hp.Int('units_{i}'.format(i=i), min_value=8, max_value=256, step=8)\n",
    "        X = layers.Dense(hidden_dim/(2**i), activation=act, kernel_initializer=tf.keras.initializers.GlorotNormal())(X)\n",
    "        X = Dropout(dropout)(X)\n",
    "        #X = BatchNormalization()(X)\n",
    "    outputs = layers.Dense(1, activation='sigmoid', kernel_initializer=tf.keras.initializers.GlorotNormal())(X)\n",
    "    model = keras.Model(inputs, outputs)\n",
    "    \n",
    "    #learning_rate = hp.Float('learning_rate', min_value=3e-4, max_value=3e-3)\n",
    "    lr_schedule = keras.optimizers.schedules.ExponentialDecay(\n",
    "        initial_learning_rate=lr,\n",
    "        decay_steps = 450,\n",
    "        decay_rate= drate)\n",
    "\n",
    "    optimizer = keras.optimizers.Adam(learning_rate=lr_schedule, epsilon=eps)\n",
    "    model.compile(loss=keras.losses.binary_crossentropy,\n",
    "                  optimizer=optimizer,\n",
    "                  metrics=[tf.keras.metrics.AUC(name='aucroc')])\n",
    "    #model.summary()\n",
    "    return model"
   ]
  },
  {
   "cell_type": "markdown",
   "id": "9984a47f",
   "metadata": {
    "papermill": {
     "duration": 0.015383,
     "end_time": "2021-09-27T02:11:10.615947",
     "exception": false,
     "start_time": "2021-09-27T02:11:10.600564",
     "status": "completed"
    },
    "tags": []
   },
   "source": [
    "# NN"
   ]
  },
  {
   "cell_type": "code",
   "execution_count": 11,
   "id": "a1c94b1b",
   "metadata": {
    "execution": {
     "iopub.execute_input": "2021-09-27T02:11:10.661867Z",
     "iopub.status.busy": "2021-09-27T02:11:10.656643Z",
     "iopub.status.idle": "2021-09-27T02:11:10.665511Z",
     "shell.execute_reply": "2021-09-27T02:11:10.666061Z",
     "shell.execute_reply.started": "2021-09-25T11:11:11.511492Z"
    },
    "papermill": {
     "duration": 0.034591,
     "end_time": "2021-09-27T02:11:10.666266",
     "exception": false,
     "start_time": "2021-09-27T02:11:10.631675",
     "status": "completed"
    },
    "tags": []
   },
   "outputs": [],
   "source": [
    "def prediction(x, y, batch_size=1024, epochs=100):\n",
    "    cv = StratifiedKFold(n_splits=N_SPLITS, shuffle=True, random_state=CVSEED)\n",
    "    val_losses = np.zeros(x.shape[0])\n",
    "    nn_pred = np.zeros(test.shape[0])\n",
    "    \n",
    "    for fold, (train_indices, val_indices) in enumerate(cv.split(x, y)):\n",
    "      print(f\"===== fold {fold} =====\")\n",
    "      x_train, x_valid = x.iloc[train_indices], x.iloc[val_indices]\n",
    "      y_train, y_valid = y.iloc[train_indices], y.iloc[val_indices]\n",
    "    \n",
    "      gc.collect()\n",
    "        \n",
    "      x_train[features] = pipe.fit_transform(x_train[features])\n",
    "      x_valid[features] = pipe.transform(x_valid[features])\n",
    "      test[features] = pipe.transform(test[features])\n",
    "        \n",
    "      \n",
    "    \n",
    "      model = make_model()\n",
    "      model.fit( x_train[features], y_train, \n",
    "                validation_data=(x_valid[features] , y_valid),\n",
    "                shuffle=True,\n",
    "                verbose=0,\n",
    "                #callbacks=[model_checkpoint_callback],\n",
    "                callbacks=[\n",
    "                #tf.keras.callbacks.ReduceLROnPlateau(monitor='val_aucroc', mode='max', patience=2),\n",
    "                tf.keras.callbacks.EarlyStopping(monitor='val_aucroc', mode='max', patience=5)  ],\n",
    "                batch_size=batch_size, \n",
    "                epochs=epochs)\n",
    "      val_losses[val_indices] += model.predict(x_valid[features] )[:,-1]\n",
    "      nn_pred += model.predict(test[features] )[:,-1]\n",
    "\n",
    "      auc = roc_auc_score(y_valid, val_losses[val_indices])\n",
    "      print(f\"fold {fold} - nn auc: {auc:.6f}\")   \n",
    "    \n",
    "      del model\n",
    "      gc.collect()\n",
    "     \n",
    "    nn_pred /= N_SPLITS\n",
    "    print(f\"oof nn_auc = {roc_auc_score(y, val_losses)}\")\n",
    "    \n",
    "    np.save(\"nn_oof.npy\", val_losses)\n",
    "    np.save(\"nn_pred.npy\", nn_pred)\n",
    "\n",
    "    gc.collect()\n",
    "    return nn_pred"
   ]
  },
  {
   "cell_type": "code",
   "execution_count": 12,
   "id": "a501377d",
   "metadata": {
    "execution": {
     "iopub.execute_input": "2021-09-27T02:11:10.705071Z",
     "iopub.status.busy": "2021-09-27T02:11:10.704332Z",
     "iopub.status.idle": "2021-09-27T02:36:39.677123Z",
     "shell.execute_reply": "2021-09-27T02:36:39.677649Z"
    },
    "papermill": {
     "duration": 1528.99595,
     "end_time": "2021-09-27T02:36:39.678086",
     "exception": false,
     "start_time": "2021-09-27T02:11:10.682136",
     "status": "completed"
    },
    "tags": []
   },
   "outputs": [
    {
     "name": "stdout",
     "output_type": "stream",
     "text": [
      "===== fold 0 =====\n",
      "fold 0 - nn auc: 0.817064\n",
      "===== fold 1 =====\n",
      "fold 1 - nn auc: 0.815994\n",
      "===== fold 2 =====\n",
      "fold 2 - nn auc: 0.817595\n",
      "===== fold 3 =====\n",
      "fold 3 - nn auc: 0.816380\n",
      "===== fold 4 =====\n",
      "fold 4 - nn auc: 0.817836\n",
      "===== fold 5 =====\n",
      "fold 5 - nn auc: 0.815393\n",
      "===== fold 6 =====\n",
      "fold 6 - nn auc: 0.819374\n",
      "===== fold 7 =====\n",
      "fold 7 - nn auc: 0.815357\n",
      "===== fold 8 =====\n",
      "fold 8 - nn auc: 0.817060\n",
      "===== fold 9 =====\n",
      "fold 9 - nn auc: 0.816257\n",
      "oof nn_auc = 0.8167795482871213\n"
     ]
    }
   ],
   "source": [
    "nn_pred = prediction(x=train[features], y=train[target], \n",
    "             batch_size=1024, \n",
    "             epochs=100,\n",
    "             #validation_data=(x_val, y_val),\n",
    "            )"
   ]
  },
  {
   "cell_type": "code",
   "execution_count": 13,
   "id": "f58f4d42",
   "metadata": {
    "execution": {
     "iopub.execute_input": "2021-09-27T02:36:39.722986Z",
     "iopub.status.busy": "2021-09-27T02:36:39.722216Z",
     "iopub.status.idle": "2021-09-27T02:36:41.609613Z",
     "shell.execute_reply": "2021-09-27T02:36:41.610141Z"
    },
    "papermill": {
     "duration": 1.912098,
     "end_time": "2021-09-27T02:36:41.610351",
     "exception": false,
     "start_time": "2021-09-27T02:36:39.698253",
     "status": "completed"
    },
    "tags": []
   },
   "outputs": [
    {
     "data": {
      "text/html": [
       "<div>\n",
       "<style scoped>\n",
       "    .dataframe tbody tr th:only-of-type {\n",
       "        vertical-align: middle;\n",
       "    }\n",
       "\n",
       "    .dataframe tbody tr th {\n",
       "        vertical-align: top;\n",
       "    }\n",
       "\n",
       "    .dataframe thead th {\n",
       "        text-align: right;\n",
       "    }\n",
       "</style>\n",
       "<table border=\"1\" class=\"dataframe\">\n",
       "  <thead>\n",
       "    <tr style=\"text-align: right;\">\n",
       "      <th></th>\n",
       "      <th>id</th>\n",
       "      <th>claim</th>\n",
       "    </tr>\n",
       "  </thead>\n",
       "  <tbody>\n",
       "    <tr>\n",
       "      <th>0</th>\n",
       "      <td>957919</td>\n",
       "      <td>0.918941</td>\n",
       "    </tr>\n",
       "    <tr>\n",
       "      <th>1</th>\n",
       "      <td>957920</td>\n",
       "      <td>0.874256</td>\n",
       "    </tr>\n",
       "    <tr>\n",
       "      <th>2</th>\n",
       "      <td>957921</td>\n",
       "      <td>0.923955</td>\n",
       "    </tr>\n",
       "    <tr>\n",
       "      <th>3</th>\n",
       "      <td>957922</td>\n",
       "      <td>0.874321</td>\n",
       "    </tr>\n",
       "    <tr>\n",
       "      <th>4</th>\n",
       "      <td>957923</td>\n",
       "      <td>0.877284</td>\n",
       "    </tr>\n",
       "    <tr>\n",
       "      <th>...</th>\n",
       "      <td>...</td>\n",
       "      <td>...</td>\n",
       "    </tr>\n",
       "    <tr>\n",
       "      <th>493469</th>\n",
       "      <td>1451388</td>\n",
       "      <td>0.944397</td>\n",
       "    </tr>\n",
       "    <tr>\n",
       "      <th>493470</th>\n",
       "      <td>1451389</td>\n",
       "      <td>0.873260</td>\n",
       "    </tr>\n",
       "    <tr>\n",
       "      <th>493471</th>\n",
       "      <td>1451390</td>\n",
       "      <td>0.937294</td>\n",
       "    </tr>\n",
       "    <tr>\n",
       "      <th>493472</th>\n",
       "      <td>1451391</td>\n",
       "      <td>0.874930</td>\n",
       "    </tr>\n",
       "    <tr>\n",
       "      <th>493473</th>\n",
       "      <td>1451392</td>\n",
       "      <td>0.936423</td>\n",
       "    </tr>\n",
       "  </tbody>\n",
       "</table>\n",
       "<p>493474 rows × 2 columns</p>\n",
       "</div>"
      ],
      "text/plain": [
       "             id     claim\n",
       "0        957919  0.918941\n",
       "1        957920  0.874256\n",
       "2        957921  0.923955\n",
       "3        957922  0.874321\n",
       "4        957923  0.877284\n",
       "...         ...       ...\n",
       "493469  1451388  0.944397\n",
       "493470  1451389  0.873260\n",
       "493471  1451390  0.937294\n",
       "493472  1451391  0.874930\n",
       "493473  1451392  0.936423\n",
       "\n",
       "[493474 rows x 2 columns]"
      ]
     },
     "execution_count": 13,
     "metadata": {},
     "output_type": "execute_result"
    }
   ],
   "source": [
    "sub[target]=nn_pred\n",
    "sub.to_csv('submission.csv', index=False)\n",
    "\n",
    "sub"
   ]
  },
  {
   "cell_type": "markdown",
   "id": "9a3694e6",
   "metadata": {
    "papermill": {
     "duration": 0.02102,
     "end_time": "2021-09-27T02:36:41.652259",
     "exception": false,
     "start_time": "2021-09-27T02:36:41.631239",
     "status": "completed"
    },
    "tags": []
   },
   "source": [
    "# Log\n",
    "\n",
    "/////// 8 trees + ridge /////////\n",
    "\n",
    "/// 128 quant normal kbins uniform with dropout, dstep=450, decreasing hidden units ///\n",
    "2017 ver2\n",
    "2018 ver3\n",
    "2019 ver4\n",
    "2020 ver5\n",
    "2021 ver6\n",
    "2022 ver7\n",
    "2023 ver8\n",
    "2024 ver9\n",
    "2025 ver10\n",
    "2026 ver11\n",
    "\n",
    "/////// 8 trees + ridge + nn /////////\n",
    "\n",
    "2017 ver12\n",
    "2018 ver13\n",
    "2019 ver14\n",
    "2020 ver15\n",
    "2021 ver16\n",
    "2022 ver17\n",
    "2023 ver18\n",
    "2024 ver19\n",
    "2025 ver20\n",
    "2026 ver21\n"
   ]
  }
 ],
 "metadata": {
  "kernelspec": {
   "display_name": "Python 3",
   "language": "python",
   "name": "python3"
  },
  "language_info": {
   "codemirror_mode": {
    "name": "ipython",
    "version": 3
   },
   "file_extension": ".py",
   "mimetype": "text/x-python",
   "name": "python",
   "nbconvert_exporter": "python",
   "pygments_lexer": "ipython3",
   "version": "3.7.10"
  },
  "papermill": {
   "default_parameters": {},
   "duration": 1602.445732,
   "end_time": "2021-09-27T02:36:43.756955",
   "environment_variables": {},
   "exception": null,
   "input_path": "__notebook__.ipynb",
   "output_path": "__notebook__.ipynb",
   "parameters": {},
   "start_time": "2021-09-27T02:10:01.311223",
   "version": "2.3.3"
  }
 },
 "nbformat": 4,
 "nbformat_minor": 5
}
