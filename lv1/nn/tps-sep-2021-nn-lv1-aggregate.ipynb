{
 "cells": [
  {
   "cell_type": "code",
   "execution_count": 1,
   "id": "0310a8f3",
   "metadata": {
    "execution": {
     "iopub.execute_input": "2021-09-27T03:02:01.225478Z",
     "iopub.status.busy": "2021-09-27T03:02:01.224407Z",
     "iopub.status.idle": "2021-09-27T03:02:02.266308Z",
     "shell.execute_reply": "2021-09-27T03:02:02.266859Z",
     "shell.execute_reply.started": "2021-09-25T06:49:20.315494Z"
    },
    "papermill": {
     "duration": 1.052917,
     "end_time": "2021-09-27T03:02:02.267154",
     "exception": false,
     "start_time": "2021-09-27T03:02:01.214237",
     "status": "completed"
    },
    "tags": []
   },
   "outputs": [],
   "source": [
    "import numpy as np\n",
    "import pandas as pd\n",
    "from pathlib import Path\n",
    "from sklearn.metrics import roc_auc_score\n"
   ]
  },
  {
   "cell_type": "code",
   "execution_count": 2,
   "id": "221d8e0e",
   "metadata": {
    "execution": {
     "iopub.execute_input": "2021-09-27T03:02:02.288364Z",
     "iopub.status.busy": "2021-09-27T03:02:02.287238Z",
     "iopub.status.idle": "2021-09-27T03:02:45.956529Z",
     "shell.execute_reply": "2021-09-27T03:02:45.955877Z",
     "shell.execute_reply.started": "2021-09-25T06:49:21.528638Z"
    },
    "papermill": {
     "duration": 43.683029,
     "end_time": "2021-09-27T03:02:45.956695",
     "exception": false,
     "start_time": "2021-09-27T03:02:02.273666",
     "status": "completed"
    },
    "tags": []
   },
   "outputs": [],
   "source": [
    "INPUT = Path(\"../input/tabular-playground-series-sep-2021\")\n",
    "\n",
    "train = pd.read_csv(INPUT / \"train.csv\")\n",
    "test = pd.read_csv(INPUT / \"test.csv\")\n",
    "submission = pd.read_csv(INPUT / \"sample_solution.csv\")"
   ]
  },
  {
   "cell_type": "markdown",
   "id": "e702bd84",
   "metadata": {
    "papermill": {
     "duration": 0.005763,
     "end_time": "2021-09-27T03:02:45.968681",
     "exception": false,
     "start_time": "2021-09-27T03:02:45.962918",
     "status": "completed"
    },
    "tags": []
   },
   "source": [
    "seeds \n",
    "\n",
    "2017 ver12 \n",
    "\n",
    "2018 ver13 \n",
    "\n",
    "2019 ver14 \n",
    "\n",
    "2020 ver15 \n",
    "\n",
    "2021 ver16 \n",
    "\n",
    "2022 ver17 \n",
    "\n",
    "2023 ver18 \n",
    "\n",
    "2024 ver19 \n",
    "\n",
    "2025 ver20 \n",
    "\n",
    "2026 ver21"
   ]
  },
  {
   "cell_type": "code",
   "execution_count": 3,
   "id": "5340e1b5",
   "metadata": {
    "execution": {
     "iopub.execute_input": "2021-09-27T03:02:45.985401Z",
     "iopub.status.busy": "2021-09-27T03:02:45.983138Z",
     "iopub.status.idle": "2021-09-27T03:02:45.991946Z",
     "shell.execute_reply": "2021-09-27T03:02:45.991272Z",
     "shell.execute_reply.started": "2021-09-25T06:50:14.107746Z"
    },
    "papermill": {
     "duration": 0.017419,
     "end_time": "2021-09-27T03:02:45.992096",
     "exception": false,
     "start_time": "2021-09-27T03:02:45.974677",
     "status": "completed"
    },
    "tags": []
   },
   "outputs": [],
   "source": [
    "oof = np.zeros(train.shape[0])\n",
    "pred = np.zeros(test.shape[0])\n",
    "\n",
    "target = 'claim'\n",
    "#numseed = [1]+[2]*6+[1]*7\n",
    "numseed=10"
   ]
  },
  {
   "cell_type": "code",
   "execution_count": 4,
   "id": "36396194",
   "metadata": {
    "execution": {
     "iopub.execute_input": "2021-09-27T03:02:46.009601Z",
     "iopub.status.busy": "2021-09-27T03:02:46.008746Z",
     "iopub.status.idle": "2021-09-27T03:02:47.167516Z",
     "shell.execute_reply": "2021-09-27T03:02:47.166976Z",
     "shell.execute_reply.started": "2021-09-25T06:50:14.117462Z"
    },
    "papermill": {
     "duration": 1.16947,
     "end_time": "2021-09-27T03:02:47.167706",
     "exception": false,
     "start_time": "2021-09-27T03:02:45.998236",
     "status": "completed"
    },
    "tags": []
   },
   "outputs": [
    {
     "name": "stdout",
     "output_type": "stream",
     "text": [
      "12\n",
      "13\n",
      "14\n",
      "15\n",
      "16\n",
      "17\n",
      "18\n",
      "19\n",
      "20\n",
      "21\n"
     ]
    }
   ],
   "source": [
    "for i in range(12, 22):\n",
    "        print(i)\n",
    "        \n",
    "        oof += np.load(\"../input/tps-sep-nn-lv1-ver2/\" +str(i)+ \"nn_oof.npy\")\n",
    "        pred += np.load(\"../input/tps-sep-nn-lv1-ver2/\" +str(i)+ \"nn_pred.npy\")"
   ]
  },
  {
   "cell_type": "code",
   "execution_count": 5,
   "id": "b6a254a3",
   "metadata": {
    "execution": {
     "iopub.execute_input": "2021-09-27T03:02:47.187681Z",
     "iopub.status.busy": "2021-09-27T03:02:47.187001Z",
     "iopub.status.idle": "2021-09-27T03:02:47.699904Z",
     "shell.execute_reply": "2021-09-27T03:02:47.699228Z",
     "shell.execute_reply.started": "2021-09-25T06:50:15.449568Z"
    },
    "papermill": {
     "duration": 0.524434,
     "end_time": "2021-09-27T03:02:47.700053",
     "exception": false,
     "start_time": "2021-09-27T03:02:47.175619",
     "status": "completed"
    },
    "tags": []
   },
   "outputs": [
    {
     "name": "stdout",
     "output_type": "stream",
     "text": [
      "oof auc = 0.8167906349249299\n"
     ]
    }
   ],
   "source": [
    "oof /= numseed\n",
    "pred /= numseed\n",
    "\n",
    "print(f\"oof auc = {roc_auc_score(train[target], oof)}\")"
   ]
  },
  {
   "cell_type": "code",
   "execution_count": 6,
   "id": "c1280b47",
   "metadata": {
    "execution": {
     "iopub.execute_input": "2021-09-27T03:02:47.720893Z",
     "iopub.status.busy": "2021-09-27T03:02:47.719558Z",
     "iopub.status.idle": "2021-09-27T03:02:47.739395Z",
     "shell.execute_reply": "2021-09-27T03:02:47.738866Z",
     "shell.execute_reply.started": "2021-09-25T06:50:15.927086Z"
    },
    "papermill": {
     "duration": 0.031872,
     "end_time": "2021-09-27T03:02:47.739529",
     "exception": false,
     "start_time": "2021-09-27T03:02:47.707657",
     "status": "completed"
    },
    "tags": []
   },
   "outputs": [],
   "source": [
    "np.save(\"agg_nn_lv1_oof.npy\", oof)\n",
    "np.save(\"agg_nn_lv1_pred.npy\", pred)"
   ]
  },
  {
   "cell_type": "code",
   "execution_count": 7,
   "id": "1ef59c9a",
   "metadata": {
    "execution": {
     "iopub.execute_input": "2021-09-27T03:02:47.761267Z",
     "iopub.status.busy": "2021-09-27T03:02:47.759488Z",
     "iopub.status.idle": "2021-09-27T03:02:49.008121Z",
     "shell.execute_reply": "2021-09-27T03:02:49.007480Z",
     "shell.execute_reply.started": "2021-09-25T06:50:15.9476Z"
    },
    "papermill": {
     "duration": 1.261027,
     "end_time": "2021-09-27T03:02:49.008261",
     "exception": false,
     "start_time": "2021-09-27T03:02:47.747234",
     "status": "completed"
    },
    "tags": []
   },
   "outputs": [
    {
     "data": {
      "text/html": [
       "<div>\n",
       "<style scoped>\n",
       "    .dataframe tbody tr th:only-of-type {\n",
       "        vertical-align: middle;\n",
       "    }\n",
       "\n",
       "    .dataframe tbody tr th {\n",
       "        vertical-align: top;\n",
       "    }\n",
       "\n",
       "    .dataframe thead th {\n",
       "        text-align: right;\n",
       "    }\n",
       "</style>\n",
       "<table border=\"1\" class=\"dataframe\">\n",
       "  <thead>\n",
       "    <tr style=\"text-align: right;\">\n",
       "      <th></th>\n",
       "      <th>id</th>\n",
       "      <th>claim</th>\n",
       "    </tr>\n",
       "  </thead>\n",
       "  <tbody>\n",
       "    <tr>\n",
       "      <th>0</th>\n",
       "      <td>957919</td>\n",
       "      <td>0.916505</td>\n",
       "    </tr>\n",
       "    <tr>\n",
       "      <th>1</th>\n",
       "      <td>957920</td>\n",
       "      <td>0.871857</td>\n",
       "    </tr>\n",
       "    <tr>\n",
       "      <th>2</th>\n",
       "      <td>957921</td>\n",
       "      <td>0.921466</td>\n",
       "    </tr>\n",
       "    <tr>\n",
       "      <th>3</th>\n",
       "      <td>957922</td>\n",
       "      <td>0.871854</td>\n",
       "    </tr>\n",
       "    <tr>\n",
       "      <th>4</th>\n",
       "      <td>957923</td>\n",
       "      <td>0.874676</td>\n",
       "    </tr>\n",
       "    <tr>\n",
       "      <th>...</th>\n",
       "      <td>...</td>\n",
       "      <td>...</td>\n",
       "    </tr>\n",
       "    <tr>\n",
       "      <th>493469</th>\n",
       "      <td>1451388</td>\n",
       "      <td>0.941457</td>\n",
       "    </tr>\n",
       "    <tr>\n",
       "      <th>493470</th>\n",
       "      <td>1451389</td>\n",
       "      <td>0.870831</td>\n",
       "    </tr>\n",
       "    <tr>\n",
       "      <th>493471</th>\n",
       "      <td>1451390</td>\n",
       "      <td>0.934492</td>\n",
       "    </tr>\n",
       "    <tr>\n",
       "      <th>493472</th>\n",
       "      <td>1451391</td>\n",
       "      <td>0.872343</td>\n",
       "    </tr>\n",
       "    <tr>\n",
       "      <th>493473</th>\n",
       "      <td>1451392</td>\n",
       "      <td>0.933628</td>\n",
       "    </tr>\n",
       "  </tbody>\n",
       "</table>\n",
       "<p>493474 rows × 2 columns</p>\n",
       "</div>"
      ],
      "text/plain": [
       "             id     claim\n",
       "0        957919  0.916505\n",
       "1        957920  0.871857\n",
       "2        957921  0.921466\n",
       "3        957922  0.871854\n",
       "4        957923  0.874676\n",
       "...         ...       ...\n",
       "493469  1451388  0.941457\n",
       "493470  1451389  0.870831\n",
       "493471  1451390  0.934492\n",
       "493472  1451391  0.872343\n",
       "493473  1451392  0.933628\n",
       "\n",
       "[493474 rows x 2 columns]"
      ]
     },
     "execution_count": 7,
     "metadata": {},
     "output_type": "execute_result"
    }
   ],
   "source": [
    "submission[target] = pred\n",
    "submission.to_csv(\"submission.csv\", index=False)\n",
    "\n",
    "submission"
   ]
  },
  {
   "cell_type": "markdown",
   "id": "9ac8da52",
   "metadata": {
    "papermill": {
     "duration": 0.008042,
     "end_time": "2021-09-27T03:02:49.024333",
     "exception": false,
     "start_time": "2021-09-27T03:02:49.016291",
     "status": "completed"
    },
    "tags": []
   },
   "source": [
    "# Log\n",
    "\n",
    "/////// 8 trees + ridge /////////\n",
    "ver1\n",
    "\n",
    "/////// 8 trees + ridge + nn /////////\n",
    "ver2"
   ]
  }
 ],
 "metadata": {
  "kernelspec": {
   "display_name": "Python 3",
   "language": "python",
   "name": "python3"
  },
  "language_info": {
   "codemirror_mode": {
    "name": "ipython",
    "version": 3
   },
   "file_extension": ".py",
   "mimetype": "text/x-python",
   "name": "python",
   "nbconvert_exporter": "python",
   "pygments_lexer": "ipython3",
   "version": "3.7.10"
  },
  "papermill": {
   "default_parameters": {},
   "duration": 56.758327,
   "end_time": "2021-09-27T03:02:50.548838",
   "environment_variables": {},
   "exception": null,
   "input_path": "__notebook__.ipynb",
   "output_path": "__notebook__.ipynb",
   "parameters": {},
   "start_time": "2021-09-27T03:01:53.790511",
   "version": "2.3.3"
  }
 },
 "nbformat": 4,
 "nbformat_minor": 5
}
