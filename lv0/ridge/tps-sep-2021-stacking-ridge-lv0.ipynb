{
 "cells": [
  {
   "cell_type": "code",
   "execution_count": 1,
   "id": "59e29b6c",
   "metadata": {
    "_cell_guid": "b1076dfc-b9ad-4769-8c92-a6c4dae69d19",
    "_uuid": "8f2839f25d086af736a60e9eeb907d3b93b6e0e5",
    "execution": {
     "iopub.execute_input": "2021-09-20T01:03:32.141350Z",
     "iopub.status.busy": "2021-09-20T01:03:32.139991Z",
     "iopub.status.idle": "2021-09-20T01:03:33.427991Z",
     "shell.execute_reply": "2021-09-20T01:03:33.427254Z",
     "shell.execute_reply.started": "2021-09-20T00:59:36.828873Z"
    },
    "papermill": {
     "duration": 1.310698,
     "end_time": "2021-09-20T01:03:33.428188",
     "exception": false,
     "start_time": "2021-09-20T01:03:32.117490",
     "status": "completed"
    },
    "tags": []
   },
   "outputs": [],
   "source": [
    "import numpy as np\n",
    "import pandas as pd\n",
    "import random\n",
    "import os\n",
    "import time\n",
    "import pickle\n",
    "from pathlib import Path\n",
    "\n",
    "from sklearn.preprocessing import StandardScaler, QuantileTransformer\n",
    "from sklearn.model_selection import StratifiedKFold, train_test_split\n",
    "from sklearn.metrics import roc_auc_score\n",
    "from sklearn.linear_model import RidgeClassifier\n",
    "from sklearn.utils.extmath import softmax\n",
    "\n",
    "#import lightgbm as lgb\n",
    "#import xgboost as xgb\n",
    "#import catboost as ctb\n",
    "\n",
    "import matplotlib.pyplot as plt\n",
    "import seaborn as sns\n",
    "\n",
    "import warnings\n",
    "warnings.simplefilter('ignore')"
   ]
  },
  {
   "cell_type": "markdown",
   "id": "35b82399",
   "metadata": {
    "papermill": {
     "duration": 0.016053,
     "end_time": "2021-09-20T01:03:33.461664",
     "exception": false,
     "start_time": "2021-09-20T01:03:33.445611",
     "status": "completed"
    },
    "tags": []
   },
   "source": [
    "# Parameters"
   ]
  },
  {
   "cell_type": "code",
   "execution_count": 2,
   "id": "34c68056",
   "metadata": {
    "execution": {
     "iopub.execute_input": "2021-09-20T01:03:33.501266Z",
     "iopub.status.busy": "2021-09-20T01:03:33.500577Z",
     "iopub.status.idle": "2021-09-20T01:03:33.504083Z",
     "shell.execute_reply": "2021-09-20T01:03:33.504616Z",
     "shell.execute_reply.started": "2021-09-20T00:58:17.958670Z"
    },
    "papermill": {
     "duration": 0.026718,
     "end_time": "2021-09-20T01:03:33.504793",
     "exception": false,
     "start_time": "2021-09-20T01:03:33.478075",
     "status": "completed"
    },
    "tags": []
   },
   "outputs": [],
   "source": [
    "target = 'claim'\n",
    "\n",
    "DEBUG = False\n",
    "\n",
    "if DEBUG:\n",
    "    N_ESTIMATORS = 1\n",
    "    N_SPLITS = 2\n",
    "    SEED = 2017\n",
    "    CVSEED = 2017\n",
    "    EARLY_STOPPING_ROUNDS = 1\n",
    "    VERBOSE = 100\n",
    "    #N_ITERS = 2\n",
    "else:\n",
    "    N_SPLITS = 10\n",
    "    N_ESTIMATORS = 20000\n",
    "    EARLY_STOPPING_ROUNDS = 300\n",
    "    VERBOSE = 1000\n",
    "    SEED = 2017\n",
    "    CVSEED = 2017\n",
    "    #N_ITERS = 10"
   ]
  },
  {
   "cell_type": "code",
   "execution_count": 3,
   "id": "39425029",
   "metadata": {
    "execution": {
     "iopub.execute_input": "2021-09-20T01:03:33.544497Z",
     "iopub.status.busy": "2021-09-20T01:03:33.543614Z",
     "iopub.status.idle": "2021-09-20T01:03:33.547516Z",
     "shell.execute_reply": "2021-09-20T01:03:33.546915Z",
     "shell.execute_reply.started": "2021-09-20T00:58:17.969323Z"
    },
    "papermill": {
     "duration": 0.025987,
     "end_time": "2021-09-20T01:03:33.547670",
     "exception": false,
     "start_time": "2021-09-20T01:03:33.521683",
     "status": "completed"
    },
    "tags": []
   },
   "outputs": [],
   "source": [
    "def set_seed(seed=2017):\n",
    "    random.seed(seed)\n",
    "    os.environ['PYTHONHASHSEED'] = str(seed)\n",
    "    np.random.seed(seed)\n",
    "    \n",
    "set_seed(SEED)"
   ]
  },
  {
   "cell_type": "code",
   "execution_count": 4,
   "id": "62124e41",
   "metadata": {
    "execution": {
     "iopub.execute_input": "2021-09-20T01:03:33.586913Z",
     "iopub.status.busy": "2021-09-20T01:03:33.586210Z",
     "iopub.status.idle": "2021-09-20T01:03:33.589279Z",
     "shell.execute_reply": "2021-09-20T01:03:33.588732Z",
     "shell.execute_reply.started": "2021-09-20T00:58:17.982198Z"
    },
    "papermill": {
     "duration": 0.02484,
     "end_time": "2021-09-20T01:03:33.589421",
     "exception": false,
     "start_time": "2021-09-20T01:03:33.564581",
     "status": "completed"
    },
    "tags": []
   },
   "outputs": [],
   "source": [
    "class RidgeClassifierwithProba(RidgeClassifier):\n",
    "    def predict_proba(self, X):\n",
    "        d = self.decision_function(X)\n",
    "        d_2d = np.c_[-d, d]\n",
    "        return softmax(d_2d)"
   ]
  },
  {
   "cell_type": "markdown",
   "id": "cba132fe",
   "metadata": {
    "papermill": {
     "duration": 0.019783,
     "end_time": "2021-09-20T01:03:33.631521",
     "exception": false,
     "start_time": "2021-09-20T01:03:33.611738",
     "status": "completed"
    },
    "tags": []
   },
   "source": [
    "# Datasets"
   ]
  },
  {
   "cell_type": "code",
   "execution_count": 5,
   "id": "18ff7c57",
   "metadata": {
    "execution": {
     "iopub.execute_input": "2021-09-20T01:03:33.689590Z",
     "iopub.status.busy": "2021-09-20T01:03:33.688869Z",
     "iopub.status.idle": "2021-09-20T01:04:02.565048Z",
     "shell.execute_reply": "2021-09-20T01:04:02.564388Z",
     "shell.execute_reply.started": "2021-09-20T00:58:17.992995Z"
    },
    "papermill": {
     "duration": 28.908811,
     "end_time": "2021-09-20T01:04:02.565215",
     "exception": false,
     "start_time": "2021-09-20T01:03:33.656404",
     "status": "completed"
    },
    "tags": []
   },
   "outputs": [],
   "source": [
    "INPUT = Path(\"../input/tabular-playground-series-sep-2021\")\n",
    "\n",
    "train = pd.DataFrame(pd.read_csv(INPUT / \"train.csv\")[target])\n",
    "#test = pd.read_csv(INPUT / \"test.csv\")\n",
    "test = pd.DataFrame()\n",
    "submission = pd.read_csv(INPUT / \"sample_solution.csv\")"
   ]
  },
  {
   "cell_type": "code",
   "execution_count": 6,
   "id": "8f13b209",
   "metadata": {
    "execution": {
     "iopub.execute_input": "2021-09-20T01:04:02.607177Z",
     "iopub.status.busy": "2021-09-20T01:04:02.606484Z",
     "iopub.status.idle": "2021-09-20T01:04:04.621205Z",
     "shell.execute_reply": "2021-09-20T01:04:04.620588Z",
     "shell.execute_reply.started": "2021-09-20T00:58:45.509712Z"
    },
    "papermill": {
     "duration": 2.039221,
     "end_time": "2021-09-20T01:04:04.621361",
     "exception": false,
     "start_time": "2021-09-20T01:04:02.582140",
     "status": "completed"
    },
    "tags": []
   },
   "outputs": [],
   "source": [
    "train['lgb_pred'] = np.load(\"../input/tps-sep-lv0-base-trees/agg_lgb_oof.npy\")\n",
    "test['lgb_pred'] = np.load(\"../input/tps-sep-lv0-base-trees/agg_lgb_pred.npy\")\n",
    "\n",
    "train['lgb2_pred'] = np.load(\"../input/tps-sep-lv0-base-trees/agg_lgb2_oof.npy\")\n",
    "test['lgb2_pred'] = np.load(\"../input/tps-sep-lv0-base-trees/agg_lgb2_pred.npy\")\n",
    "\n",
    "train['xgb_pred'] = np.load(\"../input/tps-sep-lv0-base-trees/agg_xgb_oof.npy\")\n",
    "test['xgb_pred'] = np.load(\"../input/tps-sep-lv0-base-trees/agg_xgb_pred.npy\")\n",
    "\n",
    "train['lgb_bizen_pred'] = np.load(\"../input/tps-sep-lv0-base-trees/lgb_bizen_oof.npy\")\n",
    "test['lgb_bizen_pred'] = np.load(\"../input/tps-sep-lv0-base-trees/lgb_bizen_pred.npy\")\n",
    "\n",
    "train['lgb_dmitry_pred'] = np.load(\"../input/tps-sep-lv0-base-trees/lgb_dmitry_oof.npy\")\n",
    "test['lgb_dmitry_pred'] = np.load(\"../input/tps-sep-lv0-base-trees/lgb_dmitry_pred.npy\")\n",
    "\n",
    "train['xgb_dmitry_pred'] = np.load(\"../input/tps-sep-lv0-base-trees/xgb_dmitry_oof.npy\")\n",
    "test['xgb_dmitry_pred'] = np.load(\"../input/tps-sep-lv0-base-trees/xgb_dmitry_pred.npy\")\n",
    "\n",
    "train['lgb_manav_pred'] = np.load(\"../input/tps-sep-lv0-base-trees/lgb_manav_oof.npy\")\n",
    "test['lgb_manav_pred'] = np.load(\"../input/tps-sep-lv0-base-trees/lgb_manav_pred.npy\")\n",
    "\n",
    "train['xgb_manav_pred'] = np.load(\"../input/tps-sep-lv0-base-trees/xgb_manav_oof.npy\")\n",
    "test['xgb_manav_pred'] = np.load(\"../input/tps-sep-lv0-base-trees/xgb_manav_pred.npy\")\n"
   ]
  },
  {
   "cell_type": "markdown",
   "id": "42b4fb8b",
   "metadata": {
    "papermill": {
     "duration": 0.015957,
     "end_time": "2021-09-20T01:04:04.653938",
     "exception": false,
     "start_time": "2021-09-20T01:04:04.637981",
     "status": "completed"
    },
    "tags": []
   },
   "source": [
    "# Preprocessing"
   ]
  },
  {
   "cell_type": "code",
   "execution_count": 7,
   "id": "7f7d85d5",
   "metadata": {
    "execution": {
     "iopub.execute_input": "2021-09-20T01:04:04.692110Z",
     "iopub.status.busy": "2021-09-20T01:04:04.691295Z",
     "iopub.status.idle": "2021-09-20T01:04:04.695926Z",
     "shell.execute_reply": "2021-09-20T01:04:04.695290Z",
     "shell.execute_reply.started": "2021-09-20T00:58:46.638516Z"
    },
    "papermill": {
     "duration": 0.025703,
     "end_time": "2021-09-20T01:04:04.696106",
     "exception": false,
     "start_time": "2021-09-20T01:04:04.670403",
     "status": "completed"
    },
    "tags": []
   },
   "outputs": [],
   "source": [
    "features = [col for col in train.columns if 'pred' in col]"
   ]
  },
  {
   "cell_type": "code",
   "execution_count": 8,
   "id": "727165d9",
   "metadata": {
    "execution": {
     "iopub.execute_input": "2021-09-20T01:04:04.733938Z",
     "iopub.status.busy": "2021-09-20T01:04:04.733303Z",
     "iopub.status.idle": "2021-09-20T01:04:04.736552Z",
     "shell.execute_reply": "2021-09-20T01:04:04.735904Z",
     "shell.execute_reply.started": "2021-09-20T00:58:46.643513Z"
    },
    "papermill": {
     "duration": 0.023699,
     "end_time": "2021-09-20T01:04:04.736697",
     "exception": false,
     "start_time": "2021-09-20T01:04:04.712998",
     "status": "completed"
    },
    "tags": []
   },
   "outputs": [],
   "source": [
    "ss = StandardScaler()"
   ]
  },
  {
   "cell_type": "code",
   "execution_count": 9,
   "id": "ff7f2eeb",
   "metadata": {
    "execution": {
     "iopub.execute_input": "2021-09-20T01:04:04.773678Z",
     "iopub.status.busy": "2021-09-20T01:04:04.772642Z",
     "iopub.status.idle": "2021-09-20T01:04:04.829803Z",
     "shell.execute_reply": "2021-09-20T01:04:04.829271Z",
     "shell.execute_reply.started": "2021-09-20T00:58:46.657489Z"
    },
    "papermill": {
     "duration": 0.076767,
     "end_time": "2021-09-20T01:04:04.829984",
     "exception": false,
     "start_time": "2021-09-20T01:04:04.753217",
     "status": "completed"
    },
    "tags": []
   },
   "outputs": [
    {
     "data": {
      "text/html": [
       "<div>\n",
       "<style scoped>\n",
       "    .dataframe tbody tr th:only-of-type {\n",
       "        vertical-align: middle;\n",
       "    }\n",
       "\n",
       "    .dataframe tbody tr th {\n",
       "        vertical-align: top;\n",
       "    }\n",
       "\n",
       "    .dataframe thead th {\n",
       "        text-align: right;\n",
       "    }\n",
       "</style>\n",
       "<table border=\"1\" class=\"dataframe\">\n",
       "  <thead>\n",
       "    <tr style=\"text-align: right;\">\n",
       "      <th></th>\n",
       "      <th>lgb_pred</th>\n",
       "      <th>lgb2_pred</th>\n",
       "      <th>xgb_pred</th>\n",
       "      <th>lgb_bizen_pred</th>\n",
       "      <th>lgb_dmitry_pred</th>\n",
       "      <th>xgb_dmitry_pred</th>\n",
       "      <th>lgb_manav_pred</th>\n",
       "      <th>xgb_manav_pred</th>\n",
       "    </tr>\n",
       "  </thead>\n",
       "  <tbody>\n",
       "    <tr>\n",
       "      <th>0</th>\n",
       "      <td>0.558734</td>\n",
       "      <td>0.578699</td>\n",
       "      <td>0.576973</td>\n",
       "      <td>0.561836</td>\n",
       "      <td>0.566536</td>\n",
       "      <td>0.575204</td>\n",
       "      <td>0.564575</td>\n",
       "      <td>0.564908</td>\n",
       "    </tr>\n",
       "    <tr>\n",
       "      <th>1</th>\n",
       "      <td>0.130124</td>\n",
       "      <td>0.120648</td>\n",
       "      <td>0.124073</td>\n",
       "      <td>0.119917</td>\n",
       "      <td>0.126946</td>\n",
       "      <td>0.126340</td>\n",
       "      <td>0.121656</td>\n",
       "      <td>0.120459</td>\n",
       "    </tr>\n",
       "    <tr>\n",
       "      <th>2</th>\n",
       "      <td>0.634854</td>\n",
       "      <td>0.628457</td>\n",
       "      <td>0.630655</td>\n",
       "      <td>0.629326</td>\n",
       "      <td>0.627686</td>\n",
       "      <td>0.635330</td>\n",
       "      <td>0.626681</td>\n",
       "      <td>0.633499</td>\n",
       "    </tr>\n",
       "    <tr>\n",
       "      <th>3</th>\n",
       "      <td>0.121661</td>\n",
       "      <td>0.125785</td>\n",
       "      <td>0.126651</td>\n",
       "      <td>0.128635</td>\n",
       "      <td>0.122506</td>\n",
       "      <td>0.123506</td>\n",
       "      <td>0.128684</td>\n",
       "      <td>0.131022</td>\n",
       "    </tr>\n",
       "    <tr>\n",
       "      <th>4</th>\n",
       "      <td>0.151700</td>\n",
       "      <td>0.150161</td>\n",
       "      <td>0.149483</td>\n",
       "      <td>0.153291</td>\n",
       "      <td>0.146343</td>\n",
       "      <td>0.143437</td>\n",
       "      <td>0.152862</td>\n",
       "      <td>0.153132</td>\n",
       "    </tr>\n",
       "    <tr>\n",
       "      <th>...</th>\n",
       "      <td>...</td>\n",
       "      <td>...</td>\n",
       "      <td>...</td>\n",
       "      <td>...</td>\n",
       "      <td>...</td>\n",
       "      <td>...</td>\n",
       "      <td>...</td>\n",
       "      <td>...</td>\n",
       "    </tr>\n",
       "    <tr>\n",
       "      <th>493469</th>\n",
       "      <td>0.833647</td>\n",
       "      <td>0.829336</td>\n",
       "      <td>0.829659</td>\n",
       "      <td>0.827457</td>\n",
       "      <td>0.825696</td>\n",
       "      <td>0.827184</td>\n",
       "      <td>0.831222</td>\n",
       "      <td>0.816129</td>\n",
       "    </tr>\n",
       "    <tr>\n",
       "      <th>493470</th>\n",
       "      <td>0.114116</td>\n",
       "      <td>0.116351</td>\n",
       "      <td>0.117947</td>\n",
       "      <td>0.111374</td>\n",
       "      <td>0.112238</td>\n",
       "      <td>0.115928</td>\n",
       "      <td>0.111981</td>\n",
       "      <td>0.109487</td>\n",
       "    </tr>\n",
       "    <tr>\n",
       "      <th>493471</th>\n",
       "      <td>0.771955</td>\n",
       "      <td>0.760704</td>\n",
       "      <td>0.758474</td>\n",
       "      <td>0.758873</td>\n",
       "      <td>0.764026</td>\n",
       "      <td>0.754300</td>\n",
       "      <td>0.756039</td>\n",
       "      <td>0.774203</td>\n",
       "    </tr>\n",
       "    <tr>\n",
       "      <th>493472</th>\n",
       "      <td>0.129603</td>\n",
       "      <td>0.132275</td>\n",
       "      <td>0.129645</td>\n",
       "      <td>0.133944</td>\n",
       "      <td>0.135123</td>\n",
       "      <td>0.132036</td>\n",
       "      <td>0.135098</td>\n",
       "      <td>0.136081</td>\n",
       "    </tr>\n",
       "    <tr>\n",
       "      <th>493473</th>\n",
       "      <td>0.742763</td>\n",
       "      <td>0.748962</td>\n",
       "      <td>0.749504</td>\n",
       "      <td>0.757657</td>\n",
       "      <td>0.744380</td>\n",
       "      <td>0.747717</td>\n",
       "      <td>0.741040</td>\n",
       "      <td>0.760795</td>\n",
       "    </tr>\n",
       "  </tbody>\n",
       "</table>\n",
       "<p>493474 rows × 8 columns</p>\n",
       "</div>"
      ],
      "text/plain": [
       "        lgb_pred  lgb2_pred  xgb_pred  lgb_bizen_pred  lgb_dmitry_pred  \\\n",
       "0       0.558734   0.578699  0.576973        0.561836         0.566536   \n",
       "1       0.130124   0.120648  0.124073        0.119917         0.126946   \n",
       "2       0.634854   0.628457  0.630655        0.629326         0.627686   \n",
       "3       0.121661   0.125785  0.126651        0.128635         0.122506   \n",
       "4       0.151700   0.150161  0.149483        0.153291         0.146343   \n",
       "...          ...        ...       ...             ...              ...   \n",
       "493469  0.833647   0.829336  0.829659        0.827457         0.825696   \n",
       "493470  0.114116   0.116351  0.117947        0.111374         0.112238   \n",
       "493471  0.771955   0.760704  0.758474        0.758873         0.764026   \n",
       "493472  0.129603   0.132275  0.129645        0.133944         0.135123   \n",
       "493473  0.742763   0.748962  0.749504        0.757657         0.744380   \n",
       "\n",
       "        xgb_dmitry_pred  lgb_manav_pred  xgb_manav_pred  \n",
       "0              0.575204        0.564575        0.564908  \n",
       "1              0.126340        0.121656        0.120459  \n",
       "2              0.635330        0.626681        0.633499  \n",
       "3              0.123506        0.128684        0.131022  \n",
       "4              0.143437        0.152862        0.153132  \n",
       "...                 ...             ...             ...  \n",
       "493469         0.827184        0.831222        0.816129  \n",
       "493470         0.115928        0.111981        0.109487  \n",
       "493471         0.754300        0.756039        0.774203  \n",
       "493472         0.132036        0.135098        0.136081  \n",
       "493473         0.747717        0.741040        0.760795  \n",
       "\n",
       "[493474 rows x 8 columns]"
      ]
     },
     "execution_count": 9,
     "metadata": {},
     "output_type": "execute_result"
    }
   ],
   "source": [
    "test[features]"
   ]
  },
  {
   "cell_type": "code",
   "execution_count": 10,
   "id": "db4f93dc",
   "metadata": {
    "execution": {
     "iopub.execute_input": "2021-09-20T01:04:04.872921Z",
     "iopub.status.busy": "2021-09-20T01:04:04.871862Z",
     "iopub.status.idle": "2021-09-20T01:04:04.876728Z",
     "shell.execute_reply": "2021-09-20T01:04:04.876149Z",
     "shell.execute_reply.started": "2021-09-20T00:58:46.712757Z"
    },
    "papermill": {
     "duration": 0.029291,
     "end_time": "2021-09-20T01:04:04.876873",
     "exception": false,
     "start_time": "2021-09-20T01:04:04.847582",
     "status": "completed"
    },
    "tags": []
   },
   "outputs": [
    {
     "data": {
      "text/plain": [
       "0         1\n",
       "1         0\n",
       "2         1\n",
       "3         1\n",
       "4         1\n",
       "         ..\n",
       "957914    0\n",
       "957915    1\n",
       "957916    0\n",
       "957917    1\n",
       "957918    0\n",
       "Name: claim, Length: 957919, dtype: int64"
      ]
     },
     "execution_count": 10,
     "metadata": {},
     "output_type": "execute_result"
    }
   ],
   "source": [
    "train[target]"
   ]
  },
  {
   "cell_type": "markdown",
   "id": "74e4479f",
   "metadata": {
    "papermill": {
     "duration": 0.017441,
     "end_time": "2021-09-20T01:04:04.912215",
     "exception": false,
     "start_time": "2021-09-20T01:04:04.894774",
     "status": "completed"
    },
    "tags": []
   },
   "source": [
    "# Ridge"
   ]
  },
  {
   "cell_type": "code",
   "execution_count": 11,
   "id": "a008bdf7",
   "metadata": {
    "execution": {
     "iopub.execute_input": "2021-09-20T01:04:04.951110Z",
     "iopub.status.busy": "2021-09-20T01:04:04.950380Z",
     "iopub.status.idle": "2021-09-20T01:04:04.955137Z",
     "shell.execute_reply": "2021-09-20T01:04:04.954554Z",
     "shell.execute_reply.started": "2021-09-20T00:58:46.720531Z"
    },
    "papermill": {
     "duration": 0.025213,
     "end_time": "2021-09-20T01:04:04.955283",
     "exception": false,
     "start_time": "2021-09-20T01:04:04.930070",
     "status": "completed"
    },
    "tags": []
   },
   "outputs": [],
   "source": [
    "ridge_params = {\n",
    "                'max_iter':N_ESTIMATORS,\n",
    "               'tol':1e-8,\n",
    "              \n",
    "                'alpha': 4.175457176568139,\n",
    "                'solver': 'cholesky'\n",
    "}"
   ]
  },
  {
   "cell_type": "code",
   "execution_count": 12,
   "id": "90b76a87",
   "metadata": {
    "execution": {
     "iopub.execute_input": "2021-09-20T01:04:05.003618Z",
     "iopub.status.busy": "2021-09-20T01:04:05.002851Z",
     "iopub.status.idle": "2021-09-20T01:05:27.136266Z",
     "shell.execute_reply": "2021-09-20T01:05:27.135698Z",
     "shell.execute_reply.started": "2021-09-20T01:02:28.441611Z"
    },
    "papermill": {
     "duration": 82.16322,
     "end_time": "2021-09-20T01:05:27.136424",
     "exception": false,
     "start_time": "2021-09-20T01:04:04.973204",
     "status": "completed"
    },
    "tags": []
   },
   "outputs": [
    {
     "name": "stdout",
     "output_type": "stream",
     "text": [
      "===== fold 0 =====\n",
      "fold 0 - ridge auc: 0.817406, elapsed time: 7.96sec\n",
      "\n",
      "===== fold 1 =====\n",
      "fold 1 - ridge auc: 0.816385, elapsed time: 7.75sec\n",
      "\n",
      "===== fold 2 =====\n",
      "fold 2 - ridge auc: 0.817831, elapsed time: 7.95sec\n",
      "\n",
      "===== fold 3 =====\n",
      "fold 3 - ridge auc: 0.816565, elapsed time: 7.73sec\n",
      "\n",
      "===== fold 4 =====\n",
      "fold 4 - ridge auc: 0.818207, elapsed time: 7.74sec\n",
      "\n",
      "===== fold 5 =====\n",
      "fold 5 - ridge auc: 0.815613, elapsed time: 7.70sec\n",
      "\n",
      "===== fold 6 =====\n",
      "fold 6 - ridge auc: 0.819605, elapsed time: 7.87sec\n",
      "\n",
      "===== fold 7 =====\n",
      "fold 7 - ridge auc: 0.815746, elapsed time: 7.72sec\n",
      "\n",
      "===== fold 8 =====\n",
      "fold 8 - ridge auc: 0.817335, elapsed time: 7.76sec\n",
      "\n",
      "===== fold 9 =====\n",
      "fold 9 - ridge auc: 0.816518, elapsed time: 7.78sec\n",
      "\n",
      "oof ridge_auc = 0.8171108396038185\n"
     ]
    }
   ],
   "source": [
    "ridge_oof = np.zeros(train.shape[0])\n",
    "ridge_pred = np.zeros(test.shape[0])\n",
    "ridge_importances = pd.DataFrame()\n",
    "\n",
    "\n",
    "kf = StratifiedKFold(n_splits=N_SPLITS, shuffle=True, random_state=CVSEED)\n",
    "seed_list=range(SEED, SEED+20)\n",
    "\n",
    "for fold, (trn_idx, val_idx) in enumerate(kf.split(X=train[features], y=train[target])):\n",
    "    print(f\"===== fold {fold} =====\")\n",
    "\n",
    "\n",
    "    X_train = train[features].iloc[trn_idx]\n",
    "    y_train = train[target].iloc[trn_idx]\n",
    "    X_valid = train[features].iloc[val_idx]\n",
    "    y_valid = train[target].iloc[val_idx]\n",
    "    X_test = test[features]\n",
    "\n",
    "        \n",
    "    X_train[features] = ss.fit_transform(X_train[features])\n",
    "    X_valid[features] = ss.transform(X_valid[features])\n",
    "    X_test[features] = ss.transform(X_test[features])\n",
    "\n",
    "    start = time.time()\n",
    "    for inseed in seed_list:\n",
    "        ridge_params['random_state'] = inseed\n",
    "\n",
    "        model = RidgeClassifierwithProba(**ridge_params)\n",
    "        model.fit(\n",
    "            X_train, \n",
    "            y_train,\n",
    "            \n",
    "        )\n",
    "\n",
    "        with open(f\"ridge_model{fold}_seed{inseed}.pkl\", 'wb') as f:\n",
    "            pickle.dump(model, f)\n",
    "\n",
    "\n",
    "        ridge_oof[val_idx] += model.predict_proba(X_valid)[:,-1] / len(seed_list)\n",
    "        ridge_pred += model.predict_proba(X_test)[:,-1] / len(seed_list)\n",
    "\n",
    "\n",
    "    elapsed = time.time() - start\n",
    "    auc = roc_auc_score(y_valid, ridge_oof[val_idx])\n",
    "    print(f\"fold {fold} - ridge auc: {auc:.6f}, elapsed time: {elapsed:.2f}sec\\n\")            \n",
    "\n",
    "ridge_pred /= N_SPLITS\n",
    "print(f\"oof ridge_auc = {roc_auc_score(train[target], ridge_oof)}\")\n",
    "\n",
    "np.save(\"ridge_oof.npy\", ridge_oof)\n",
    "np.save(\"ridge_pred.npy\", ridge_pred)"
   ]
  },
  {
   "cell_type": "markdown",
   "id": "572abd96",
   "metadata": {
    "papermill": {
     "duration": 0.020887,
     "end_time": "2021-09-20T01:05:27.178913",
     "exception": false,
     "start_time": "2021-09-20T01:05:27.158026",
     "status": "completed"
    },
    "tags": []
   },
   "source": [
    "# OOF predictions"
   ]
  },
  {
   "cell_type": "code",
   "execution_count": 13,
   "id": "5f326d8b",
   "metadata": {
    "execution": {
     "iopub.execute_input": "2021-09-20T01:05:27.244460Z",
     "iopub.status.busy": "2021-09-20T01:05:27.243777Z",
     "iopub.status.idle": "2021-09-20T01:05:30.866149Z",
     "shell.execute_reply": "2021-09-20T01:05:30.865522Z"
    },
    "papermill": {
     "duration": 3.666189,
     "end_time": "2021-09-20T01:05:30.866305",
     "exception": false,
     "start_time": "2021-09-20T01:05:27.200116",
     "status": "completed"
    },
    "tags": []
   },
   "outputs": [
    {
     "data": {
      "text/plain": [
       "<matplotlib.collections.PathCollection at 0x7f5360184890>"
      ]
     },
     "execution_count": 13,
     "metadata": {},
     "output_type": "execute_result"
    },
    {
     "data": {
      "image/png": "[encoded data removed]",
      "text/plain": [
       "<Figure size 432x288 with 1 Axes>"
      ]
     },
     "metadata": {
      "needs_background": "light"
     },
     "output_type": "display_data"
    }
   ],
   "source": [
    "plt.plot(train[target], train[target])\n",
    "plt.scatter(train[target], ridge_oof)"
   ]
  },
  {
   "cell_type": "markdown",
   "id": "2e03c434",
   "metadata": {
    "papermill": {
     "duration": 0.022876,
     "end_time": "2021-09-20T01:05:30.912499",
     "exception": false,
     "start_time": "2021-09-20T01:05:30.889623",
     "status": "completed"
    },
    "tags": []
   },
   "source": [
    "# Submission"
   ]
  },
  {
   "cell_type": "code",
   "execution_count": 14,
   "id": "ab6f11f6",
   "metadata": {
    "execution": {
     "iopub.execute_input": "2021-09-20T01:05:30.965241Z",
     "iopub.status.busy": "2021-09-20T01:05:30.964193Z",
     "iopub.status.idle": "2021-09-20T01:05:32.698252Z",
     "shell.execute_reply": "2021-09-20T01:05:32.697484Z"
    },
    "papermill": {
     "duration": 1.762638,
     "end_time": "2021-09-20T01:05:32.698406",
     "exception": false,
     "start_time": "2021-09-20T01:05:30.935768",
     "status": "completed"
    },
    "tags": []
   },
   "outputs": [
    {
     "data": {
      "text/html": [
       "<div>\n",
       "<style scoped>\n",
       "    .dataframe tbody tr th:only-of-type {\n",
       "        vertical-align: middle;\n",
       "    }\n",
       "\n",
       "    .dataframe tbody tr th {\n",
       "        vertical-align: top;\n",
       "    }\n",
       "\n",
       "    .dataframe thead th {\n",
       "        text-align: right;\n",
       "    }\n",
       "</style>\n",
       "<table border=\"1\" class=\"dataframe\">\n",
       "  <thead>\n",
       "    <tr style=\"text-align: right;\">\n",
       "      <th></th>\n",
       "      <th>id</th>\n",
       "      <th>claim</th>\n",
       "    </tr>\n",
       "  </thead>\n",
       "  <tbody>\n",
       "    <tr>\n",
       "      <th>0</th>\n",
       "      <td>957919</td>\n",
       "      <td>0.553440</td>\n",
       "    </tr>\n",
       "    <tr>\n",
       "      <th>1</th>\n",
       "      <td>957920</td>\n",
       "      <td>0.182040</td>\n",
       "    </tr>\n",
       "    <tr>\n",
       "      <th>2</th>\n",
       "      <td>957921</td>\n",
       "      <td>0.631720</td>\n",
       "    </tr>\n",
       "    <tr>\n",
       "      <th>3</th>\n",
       "      <td>957922</td>\n",
       "      <td>0.184237</td>\n",
       "    </tr>\n",
       "    <tr>\n",
       "      <th>4</th>\n",
       "      <td>957923</td>\n",
       "      <td>0.203202</td>\n",
       "    </tr>\n",
       "    <tr>\n",
       "      <th>...</th>\n",
       "      <td>...</td>\n",
       "      <td>...</td>\n",
       "    </tr>\n",
       "    <tr>\n",
       "      <th>493469</th>\n",
       "      <td>1451388</td>\n",
       "      <td>0.790480</td>\n",
       "    </tr>\n",
       "    <tr>\n",
       "      <th>493470</th>\n",
       "      <td>1451389</td>\n",
       "      <td>0.174385</td>\n",
       "    </tr>\n",
       "    <tr>\n",
       "      <th>493471</th>\n",
       "      <td>1451390</td>\n",
       "      <td>0.751130</td>\n",
       "    </tr>\n",
       "    <tr>\n",
       "      <th>493472</th>\n",
       "      <td>1451391</td>\n",
       "      <td>0.184900</td>\n",
       "    </tr>\n",
       "    <tr>\n",
       "      <th>493473</th>\n",
       "      <td>1451392</td>\n",
       "      <td>0.734600</td>\n",
       "    </tr>\n",
       "  </tbody>\n",
       "</table>\n",
       "<p>493474 rows × 2 columns</p>\n",
       "</div>"
      ],
      "text/plain": [
       "             id     claim\n",
       "0        957919  0.553440\n",
       "1        957920  0.182040\n",
       "2        957921  0.631720\n",
       "3        957922  0.184237\n",
       "4        957923  0.203202\n",
       "...         ...       ...\n",
       "493469  1451388  0.790480\n",
       "493470  1451389  0.174385\n",
       "493471  1451390  0.751130\n",
       "493472  1451391  0.184900\n",
       "493473  1451392  0.734600\n",
       "\n",
       "[493474 rows x 2 columns]"
      ]
     },
     "execution_count": 14,
     "metadata": {},
     "output_type": "execute_result"
    }
   ],
   "source": [
    "submission[target] = ridge_pred\n",
    "submission.to_csv(\"submission.csv\", index=False)\n",
    "\n",
    "submission"
   ]
  },
  {
   "cell_type": "markdown",
   "id": "acca7284",
   "metadata": {
    "papermill": {
     "duration": 0.023224,
     "end_time": "2021-09-20T01:05:32.745574",
     "exception": false,
     "start_time": "2021-09-20T01:05:32.722350",
     "status": "completed"
    },
    "tags": []
   },
   "source": [
    "# Log\n",
    "\n",
    "\n"
   ]
  }
 ],
 "metadata": {
  "kernelspec": {
   "display_name": "Python 3",
   "language": "python",
   "name": "python3"
  },
  "language_info": {
   "codemirror_mode": {
    "name": "ipython",
    "version": 3
   },
   "file_extension": ".py",
   "mimetype": "text/x-python",
   "name": "python",
   "nbconvert_exporter": "python",
   "pygments_lexer": "ipython3",
   "version": "3.7.10"
  },
  "papermill": {
   "default_parameters": {},
   "duration": 129.685276,
   "end_time": "2021-09-20T01:05:33.580556",
   "environment_variables": {},
   "exception": null,
   "input_path": "__notebook__.ipynb",
   "output_path": "__notebook__.ipynb",
   "parameters": {},
   "start_time": "2021-09-20T01:03:23.895280",
   "version": "2.3.3"
  }
 },
 "nbformat": 4,
 "nbformat_minor": 5
}
