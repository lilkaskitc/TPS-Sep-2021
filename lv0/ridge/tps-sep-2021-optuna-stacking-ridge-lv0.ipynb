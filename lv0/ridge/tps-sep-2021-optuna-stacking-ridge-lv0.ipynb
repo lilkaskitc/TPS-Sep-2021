{
 "cells": [
  {
   "cell_type": "code",
   "execution_count": 1,
   "id": "d786f2c4",
   "metadata": {
    "_cell_guid": "b1076dfc-b9ad-4769-8c92-a6c4dae69d19",
    "_uuid": "8f2839f25d086af736a60e9eeb907d3b93b6e0e5",
    "execution": {
     "iopub.execute_input": "2021-09-20T00:13:22.654446Z",
     "iopub.status.busy": "2021-09-20T00:13:22.653585Z",
     "iopub.status.idle": "2021-09-20T00:13:23.885531Z",
     "shell.execute_reply": "2021-09-20T00:13:23.886126Z",
     "shell.execute_reply.started": "2021-09-19T11:14:18.983722Z"
    },
    "papermill": {
     "duration": 1.267435,
     "end_time": "2021-09-20T00:13:23.886436",
     "exception": false,
     "start_time": "2021-09-20T00:13:22.619001",
     "status": "completed"
    },
    "tags": []
   },
   "outputs": [],
   "source": [
    "import numpy as np\n",
    "import pandas as pd\n",
    "import random\n",
    "import os\n",
    "import time\n",
    "from pathlib import Path\n",
    "\n",
    "from sklearn.preprocessing import StandardScaler, QuantileTransformer\n",
    "from sklearn.model_selection import StratifiedKFold, train_test_split\n",
    "from sklearn.metrics import roc_auc_score\n",
    "from sklearn.linear_model import RidgeClassifier\n",
    "from sklearn.utils.extmath import softmax\n",
    "\n",
    "#import lightgbm as lgb\n",
    "#import xgboost as xgb\n",
    "#import catboost as ctb\n",
    "\n",
    "#import matplotlib.pyplot as plt\n",
    "#import seaborn as sns\n",
    "\n",
    "import warnings\n",
    "warnings.simplefilter('ignore')"
   ]
  },
  {
   "cell_type": "markdown",
   "id": "782b9202",
   "metadata": {
    "papermill": {
     "duration": 0.014252,
     "end_time": "2021-09-20T00:13:23.915791",
     "exception": false,
     "start_time": "2021-09-20T00:13:23.901539",
     "status": "completed"
    },
    "tags": []
   },
   "source": [
    "# Parameters"
   ]
  },
  {
   "cell_type": "code",
   "execution_count": 2,
   "id": "b6545571",
   "metadata": {
    "execution": {
     "iopub.execute_input": "2021-09-20T00:13:23.950407Z",
     "iopub.status.busy": "2021-09-20T00:13:23.949409Z",
     "iopub.status.idle": "2021-09-20T00:13:23.955237Z",
     "shell.execute_reply": "2021-09-20T00:13:23.955837Z",
     "shell.execute_reply.started": "2021-09-19T11:14:18.993274Z"
    },
    "papermill": {
     "duration": 0.024953,
     "end_time": "2021-09-20T00:13:23.956033",
     "exception": false,
     "start_time": "2021-09-20T00:13:23.931080",
     "status": "completed"
    },
    "tags": []
   },
   "outputs": [],
   "source": [
    "target = 'claim'\n",
    "\n",
    "DEBUG = False\n",
    "\n",
    "if DEBUG:\n",
    "    N_ESTIMATORS = 1\n",
    "    N_SPLITS = 2\n",
    "    SEED = 2017\n",
    "    CVSEED = 2017\n",
    "    EARLY_STOPPING_ROUNDS = 1\n",
    "    VERBOSE = 100\n",
    "    #N_ITERS = 2\n",
    "else:\n",
    "    N_SPLITS = 10\n",
    "    N_ESTIMATORS = 20000\n",
    "    EARLY_STOPPING_ROUNDS = 300\n",
    "    VERBOSE = 1000\n",
    "    SEED = 2017\n",
    "    CVSEED = 2017\n",
    "    #N_ITERS = 10"
   ]
  },
  {
   "cell_type": "code",
   "execution_count": 3,
   "id": "76f129a5",
   "metadata": {
    "execution": {
     "iopub.execute_input": "2021-09-20T00:13:23.990867Z",
     "iopub.status.busy": "2021-09-20T00:13:23.989852Z",
     "iopub.status.idle": "2021-09-20T00:13:23.995212Z",
     "shell.execute_reply": "2021-09-20T00:13:23.995786Z",
     "shell.execute_reply.started": "2021-09-19T11:14:19.009236Z"
    },
    "papermill": {
     "duration": 0.024352,
     "end_time": "2021-09-20T00:13:23.995985",
     "exception": false,
     "start_time": "2021-09-20T00:13:23.971633",
     "status": "completed"
    },
    "tags": []
   },
   "outputs": [],
   "source": [
    "def set_seed(seed=2017):\n",
    "    random.seed(seed)\n",
    "    os.environ['PYTHONHASHSEED'] = str(seed)\n",
    "    np.random.seed(seed)\n",
    "    \n",
    "set_seed(SEED)"
   ]
  },
  {
   "cell_type": "code",
   "execution_count": 4,
   "id": "19ded079",
   "metadata": {
    "execution": {
     "iopub.execute_input": "2021-09-20T00:13:24.030376Z",
     "iopub.status.busy": "2021-09-20T00:13:24.029280Z",
     "iopub.status.idle": "2021-09-20T00:13:24.034671Z",
     "shell.execute_reply": "2021-09-20T00:13:24.035291Z",
     "shell.execute_reply.started": "2021-09-19T11:14:19.021522Z"
    },
    "papermill": {
     "duration": 0.024072,
     "end_time": "2021-09-20T00:13:24.035483",
     "exception": false,
     "start_time": "2021-09-20T00:13:24.011411",
     "status": "completed"
    },
    "tags": []
   },
   "outputs": [],
   "source": [
    "class RidgeClassifierwithProba(RidgeClassifier):\n",
    "    def predict_proba(self, X):\n",
    "        d = self.decision_function(X)\n",
    "        d_2d = np.c_[-d, d]\n",
    "        return softmax(d_2d)"
   ]
  },
  {
   "cell_type": "markdown",
   "id": "f2ffb9f9",
   "metadata": {
    "papermill": {
     "duration": 0.020216,
     "end_time": "2021-09-20T00:13:24.070332",
     "exception": false,
     "start_time": "2021-09-20T00:13:24.050116",
     "status": "completed"
    },
    "tags": []
   },
   "source": [
    "# Datasets"
   ]
  },
  {
   "cell_type": "code",
   "execution_count": 5,
   "id": "ac056316",
   "metadata": {
    "execution": {
     "iopub.execute_input": "2021-09-20T00:13:24.120116Z",
     "iopub.status.busy": "2021-09-20T00:13:24.116170Z",
     "iopub.status.idle": "2021-09-20T00:13:58.065748Z",
     "shell.execute_reply": "2021-09-20T00:13:58.066298Z",
     "shell.execute_reply.started": "2021-09-19T11:14:19.032686Z"
    },
    "papermill": {
     "duration": 33.97559,
     "end_time": "2021-09-20T00:13:58.066478",
     "exception": false,
     "start_time": "2021-09-20T00:13:24.090888",
     "status": "completed"
    },
    "tags": []
   },
   "outputs": [],
   "source": [
    "INPUT = Path(\"../input/tabular-playground-series-sep-2021\")\n",
    "\n",
    "train = pd.DataFrame(pd.read_csv(INPUT / \"train.csv\")[target])\n",
    "#test = pd.read_csv(INPUT / \"test.csv\")\n",
    "#submission = pd.read_csv(INPUT / \"sample_solution.csv\")"
   ]
  },
  {
   "cell_type": "code",
   "execution_count": 6,
   "id": "b6ef1290",
   "metadata": {
    "execution": {
     "iopub.execute_input": "2021-09-20T00:13:58.103515Z",
     "iopub.status.busy": "2021-09-20T00:13:58.102825Z",
     "iopub.status.idle": "2021-09-20T00:13:59.312303Z",
     "shell.execute_reply": "2021-09-20T00:13:59.311557Z",
     "shell.execute_reply.started": "2021-09-19T11:14:36.402164Z"
    },
    "papermill": {
     "duration": 1.230391,
     "end_time": "2021-09-20T00:13:59.312453",
     "exception": false,
     "start_time": "2021-09-20T00:13:58.082062",
     "status": "completed"
    },
    "tags": []
   },
   "outputs": [],
   "source": [
    "train['lgb_pred'] = np.load(\"../input/tps-sep-lv0-base-trees/agg_lgb_oof.npy\")\n",
    "#test['lgb_pred'] = np.load(\"../input/tps-sep-lv0-base-trees/agg_lgb_pred.npy\")\n",
    "\n",
    "train['lgb2_pred'] = np.load(\"../input/tps-sep-lv0-base-trees/agg_lgb2_oof.npy\")\n",
    "#test['lgb2_pred'] = np.load(\"../input/tps-sep-lv0-base-trees/agg_lgb2_pred.npy\")\n",
    "\n",
    "train['xgb_pred'] = np.load(\"../input/tps-sep-lv0-base-trees/agg_xgb_oof.npy\")\n",
    "#test['xgb_pred'] = np.load(\"../input/tps-sep-lv0-base-trees/agg_xgb_pred.npy\")\n",
    "\n",
    "train['lgb_bizen_pred'] = np.load(\"../input/tps-sep-lv0-base-trees/lgb_bizen_oof.npy\")\n",
    "#test['lgb_bizen_pred'] = np.load(\"../input/tps-sep-lv0-base-trees/lgb_bizen_pred.npy\")\n",
    "\n",
    "train['lgb_dmitry_pred'] = np.load(\"../input/tps-sep-lv0-base-trees/lgb_dmitry_oof.npy\")\n",
    "#test['lgb_dmitry_pred'] = np.load(\"../input/tps-sep-lv0-base-trees/lgb_dmitry_pred.npy\")\n",
    "\n",
    "train['xgb_dmitry_pred'] = np.load(\"../input/tps-sep-lv0-base-trees/xgb_dmitry_oof.npy\")\n",
    "#test['xgb_dmitry_pred'] = np.load(\"../input/tps-sep-lv0-base-trees/xgb_dmitry_pred.npy\")\n",
    "\n",
    "train['lgb_manav_pred'] = np.load(\"../input/tps-sep-lv0-base-trees/lgb_manav_oof.npy\")\n",
    "#test['lgb_manav_pred'] = np.load(\"../input/tps-sep-lv0-base-trees/lgb_manav_pred.npy\")\n",
    "\n",
    "train['xgb_manav_pred'] = np.load(\"../input/tps-sep-lv0-base-trees/xgb_manav_oof.npy\")\n",
    "#test['xgb_manav_pred'] = np.load(\"../input/tps-sep-lv0-base-trees/xgb_manav_pred.npy\")\n"
   ]
  },
  {
   "cell_type": "markdown",
   "id": "ec56f2a4",
   "metadata": {
    "papermill": {
     "duration": 0.014352,
     "end_time": "2021-09-20T00:13:59.342569",
     "exception": false,
     "start_time": "2021-09-20T00:13:59.328217",
     "status": "completed"
    },
    "tags": []
   },
   "source": [
    "# Preprocessing"
   ]
  },
  {
   "cell_type": "code",
   "execution_count": 7,
   "id": "6a930dac",
   "metadata": {
    "execution": {
     "iopub.execute_input": "2021-09-20T00:13:59.378226Z",
     "iopub.status.busy": "2021-09-20T00:13:59.377188Z",
     "iopub.status.idle": "2021-09-20T00:13:59.380097Z",
     "shell.execute_reply": "2021-09-20T00:13:59.379581Z",
     "shell.execute_reply.started": "2021-09-19T11:14:36.457793Z"
    },
    "papermill": {
     "duration": 0.022406,
     "end_time": "2021-09-20T00:13:59.380249",
     "exception": false,
     "start_time": "2021-09-20T00:13:59.357843",
     "status": "completed"
    },
    "tags": []
   },
   "outputs": [],
   "source": [
    "features = [col for col in train.columns if 'pred' in col]"
   ]
  },
  {
   "cell_type": "code",
   "execution_count": 8,
   "id": "73873a4b",
   "metadata": {
    "execution": {
     "iopub.execute_input": "2021-09-20T00:13:59.414542Z",
     "iopub.status.busy": "2021-09-20T00:13:59.413747Z",
     "iopub.status.idle": "2021-09-20T00:13:59.416851Z",
     "shell.execute_reply": "2021-09-20T00:13:59.416306Z",
     "shell.execute_reply.started": "2021-09-19T11:14:36.464692Z"
    },
    "papermill": {
     "duration": 0.022032,
     "end_time": "2021-09-20T00:13:59.416992",
     "exception": false,
     "start_time": "2021-09-20T00:13:59.394960",
     "status": "completed"
    },
    "tags": []
   },
   "outputs": [],
   "source": [
    "ss = StandardScaler()"
   ]
  },
  {
   "cell_type": "code",
   "execution_count": 9,
   "id": "c08f0d78",
   "metadata": {
    "execution": {
     "iopub.execute_input": "2021-09-20T00:13:59.453190Z",
     "iopub.status.busy": "2021-09-20T00:13:59.452434Z",
     "iopub.status.idle": "2021-09-20T00:13:59.525081Z",
     "shell.execute_reply": "2021-09-20T00:13:59.524513Z",
     "shell.execute_reply.started": "2021-09-19T11:14:36.480121Z"
    },
    "papermill": {
     "duration": 0.093238,
     "end_time": "2021-09-20T00:13:59.525236",
     "exception": false,
     "start_time": "2021-09-20T00:13:59.431998",
     "status": "completed"
    },
    "tags": []
   },
   "outputs": [
    {
     "data": {
      "text/html": [
       "<div>\n",
       "<style scoped>\n",
       "    .dataframe tbody tr th:only-of-type {\n",
       "        vertical-align: middle;\n",
       "    }\n",
       "\n",
       "    .dataframe tbody tr th {\n",
       "        vertical-align: top;\n",
       "    }\n",
       "\n",
       "    .dataframe thead th {\n",
       "        text-align: right;\n",
       "    }\n",
       "</style>\n",
       "<table border=\"1\" class=\"dataframe\">\n",
       "  <thead>\n",
       "    <tr style=\"text-align: right;\">\n",
       "      <th></th>\n",
       "      <th>lgb_pred</th>\n",
       "      <th>lgb2_pred</th>\n",
       "      <th>xgb_pred</th>\n",
       "      <th>lgb_bizen_pred</th>\n",
       "      <th>lgb_dmitry_pred</th>\n",
       "      <th>xgb_dmitry_pred</th>\n",
       "      <th>lgb_manav_pred</th>\n",
       "      <th>xgb_manav_pred</th>\n",
       "    </tr>\n",
       "  </thead>\n",
       "  <tbody>\n",
       "    <tr>\n",
       "      <th>0</th>\n",
       "      <td>0.569058</td>\n",
       "      <td>0.572014</td>\n",
       "      <td>0.563386</td>\n",
       "      <td>0.567237</td>\n",
       "      <td>0.584811</td>\n",
       "      <td>0.563556</td>\n",
       "      <td>0.568376</td>\n",
       "      <td>0.580805</td>\n",
       "    </tr>\n",
       "    <tr>\n",
       "      <th>1</th>\n",
       "      <td>0.177095</td>\n",
       "      <td>0.162172</td>\n",
       "      <td>0.180320</td>\n",
       "      <td>0.167740</td>\n",
       "      <td>0.176388</td>\n",
       "      <td>0.169896</td>\n",
       "      <td>0.166929</td>\n",
       "      <td>0.164803</td>\n",
       "    </tr>\n",
       "    <tr>\n",
       "      <th>2</th>\n",
       "      <td>0.819233</td>\n",
       "      <td>0.817878</td>\n",
       "      <td>0.824730</td>\n",
       "      <td>0.819344</td>\n",
       "      <td>0.812119</td>\n",
       "      <td>0.818159</td>\n",
       "      <td>0.805830</td>\n",
       "      <td>0.823776</td>\n",
       "    </tr>\n",
       "    <tr>\n",
       "      <th>3</th>\n",
       "      <td>0.800054</td>\n",
       "      <td>0.792651</td>\n",
       "      <td>0.815384</td>\n",
       "      <td>0.800839</td>\n",
       "      <td>0.812413</td>\n",
       "      <td>0.782764</td>\n",
       "      <td>0.812170</td>\n",
       "      <td>0.793517</td>\n",
       "    </tr>\n",
       "    <tr>\n",
       "      <th>4</th>\n",
       "      <td>0.759385</td>\n",
       "      <td>0.762114</td>\n",
       "      <td>0.758896</td>\n",
       "      <td>0.778639</td>\n",
       "      <td>0.761375</td>\n",
       "      <td>0.766125</td>\n",
       "      <td>0.766569</td>\n",
       "      <td>0.792921</td>\n",
       "    </tr>\n",
       "    <tr>\n",
       "      <th>...</th>\n",
       "      <td>...</td>\n",
       "      <td>...</td>\n",
       "      <td>...</td>\n",
       "      <td>...</td>\n",
       "      <td>...</td>\n",
       "      <td>...</td>\n",
       "      <td>...</td>\n",
       "      <td>...</td>\n",
       "    </tr>\n",
       "    <tr>\n",
       "      <th>957914</th>\n",
       "      <td>0.136522</td>\n",
       "      <td>0.134028</td>\n",
       "      <td>0.139478</td>\n",
       "      <td>0.137695</td>\n",
       "      <td>0.137452</td>\n",
       "      <td>0.142344</td>\n",
       "      <td>0.133318</td>\n",
       "      <td>0.133796</td>\n",
       "    </tr>\n",
       "    <tr>\n",
       "      <th>957915</th>\n",
       "      <td>0.819584</td>\n",
       "      <td>0.803354</td>\n",
       "      <td>0.817831</td>\n",
       "      <td>0.792144</td>\n",
       "      <td>0.810890</td>\n",
       "      <td>0.817595</td>\n",
       "      <td>0.799856</td>\n",
       "      <td>0.809614</td>\n",
       "    </tr>\n",
       "    <tr>\n",
       "      <th>957916</th>\n",
       "      <td>0.110399</td>\n",
       "      <td>0.111084</td>\n",
       "      <td>0.107138</td>\n",
       "      <td>0.114974</td>\n",
       "      <td>0.111724</td>\n",
       "      <td>0.104979</td>\n",
       "      <td>0.113801</td>\n",
       "      <td>0.112733</td>\n",
       "    </tr>\n",
       "    <tr>\n",
       "      <th>957917</th>\n",
       "      <td>0.534861</td>\n",
       "      <td>0.554930</td>\n",
       "      <td>0.561236</td>\n",
       "      <td>0.544862</td>\n",
       "      <td>0.555083</td>\n",
       "      <td>0.565263</td>\n",
       "      <td>0.558625</td>\n",
       "      <td>0.549495</td>\n",
       "    </tr>\n",
       "    <tr>\n",
       "      <th>957918</th>\n",
       "      <td>0.756525</td>\n",
       "      <td>0.771115</td>\n",
       "      <td>0.765409</td>\n",
       "      <td>0.765658</td>\n",
       "      <td>0.759035</td>\n",
       "      <td>0.772316</td>\n",
       "      <td>0.760166</td>\n",
       "      <td>0.778273</td>\n",
       "    </tr>\n",
       "  </tbody>\n",
       "</table>\n",
       "<p>957919 rows × 8 columns</p>\n",
       "</div>"
      ],
      "text/plain": [
       "        lgb_pred  lgb2_pred  xgb_pred  lgb_bizen_pred  lgb_dmitry_pred  \\\n",
       "0       0.569058   0.572014  0.563386        0.567237         0.584811   \n",
       "1       0.177095   0.162172  0.180320        0.167740         0.176388   \n",
       "2       0.819233   0.817878  0.824730        0.819344         0.812119   \n",
       "3       0.800054   0.792651  0.815384        0.800839         0.812413   \n",
       "4       0.759385   0.762114  0.758896        0.778639         0.761375   \n",
       "...          ...        ...       ...             ...              ...   \n",
       "957914  0.136522   0.134028  0.139478        0.137695         0.137452   \n",
       "957915  0.819584   0.803354  0.817831        0.792144         0.810890   \n",
       "957916  0.110399   0.111084  0.107138        0.114974         0.111724   \n",
       "957917  0.534861   0.554930  0.561236        0.544862         0.555083   \n",
       "957918  0.756525   0.771115  0.765409        0.765658         0.759035   \n",
       "\n",
       "        xgb_dmitry_pred  lgb_manav_pred  xgb_manav_pred  \n",
       "0              0.563556        0.568376        0.580805  \n",
       "1              0.169896        0.166929        0.164803  \n",
       "2              0.818159        0.805830        0.823776  \n",
       "3              0.782764        0.812170        0.793517  \n",
       "4              0.766125        0.766569        0.792921  \n",
       "...                 ...             ...             ...  \n",
       "957914         0.142344        0.133318        0.133796  \n",
       "957915         0.817595        0.799856        0.809614  \n",
       "957916         0.104979        0.113801        0.112733  \n",
       "957917         0.565263        0.558625        0.549495  \n",
       "957918         0.772316        0.760166        0.778273  \n",
       "\n",
       "[957919 rows x 8 columns]"
      ]
     },
     "execution_count": 9,
     "metadata": {},
     "output_type": "execute_result"
    }
   ],
   "source": [
    "train[features]"
   ]
  },
  {
   "cell_type": "code",
   "execution_count": 10,
   "id": "e80985a1",
   "metadata": {
    "execution": {
     "iopub.execute_input": "2021-09-20T00:13:59.563773Z",
     "iopub.status.busy": "2021-09-20T00:13:59.562889Z",
     "iopub.status.idle": "2021-09-20T00:13:59.567311Z",
     "shell.execute_reply": "2021-09-20T00:13:59.566772Z",
     "shell.execute_reply.started": "2021-09-19T11:14:36.566316Z"
    },
    "papermill": {
     "duration": 0.026559,
     "end_time": "2021-09-20T00:13:59.567462",
     "exception": false,
     "start_time": "2021-09-20T00:13:59.540903",
     "status": "completed"
    },
    "tags": []
   },
   "outputs": [
    {
     "data": {
      "text/plain": [
       "0         1\n",
       "1         0\n",
       "2         1\n",
       "3         1\n",
       "4         1\n",
       "         ..\n",
       "957914    0\n",
       "957915    1\n",
       "957916    0\n",
       "957917    1\n",
       "957918    0\n",
       "Name: claim, Length: 957919, dtype: int64"
      ]
     },
     "execution_count": 10,
     "metadata": {},
     "output_type": "execute_result"
    }
   ],
   "source": [
    "train[target]"
   ]
  },
  {
   "cell_type": "markdown",
   "id": "dcf18589",
   "metadata": {
    "papermill": {
     "duration": 0.016498,
     "end_time": "2021-09-20T00:13:59.599638",
     "exception": false,
     "start_time": "2021-09-20T00:13:59.583140",
     "status": "completed"
    },
    "tags": []
   },
   "source": [
    "# Optuna"
   ]
  },
  {
   "cell_type": "code",
   "execution_count": 11,
   "id": "abd23242",
   "metadata": {
    "execution": {
     "iopub.execute_input": "2021-09-20T00:13:59.663217Z",
     "iopub.status.busy": "2021-09-20T00:13:59.639527Z",
     "iopub.status.idle": "2021-09-20T00:14:09.972354Z",
     "shell.execute_reply": "2021-09-20T00:14:09.971785Z",
     "shell.execute_reply.started": "2021-09-19T11:14:36.575986Z"
    },
    "papermill": {
     "duration": 10.355449,
     "end_time": "2021-09-20T00:14:09.972515",
     "exception": false,
     "start_time": "2021-09-20T00:13:59.617066",
     "status": "completed"
    },
    "tags": []
   },
   "outputs": [
    {
     "name": "stdout",
     "output_type": "stream",
     "text": [
      "\u001b[33mWARNING: Running pip as root will break packages and permissions. You should install packages reliably by using venv: https://pip.pypa.io/warnings/venv\u001b[0m\r\n"
     ]
    }
   ],
   "source": [
    "# Optuna for parameter search\n",
    "!pip install -q optuna\n",
    "\n",
    "import optuna\n",
    "import pickle"
   ]
  },
  {
   "cell_type": "code",
   "execution_count": 12,
   "id": "e0ec6750",
   "metadata": {
    "execution": {
     "iopub.execute_input": "2021-09-20T00:14:10.052455Z",
     "iopub.status.busy": "2021-09-20T00:14:10.016596Z",
     "iopub.status.idle": "2021-09-20T00:14:10.056425Z",
     "shell.execute_reply": "2021-09-20T00:14:10.055830Z",
     "shell.execute_reply.started": "2021-09-19T11:22:10.403187Z"
    },
    "papermill": {
     "duration": 0.066575,
     "end_time": "2021-09-20T00:14:10.056569",
     "exception": false,
     "start_time": "2021-09-20T00:14:09.989994",
     "status": "completed"
    },
    "tags": []
   },
   "outputs": [],
   "source": [
    "def objective(trial, X=train[features], y=train[target]):\n",
    " \n",
    "  param_space = { \n",
    "              'max_iter':N_ESTIMATORS,\n",
    "               'tol':1e-8,\n",
    "        \n",
    "               'alpha':trial.suggest_loguniform('alpha', 3.92545, 4.42545),\n",
    "              'solver':trial.suggest_categorical('solver',['auto', 'svd', 'cholesky', 'lsqr', 'sparse_cg', 'sag', 'saga'])\n",
    "                }\n",
    "            \n",
    "\n",
    "  seed_list=[SEED]\n",
    "\n",
    "  kf = StratifiedKFold(n_splits=N_SPLITS, shuffle=True, random_state=CVSEED)\n",
    "  ridge_oof = np.zeros(train.shape[0])\n",
    "  #ridge_pred = np.zeros(test.shape[0])\n",
    "  \n",
    "  #X_tr, X_va, y_tr, y_va = train_test_split(X,y,test_size=.2,random_state=CVSEED)\n",
    "  \n",
    "  for fold, (trn_idx, val_idx) in enumerate(kf.split(X, y)):\n",
    "      print(f\"===== fold {fold} =====\")\n",
    "   \n",
    "      X_train = train[features].iloc[trn_idx]\n",
    "      y_train = train[target].iloc[trn_idx]\n",
    "      X_valid = train[features].iloc[val_idx]\n",
    "      y_valid = train[target].iloc[val_idx]\n",
    "      #X_test = test[features]\n",
    "        \n",
    "      \n",
    "        \n",
    "      X_train[features] = ss.fit_transform(X_train[features])\n",
    "      X_valid[features] = ss.transform(X_valid[features])\n",
    "      #X_test[features] = ss.transform(X_test[features])\n",
    "\n",
    "\n",
    "      start = time.time()\n",
    "      for inseed in seed_list:\n",
    "            param_space['random_state'] = inseed\n",
    "\n",
    "            model = RidgeClassifierwithProba(**param_space)\n",
    "            model.fit(\n",
    "                X_train, \n",
    "                y_train,\n",
    "                \n",
    "            )\n",
    "\n",
    "            #ridge_oof[val_idx] = model.predict_proba(X_valid)\n",
    "            \n",
    "            ridge_oof[val_idx] += model.predict_proba(X_valid)[:,-1] / len(seed_list) \n",
    "\n",
    "      elapsed = time.time() - start\n",
    "      auc = roc_auc_score(y_valid, ridge_oof[val_idx])\n",
    "\n",
    "      print(f\"fold {fold} - ridge rmse: {auc:.6f}, elapsed time: {elapsed:.2f}sec\\n\")            \n",
    "  \n",
    "  auc_oof = roc_auc_score(train[target], ridge_oof)\n",
    "  print(f\"oof ridge_rmse = {roc_auc_score(train[target], ridge_oof)}\")\n",
    "  \n",
    "  return auc_oof"
   ]
  },
  {
   "cell_type": "code",
   "execution_count": 13,
   "id": "52be3a93",
   "metadata": {
    "execution": {
     "iopub.execute_input": "2021-09-20T00:14:10.097986Z",
     "iopub.status.busy": "2021-09-20T00:14:10.097314Z",
     "iopub.status.idle": "2021-09-20T00:34:21.124943Z",
     "shell.execute_reply": "2021-09-20T00:34:21.125521Z",
     "shell.execute_reply.started": "2021-09-19T11:22:10.431225Z"
    },
    "papermill": {
     "duration": 1211.052435,
     "end_time": "2021-09-20T00:34:21.125937",
     "exception": false,
     "start_time": "2021-09-20T00:14:10.073502",
     "status": "completed"
    },
    "tags": []
   },
   "outputs": [
    {
     "name": "stderr",
     "output_type": "stream",
     "text": [
      "\u001b[32m[I 2021-09-20 00:14:10,095]\u001b[0m A new study created in memory with name: no-name-23e20037-00d5-425f-bf11-5d7b4232a07e\u001b[0m\n"
     ]
    },
    {
     "name": "stdout",
     "output_type": "stream",
     "text": [
      "===== fold 0 =====\n",
      "fold 0 - ridge rmse: 0.817406, elapsed time: 0.80sec\n",
      "\n",
      "===== fold 1 =====\n",
      "fold 1 - ridge rmse: 0.816385, elapsed time: 0.49sec\n",
      "\n",
      "===== fold 2 =====\n",
      "fold 2 - ridge rmse: 0.817831, elapsed time: 0.46sec\n",
      "\n",
      "===== fold 3 =====\n",
      "fold 3 - ridge rmse: 0.816564, elapsed time: 0.47sec\n",
      "\n",
      "===== fold 4 =====\n",
      "fold 4 - ridge rmse: 0.818207, elapsed time: 0.46sec\n",
      "\n",
      "===== fold 5 =====\n",
      "fold 5 - ridge rmse: 0.815613, elapsed time: 0.48sec\n",
      "\n",
      "===== fold 6 =====\n",
      "fold 6 - ridge rmse: 0.819605, elapsed time: 0.47sec\n",
      "\n",
      "===== fold 7 =====\n",
      "fold 7 - ridge rmse: 0.815746, elapsed time: 0.45sec\n",
      "\n",
      "===== fold 8 =====\n",
      "fold 8 - ridge rmse: 0.817335, elapsed time: 0.47sec\n",
      "\n",
      "===== fold 9 =====\n",
      "fold 9 - ridge rmse: 0.816518, elapsed time: 0.50sec\n",
      "\n"
     ]
    },
    {
     "name": "stderr",
     "output_type": "stream",
     "text": [
      "\u001b[32m[I 2021-09-20 00:14:19,811]\u001b[0m Trial 0 finished with value: 0.8171108275942343 and parameters: {'alpha': 3.9280302308968844, 'solver': 'svd'}. Best is trial 0 with value: 0.8171108275942343.\u001b[0m\n"
     ]
    },
    {
     "name": "stdout",
     "output_type": "stream",
     "text": [
      "oof ridge_rmse = 0.8171108275942343\n",
      "===== fold 0 =====\n",
      "fold 0 - ridge rmse: 0.817406, elapsed time: 0.44sec\n",
      "\n",
      "===== fold 1 =====\n",
      "fold 1 - ridge rmse: 0.816385, elapsed time: 0.43sec\n",
      "\n",
      "===== fold 2 =====\n",
      "fold 2 - ridge rmse: 0.817831, elapsed time: 0.39sec\n",
      "\n",
      "===== fold 3 =====\n",
      "fold 3 - ridge rmse: 0.816565, elapsed time: 0.43sec\n",
      "\n",
      "===== fold 4 =====\n",
      "fold 4 - ridge rmse: 0.818208, elapsed time: 0.42sec\n",
      "\n",
      "===== fold 5 =====\n",
      "fold 5 - ridge rmse: 0.815613, elapsed time: 0.47sec\n",
      "\n",
      "===== fold 6 =====\n",
      "fold 6 - ridge rmse: 0.819605, elapsed time: 0.41sec\n",
      "\n",
      "===== fold 7 =====\n",
      "fold 7 - ridge rmse: 0.815746, elapsed time: 0.39sec\n",
      "\n",
      "===== fold 8 =====\n",
      "fold 8 - ridge rmse: 0.817335, elapsed time: 0.41sec\n",
      "\n",
      "===== fold 9 =====\n",
      "fold 9 - ridge rmse: 0.816518, elapsed time: 0.49sec\n",
      "\n"
     ]
    },
    {
     "name": "stderr",
     "output_type": "stream",
     "text": [
      "\u001b[32m[I 2021-09-20 00:14:28,719]\u001b[0m Trial 1 finished with value: 0.8171108266831625 and parameters: {'alpha': 4.354133246689307, 'solver': 'sparse_cg'}. Best is trial 0 with value: 0.8171108275942343.\u001b[0m\n"
     ]
    },
    {
     "name": "stdout",
     "output_type": "stream",
     "text": [
      "oof ridge_rmse = 0.8171108266831625\n",
      "===== fold 0 =====\n",
      "fold 0 - ridge rmse: 0.817406, elapsed time: 0.34sec\n",
      "\n",
      "===== fold 1 =====\n",
      "fold 1 - ridge rmse: 0.816385, elapsed time: 0.34sec\n",
      "\n",
      "===== fold 2 =====\n",
      "fold 2 - ridge rmse: 0.817831, elapsed time: 0.34sec\n",
      "\n",
      "===== fold 3 =====\n",
      "fold 3 - ridge rmse: 0.816565, elapsed time: 0.33sec\n",
      "\n",
      "===== fold 4 =====\n",
      "fold 4 - ridge rmse: 0.818207, elapsed time: 0.33sec\n",
      "\n",
      "===== fold 5 =====\n",
      "fold 5 - ridge rmse: 0.815613, elapsed time: 0.34sec\n",
      "\n",
      "===== fold 6 =====\n",
      "fold 6 - ridge rmse: 0.819605, elapsed time: 0.33sec\n",
      "\n",
      "===== fold 7 =====\n",
      "fold 7 - ridge rmse: 0.815746, elapsed time: 0.33sec\n",
      "\n",
      "===== fold 8 =====\n",
      "fold 8 - ridge rmse: 0.817334, elapsed time: 0.32sec\n",
      "\n",
      "===== fold 9 =====\n",
      "fold 9 - ridge rmse: 0.816518, elapsed time: 0.42sec\n",
      "\n"
     ]
    },
    {
     "name": "stderr",
     "output_type": "stream",
     "text": [
      "\u001b[32m[I 2021-09-20 00:14:36,686]\u001b[0m Trial 2 finished with value: 0.8171108349307608 and parameters: {'alpha': 4.139174301423976, 'solver': 'cholesky'}. Best is trial 2 with value: 0.8171108349307608.\u001b[0m\n"
     ]
    },
    {
     "name": "stdout",
     "output_type": "stream",
     "text": [
      "oof ridge_rmse = 0.8171108349307608\n",
      "===== fold 0 =====\n",
      "fold 0 - ridge rmse: 0.817406, elapsed time: 0.33sec\n",
      "\n",
      "===== fold 1 =====\n",
      "fold 1 - ridge rmse: 0.816385, elapsed time: 0.33sec\n",
      "\n",
      "===== fold 2 =====\n",
      "fold 2 - ridge rmse: 0.817831, elapsed time: 0.33sec\n",
      "\n",
      "===== fold 3 =====\n",
      "fold 3 - ridge rmse: 0.816565, elapsed time: 0.33sec\n",
      "\n",
      "===== fold 4 =====\n",
      "fold 4 - ridge rmse: 0.818207, elapsed time: 0.35sec\n",
      "\n",
      "===== fold 5 =====\n",
      "fold 5 - ridge rmse: 0.815613, elapsed time: 0.35sec\n",
      "\n",
      "===== fold 6 =====\n",
      "fold 6 - ridge rmse: 0.819605, elapsed time: 0.33sec\n",
      "\n",
      "===== fold 7 =====\n",
      "fold 7 - ridge rmse: 0.815746, elapsed time: 0.33sec\n",
      "\n",
      "===== fold 8 =====\n",
      "fold 8 - ridge rmse: 0.817335, elapsed time: 0.33sec\n",
      "\n",
      "===== fold 9 =====\n",
      "fold 9 - ridge rmse: 0.816518, elapsed time: 0.34sec\n",
      "\n"
     ]
    },
    {
     "name": "stderr",
     "output_type": "stream",
     "text": [
      "\u001b[32m[I 2021-09-20 00:14:44,599]\u001b[0m Trial 3 finished with value: 0.8171108232742714 and parameters: {'alpha': 4.3660138436592435, 'solver': 'cholesky'}. Best is trial 2 with value: 0.8171108349307608.\u001b[0m\n"
     ]
    },
    {
     "name": "stdout",
     "output_type": "stream",
     "text": [
      "oof ridge_rmse = 0.8171108232742714\n",
      "===== fold 0 =====\n",
      "fold 0 - ridge rmse: 0.817406, elapsed time: 0.33sec\n",
      "\n",
      "===== fold 1 =====\n",
      "fold 1 - ridge rmse: 0.816385, elapsed time: 0.35sec\n",
      "\n",
      "===== fold 2 =====\n",
      "fold 2 - ridge rmse: 0.817831, elapsed time: 0.33sec\n",
      "\n",
      "===== fold 3 =====\n",
      "fold 3 - ridge rmse: 0.816565, elapsed time: 0.33sec\n",
      "\n",
      "===== fold 4 =====\n",
      "fold 4 - ridge rmse: 0.818207, elapsed time: 0.34sec\n",
      "\n",
      "===== fold 5 =====\n",
      "fold 5 - ridge rmse: 0.815613, elapsed time: 0.35sec\n",
      "\n",
      "===== fold 6 =====\n",
      "fold 6 - ridge rmse: 0.819605, elapsed time: 0.32sec\n",
      "\n",
      "===== fold 7 =====\n",
      "fold 7 - ridge rmse: 0.815746, elapsed time: 0.33sec\n",
      "\n",
      "===== fold 8 =====\n",
      "fold 8 - ridge rmse: 0.817335, elapsed time: 0.34sec\n",
      "\n",
      "===== fold 9 =====\n",
      "fold 9 - ridge rmse: 0.816518, elapsed time: 0.33sec\n",
      "\n"
     ]
    },
    {
     "name": "stderr",
     "output_type": "stream",
     "text": [
      "\u001b[32m[I 2021-09-20 00:14:52,588]\u001b[0m Trial 4 finished with value: 0.8171108381304103 and parameters: {'alpha': 4.181430702757203, 'solver': 'auto'}. Best is trial 4 with value: 0.8171108381304103.\u001b[0m\n"
     ]
    },
    {
     "name": "stdout",
     "output_type": "stream",
     "text": [
      "oof ridge_rmse = 0.8171108381304103\n",
      "===== fold 0 =====\n",
      "fold 0 - ridge rmse: 0.817406, elapsed time: 17.43sec\n",
      "\n",
      "===== fold 1 =====\n",
      "fold 1 - ridge rmse: 0.816385, elapsed time: 17.68sec\n",
      "\n",
      "===== fold 2 =====\n",
      "fold 2 - ridge rmse: 0.817831, elapsed time: 17.85sec\n",
      "\n",
      "===== fold 3 =====\n",
      "fold 3 - ridge rmse: 0.816564, elapsed time: 17.14sec\n",
      "\n",
      "===== fold 4 =====\n",
      "fold 4 - ridge rmse: 0.818208, elapsed time: 17.49sec\n",
      "\n",
      "===== fold 5 =====\n",
      "fold 5 - ridge rmse: 0.815613, elapsed time: 16.77sec\n",
      "\n",
      "===== fold 6 =====\n",
      "fold 6 - ridge rmse: 0.819605, elapsed time: 17.16sec\n",
      "\n",
      "===== fold 7 =====\n",
      "fold 7 - ridge rmse: 0.815746, elapsed time: 17.38sec\n",
      "\n",
      "===== fold 8 =====\n",
      "fold 8 - ridge rmse: 0.817335, elapsed time: 16.55sec\n",
      "\n",
      "===== fold 9 =====\n",
      "fold 9 - ridge rmse: 0.816518, elapsed time: 16.92sec\n",
      "\n"
     ]
    },
    {
     "name": "stderr",
     "output_type": "stream",
     "text": [
      "\u001b[32m[I 2021-09-20 00:17:49,552]\u001b[0m Trial 5 finished with value: 0.8171108296038234 and parameters: {'alpha': 3.993925787573211, 'solver': 'saga'}. Best is trial 4 with value: 0.8171108381304103.\u001b[0m\n"
     ]
    },
    {
     "name": "stdout",
     "output_type": "stream",
     "text": [
      "oof ridge_rmse = 0.8171108296038234\n",
      "===== fold 0 =====\n",
      "fold 0 - ridge rmse: 0.817406, elapsed time: 0.47sec\n",
      "\n",
      "===== fold 1 =====\n",
      "fold 1 - ridge rmse: 0.816385, elapsed time: 0.45sec\n",
      "\n",
      "===== fold 2 =====\n",
      "fold 2 - ridge rmse: 0.817831, elapsed time: 0.45sec\n",
      "\n",
      "===== fold 3 =====\n",
      "fold 3 - ridge rmse: 0.816565, elapsed time: 0.46sec\n",
      "\n",
      "===== fold 4 =====\n",
      "fold 4 - ridge rmse: 0.818208, elapsed time: 0.46sec\n",
      "\n",
      "===== fold 5 =====\n",
      "fold 5 - ridge rmse: 0.815613, elapsed time: 0.46sec\n",
      "\n",
      "===== fold 6 =====\n",
      "fold 6 - ridge rmse: 0.819605, elapsed time: 0.45sec\n",
      "\n",
      "===== fold 7 =====\n",
      "fold 7 - ridge rmse: 0.815746, elapsed time: 0.45sec\n",
      "\n",
      "===== fold 8 =====\n",
      "fold 8 - ridge rmse: 0.817335, elapsed time: 0.46sec\n",
      "\n",
      "===== fold 9 =====\n",
      "fold 9 - ridge rmse: 0.816518, elapsed time: 0.46sec\n",
      "\n"
     ]
    },
    {
     "name": "stderr",
     "output_type": "stream",
     "text": [
      "\u001b[32m[I 2021-09-20 00:17:58,547]\u001b[0m Trial 6 finished with value: 0.8171108296779298 and parameters: {'alpha': 3.9577909651639085, 'solver': 'svd'}. Best is trial 4 with value: 0.8171108381304103.\u001b[0m\n"
     ]
    },
    {
     "name": "stdout",
     "output_type": "stream",
     "text": [
      "oof ridge_rmse = 0.8171108296779298\n",
      "===== fold 0 =====\n",
      "fold 0 - ridge rmse: 0.817406, elapsed time: 15.89sec\n",
      "\n",
      "===== fold 1 =====\n",
      "fold 1 - ridge rmse: 0.816385, elapsed time: 16.66sec\n",
      "\n",
      "===== fold 2 =====\n",
      "fold 2 - ridge rmse: 0.817831, elapsed time: 16.59sec\n",
      "\n",
      "===== fold 3 =====\n",
      "fold 3 - ridge rmse: 0.816564, elapsed time: 15.28sec\n",
      "\n",
      "===== fold 4 =====\n",
      "fold 4 - ridge rmse: 0.818208, elapsed time: 16.18sec\n",
      "\n",
      "===== fold 5 =====\n",
      "fold 5 - ridge rmse: 0.815613, elapsed time: 15.12sec\n",
      "\n",
      "===== fold 6 =====\n",
      "fold 6 - ridge rmse: 0.819605, elapsed time: 15.70sec\n",
      "\n",
      "===== fold 7 =====\n",
      "fold 7 - ridge rmse: 0.815746, elapsed time: 15.42sec\n",
      "\n",
      "===== fold 8 =====\n",
      "fold 8 - ridge rmse: 0.817335, elapsed time: 15.53sec\n",
      "\n",
      "===== fold 9 =====\n",
      "fold 9 - ridge rmse: 0.816518, elapsed time: 14.59sec\n",
      "\n"
     ]
    },
    {
     "name": "stderr",
     "output_type": "stream",
     "text": [
      "\u001b[32m[I 2021-09-20 00:20:40,016]\u001b[0m Trial 7 finished with value: 0.817110831037999 and parameters: {'alpha': 3.990315692593332, 'solver': 'saga'}. Best is trial 4 with value: 0.8171108381304103.\u001b[0m\n"
     ]
    },
    {
     "name": "stdout",
     "output_type": "stream",
     "text": [
      "oof ridge_rmse = 0.817110831037999\n",
      "===== fold 0 =====\n",
      "fold 0 - ridge rmse: 0.817406, elapsed time: 0.50sec\n",
      "\n",
      "===== fold 1 =====\n",
      "fold 1 - ridge rmse: 0.816385, elapsed time: 0.47sec\n",
      "\n",
      "===== fold 2 =====\n",
      "fold 2 - ridge rmse: 0.817831, elapsed time: 0.45sec\n",
      "\n",
      "===== fold 3 =====\n",
      "fold 3 - ridge rmse: 0.816565, elapsed time: 0.47sec\n",
      "\n",
      "===== fold 4 =====\n",
      "fold 4 - ridge rmse: 0.818208, elapsed time: 0.51sec\n",
      "\n",
      "===== fold 5 =====\n",
      "fold 5 - ridge rmse: 0.815613, elapsed time: 0.47sec\n",
      "\n",
      "===== fold 6 =====\n",
      "fold 6 - ridge rmse: 0.819605, elapsed time: 0.47sec\n",
      "\n",
      "===== fold 7 =====\n",
      "fold 7 - ridge rmse: 0.815746, elapsed time: 0.47sec\n",
      "\n",
      "===== fold 8 =====\n",
      "fold 8 - ridge rmse: 0.817335, elapsed time: 0.47sec\n",
      "\n",
      "===== fold 9 =====\n",
      "fold 9 - ridge rmse: 0.816518, elapsed time: 0.50sec\n",
      "\n"
     ]
    },
    {
     "name": "stderr",
     "output_type": "stream",
     "text": [
      "\u001b[32m[I 2021-09-20 00:20:49,260]\u001b[0m Trial 8 finished with value: 0.8171108372542119 and parameters: {'alpha': 4.101106460811091, 'solver': 'svd'}. Best is trial 4 with value: 0.8171108381304103.\u001b[0m\n"
     ]
    },
    {
     "name": "stdout",
     "output_type": "stream",
     "text": [
      "oof ridge_rmse = 0.8171108372542119\n",
      "===== fold 0 =====\n",
      "fold 0 - ridge rmse: 0.817406, elapsed time: 26.43sec\n",
      "\n",
      "===== fold 1 =====\n",
      "fold 1 - ridge rmse: 0.816385, elapsed time: 20.35sec\n",
      "\n",
      "===== fold 2 =====\n",
      "fold 2 - ridge rmse: 0.817831, elapsed time: 19.12sec\n",
      "\n",
      "===== fold 3 =====\n",
      "fold 3 - ridge rmse: 0.816565, elapsed time: 22.01sec\n",
      "\n",
      "===== fold 4 =====\n",
      "fold 4 - ridge rmse: 0.818207, elapsed time: 19.55sec\n",
      "\n",
      "===== fold 5 =====\n",
      "fold 5 - ridge rmse: 0.815613, elapsed time: 20.69sec\n",
      "\n",
      "===== fold 6 =====\n",
      "fold 6 - ridge rmse: 0.819605, elapsed time: 20.96sec\n",
      "\n",
      "===== fold 7 =====\n",
      "fold 7 - ridge rmse: 0.815746, elapsed time: 25.04sec\n",
      "\n",
      "===== fold 8 =====\n",
      "fold 8 - ridge rmse: 0.817335, elapsed time: 21.51sec\n",
      "\n",
      "===== fold 9 =====\n",
      "fold 9 - ridge rmse: 0.816518, elapsed time: 23.88sec\n",
      "\n"
     ]
    },
    {
     "name": "stderr",
     "output_type": "stream",
     "text": [
      "\u001b[32m[I 2021-09-20 00:24:33,349]\u001b[0m Trial 9 finished with value: 0.8171108348653727 and parameters: {'alpha': 4.078503345206026, 'solver': 'sag'}. Best is trial 4 with value: 0.8171108381304103.\u001b[0m\n"
     ]
    },
    {
     "name": "stdout",
     "output_type": "stream",
     "text": [
      "oof ridge_rmse = 0.8171108348653727\n",
      "===== fold 0 =====\n",
      "fold 0 - ridge rmse: 0.817406, elapsed time: 0.34sec\n",
      "\n",
      "===== fold 1 =====\n",
      "fold 1 - ridge rmse: 0.816385, elapsed time: 0.34sec\n",
      "\n",
      "===== fold 2 =====\n",
      "fold 2 - ridge rmse: 0.817831, elapsed time: 0.34sec\n",
      "\n",
      "===== fold 3 =====\n",
      "fold 3 - ridge rmse: 0.816565, elapsed time: 0.33sec\n",
      "\n",
      "===== fold 4 =====\n",
      "fold 4 - ridge rmse: 0.818208, elapsed time: 0.33sec\n",
      "\n",
      "===== fold 5 =====\n",
      "fold 5 - ridge rmse: 0.815613, elapsed time: 0.32sec\n",
      "\n",
      "===== fold 6 =====\n",
      "fold 6 - ridge rmse: 0.819605, elapsed time: 0.33sec\n",
      "\n",
      "===== fold 7 =====\n",
      "fold 7 - ridge rmse: 0.815746, elapsed time: 0.33sec\n",
      "\n",
      "===== fold 8 =====\n",
      "fold 8 - ridge rmse: 0.817335, elapsed time: 0.33sec\n",
      "\n",
      "===== fold 9 =====\n",
      "fold 9 - ridge rmse: 0.816518, elapsed time: 0.34sec\n",
      "\n"
     ]
    },
    {
     "name": "stderr",
     "output_type": "stream",
     "text": [
      "\u001b[32m[I 2021-09-20 00:24:41,190]\u001b[0m Trial 10 finished with value: 0.8171108368793212 and parameters: {'alpha': 4.267002142533784, 'solver': 'auto'}. Best is trial 4 with value: 0.8171108381304103.\u001b[0m\n"
     ]
    },
    {
     "name": "stdout",
     "output_type": "stream",
     "text": [
      "oof ridge_rmse = 0.8171108368793212\n",
      "===== fold 0 =====\n",
      "fold 0 - ridge rmse: 0.817406, elapsed time: 0.44sec\n",
      "\n",
      "===== fold 1 =====\n",
      "fold 1 - ridge rmse: 0.816385, elapsed time: 0.44sec\n",
      "\n",
      "===== fold 2 =====\n",
      "fold 2 - ridge rmse: 0.817831, elapsed time: 0.45sec\n",
      "\n",
      "===== fold 3 =====\n",
      "fold 3 - ridge rmse: 0.816565, elapsed time: 0.45sec\n",
      "\n",
      "===== fold 4 =====\n",
      "fold 4 - ridge rmse: 0.818207, elapsed time: 0.48sec\n",
      "\n",
      "===== fold 5 =====\n",
      "fold 5 - ridge rmse: 0.815613, elapsed time: 0.66sec\n",
      "\n",
      "===== fold 6 =====\n",
      "fold 6 - ridge rmse: 0.819605, elapsed time: 0.58sec\n",
      "\n",
      "===== fold 7 =====\n",
      "fold 7 - ridge rmse: 0.815746, elapsed time: 0.60sec\n",
      "\n",
      "===== fold 8 =====\n",
      "fold 8 - ridge rmse: 0.817335, elapsed time: 0.60sec\n",
      "\n",
      "===== fold 9 =====\n",
      "fold 9 - ridge rmse: 0.816518, elapsed time: 0.61sec\n",
      "\n"
     ]
    },
    {
     "name": "stderr",
     "output_type": "stream",
     "text": [
      "\u001b[32m[I 2021-09-20 00:24:51,233]\u001b[0m Trial 11 finished with value: 0.8171108370798442 and parameters: {'alpha': 4.2236804471447735, 'solver': 'lsqr'}. Best is trial 4 with value: 0.8171108381304103.\u001b[0m\n"
     ]
    },
    {
     "name": "stdout",
     "output_type": "stream",
     "text": [
      "oof ridge_rmse = 0.8171108370798442\n",
      "===== fold 0 =====\n",
      "fold 0 - ridge rmse: 0.817406, elapsed time: 0.46sec\n",
      "\n",
      "===== fold 1 =====\n",
      "fold 1 - ridge rmse: 0.816385, elapsed time: 0.43sec\n",
      "\n",
      "===== fold 2 =====\n",
      "fold 2 - ridge rmse: 0.817831, elapsed time: 0.42sec\n",
      "\n",
      "===== fold 3 =====\n",
      "fold 3 - ridge rmse: 0.816565, elapsed time: 0.41sec\n",
      "\n",
      "===== fold 4 =====\n",
      "fold 4 - ridge rmse: 0.818208, elapsed time: 0.42sec\n",
      "\n",
      "===== fold 5 =====\n",
      "fold 5 - ridge rmse: 0.815613, elapsed time: 0.42sec\n",
      "\n",
      "===== fold 6 =====\n",
      "fold 6 - ridge rmse: 0.819605, elapsed time: 0.41sec\n",
      "\n",
      "===== fold 7 =====\n",
      "fold 7 - ridge rmse: 0.815746, elapsed time: 0.43sec\n",
      "\n",
      "===== fold 8 =====\n",
      "fold 8 - ridge rmse: 0.817335, elapsed time: 0.42sec\n",
      "\n",
      "===== fold 9 =====\n",
      "fold 9 - ridge rmse: 0.816518, elapsed time: 0.43sec\n",
      "\n"
     ]
    },
    {
     "name": "stderr",
     "output_type": "stream",
     "text": [
      "\u001b[32m[I 2021-09-20 00:25:00,580]\u001b[0m Trial 12 finished with value: 0.817110835850551 and parameters: {'alpha': 4.09258099200097, 'solver': 'auto'}. Best is trial 4 with value: 0.8171108381304103.\u001b[0m\n"
     ]
    },
    {
     "name": "stdout",
     "output_type": "stream",
     "text": [
      "oof ridge_rmse = 0.817110835850551\n",
      "===== fold 0 =====\n",
      "fold 0 - ridge rmse: 0.817406, elapsed time: 0.33sec\n",
      "\n",
      "===== fold 1 =====\n",
      "fold 1 - ridge rmse: 0.816385, elapsed time: 0.33sec\n",
      "\n",
      "===== fold 2 =====\n",
      "fold 2 - ridge rmse: 0.817831, elapsed time: 0.33sec\n",
      "\n",
      "===== fold 3 =====\n",
      "fold 3 - ridge rmse: 0.816565, elapsed time: 0.33sec\n",
      "\n",
      "===== fold 4 =====\n",
      "fold 4 - ridge rmse: 0.818207, elapsed time: 0.34sec\n",
      "\n",
      "===== fold 5 =====\n",
      "fold 5 - ridge rmse: 0.815613, elapsed time: 0.32sec\n",
      "\n",
      "===== fold 6 =====\n",
      "fold 6 - ridge rmse: 0.819605, elapsed time: 0.33sec\n",
      "\n",
      "===== fold 7 =====\n",
      "fold 7 - ridge rmse: 0.815746, elapsed time: 0.34sec\n",
      "\n",
      "===== fold 8 =====\n",
      "fold 8 - ridge rmse: 0.817335, elapsed time: 0.34sec\n",
      "\n",
      "===== fold 9 =====\n",
      "fold 9 - ridge rmse: 0.816518, elapsed time: 0.34sec\n",
      "\n"
     ]
    },
    {
     "name": "stderr",
     "output_type": "stream",
     "text": [
      "\u001b[32m[I 2021-09-20 00:25:08,433]\u001b[0m Trial 13 finished with value: 0.8171108386753096 and parameters: {'alpha': 4.205498805924483, 'solver': 'auto'}. Best is trial 13 with value: 0.8171108386753096.\u001b[0m\n"
     ]
    },
    {
     "name": "stdout",
     "output_type": "stream",
     "text": [
      "oof ridge_rmse = 0.8171108386753096\n",
      "===== fold 0 =====\n",
      "fold 0 - ridge rmse: 0.817406, elapsed time: 0.33sec\n",
      "\n",
      "===== fold 1 =====\n",
      "fold 1 - ridge rmse: 0.816385, elapsed time: 0.33sec\n",
      "\n",
      "===== fold 2 =====\n",
      "fold 2 - ridge rmse: 0.817831, elapsed time: 0.33sec\n",
      "\n",
      "===== fold 3 =====\n",
      "fold 3 - ridge rmse: 0.816565, elapsed time: 0.33sec\n",
      "\n",
      "===== fold 4 =====\n",
      "fold 4 - ridge rmse: 0.818208, elapsed time: 0.33sec\n",
      "\n",
      "===== fold 5 =====\n",
      "fold 5 - ridge rmse: 0.815613, elapsed time: 0.32sec\n",
      "\n",
      "===== fold 6 =====\n",
      "fold 6 - ridge rmse: 0.819605, elapsed time: 0.32sec\n",
      "\n",
      "===== fold 7 =====\n",
      "fold 7 - ridge rmse: 0.815746, elapsed time: 0.34sec\n",
      "\n",
      "===== fold 8 =====\n",
      "fold 8 - ridge rmse: 0.817335, elapsed time: 0.34sec\n",
      "\n",
      "===== fold 9 =====\n",
      "fold 9 - ridge rmse: 0.816518, elapsed time: 0.34sec\n",
      "\n"
     ]
    },
    {
     "name": "stderr",
     "output_type": "stream",
     "text": [
      "\u001b[32m[I 2021-09-20 00:25:16,213]\u001b[0m Trial 14 finished with value: 0.8171108375026862 and parameters: {'alpha': 4.226575288655155, 'solver': 'auto'}. Best is trial 13 with value: 0.8171108386753096.\u001b[0m\n"
     ]
    },
    {
     "name": "stdout",
     "output_type": "stream",
     "text": [
      "oof ridge_rmse = 0.8171108375026862\n",
      "===== fold 0 =====\n",
      "fold 0 - ridge rmse: 0.817406, elapsed time: 0.32sec\n",
      "\n",
      "===== fold 1 =====\n",
      "fold 1 - ridge rmse: 0.816385, elapsed time: 0.32sec\n",
      "\n",
      "===== fold 2 =====\n",
      "fold 2 - ridge rmse: 0.817831, elapsed time: 0.33sec\n",
      "\n",
      "===== fold 3 =====\n",
      "fold 3 - ridge rmse: 0.816565, elapsed time: 0.33sec\n",
      "\n",
      "===== fold 4 =====\n",
      "fold 4 - ridge rmse: 0.818208, elapsed time: 0.33sec\n",
      "\n",
      "===== fold 5 =====\n",
      "fold 5 - ridge rmse: 0.815613, elapsed time: 0.33sec\n",
      "\n",
      "===== fold 6 =====\n",
      "fold 6 - ridge rmse: 0.819605, elapsed time: 0.33sec\n",
      "\n",
      "===== fold 7 =====\n",
      "fold 7 - ridge rmse: 0.815746, elapsed time: 0.32sec\n",
      "\n",
      "===== fold 8 =====\n",
      "fold 8 - ridge rmse: 0.817335, elapsed time: 0.33sec\n",
      "\n",
      "===== fold 9 =====\n",
      "fold 9 - ridge rmse: 0.816518, elapsed time: 0.34sec\n",
      "\n"
     ]
    },
    {
     "name": "stderr",
     "output_type": "stream",
     "text": [
      "\u001b[32m[I 2021-09-20 00:25:23,949]\u001b[0m Trial 15 finished with value: 0.8171108364564791 and parameters: {'alpha': 4.280638680444469, 'solver': 'auto'}. Best is trial 13 with value: 0.8171108386753096.\u001b[0m\n"
     ]
    },
    {
     "name": "stdout",
     "output_type": "stream",
     "text": [
      "oof ridge_rmse = 0.8171108364564791\n",
      "===== fold 0 =====\n",
      "fold 0 - ridge rmse: 0.817406, elapsed time: 0.33sec\n",
      "\n",
      "===== fold 1 =====\n",
      "fold 1 - ridge rmse: 0.816385, elapsed time: 0.33sec\n",
      "\n",
      "===== fold 2 =====\n",
      "fold 2 - ridge rmse: 0.817831, elapsed time: 0.33sec\n",
      "\n",
      "===== fold 3 =====\n",
      "fold 3 - ridge rmse: 0.816565, elapsed time: 0.32sec\n",
      "\n",
      "===== fold 4 =====\n",
      "fold 4 - ridge rmse: 0.818207, elapsed time: 0.32sec\n",
      "\n",
      "===== fold 5 =====\n",
      "fold 5 - ridge rmse: 0.815613, elapsed time: 0.32sec\n",
      "\n",
      "===== fold 6 =====\n",
      "fold 6 - ridge rmse: 0.819605, elapsed time: 0.32sec\n",
      "\n",
      "===== fold 7 =====\n",
      "fold 7 - ridge rmse: 0.815746, elapsed time: 0.32sec\n",
      "\n",
      "===== fold 8 =====\n",
      "fold 8 - ridge rmse: 0.817335, elapsed time: 0.33sec\n",
      "\n",
      "===== fold 9 =====\n",
      "fold 9 - ridge rmse: 0.816518, elapsed time: 0.35sec\n",
      "\n"
     ]
    },
    {
     "name": "stderr",
     "output_type": "stream",
     "text": [
      "\u001b[32m[I 2021-09-20 00:25:31,700]\u001b[0m Trial 16 finished with value: 0.8171108375114046 and parameters: {'alpha': 4.183136310821991, 'solver': 'auto'}. Best is trial 13 with value: 0.8171108386753096.\u001b[0m\n"
     ]
    },
    {
     "name": "stdout",
     "output_type": "stream",
     "text": [
      "oof ridge_rmse = 0.8171108375114046\n",
      "===== fold 0 =====\n",
      "fold 0 - ridge rmse: 0.817406, elapsed time: 0.33sec\n",
      "\n",
      "===== fold 1 =====\n",
      "fold 1 - ridge rmse: 0.816385, elapsed time: 0.32sec\n",
      "\n",
      "===== fold 2 =====\n",
      "fold 2 - ridge rmse: 0.817831, elapsed time: 0.33sec\n",
      "\n",
      "===== fold 3 =====\n",
      "fold 3 - ridge rmse: 0.816565, elapsed time: 0.33sec\n",
      "\n",
      "===== fold 4 =====\n",
      "fold 4 - ridge rmse: 0.818208, elapsed time: 0.33sec\n",
      "\n",
      "===== fold 5 =====\n",
      "fold 5 - ridge rmse: 0.815613, elapsed time: 0.32sec\n",
      "\n",
      "===== fold 6 =====\n",
      "fold 6 - ridge rmse: 0.819605, elapsed time: 0.32sec\n",
      "\n",
      "===== fold 7 =====\n",
      "fold 7 - ridge rmse: 0.815746, elapsed time: 0.32sec\n",
      "\n",
      "===== fold 8 =====\n",
      "fold 8 - ridge rmse: 0.817335, elapsed time: 0.32sec\n",
      "\n",
      "===== fold 9 =====\n",
      "fold 9 - ridge rmse: 0.816518, elapsed time: 0.33sec\n",
      "\n"
     ]
    },
    {
     "name": "stderr",
     "output_type": "stream",
     "text": [
      "\u001b[32m[I 2021-09-20 00:25:39,387]\u001b[0m Trial 17 finished with value: 0.8171108351138469 and parameters: {'alpha': 4.307134460624783, 'solver': 'auto'}. Best is trial 13 with value: 0.8171108386753096.\u001b[0m\n"
     ]
    },
    {
     "name": "stdout",
     "output_type": "stream",
     "text": [
      "oof ridge_rmse = 0.8171108351138469\n",
      "===== fold 0 =====\n",
      "fold 0 - ridge rmse: 0.817406, elapsed time: 0.46sec\n",
      "\n",
      "===== fold 1 =====\n",
      "fold 1 - ridge rmse: 0.816385, elapsed time: 0.49sec\n",
      "\n",
      "===== fold 2 =====\n",
      "fold 2 - ridge rmse: 0.817831, elapsed time: 0.45sec\n",
      "\n",
      "===== fold 3 =====\n",
      "fold 3 - ridge rmse: 0.816565, elapsed time: 0.44sec\n",
      "\n",
      "===== fold 4 =====\n",
      "fold 4 - ridge rmse: 0.818207, elapsed time: 0.45sec\n",
      "\n",
      "===== fold 5 =====\n",
      "fold 5 - ridge rmse: 0.815613, elapsed time: 0.53sec\n",
      "\n",
      "===== fold 6 =====\n",
      "fold 6 - ridge rmse: 0.819605, elapsed time: 0.52sec\n",
      "\n",
      "===== fold 7 =====\n",
      "fold 7 - ridge rmse: 0.815746, elapsed time: 0.52sec\n",
      "\n",
      "===== fold 8 =====\n",
      "fold 8 - ridge rmse: 0.817334, elapsed time: 0.52sec\n",
      "\n",
      "===== fold 9 =====\n",
      "fold 9 - ridge rmse: 0.816518, elapsed time: 0.54sec\n",
      "\n"
     ]
    },
    {
     "name": "stderr",
     "output_type": "stream",
     "text": [
      "\u001b[32m[I 2021-09-20 00:25:49,020]\u001b[0m Trial 18 finished with value: 0.8171108371452321 and parameters: {'alpha': 4.164288306485797, 'solver': 'lsqr'}. Best is trial 13 with value: 0.8171108386753096.\u001b[0m\n"
     ]
    },
    {
     "name": "stdout",
     "output_type": "stream",
     "text": [
      "oof ridge_rmse = 0.8171108371452321\n",
      "===== fold 0 =====\n",
      "fold 0 - ridge rmse: 0.817406, elapsed time: 26.47sec\n",
      "\n",
      "===== fold 1 =====\n",
      "fold 1 - ridge rmse: 0.816385, elapsed time: 19.41sec\n",
      "\n",
      "===== fold 2 =====\n",
      "fold 2 - ridge rmse: 0.817831, elapsed time: 19.30sec\n",
      "\n",
      "===== fold 3 =====\n",
      "fold 3 - ridge rmse: 0.816565, elapsed time: 21.85sec\n",
      "\n",
      "===== fold 4 =====\n",
      "fold 4 - ridge rmse: 0.818207, elapsed time: 19.92sec\n",
      "\n",
      "===== fold 5 =====\n",
      "fold 5 - ridge rmse: 0.815613, elapsed time: 19.62sec\n",
      "\n",
      "===== fold 6 =====\n",
      "fold 6 - ridge rmse: 0.819605, elapsed time: 20.68sec\n",
      "\n",
      "===== fold 7 =====\n",
      "fold 7 - ridge rmse: 0.815746, elapsed time: 24.12sec\n",
      "\n",
      "===== fold 8 =====\n",
      "fold 8 - ridge rmse: 0.817335, elapsed time: 21.04sec\n",
      "\n",
      "===== fold 9 =====\n",
      "fold 9 - ridge rmse: 0.816518, elapsed time: 23.98sec\n",
      "\n"
     ]
    },
    {
     "name": "stderr",
     "output_type": "stream",
     "text": [
      "\u001b[32m[I 2021-09-20 00:29:30,412]\u001b[0m Trial 19 finished with value: 0.8171108212210904 and parameters: {'alpha': 4.41013558782003, 'solver': 'sag'}. Best is trial 13 with value: 0.8171108386753096.\u001b[0m\n"
     ]
    },
    {
     "name": "stdout",
     "output_type": "stream",
     "text": [
      "oof ridge_rmse = 0.8171108212210904\n",
      "===== fold 0 =====\n",
      "fold 0 - ridge rmse: 0.817406, elapsed time: 0.47sec\n",
      "\n",
      "===== fold 1 =====\n",
      "fold 1 - ridge rmse: 0.816385, elapsed time: 0.56sec\n",
      "\n",
      "===== fold 2 =====\n",
      "fold 2 - ridge rmse: 0.817831, elapsed time: 0.54sec\n",
      "\n",
      "===== fold 3 =====\n",
      "fold 3 - ridge rmse: 0.816565, elapsed time: 0.51sec\n",
      "\n",
      "===== fold 4 =====\n",
      "fold 4 - ridge rmse: 0.818207, elapsed time: 0.54sec\n",
      "\n",
      "===== fold 5 =====\n",
      "fold 5 - ridge rmse: 0.815613, elapsed time: 0.54sec\n",
      "\n",
      "===== fold 6 =====\n",
      "fold 6 - ridge rmse: 0.819605, elapsed time: 0.52sec\n",
      "\n",
      "===== fold 7 =====\n",
      "fold 7 - ridge rmse: 0.815746, elapsed time: 0.52sec\n",
      "\n",
      "===== fold 8 =====\n",
      "fold 8 - ridge rmse: 0.817335, elapsed time: 0.53sec\n",
      "\n",
      "===== fold 9 =====\n",
      "fold 9 - ridge rmse: 0.816518, elapsed time: 0.53sec\n",
      "\n"
     ]
    },
    {
     "name": "stderr",
     "output_type": "stream",
     "text": [
      "\u001b[32m[I 2021-09-20 00:29:40,635]\u001b[0m Trial 20 finished with value: 0.8171108325898725 and parameters: {'alpha': 4.048852986234606, 'solver': 'sparse_cg'}. Best is trial 13 with value: 0.8171108386753096.\u001b[0m\n"
     ]
    },
    {
     "name": "stdout",
     "output_type": "stream",
     "text": [
      "oof ridge_rmse = 0.8171108325898725\n",
      "===== fold 0 =====\n",
      "fold 0 - ridge rmse: 0.817406, elapsed time: 0.46sec\n",
      "\n",
      "===== fold 1 =====\n",
      "fold 1 - ridge rmse: 0.816385, elapsed time: 0.40sec\n",
      "\n",
      "===== fold 2 =====\n",
      "fold 2 - ridge rmse: 0.817831, elapsed time: 0.42sec\n",
      "\n",
      "===== fold 3 =====\n",
      "fold 3 - ridge rmse: 0.816565, elapsed time: 0.40sec\n",
      "\n",
      "===== fold 4 =====\n",
      "fold 4 - ridge rmse: 0.818207, elapsed time: 0.40sec\n",
      "\n",
      "===== fold 5 =====\n",
      "fold 5 - ridge rmse: 0.815613, elapsed time: 0.40sec\n",
      "\n",
      "===== fold 6 =====\n",
      "fold 6 - ridge rmse: 0.819605, elapsed time: 0.40sec\n",
      "\n",
      "===== fold 7 =====\n",
      "fold 7 - ridge rmse: 0.815746, elapsed time: 0.40sec\n",
      "\n",
      "===== fold 8 =====\n",
      "fold 8 - ridge rmse: 0.817335, elapsed time: 0.40sec\n",
      "\n",
      "===== fold 9 =====\n",
      "fold 9 - ridge rmse: 0.816518, elapsed time: 0.41sec\n",
      "\n"
     ]
    },
    {
     "name": "stderr",
     "output_type": "stream",
     "text": [
      "\u001b[32m[I 2021-09-20 00:29:49,665]\u001b[0m Trial 21 finished with value: 0.8171108386360769 and parameters: {'alpha': 4.214163058532872, 'solver': 'auto'}. Best is trial 13 with value: 0.8171108386753096.\u001b[0m\n"
     ]
    },
    {
     "name": "stdout",
     "output_type": "stream",
     "text": [
      "oof ridge_rmse = 0.8171108386360769\n",
      "===== fold 0 =====\n",
      "fold 0 - ridge rmse: 0.817406, elapsed time: 0.39sec\n",
      "\n",
      "===== fold 1 =====\n",
      "fold 1 - ridge rmse: 0.816385, elapsed time: 0.40sec\n",
      "\n",
      "===== fold 2 =====\n",
      "fold 2 - ridge rmse: 0.817831, elapsed time: 0.42sec\n",
      "\n",
      "===== fold 3 =====\n",
      "fold 3 - ridge rmse: 0.816565, elapsed time: 0.41sec\n",
      "\n",
      "===== fold 4 =====\n",
      "fold 4 - ridge rmse: 0.818207, elapsed time: 0.40sec\n",
      "\n",
      "===== fold 5 =====\n",
      "fold 5 - ridge rmse: 0.815613, elapsed time: 0.41sec\n",
      "\n",
      "===== fold 6 =====\n",
      "fold 6 - ridge rmse: 0.819605, elapsed time: 0.41sec\n",
      "\n",
      "===== fold 7 =====\n",
      "fold 7 - ridge rmse: 0.815746, elapsed time: 0.41sec\n",
      "\n",
      "===== fold 8 =====\n",
      "fold 8 - ridge rmse: 0.817335, elapsed time: 0.40sec\n",
      "\n",
      "===== fold 9 =====\n",
      "fold 9 - ridge rmse: 0.816518, elapsed time: 0.41sec\n",
      "\n"
     ]
    },
    {
     "name": "stderr",
     "output_type": "stream",
     "text": [
      "\u001b[32m[I 2021-09-20 00:29:58,647]\u001b[0m Trial 22 finished with value: 0.8171108387189018 and parameters: {'alpha': 4.213645840939098, 'solver': 'auto'}. Best is trial 22 with value: 0.8171108387189018.\u001b[0m\n"
     ]
    },
    {
     "name": "stdout",
     "output_type": "stream",
     "text": [
      "oof ridge_rmse = 0.8171108387189018\n",
      "===== fold 0 =====\n",
      "fold 0 - ridge rmse: 0.817406, elapsed time: 0.32sec\n",
      "\n",
      "===== fold 1 =====\n",
      "fold 1 - ridge rmse: 0.816385, elapsed time: 0.32sec\n",
      "\n",
      "===== fold 2 =====\n",
      "fold 2 - ridge rmse: 0.817831, elapsed time: 0.32sec\n",
      "\n",
      "===== fold 3 =====\n",
      "fold 3 - ridge rmse: 0.816565, elapsed time: 0.32sec\n",
      "\n",
      "===== fold 4 =====\n",
      "fold 4 - ridge rmse: 0.818207, elapsed time: 0.33sec\n",
      "\n",
      "===== fold 5 =====\n",
      "fold 5 - ridge rmse: 0.815613, elapsed time: 0.33sec\n",
      "\n",
      "===== fold 6 =====\n",
      "fold 6 - ridge rmse: 0.819605, elapsed time: 0.33sec\n",
      "\n",
      "===== fold 7 =====\n",
      "fold 7 - ridge rmse: 0.815746, elapsed time: 0.33sec\n",
      "\n",
      "===== fold 8 =====\n",
      "fold 8 - ridge rmse: 0.817335, elapsed time: 0.33sec\n",
      "\n",
      "===== fold 9 =====\n",
      "fold 9 - ridge rmse: 0.816518, elapsed time: 0.35sec\n",
      "\n"
     ]
    },
    {
     "name": "stderr",
     "output_type": "stream",
     "text": [
      "\u001b[32m[I 2021-09-20 00:30:06,370]\u001b[0m Trial 23 finished with value: 0.8171108381129735 and parameters: {'alpha': 4.222067137637578, 'solver': 'auto'}. Best is trial 22 with value: 0.8171108387189018.\u001b[0m\n"
     ]
    },
    {
     "name": "stdout",
     "output_type": "stream",
     "text": [
      "oof ridge_rmse = 0.8171108381129735\n",
      "===== fold 0 =====\n",
      "fold 0 - ridge rmse: 0.817406, elapsed time: 0.33sec\n",
      "\n",
      "===== fold 1 =====\n",
      "fold 1 - ridge rmse: 0.816385, elapsed time: 0.34sec\n",
      "\n",
      "===== fold 2 =====\n",
      "fold 2 - ridge rmse: 0.817831, elapsed time: 0.34sec\n",
      "\n",
      "===== fold 3 =====\n",
      "fold 3 - ridge rmse: 0.816565, elapsed time: 0.32sec\n",
      "\n",
      "===== fold 4 =====\n",
      "fold 4 - ridge rmse: 0.818207, elapsed time: 0.32sec\n",
      "\n",
      "===== fold 5 =====\n",
      "fold 5 - ridge rmse: 0.815613, elapsed time: 0.32sec\n",
      "\n",
      "===== fold 6 =====\n",
      "fold 6 - ridge rmse: 0.819605, elapsed time: 0.32sec\n",
      "\n",
      "===== fold 7 =====\n",
      "fold 7 - ridge rmse: 0.815746, elapsed time: 0.32sec\n",
      "\n",
      "===== fold 8 =====\n",
      "fold 8 - ridge rmse: 0.817334, elapsed time: 0.33sec\n",
      "\n",
      "===== fold 9 =====\n",
      "fold 9 - ridge rmse: 0.816518, elapsed time: 0.32sec\n",
      "\n"
     ]
    },
    {
     "name": "stderr",
     "output_type": "stream",
     "text": [
      "\u001b[32m[I 2021-09-20 00:30:14,027]\u001b[0m Trial 24 finished with value: 0.8171108344207347 and parameters: {'alpha': 4.137535588455339, 'solver': 'auto'}. Best is trial 22 with value: 0.8171108387189018.\u001b[0m\n"
     ]
    },
    {
     "name": "stdout",
     "output_type": "stream",
     "text": [
      "oof ridge_rmse = 0.8171108344207347\n",
      "===== fold 0 =====\n",
      "fold 0 - ridge rmse: 0.817406, elapsed time: 0.33sec\n",
      "\n",
      "===== fold 1 =====\n",
      "fold 1 - ridge rmse: 0.816385, elapsed time: 0.32sec\n",
      "\n",
      "===== fold 2 =====\n",
      "fold 2 - ridge rmse: 0.817831, elapsed time: 0.34sec\n",
      "\n",
      "===== fold 3 =====\n",
      "fold 3 - ridge rmse: 0.816565, elapsed time: 0.33sec\n",
      "\n",
      "===== fold 4 =====\n",
      "fold 4 - ridge rmse: 0.818208, elapsed time: 0.33sec\n",
      "\n",
      "===== fold 5 =====\n",
      "fold 5 - ridge rmse: 0.815613, elapsed time: 0.33sec\n",
      "\n",
      "===== fold 6 =====\n",
      "fold 6 - ridge rmse: 0.819605, elapsed time: 0.32sec\n",
      "\n",
      "===== fold 7 =====\n",
      "fold 7 - ridge rmse: 0.815746, elapsed time: 0.32sec\n",
      "\n",
      "===== fold 8 =====\n",
      "fold 8 - ridge rmse: 0.817335, elapsed time: 0.33sec\n",
      "\n",
      "===== fold 9 =====\n",
      "fold 9 - ridge rmse: 0.816518, elapsed time: 0.33sec\n",
      "\n"
     ]
    },
    {
     "name": "stderr",
     "output_type": "stream",
     "text": [
      "\u001b[32m[I 2021-09-20 00:30:21,719]\u001b[0m Trial 25 finished with value: 0.8171108365523814 and parameters: {'alpha': 4.25907506907805, 'solver': 'auto'}. Best is trial 22 with value: 0.8171108387189018.\u001b[0m\n"
     ]
    },
    {
     "name": "stdout",
     "output_type": "stream",
     "text": [
      "oof ridge_rmse = 0.8171108365523814\n",
      "===== fold 0 =====\n",
      "fold 0 - ridge rmse: 0.817406, elapsed time: 0.33sec\n",
      "\n",
      "===== fold 1 =====\n",
      "fold 1 - ridge rmse: 0.816385, elapsed time: 0.32sec\n",
      "\n",
      "===== fold 2 =====\n",
      "fold 2 - ridge rmse: 0.817831, elapsed time: 0.32sec\n",
      "\n",
      "===== fold 3 =====\n",
      "fold 3 - ridge rmse: 0.816565, elapsed time: 0.32sec\n",
      "\n",
      "===== fold 4 =====\n",
      "fold 4 - ridge rmse: 0.818208, elapsed time: 0.36sec\n",
      "\n",
      "===== fold 5 =====\n",
      "fold 5 - ridge rmse: 0.815613, elapsed time: 0.33sec\n",
      "\n",
      "===== fold 6 =====\n",
      "fold 6 - ridge rmse: 0.819605, elapsed time: 0.33sec\n",
      "\n",
      "===== fold 7 =====\n",
      "fold 7 - ridge rmse: 0.815746, elapsed time: 0.34sec\n",
      "\n",
      "===== fold 8 =====\n",
      "fold 8 - ridge rmse: 0.817335, elapsed time: 0.32sec\n",
      "\n",
      "===== fold 9 =====\n",
      "fold 9 - ridge rmse: 0.816518, elapsed time: 0.33sec\n",
      "\n"
     ]
    },
    {
     "name": "stderr",
     "output_type": "stream",
     "text": [
      "\u001b[32m[I 2021-09-20 00:30:29,434]\u001b[0m Trial 26 finished with value: 0.8171108288496827 and parameters: {'alpha': 4.346342643085646, 'solver': 'auto'}. Best is trial 22 with value: 0.8171108387189018.\u001b[0m\n"
     ]
    },
    {
     "name": "stdout",
     "output_type": "stream",
     "text": [
      "oof ridge_rmse = 0.8171108288496827\n",
      "===== fold 0 =====\n",
      "fold 0 - ridge rmse: 0.817406, elapsed time: 0.32sec\n",
      "\n",
      "===== fold 1 =====\n",
      "fold 1 - ridge rmse: 0.816385, elapsed time: 0.33sec\n",
      "\n",
      "===== fold 2 =====\n",
      "fold 2 - ridge rmse: 0.817831, elapsed time: 0.34sec\n",
      "\n",
      "===== fold 3 =====\n",
      "fold 3 - ridge rmse: 0.816565, elapsed time: 0.34sec\n",
      "\n",
      "===== fold 4 =====\n",
      "fold 4 - ridge rmse: 0.818207, elapsed time: 0.34sec\n",
      "\n",
      "===== fold 5 =====\n",
      "fold 5 - ridge rmse: 0.815613, elapsed time: 0.33sec\n",
      "\n",
      "===== fold 6 =====\n",
      "fold 6 - ridge rmse: 0.819605, elapsed time: 0.32sec\n",
      "\n",
      "===== fold 7 =====\n",
      "fold 7 - ridge rmse: 0.815746, elapsed time: 0.33sec\n",
      "\n",
      "===== fold 8 =====\n",
      "fold 8 - ridge rmse: 0.817335, elapsed time: 0.34sec\n",
      "\n",
      "===== fold 9 =====\n",
      "fold 9 - ridge rmse: 0.816518, elapsed time: 0.33sec\n",
      "\n"
     ]
    },
    {
     "name": "stderr",
     "output_type": "stream",
     "text": [
      "\u001b[32m[I 2021-09-20 00:30:37,214]\u001b[0m Trial 27 finished with value: 0.8171108385576117 and parameters: {'alpha': 4.207576129686808, 'solver': 'cholesky'}. Best is trial 22 with value: 0.8171108387189018.\u001b[0m\n"
     ]
    },
    {
     "name": "stdout",
     "output_type": "stream",
     "text": [
      "oof ridge_rmse = 0.8171108385576117\n",
      "===== fold 0 =====\n",
      "fold 0 - ridge rmse: 0.817406, elapsed time: 25.83sec\n",
      "\n",
      "===== fold 1 =====\n",
      "fold 1 - ridge rmse: 0.816385, elapsed time: 19.28sec\n",
      "\n",
      "===== fold 2 =====\n",
      "fold 2 - ridge rmse: 0.817831, elapsed time: 18.23sec\n",
      "\n",
      "===== fold 3 =====\n",
      "fold 3 - ridge rmse: 0.816565, elapsed time: 21.42sec\n",
      "\n",
      "===== fold 4 =====\n",
      "fold 4 - ridge rmse: 0.818208, elapsed time: 19.37sec\n",
      "\n",
      "===== fold 5 =====\n",
      "fold 5 - ridge rmse: 0.815613, elapsed time: 19.53sec\n",
      "\n",
      "===== fold 6 =====\n",
      "fold 6 - ridge rmse: 0.819605, elapsed time: 19.93sec\n",
      "\n",
      "===== fold 7 =====\n",
      "fold 7 - ridge rmse: 0.815746, elapsed time: 23.93sec\n",
      "\n",
      "===== fold 8 =====\n",
      "fold 8 - ridge rmse: 0.817335, elapsed time: 21.00sec\n",
      "\n",
      "===== fold 9 =====\n",
      "fold 9 - ridge rmse: 0.816518, elapsed time: 23.34sec\n",
      "\n"
     ]
    },
    {
     "name": "stderr",
     "output_type": "stream",
     "text": [
      "\u001b[32m[I 2021-09-20 00:34:13,467]\u001b[0m Trial 28 finished with value: 0.8171108337145451 and parameters: {'alpha': 4.309302156075652, 'solver': 'sag'}. Best is trial 22 with value: 0.8171108387189018.\u001b[0m\n"
     ]
    },
    {
     "name": "stdout",
     "output_type": "stream",
     "text": [
      "oof ridge_rmse = 0.8171108337145451\n",
      "===== fold 0 =====\n",
      "fold 0 - ridge rmse: 0.817406, elapsed time: 0.35sec\n",
      "\n",
      "===== fold 1 =====\n",
      "fold 1 - ridge rmse: 0.816385, elapsed time: 0.33sec\n",
      "\n",
      "===== fold 2 =====\n",
      "fold 2 - ridge rmse: 0.817831, elapsed time: 0.32sec\n",
      "\n",
      "===== fold 3 =====\n",
      "fold 3 - ridge rmse: 0.816565, elapsed time: 0.32sec\n",
      "\n",
      "===== fold 4 =====\n",
      "fold 4 - ridge rmse: 0.818208, elapsed time: 0.32sec\n",
      "\n",
      "===== fold 5 =====\n",
      "fold 5 - ridge rmse: 0.815613, elapsed time: 0.32sec\n",
      "\n",
      "===== fold 6 =====\n",
      "fold 6 - ridge rmse: 0.819605, elapsed time: 0.34sec\n",
      "\n",
      "===== fold 7 =====\n",
      "fold 7 - ridge rmse: 0.815746, elapsed time: 0.32sec\n",
      "\n",
      "===== fold 8 =====\n",
      "fold 8 - ridge rmse: 0.817335, elapsed time: 0.32sec\n",
      "\n",
      "===== fold 9 =====\n",
      "fold 9 - ridge rmse: 0.816518, elapsed time: 0.33sec\n",
      "\n"
     ]
    },
    {
     "name": "stderr",
     "output_type": "stream",
     "text": [
      "\u001b[32m[I 2021-09-20 00:34:21,111]\u001b[0m Trial 29 finished with value: 0.8171108358810653 and parameters: {'alpha': 4.253592724699712, 'solver': 'auto'}. Best is trial 22 with value: 0.8171108387189018.\u001b[0m\n"
     ]
    },
    {
     "name": "stdout",
     "output_type": "stream",
     "text": [
      "oof ridge_rmse = 0.8171108358810653\n",
      "Number of finished trials: 30\n",
      "Best trial: {'alpha': 4.213645840939098, 'solver': 'auto'}\n"
     ]
    }
   ],
   "source": [
    "study = optuna.create_study(direction='maximize')\n",
    "study.optimize(objective,n_trials= 30)\n",
    "print('Number of finished trials:', len(study.trials))\n",
    "print('Best trial:', study.best_trial.params)"
   ]
  },
  {
   "cell_type": "code",
   "execution_count": 14,
   "id": "86586866",
   "metadata": {
    "execution": {
     "iopub.execute_input": "2021-09-20T00:34:21.383318Z",
     "iopub.status.busy": "2021-09-20T00:34:21.382595Z",
     "iopub.status.idle": "2021-09-20T00:34:21.386983Z",
     "shell.execute_reply": "2021-09-20T00:34:21.386337Z"
    },
    "papermill": {
     "duration": 0.135766,
     "end_time": "2021-09-20T00:34:21.387128",
     "exception": false,
     "start_time": "2021-09-20T00:34:21.251362",
     "status": "completed"
    },
    "tags": []
   },
   "outputs": [
    {
     "data": {
      "text/plain": [
       "{'alpha': 4.213645840939098, 'solver': 'auto'}"
      ]
     },
     "execution_count": 14,
     "metadata": {},
     "output_type": "execute_result"
    }
   ],
   "source": [
    "study.best_params"
   ]
  },
  {
   "cell_type": "markdown",
   "id": "32cbbd4e",
   "metadata": {
    "papermill": {
     "duration": 0.123274,
     "end_time": "2021-09-20T00:34:21.635522",
     "exception": false,
     "start_time": "2021-09-20T00:34:21.512248",
     "status": "completed"
    },
    "tags": []
   },
   "source": [
    "# Log\n",
    "\n",
    "0.817110830994407 ver2\n",
    "\n",
    "0.8171108348915279 ver3\n",
    "\n",
    "0.8171108375419188 ver4\n",
    "\n",
    "0.817110838788649 ver5\n",
    "\n",
    "0.8171108396038185 ver6\n"
   ]
  }
 ],
 "metadata": {
  "kernelspec": {
   "display_name": "Python 3",
   "language": "python",
   "name": "python3"
  },
  "language_info": {
   "codemirror_mode": {
    "name": "ipython",
    "version": 3
   },
   "file_extension": ".py",
   "mimetype": "text/x-python",
   "name": "python",
   "nbconvert_exporter": "python",
   "pygments_lexer": "ipython3",
   "version": "3.7.10"
  },
  "papermill": {
   "default_parameters": {},
   "duration": 1269.266643,
   "end_time": "2021-09-20T00:34:23.443390",
   "environment_variables": {},
   "exception": null,
   "input_path": "__notebook__.ipynb",
   "output_path": "__notebook__.ipynb",
   "parameters": {},
   "start_time": "2021-09-20T00:13:14.176747",
   "version": "2.3.3"
  }
 },
 "nbformat": 4,
 "nbformat_minor": 5
}
